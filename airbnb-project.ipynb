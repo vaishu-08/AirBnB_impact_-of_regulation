{
 "cells": [
  {
   "cell_type": "code",
   "execution_count": 1,
   "id": "dcc23ffd",
   "metadata": {
    "_cell_guid": "b1076dfc-b9ad-4769-8c92-a6c4dae69d19",
    "_uuid": "8f2839f25d086af736a60e9eeb907d3b93b6e0e5",
    "execution": {
     "iopub.execute_input": "2025-02-10T03:28:07.946959Z",
     "iopub.status.busy": "2025-02-10T03:28:07.946730Z",
     "iopub.status.idle": "2025-02-10T03:28:08.656231Z",
     "shell.execute_reply": "2025-02-10T03:28:08.655231Z"
    },
    "papermill": {
     "duration": 0.721934,
     "end_time": "2025-02-10T03:28:08.657736",
     "exception": false,
     "start_time": "2025-02-10T03:28:07.935802",
     "status": "completed"
    },
    "tags": []
   },
   "outputs": [
    {
     "name": "stdout",
     "output_type": "stream",
     "text": [
      "/kaggle/input/airbnb-listings-reviews/Airbnb Data/Listings.csv\n",
      "/kaggle/input/airbnb-listings-reviews/Airbnb Data/Reviews.csv\n",
      "/kaggle/input/airbnb-listings-reviews/Airbnb Data/Reviews_data_dictionary.csv\n",
      "/kaggle/input/airbnb-listings-reviews/Airbnb Data/Listings_data_dictionary.csv\n"
     ]
    }
   ],
   "source": [
    "# This Python 3 environment comes with many helpful analytics libraries installed\n",
    "# It is defined by the kaggle/python Docker image: https://github.com/kaggle/docker-python\n",
    "# For example, here's several helpful packages to load\n",
    "\n",
    "import numpy as np # linear algebra\n",
    "import pandas as pd # data processing, CSV file I/O (e.g. pd.read_csv)\n",
    "\n",
    "# Input data files are available in the read-only \"../input/\" directory\n",
    "# For example, running this (by clicking run or pressing Shift+Enter) will list all files under the input directory\n",
    "\n",
    "import os\n",
    "for dirname, _, filenames in os.walk('/kaggle/input'):\n",
    "    for filename in filenames:\n",
    "        print(os.path.join(dirname, filename))\n",
    "\n",
    "# You can write up to 20GB to the current directory (/kaggle/working/) that gets preserved as output when you create a version using \"Save & Run All\" \n",
    "# You can also write temporary files to /kaggle/temp/, but they won't be saved outside of the current session"
   ]
  },
  {
   "cell_type": "markdown",
   "id": "a2689358",
   "metadata": {
    "papermill": {
     "duration": 0.008762,
     "end_time": "2025-02-10T03:28:08.675952",
     "exception": false,
     "start_time": "2025-02-10T03:28:08.667190",
     "status": "completed"
    },
    "tags": []
   },
   "source": [
    "<div style=\"background-color: #f88379; padding: 25px; border-radius: 10px;font-size:20px;font-weight:10px\">\n",
    "  <h1 style=\"color: #333;\"><strong>AirBnB Listings and reviews</strong></h1>\n",
    "</div>"
   ]
  },
  {
   "cell_type": "markdown",
   "id": "7fd3a7e1",
   "metadata": {
    "papermill": {
     "duration": 0.008523,
     "end_time": "2025-02-10T03:28:08.693223",
     "exception": false,
     "start_time": "2025-02-10T03:28:08.684700",
     "status": "completed"
    },
    "tags": []
   },
   "source": [
    "<img src=\"https://jayvas.com/wp-content/uploads/2020/11/airbnb-real-estate-company.jpg\" width=1200>"
   ]
  },
  {
   "cell_type": "markdown",
   "id": "ec12132d",
   "metadata": {
    "papermill": {
     "duration": 0.008909,
     "end_time": "2025-02-10T03:28:08.711180",
     "exception": false,
     "start_time": "2025-02-10T03:28:08.702271",
     "status": "completed"
    },
    "tags": []
   },
   "source": [
    "<div style=\"background-color: #0000; padding: 20px; border-radius: 10px;font-size:25px;font-weight:10px\">\n",
    "  <h1 style=\"color: #333;\"><strong>Exploratory Data Analysis</strong></h1>\n",
    "</div>"
   ]
  },
  {
   "cell_type": "code",
   "execution_count": 2,
   "id": "dc77895d",
   "metadata": {
    "execution": {
     "iopub.execute_input": "2025-02-10T03:28:08.729571Z",
     "iopub.status.busy": "2025-02-10T03:28:08.729175Z",
     "iopub.status.idle": "2025-02-10T03:28:08.741380Z",
     "shell.execute_reply": "2025-02-10T03:28:08.740590Z"
    },
    "papermill": {
     "duration": 0.022948,
     "end_time": "2025-02-10T03:28:08.742759",
     "exception": false,
     "start_time": "2025-02-10T03:28:08.719811",
     "status": "completed"
    },
    "tags": []
   },
   "outputs": [],
   "source": [
    "reviews_dict = pd.read_csv(r\"/kaggle/input/airbnb-listings-reviews/Airbnb Data/Reviews_data_dictionary.csv\")"
   ]
  },
  {
   "cell_type": "code",
   "execution_count": 3,
   "id": "3ee5774b",
   "metadata": {
    "execution": {
     "iopub.execute_input": "2025-02-10T03:28:08.761139Z",
     "iopub.status.busy": "2025-02-10T03:28:08.760938Z",
     "iopub.status.idle": "2025-02-10T03:28:08.777621Z",
     "shell.execute_reply": "2025-02-10T03:28:08.776917Z"
    },
    "papermill": {
     "duration": 0.027105,
     "end_time": "2025-02-10T03:28:08.778852",
     "exception": false,
     "start_time": "2025-02-10T03:28:08.751747",
     "status": "completed"
    },
    "tags": []
   },
   "outputs": [
    {
     "data": {
      "text/html": [
       "<div>\n",
       "<style scoped>\n",
       "    .dataframe tbody tr th:only-of-type {\n",
       "        vertical-align: middle;\n",
       "    }\n",
       "\n",
       "    .dataframe tbody tr th {\n",
       "        vertical-align: top;\n",
       "    }\n",
       "\n",
       "    .dataframe thead th {\n",
       "        text-align: right;\n",
       "    }\n",
       "</style>\n",
       "<table border=\"1\" class=\"dataframe\">\n",
       "  <thead>\n",
       "    <tr style=\"text-align: right;\">\n",
       "      <th></th>\n",
       "      <th>Field</th>\n",
       "      <th>Description</th>\n",
       "    </tr>\n",
       "  </thead>\n",
       "  <tbody>\n",
       "    <tr>\n",
       "      <th>0</th>\n",
       "      <td>listing_id</td>\n",
       "      <td>Listing ID</td>\n",
       "    </tr>\n",
       "    <tr>\n",
       "      <th>1</th>\n",
       "      <td>review_id</td>\n",
       "      <td>Review ID</td>\n",
       "    </tr>\n",
       "    <tr>\n",
       "      <th>2</th>\n",
       "      <td>date</td>\n",
       "      <td>Review date</td>\n",
       "    </tr>\n",
       "    <tr>\n",
       "      <th>3</th>\n",
       "      <td>reviewer_id</td>\n",
       "      <td>Reviewer ID</td>\n",
       "    </tr>\n",
       "  </tbody>\n",
       "</table>\n",
       "</div>"
      ],
      "text/plain": [
       "         Field  Description\n",
       "0   listing_id   Listing ID\n",
       "1    review_id    Review ID\n",
       "2         date  Review date\n",
       "3  reviewer_id  Reviewer ID"
      ]
     },
     "execution_count": 3,
     "metadata": {},
     "output_type": "execute_result"
    }
   ],
   "source": [
    "reviews_dict"
   ]
  },
  {
   "cell_type": "code",
   "execution_count": 4,
   "id": "9549b799",
   "metadata": {
    "execution": {
     "iopub.execute_input": "2025-02-10T03:28:08.797649Z",
     "iopub.status.busy": "2025-02-10T03:28:08.797425Z",
     "iopub.status.idle": "2025-02-10T03:28:12.581770Z",
     "shell.execute_reply": "2025-02-10T03:28:12.581089Z"
    },
    "papermill": {
     "duration": 3.795419,
     "end_time": "2025-02-10T03:28:12.583425",
     "exception": false,
     "start_time": "2025-02-10T03:28:08.788006",
     "status": "completed"
    },
    "tags": []
   },
   "outputs": [],
   "source": [
    "reviews = pd.read_csv(r\"/kaggle/input/airbnb-listings-reviews/Airbnb Data/Reviews.csv\")"
   ]
  },
  {
   "cell_type": "code",
   "execution_count": 5,
   "id": "dea8a0a3",
   "metadata": {
    "execution": {
     "iopub.execute_input": "2025-02-10T03:28:12.602718Z",
     "iopub.status.busy": "2025-02-10T03:28:12.602436Z",
     "iopub.status.idle": "2025-02-10T03:28:12.610078Z",
     "shell.execute_reply": "2025-02-10T03:28:12.609279Z"
    },
    "papermill": {
     "duration": 0.018166,
     "end_time": "2025-02-10T03:28:12.611281",
     "exception": false,
     "start_time": "2025-02-10T03:28:12.593115",
     "status": "completed"
    },
    "tags": []
   },
   "outputs": [
    {
     "data": {
      "text/html": [
       "<div>\n",
       "<style scoped>\n",
       "    .dataframe tbody tr th:only-of-type {\n",
       "        vertical-align: middle;\n",
       "    }\n",
       "\n",
       "    .dataframe tbody tr th {\n",
       "        vertical-align: top;\n",
       "    }\n",
       "\n",
       "    .dataframe thead th {\n",
       "        text-align: right;\n",
       "    }\n",
       "</style>\n",
       "<table border=\"1\" class=\"dataframe\">\n",
       "  <thead>\n",
       "    <tr style=\"text-align: right;\">\n",
       "      <th></th>\n",
       "      <th>listing_id</th>\n",
       "      <th>review_id</th>\n",
       "      <th>date</th>\n",
       "      <th>reviewer_id</th>\n",
       "    </tr>\n",
       "  </thead>\n",
       "  <tbody>\n",
       "    <tr>\n",
       "      <th>0</th>\n",
       "      <td>11798</td>\n",
       "      <td>330265172</td>\n",
       "      <td>2018-09-30</td>\n",
       "      <td>11863072</td>\n",
       "    </tr>\n",
       "    <tr>\n",
       "      <th>1</th>\n",
       "      <td>15383</td>\n",
       "      <td>330103585</td>\n",
       "      <td>2018-09-30</td>\n",
       "      <td>39147453</td>\n",
       "    </tr>\n",
       "    <tr>\n",
       "      <th>2</th>\n",
       "      <td>16455</td>\n",
       "      <td>329985788</td>\n",
       "      <td>2018-09-30</td>\n",
       "      <td>1125378</td>\n",
       "    </tr>\n",
       "    <tr>\n",
       "      <th>3</th>\n",
       "      <td>17919</td>\n",
       "      <td>330016899</td>\n",
       "      <td>2018-09-30</td>\n",
       "      <td>172717984</td>\n",
       "    </tr>\n",
       "    <tr>\n",
       "      <th>4</th>\n",
       "      <td>26827</td>\n",
       "      <td>329995638</td>\n",
       "      <td>2018-09-30</td>\n",
       "      <td>17542859</td>\n",
       "    </tr>\n",
       "  </tbody>\n",
       "</table>\n",
       "</div>"
      ],
      "text/plain": [
       "   listing_id  review_id        date  reviewer_id\n",
       "0       11798  330265172  2018-09-30     11863072\n",
       "1       15383  330103585  2018-09-30     39147453\n",
       "2       16455  329985788  2018-09-30      1125378\n",
       "3       17919  330016899  2018-09-30    172717984\n",
       "4       26827  329995638  2018-09-30     17542859"
      ]
     },
     "execution_count": 5,
     "metadata": {},
     "output_type": "execute_result"
    }
   ],
   "source": [
    "reviews.head()"
   ]
  },
  {
   "cell_type": "code",
   "execution_count": 6,
   "id": "d882af3a",
   "metadata": {
    "execution": {
     "iopub.execute_input": "2025-02-10T03:28:12.630915Z",
     "iopub.status.busy": "2025-02-10T03:28:12.630707Z",
     "iopub.status.idle": "2025-02-10T03:28:12.636796Z",
     "shell.execute_reply": "2025-02-10T03:28:12.636220Z"
    },
    "papermill": {
     "duration": 0.017569,
     "end_time": "2025-02-10T03:28:12.637958",
     "exception": false,
     "start_time": "2025-02-10T03:28:12.620389",
     "status": "completed"
    },
    "tags": []
   },
   "outputs": [],
   "source": [
    "listings_dict = pd.read_csv(r\"/kaggle/input/airbnb-listings-reviews/Airbnb Data/Listings_data_dictionary.csv\")"
   ]
  },
  {
   "cell_type": "code",
   "execution_count": 7,
   "id": "74e65264",
   "metadata": {
    "execution": {
     "iopub.execute_input": "2025-02-10T03:28:12.656848Z",
     "iopub.status.busy": "2025-02-10T03:28:12.656652Z",
     "iopub.status.idle": "2025-02-10T03:28:12.659532Z",
     "shell.execute_reply": "2025-02-10T03:28:12.658922Z"
    },
    "papermill": {
     "duration": 0.013592,
     "end_time": "2025-02-10T03:28:12.660646",
     "exception": false,
     "start_time": "2025-02-10T03:28:12.647054",
     "status": "completed"
    },
    "tags": []
   },
   "outputs": [],
   "source": [
    "import warnings\n",
    "warnings.filterwarnings('ignore')"
   ]
  },
  {
   "cell_type": "code",
   "execution_count": 8,
   "id": "5176dc3a",
   "metadata": {
    "execution": {
     "iopub.execute_input": "2025-02-10T03:28:12.679230Z",
     "iopub.status.busy": "2025-02-10T03:28:12.679035Z",
     "iopub.status.idle": "2025-02-10T03:28:12.686629Z",
     "shell.execute_reply": "2025-02-10T03:28:12.685934Z"
    },
    "papermill": {
     "duration": 0.018308,
     "end_time": "2025-02-10T03:28:12.687870",
     "exception": false,
     "start_time": "2025-02-10T03:28:12.669562",
     "status": "completed"
    },
    "tags": []
   },
   "outputs": [
    {
     "data": {
      "text/html": [
       "<div>\n",
       "<style scoped>\n",
       "    .dataframe tbody tr th:only-of-type {\n",
       "        vertical-align: middle;\n",
       "    }\n",
       "\n",
       "    .dataframe tbody tr th {\n",
       "        vertical-align: top;\n",
       "    }\n",
       "\n",
       "    .dataframe thead th {\n",
       "        text-align: right;\n",
       "    }\n",
       "</style>\n",
       "<table border=\"1\" class=\"dataframe\">\n",
       "  <thead>\n",
       "    <tr style=\"text-align: right;\">\n",
       "      <th></th>\n",
       "      <th>Field</th>\n",
       "      <th>Description</th>\n",
       "    </tr>\n",
       "  </thead>\n",
       "  <tbody>\n",
       "    <tr>\n",
       "      <th>0</th>\n",
       "      <td>listing_id</td>\n",
       "      <td>Listing ID</td>\n",
       "    </tr>\n",
       "    <tr>\n",
       "      <th>1</th>\n",
       "      <td>name</td>\n",
       "      <td>Listing Name</td>\n",
       "    </tr>\n",
       "    <tr>\n",
       "      <th>2</th>\n",
       "      <td>host_id</td>\n",
       "      <td>Host ID</td>\n",
       "    </tr>\n",
       "    <tr>\n",
       "      <th>3</th>\n",
       "      <td>host_since</td>\n",
       "      <td>Date the Host joined Airbnb</td>\n",
       "    </tr>\n",
       "    <tr>\n",
       "      <th>4</th>\n",
       "      <td>host_location</td>\n",
       "      <td>Location where the Host is based</td>\n",
       "    </tr>\n",
       "    <tr>\n",
       "      <th>5</th>\n",
       "      <td>host_response_time</td>\n",
       "      <td>Estimate of how long the Host takes to respond</td>\n",
       "    </tr>\n",
       "    <tr>\n",
       "      <th>6</th>\n",
       "      <td>host_response_rate</td>\n",
       "      <td>Percentage of times the Host responds</td>\n",
       "    </tr>\n",
       "    <tr>\n",
       "      <th>7</th>\n",
       "      <td>host_acceptance_rate</td>\n",
       "      <td>Percentage of times the Host accepts a booking...</td>\n",
       "    </tr>\n",
       "    <tr>\n",
       "      <th>8</th>\n",
       "      <td>host_is_superhost</td>\n",
       "      <td>Binary field to determine if the Host is a Sup...</td>\n",
       "    </tr>\n",
       "    <tr>\n",
       "      <th>9</th>\n",
       "      <td>host_total_listings_count</td>\n",
       "      <td>Total listings the Host has in Airbnb</td>\n",
       "    </tr>\n",
       "    <tr>\n",
       "      <th>10</th>\n",
       "      <td>host_has_profile_pic</td>\n",
       "      <td>Binary field to determine if the Host has a pr...</td>\n",
       "    </tr>\n",
       "    <tr>\n",
       "      <th>11</th>\n",
       "      <td>host_identity_verified</td>\n",
       "      <td>Binary field to determine if the Host has a ve...</td>\n",
       "    </tr>\n",
       "    <tr>\n",
       "      <th>12</th>\n",
       "      <td>neighbourhood</td>\n",
       "      <td>Neighborhood the Listing is in</td>\n",
       "    </tr>\n",
       "    <tr>\n",
       "      <th>13</th>\n",
       "      <td>district</td>\n",
       "      <td>District the Listing is in</td>\n",
       "    </tr>\n",
       "    <tr>\n",
       "      <th>14</th>\n",
       "      <td>city</td>\n",
       "      <td>City the Listing is in</td>\n",
       "    </tr>\n",
       "    <tr>\n",
       "      <th>15</th>\n",
       "      <td>latitude</td>\n",
       "      <td>Listing's latitude</td>\n",
       "    </tr>\n",
       "    <tr>\n",
       "      <th>16</th>\n",
       "      <td>longitude</td>\n",
       "      <td>Listing's longitude</td>\n",
       "    </tr>\n",
       "    <tr>\n",
       "      <th>17</th>\n",
       "      <td>property_type</td>\n",
       "      <td>Type of property for the Listing</td>\n",
       "    </tr>\n",
       "    <tr>\n",
       "      <th>18</th>\n",
       "      <td>room_type</td>\n",
       "      <td>Type of room type in Airbnb for the Listing</td>\n",
       "    </tr>\n",
       "    <tr>\n",
       "      <th>19</th>\n",
       "      <td>accommodates</td>\n",
       "      <td>Guests the Listing accomodates</td>\n",
       "    </tr>\n",
       "    <tr>\n",
       "      <th>20</th>\n",
       "      <td>bedrooms</td>\n",
       "      <td>Bedrooms in the Listing</td>\n",
       "    </tr>\n",
       "    <tr>\n",
       "      <th>21</th>\n",
       "      <td>amenities</td>\n",
       "      <td>Amenities the Listing includes</td>\n",
       "    </tr>\n",
       "    <tr>\n",
       "      <th>22</th>\n",
       "      <td>price</td>\n",
       "      <td>Listing price (in each country's currency)</td>\n",
       "    </tr>\n",
       "    <tr>\n",
       "      <th>23</th>\n",
       "      <td>minimum_nights</td>\n",
       "      <td>Minimum nights per booking</td>\n",
       "    </tr>\n",
       "    <tr>\n",
       "      <th>24</th>\n",
       "      <td>maximum_nights</td>\n",
       "      <td>Maximum nights per booking</td>\n",
       "    </tr>\n",
       "    <tr>\n",
       "      <th>25</th>\n",
       "      <td>review_scores_rating</td>\n",
       "      <td>Listing's overall rating (out of 100)</td>\n",
       "    </tr>\n",
       "    <tr>\n",
       "      <th>26</th>\n",
       "      <td>review_scores_accuracy</td>\n",
       "      <td>Listing's accuracy score based on what's promo...</td>\n",
       "    </tr>\n",
       "    <tr>\n",
       "      <th>27</th>\n",
       "      <td>review_scores_cleanliness</td>\n",
       "      <td>Listing's cleanliness score (out of 10)</td>\n",
       "    </tr>\n",
       "    <tr>\n",
       "      <th>28</th>\n",
       "      <td>review_scores_checkin</td>\n",
       "      <td>Listing's check-in experience score (out of 10)</td>\n",
       "    </tr>\n",
       "    <tr>\n",
       "      <th>29</th>\n",
       "      <td>review_scores_communication</td>\n",
       "      <td>Listing's communication with the Host score (o...</td>\n",
       "    </tr>\n",
       "    <tr>\n",
       "      <th>30</th>\n",
       "      <td>review_scores_location</td>\n",
       "      <td>Listing's location score within the city (out ...</td>\n",
       "    </tr>\n",
       "    <tr>\n",
       "      <th>31</th>\n",
       "      <td>review_scores_value</td>\n",
       "      <td>Listing's value score relative to its price (o...</td>\n",
       "    </tr>\n",
       "    <tr>\n",
       "      <th>32</th>\n",
       "      <td>instant_bookable</td>\n",
       "      <td>Binary field to determine if the Listing can b...</td>\n",
       "    </tr>\n",
       "  </tbody>\n",
       "</table>\n",
       "</div>"
      ],
      "text/plain": [
       "                          Field  \\\n",
       "0                    listing_id   \n",
       "1                          name   \n",
       "2                       host_id   \n",
       "3                    host_since   \n",
       "4                 host_location   \n",
       "5            host_response_time   \n",
       "6            host_response_rate   \n",
       "7          host_acceptance_rate   \n",
       "8             host_is_superhost   \n",
       "9     host_total_listings_count   \n",
       "10         host_has_profile_pic   \n",
       "11       host_identity_verified   \n",
       "12                neighbourhood   \n",
       "13                     district   \n",
       "14                         city   \n",
       "15                     latitude   \n",
       "16                    longitude   \n",
       "17                property_type   \n",
       "18                    room_type   \n",
       "19                 accommodates   \n",
       "20                     bedrooms   \n",
       "21                    amenities   \n",
       "22                        price   \n",
       "23               minimum_nights   \n",
       "24               maximum_nights   \n",
       "25         review_scores_rating   \n",
       "26       review_scores_accuracy   \n",
       "27    review_scores_cleanliness   \n",
       "28        review_scores_checkin   \n",
       "29  review_scores_communication   \n",
       "30       review_scores_location   \n",
       "31          review_scores_value   \n",
       "32             instant_bookable   \n",
       "\n",
       "                                          Description  \n",
       "0                                          Listing ID  \n",
       "1                                        Listing Name  \n",
       "2                                             Host ID  \n",
       "3                         Date the Host joined Airbnb  \n",
       "4                    Location where the Host is based  \n",
       "5      Estimate of how long the Host takes to respond  \n",
       "6               Percentage of times the Host responds  \n",
       "7   Percentage of times the Host accepts a booking...  \n",
       "8   Binary field to determine if the Host is a Sup...  \n",
       "9               Total listings the Host has in Airbnb  \n",
       "10  Binary field to determine if the Host has a pr...  \n",
       "11  Binary field to determine if the Host has a ve...  \n",
       "12                     Neighborhood the Listing is in  \n",
       "13                         District the Listing is in  \n",
       "14                             City the Listing is in  \n",
       "15                                 Listing's latitude  \n",
       "16                                Listing's longitude  \n",
       "17                   Type of property for the Listing  \n",
       "18        Type of room type in Airbnb for the Listing  \n",
       "19                     Guests the Listing accomodates  \n",
       "20                            Bedrooms in the Listing  \n",
       "21                     Amenities the Listing includes  \n",
       "22         Listing price (in each country's currency)  \n",
       "23                         Minimum nights per booking  \n",
       "24                         Maximum nights per booking  \n",
       "25              Listing's overall rating (out of 100)  \n",
       "26  Listing's accuracy score based on what's promo...  \n",
       "27            Listing's cleanliness score (out of 10)  \n",
       "28    Listing's check-in experience score (out of 10)  \n",
       "29  Listing's communication with the Host score (o...  \n",
       "30  Listing's location score within the city (out ...  \n",
       "31  Listing's value score relative to its price (o...  \n",
       "32  Binary field to determine if the Listing can b...  "
      ]
     },
     "execution_count": 8,
     "metadata": {},
     "output_type": "execute_result"
    }
   ],
   "source": [
    "listings_dict"
   ]
  },
  {
   "cell_type": "markdown",
   "id": "3d6bd9e1",
   "metadata": {
    "papermill": {
     "duration": 0.009322,
     "end_time": "2025-02-10T03:28:12.706577",
     "exception": false,
     "start_time": "2025-02-10T03:28:12.697255",
     "status": "completed"
    },
    "tags": []
   },
   "source": [
    "<div style=\"background-color: #f88379; padding: 25px; border-radius: 10px;\">\n",
    "  <h1 style=\"color: #333;\"><strong>Loading and Checking the dataset</strong></h1>\n",
    "</div>"
   ]
  },
  {
   "cell_type": "code",
   "execution_count": 9,
   "id": "f73488ac",
   "metadata": {
    "execution": {
     "iopub.execute_input": "2025-02-10T03:28:12.725584Z",
     "iopub.status.busy": "2025-02-10T03:28:12.725322Z",
     "iopub.status.idle": "2025-02-10T03:28:16.833699Z",
     "shell.execute_reply": "2025-02-10T03:28:16.832707Z"
    },
    "papermill": {
     "duration": 4.119738,
     "end_time": "2025-02-10T03:28:16.835445",
     "exception": false,
     "start_time": "2025-02-10T03:28:12.715707",
     "status": "completed"
    },
    "tags": []
   },
   "outputs": [],
   "source": [
    "listings = pd.read_csv(r\"/kaggle/input/airbnb-listings-reviews/Airbnb Data/Listings.csv\",encoding = \"ISO-8859-1\",low_memory=False)"
   ]
  },
  {
   "cell_type": "code",
   "execution_count": 10,
   "id": "d3760412",
   "metadata": {
    "execution": {
     "iopub.execute_input": "2025-02-10T03:28:16.855743Z",
     "iopub.status.busy": "2025-02-10T03:28:16.855476Z",
     "iopub.status.idle": "2025-02-10T03:28:16.879379Z",
     "shell.execute_reply": "2025-02-10T03:28:16.878594Z"
    },
    "papermill": {
     "duration": 0.035307,
     "end_time": "2025-02-10T03:28:16.880717",
     "exception": false,
     "start_time": "2025-02-10T03:28:16.845410",
     "status": "completed"
    },
    "tags": []
   },
   "outputs": [
    {
     "data": {
      "text/html": [
       "<div>\n",
       "<style scoped>\n",
       "    .dataframe tbody tr th:only-of-type {\n",
       "        vertical-align: middle;\n",
       "    }\n",
       "\n",
       "    .dataframe tbody tr th {\n",
       "        vertical-align: top;\n",
       "    }\n",
       "\n",
       "    .dataframe thead th {\n",
       "        text-align: right;\n",
       "    }\n",
       "</style>\n",
       "<table border=\"1\" class=\"dataframe\">\n",
       "  <thead>\n",
       "    <tr style=\"text-align: right;\">\n",
       "      <th></th>\n",
       "      <th>listing_id</th>\n",
       "      <th>name</th>\n",
       "      <th>host_id</th>\n",
       "      <th>host_since</th>\n",
       "      <th>host_location</th>\n",
       "      <th>host_response_time</th>\n",
       "      <th>host_response_rate</th>\n",
       "      <th>host_acceptance_rate</th>\n",
       "      <th>host_is_superhost</th>\n",
       "      <th>host_total_listings_count</th>\n",
       "      <th>...</th>\n",
       "      <th>minimum_nights</th>\n",
       "      <th>maximum_nights</th>\n",
       "      <th>review_scores_rating</th>\n",
       "      <th>review_scores_accuracy</th>\n",
       "      <th>review_scores_cleanliness</th>\n",
       "      <th>review_scores_checkin</th>\n",
       "      <th>review_scores_communication</th>\n",
       "      <th>review_scores_location</th>\n",
       "      <th>review_scores_value</th>\n",
       "      <th>instant_bookable</th>\n",
       "    </tr>\n",
       "  </thead>\n",
       "  <tbody>\n",
       "    <tr>\n",
       "      <th>0</th>\n",
       "      <td>281420</td>\n",
       "      <td>Beautiful Flat in le Village Montmartre, Paris</td>\n",
       "      <td>1466919</td>\n",
       "      <td>2011-12-03</td>\n",
       "      <td>Paris, Ile-de-France, France</td>\n",
       "      <td>NaN</td>\n",
       "      <td>NaN</td>\n",
       "      <td>NaN</td>\n",
       "      <td>f</td>\n",
       "      <td>1.0</td>\n",
       "      <td>...</td>\n",
       "      <td>2</td>\n",
       "      <td>1125</td>\n",
       "      <td>100.0</td>\n",
       "      <td>10.0</td>\n",
       "      <td>10.0</td>\n",
       "      <td>10.0</td>\n",
       "      <td>10.0</td>\n",
       "      <td>10.0</td>\n",
       "      <td>10.0</td>\n",
       "      <td>f</td>\n",
       "    </tr>\n",
       "    <tr>\n",
       "      <th>1</th>\n",
       "      <td>3705183</td>\n",
       "      <td>39 mÃÂ² Paris (Sacre CÃ",
       "âur)</td>\n",
       "      <td>10328771</td>\n",
       "      <td>2013-11-29</td>\n",
       "      <td>Paris, Ile-de-France, France</td>\n",
       "      <td>NaN</td>\n",
       "      <td>NaN</td>\n",
       "      <td>NaN</td>\n",
       "      <td>f</td>\n",
       "      <td>1.0</td>\n",
       "      <td>...</td>\n",
       "      <td>2</td>\n",
       "      <td>1125</td>\n",
       "      <td>100.0</td>\n",
       "      <td>10.0</td>\n",
       "      <td>10.0</td>\n",
       "      <td>10.0</td>\n",
       "      <td>10.0</td>\n",
       "      <td>10.0</td>\n",
       "      <td>10.0</td>\n",
       "      <td>f</td>\n",
       "    </tr>\n",
       "    <tr>\n",
       "      <th>2</th>\n",
       "      <td>4082273</td>\n",
       "      <td>Lovely apartment with Terrace, 60m2</td>\n",
       "      <td>19252768</td>\n",
       "      <td>2014-07-31</td>\n",
       "      <td>Paris, Ile-de-France, France</td>\n",
       "      <td>NaN</td>\n",
       "      <td>NaN</td>\n",
       "      <td>NaN</td>\n",
       "      <td>f</td>\n",
       "      <td>1.0</td>\n",
       "      <td>...</td>\n",
       "      <td>2</td>\n",
       "      <td>1125</td>\n",
       "      <td>100.0</td>\n",
       "      <td>10.0</td>\n",
       "      <td>10.0</td>\n",
       "      <td>10.0</td>\n",
       "      <td>10.0</td>\n",
       "      <td>10.0</td>\n",
       "      <td>10.0</td>\n",
       "      <td>f</td>\n",
       "    </tr>\n",
       "    <tr>\n",
       "      <th>3</th>\n",
       "      <td>4797344</td>\n",
       "      <td>Cosy studio (close to Eiffel tower)</td>\n",
       "      <td>10668311</td>\n",
       "      <td>2013-12-17</td>\n",
       "      <td>Paris, Ile-de-France, France</td>\n",
       "      <td>NaN</td>\n",
       "      <td>NaN</td>\n",
       "      <td>NaN</td>\n",
       "      <td>f</td>\n",
       "      <td>1.0</td>\n",
       "      <td>...</td>\n",
       "      <td>2</td>\n",
       "      <td>1125</td>\n",
       "      <td>100.0</td>\n",
       "      <td>10.0</td>\n",
       "      <td>10.0</td>\n",
       "      <td>10.0</td>\n",
       "      <td>10.0</td>\n",
       "      <td>10.0</td>\n",
       "      <td>10.0</td>\n",
       "      <td>f</td>\n",
       "    </tr>\n",
       "    <tr>\n",
       "      <th>4</th>\n",
       "      <td>4823489</td>\n",
       "      <td>Close to Eiffel Tower - Beautiful flat : 2 rooms</td>\n",
       "      <td>24837558</td>\n",
       "      <td>2014-12-14</td>\n",
       "      <td>Paris, Ile-de-France, France</td>\n",
       "      <td>NaN</td>\n",
       "      <td>NaN</td>\n",
       "      <td>NaN</td>\n",
       "      <td>f</td>\n",
       "      <td>1.0</td>\n",
       "      <td>...</td>\n",
       "      <td>2</td>\n",
       "      <td>1125</td>\n",
       "      <td>100.0</td>\n",
       "      <td>10.0</td>\n",
       "      <td>10.0</td>\n",
       "      <td>10.0</td>\n",
       "      <td>10.0</td>\n",
       "      <td>10.0</td>\n",
       "      <td>10.0</td>\n",
       "      <td>f</td>\n",
       "    </tr>\n",
       "  </tbody>\n",
       "</table>\n",
       "<p>5 rows × 33 columns</p>\n",
       "</div>"
      ],
      "text/plain": [
       "   listing_id                                              name   host_id  \\\n",
       "0      281420    Beautiful Flat in le Village Montmartre, Paris   1466919   \n",
       "1     3705183                   39 mÃÂ² Paris (Sacre CÃ\n",
       "âur)  10328771   \n",
       "2     4082273               Lovely apartment with Terrace, 60m2  19252768   \n",
       "3     4797344               Cosy studio (close to Eiffel tower)  10668311   \n",
       "4     4823489  Close to Eiffel Tower - Beautiful flat : 2 rooms  24837558   \n",
       "\n",
       "   host_since                 host_location host_response_time  \\\n",
       "0  2011-12-03  Paris, Ile-de-France, France                NaN   \n",
       "1  2013-11-29  Paris, Ile-de-France, France                NaN   \n",
       "2  2014-07-31  Paris, Ile-de-France, France                NaN   \n",
       "3  2013-12-17  Paris, Ile-de-France, France                NaN   \n",
       "4  2014-12-14  Paris, Ile-de-France, France                NaN   \n",
       "\n",
       "   host_response_rate  host_acceptance_rate host_is_superhost  \\\n",
       "0                 NaN                   NaN                 f   \n",
       "1                 NaN                   NaN                 f   \n",
       "2                 NaN                   NaN                 f   \n",
       "3                 NaN                   NaN                 f   \n",
       "4                 NaN                   NaN                 f   \n",
       "\n",
       "   host_total_listings_count  ... minimum_nights maximum_nights  \\\n",
       "0                        1.0  ...              2           1125   \n",
       "1                        1.0  ...              2           1125   \n",
       "2                        1.0  ...              2           1125   \n",
       "3                        1.0  ...              2           1125   \n",
       "4                        1.0  ...              2           1125   \n",
       "\n",
       "  review_scores_rating review_scores_accuracy review_scores_cleanliness  \\\n",
       "0                100.0                   10.0                      10.0   \n",
       "1                100.0                   10.0                      10.0   \n",
       "2                100.0                   10.0                      10.0   \n",
       "3                100.0                   10.0                      10.0   \n",
       "4                100.0                   10.0                      10.0   \n",
       "\n",
       "   review_scores_checkin  review_scores_communication review_scores_location  \\\n",
       "0                   10.0                         10.0                   10.0   \n",
       "1                   10.0                         10.0                   10.0   \n",
       "2                   10.0                         10.0                   10.0   \n",
       "3                   10.0                         10.0                   10.0   \n",
       "4                   10.0                         10.0                   10.0   \n",
       "\n",
       "  review_scores_value  instant_bookable  \n",
       "0                10.0                 f  \n",
       "1                10.0                 f  \n",
       "2                10.0                 f  \n",
       "3                10.0                 f  \n",
       "4                10.0                 f  \n",
       "\n",
       "[5 rows x 33 columns]"
      ]
     },
     "execution_count": 10,
     "metadata": {},
     "output_type": "execute_result"
    }
   ],
   "source": [
    "listings.head()"
   ]
  },
  {
   "cell_type": "code",
   "execution_count": 11,
   "id": "6f54b35e",
   "metadata": {
    "execution": {
     "iopub.execute_input": "2025-02-10T03:28:16.901062Z",
     "iopub.status.busy": "2025-02-10T03:28:16.900827Z",
     "iopub.status.idle": "2025-02-10T03:28:17.100368Z",
     "shell.execute_reply": "2025-02-10T03:28:17.099221Z"
    },
    "papermill": {
     "duration": 0.211052,
     "end_time": "2025-02-10T03:28:17.101717",
     "exception": false,
     "start_time": "2025-02-10T03:28:16.890665",
     "status": "completed"
    },
    "tags": []
   },
   "outputs": [
    {
     "name": "stdout",
     "output_type": "stream",
     "text": [
      "<class 'pandas.core.frame.DataFrame'>\n",
      "RangeIndex: 279712 entries, 0 to 279711\n",
      "Data columns (total 33 columns):\n",
      " #   Column                       Non-Null Count   Dtype  \n",
      "---  ------                       --------------   -----  \n",
      " 0   listing_id                   279712 non-null  int64  \n",
      " 1   name                         279537 non-null  object \n",
      " 2   host_id                      279712 non-null  int64  \n",
      " 3   host_since                   279547 non-null  object \n",
      " 4   host_location                278872 non-null  object \n",
      " 5   host_response_time           150930 non-null  object \n",
      " 6   host_response_rate           150930 non-null  float64\n",
      " 7   host_acceptance_rate         166625 non-null  float64\n",
      " 8   host_is_superhost            279547 non-null  object \n",
      " 9   host_total_listings_count    279547 non-null  float64\n",
      " 10  host_has_profile_pic         279547 non-null  object \n",
      " 11  host_identity_verified       279547 non-null  object \n",
      " 12  neighbourhood                279712 non-null  object \n",
      " 13  district                     37012 non-null   object \n",
      " 14  city                         279712 non-null  object \n",
      " 15  latitude                     279712 non-null  float64\n",
      " 16  longitude                    279712 non-null  float64\n",
      " 17  property_type                279712 non-null  object \n",
      " 18  room_type                    279712 non-null  object \n",
      " 19  accommodates                 279712 non-null  int64  \n",
      " 20  bedrooms                     250277 non-null  float64\n",
      " 21  amenities                    279712 non-null  object \n",
      " 22  price                        279712 non-null  int64  \n",
      " 23  minimum_nights               279712 non-null  int64  \n",
      " 24  maximum_nights               279712 non-null  int64  \n",
      " 25  review_scores_rating         188307 non-null  float64\n",
      " 26  review_scores_accuracy       187999 non-null  float64\n",
      " 27  review_scores_cleanliness    188047 non-null  float64\n",
      " 28  review_scores_checkin        187941 non-null  float64\n",
      " 29  review_scores_communication  188025 non-null  float64\n",
      " 30  review_scores_location       187937 non-null  float64\n",
      " 31  review_scores_value          187927 non-null  float64\n",
      " 32  instant_bookable             279712 non-null  object \n",
      "dtypes: float64(13), int64(6), object(14)\n",
      "memory usage: 70.4+ MB\n"
     ]
    }
   ],
   "source": [
    "listings.info()"
   ]
  },
  {
   "cell_type": "code",
   "execution_count": 12,
   "id": "f3238a04",
   "metadata": {
    "execution": {
     "iopub.execute_input": "2025-02-10T03:28:17.122315Z",
     "iopub.status.busy": "2025-02-10T03:28:17.122097Z",
     "iopub.status.idle": "2025-02-10T03:28:17.170654Z",
     "shell.execute_reply": "2025-02-10T03:28:17.170060Z"
    },
    "papermill": {
     "duration": 0.060105,
     "end_time": "2025-02-10T03:28:17.171894",
     "exception": false,
     "start_time": "2025-02-10T03:28:17.111789",
     "status": "completed"
    },
    "tags": []
   },
   "outputs": [],
   "source": [
    "listings[\"host_since\"] = pd.to_datetime(listings[\"host_since\"]) # converting string into date"
   ]
  },
  {
   "cell_type": "markdown",
   "id": "c1e2f9bb",
   "metadata": {
    "papermill": {
     "duration": 0.009332,
     "end_time": "2025-02-10T03:28:17.190827",
     "exception": false,
     "start_time": "2025-02-10T03:28:17.181495",
     "status": "completed"
    },
    "tags": []
   },
   "source": [
    "<div style=\"background-color: #f88379; padding: 25px; border-radius: 10px;\">\n",
    "  <h1 style=\"color: #333;\"><strong>Information About the dataset</strong></h1>\n",
    "</div>"
   ]
  },
  {
   "cell_type": "code",
   "execution_count": 13,
   "id": "2418f75e",
   "metadata": {
    "execution": {
     "iopub.execute_input": "2025-02-10T03:28:17.210285Z",
     "iopub.status.busy": "2025-02-10T03:28:17.210074Z",
     "iopub.status.idle": "2025-02-10T03:28:17.390886Z",
     "shell.execute_reply": "2025-02-10T03:28:17.389825Z"
    },
    "papermill": {
     "duration": 0.192185,
     "end_time": "2025-02-10T03:28:17.392404",
     "exception": false,
     "start_time": "2025-02-10T03:28:17.200219",
     "status": "completed"
    },
    "tags": []
   },
   "outputs": [
    {
     "name": "stdout",
     "output_type": "stream",
     "text": [
      "<class 'pandas.core.frame.DataFrame'>\n",
      "RangeIndex: 279712 entries, 0 to 279711\n",
      "Data columns (total 33 columns):\n",
      " #   Column                       Non-Null Count   Dtype         \n",
      "---  ------                       --------------   -----         \n",
      " 0   listing_id                   279712 non-null  int64         \n",
      " 1   name                         279537 non-null  object        \n",
      " 2   host_id                      279712 non-null  int64         \n",
      " 3   host_since                   279547 non-null  datetime64[ns]\n",
      " 4   host_location                278872 non-null  object        \n",
      " 5   host_response_time           150930 non-null  object        \n",
      " 6   host_response_rate           150930 non-null  float64       \n",
      " 7   host_acceptance_rate         166625 non-null  float64       \n",
      " 8   host_is_superhost            279547 non-null  object        \n",
      " 9   host_total_listings_count    279547 non-null  float64       \n",
      " 10  host_has_profile_pic         279547 non-null  object        \n",
      " 11  host_identity_verified       279547 non-null  object        \n",
      " 12  neighbourhood                279712 non-null  object        \n",
      " 13  district                     37012 non-null   object        \n",
      " 14  city                         279712 non-null  object        \n",
      " 15  latitude                     279712 non-null  float64       \n",
      " 16  longitude                    279712 non-null  float64       \n",
      " 17  property_type                279712 non-null  object        \n",
      " 18  room_type                    279712 non-null  object        \n",
      " 19  accommodates                 279712 non-null  int64         \n",
      " 20  bedrooms                     250277 non-null  float64       \n",
      " 21  amenities                    279712 non-null  object        \n",
      " 22  price                        279712 non-null  int64         \n",
      " 23  minimum_nights               279712 non-null  int64         \n",
      " 24  maximum_nights               279712 non-null  int64         \n",
      " 25  review_scores_rating         188307 non-null  float64       \n",
      " 26  review_scores_accuracy       187999 non-null  float64       \n",
      " 27  review_scores_cleanliness    188047 non-null  float64       \n",
      " 28  review_scores_checkin        187941 non-null  float64       \n",
      " 29  review_scores_communication  188025 non-null  float64       \n",
      " 30  review_scores_location       187937 non-null  float64       \n",
      " 31  review_scores_value          187927 non-null  float64       \n",
      " 32  instant_bookable             279712 non-null  object        \n",
      "dtypes: datetime64[ns](1), float64(13), int64(6), object(13)\n",
      "memory usage: 70.4+ MB\n"
     ]
    }
   ],
   "source": [
    "listings.info()"
   ]
  },
  {
   "cell_type": "code",
   "execution_count": 14,
   "id": "42437394",
   "metadata": {
    "execution": {
     "iopub.execute_input": "2025-02-10T03:28:17.412950Z",
     "iopub.status.busy": "2025-02-10T03:28:17.412719Z",
     "iopub.status.idle": "2025-02-10T03:28:17.418128Z",
     "shell.execute_reply": "2025-02-10T03:28:17.417490Z"
    },
    "papermill": {
     "duration": 0.016929,
     "end_time": "2025-02-10T03:28:17.419328",
     "exception": false,
     "start_time": "2025-02-10T03:28:17.402399",
     "status": "completed"
    },
    "tags": []
   },
   "outputs": [
    {
     "data": {
      "text/plain": [
       "0         Paris\n",
       "1         Paris\n",
       "2         Paris\n",
       "3         Paris\n",
       "4         Paris\n",
       "          ...  \n",
       "279707    Paris\n",
       "279708    Paris\n",
       "279709    Paris\n",
       "279710    Paris\n",
       "279711    Paris\n",
       "Name: city, Length: 279712, dtype: object"
      ]
     },
     "execution_count": 14,
     "metadata": {},
     "output_type": "execute_result"
    }
   ],
   "source": [
    "listings[\"city\"]"
   ]
  },
  {
   "cell_type": "code",
   "execution_count": 15,
   "id": "11c2dbe3",
   "metadata": {
    "execution": {
     "iopub.execute_input": "2025-02-10T03:28:17.439580Z",
     "iopub.status.busy": "2025-02-10T03:28:17.439371Z",
     "iopub.status.idle": "2025-02-10T03:28:17.456592Z",
     "shell.execute_reply": "2025-02-10T03:28:17.455930Z"
    },
    "papermill": {
     "duration": 0.028477,
     "end_time": "2025-02-10T03:28:17.457693",
     "exception": false,
     "start_time": "2025-02-10T03:28:17.429216",
     "status": "completed"
    },
    "tags": []
   },
   "outputs": [
    {
     "data": {
      "text/plain": [
       "city\n",
       "Paris             64690\n",
       "New York          37012\n",
       "Sydney            33630\n",
       "Rome              27647\n",
       "Rio de Janeiro    26615\n",
       "Istanbul          24519\n",
       "Mexico City       20065\n",
       "Bangkok           19361\n",
       "Cape Town         19086\n",
       "Hong Kong          7087\n",
       "Name: count, dtype: int64"
      ]
     },
     "execution_count": 15,
     "metadata": {},
     "output_type": "execute_result"
    }
   ],
   "source": [
    "listings[\"city\"].value_counts()"
   ]
  },
  {
   "cell_type": "markdown",
   "id": "73e0cca2",
   "metadata": {
    "papermill": {
     "duration": 0.009686,
     "end_time": "2025-02-10T03:28:17.477281",
     "exception": false,
     "start_time": "2025-02-10T03:28:17.467595",
     "status": "completed"
    },
    "tags": []
   },
   "source": [
    "<div style=\"background-color: #f88379; padding: 25px; border-radius: 10px;\">\n",
    "  <h1 style=\"color: #333;\"><strong>Columns and Rows Filtering</strong></h1>\n",
    "</div>"
   ]
  },
  {
   "cell_type": "code",
   "execution_count": 16,
   "id": "35ad03c0",
   "metadata": {
    "execution": {
     "iopub.execute_input": "2025-02-10T03:28:17.497505Z",
     "iopub.status.busy": "2025-02-10T03:28:17.497264Z",
     "iopub.status.idle": "2025-02-10T03:28:17.527244Z",
     "shell.execute_reply": "2025-02-10T03:28:17.526629Z"
    },
    "papermill": {
     "duration": 0.041583,
     "end_time": "2025-02-10T03:28:17.528580",
     "exception": false,
     "start_time": "2025-02-10T03:28:17.486997",
     "status": "completed"
    },
    "tags": []
   },
   "outputs": [],
   "source": [
    "paris_listings = listings.query(\"city=='Paris'\")"
   ]
  },
  {
   "cell_type": "markdown",
   "id": "91f9308f",
   "metadata": {
    "papermill": {
     "duration": 0.010196,
     "end_time": "2025-02-10T03:28:17.548940",
     "exception": false,
     "start_time": "2025-02-10T03:28:17.538744",
     "status": "completed"
    },
    "tags": []
   },
   "source": [
    "<div style=\"background-color: #f88379; padding: 25px; border-radius: 10px;\">\n",
    "  <h1 style=\"color: #333;\"><strong>Paris City Data Analysis</strong></h1>\n",
    "</div>"
   ]
  },
  {
   "cell_type": "code",
   "execution_count": 17,
   "id": "52b058e6",
   "metadata": {
    "execution": {
     "iopub.execute_input": "2025-02-10T03:28:17.569600Z",
     "iopub.status.busy": "2025-02-10T03:28:17.569311Z",
     "iopub.status.idle": "2025-02-10T03:28:17.619960Z",
     "shell.execute_reply": "2025-02-10T03:28:17.619077Z"
    },
    "papermill": {
     "duration": 0.062935,
     "end_time": "2025-02-10T03:28:17.621727",
     "exception": false,
     "start_time": "2025-02-10T03:28:17.558792",
     "status": "completed"
    },
    "tags": []
   },
   "outputs": [
    {
     "name": "stdout",
     "output_type": "stream",
     "text": [
      "<class 'pandas.core.frame.DataFrame'>\n",
      "Index: 64690 entries, 0 to 279711\n",
      "Data columns (total 33 columns):\n",
      " #   Column                       Non-Null Count  Dtype         \n",
      "---  ------                       --------------  -----         \n",
      " 0   listing_id                   64690 non-null  int64         \n",
      " 1   name                         64627 non-null  object        \n",
      " 2   host_id                      64690 non-null  int64         \n",
      " 3   host_since                   64657 non-null  datetime64[ns]\n",
      " 4   host_location                64522 non-null  object        \n",
      " 5   host_response_time           23346 non-null  object        \n",
      " 6   host_response_rate           23346 non-null  float64       \n",
      " 7   host_acceptance_rate         31919 non-null  float64       \n",
      " 8   host_is_superhost            64657 non-null  object        \n",
      " 9   host_total_listings_count    64657 non-null  float64       \n",
      " 10  host_has_profile_pic         64657 non-null  object        \n",
      " 11  host_identity_verified       64657 non-null  object        \n",
      " 12  neighbourhood                64690 non-null  object        \n",
      " 13  district                     0 non-null      object        \n",
      " 14  city                         64690 non-null  object        \n",
      " 15  latitude                     64690 non-null  float64       \n",
      " 16  longitude                    64690 non-null  float64       \n",
      " 17  property_type                64690 non-null  object        \n",
      " 18  room_type                    64690 non-null  object        \n",
      " 19  accommodates                 64690 non-null  int64         \n",
      " 20  bedrooms                     51286 non-null  float64       \n",
      " 21  amenities                    64690 non-null  object        \n",
      " 22  price                        64690 non-null  int64         \n",
      " 23  minimum_nights               64690 non-null  int64         \n",
      " 24  maximum_nights               64690 non-null  int64         \n",
      " 25  review_scores_rating         48036 non-null  float64       \n",
      " 26  review_scores_accuracy       47989 non-null  float64       \n",
      " 27  review_scores_cleanliness    47998 non-null  float64       \n",
      " 28  review_scores_checkin        47972 non-null  float64       \n",
      " 29  review_scores_communication  47991 non-null  float64       \n",
      " 30  review_scores_location       47971 non-null  float64       \n",
      " 31  review_scores_value          47972 non-null  float64       \n",
      " 32  instant_bookable             64690 non-null  object        \n",
      "dtypes: datetime64[ns](1), float64(13), int64(6), object(13)\n",
      "memory usage: 16.8+ MB\n"
     ]
    }
   ],
   "source": [
    "paris_listings.info()"
   ]
  },
  {
   "cell_type": "code",
   "execution_count": 18,
   "id": "ca248730",
   "metadata": {
    "execution": {
     "iopub.execute_input": "2025-02-10T03:28:17.645171Z",
     "iopub.status.busy": "2025-02-10T03:28:17.644917Z",
     "iopub.status.idle": "2025-02-10T03:28:17.679460Z",
     "shell.execute_reply": "2025-02-10T03:28:17.678553Z"
    },
    "papermill": {
     "duration": 0.048041,
     "end_time": "2025-02-10T03:28:17.680862",
     "exception": false,
     "start_time": "2025-02-10T03:28:17.632821",
     "status": "completed"
    },
    "tags": []
   },
   "outputs": [],
   "source": [
    "paris_listings = listings.query(\"city=='Paris'\").loc[:,[\"host_since\",\"neighbourhood\",\"city\",\"accommodates\",\"price\"]]"
   ]
  },
  {
   "cell_type": "code",
   "execution_count": 19,
   "id": "5eb6e3c2",
   "metadata": {
    "execution": {
     "iopub.execute_input": "2025-02-10T03:28:17.701821Z",
     "iopub.status.busy": "2025-02-10T03:28:17.701593Z",
     "iopub.status.idle": "2025-02-10T03:28:17.709506Z",
     "shell.execute_reply": "2025-02-10T03:28:17.708722Z"
    },
    "papermill": {
     "duration": 0.019751,
     "end_time": "2025-02-10T03:28:17.710759",
     "exception": false,
     "start_time": "2025-02-10T03:28:17.691008",
     "status": "completed"
    },
    "tags": []
   },
   "outputs": [
    {
     "data": {
      "text/html": [
       "<div>\n",
       "<style scoped>\n",
       "    .dataframe tbody tr th:only-of-type {\n",
       "        vertical-align: middle;\n",
       "    }\n",
       "\n",
       "    .dataframe tbody tr th {\n",
       "        vertical-align: top;\n",
       "    }\n",
       "\n",
       "    .dataframe thead th {\n",
       "        text-align: right;\n",
       "    }\n",
       "</style>\n",
       "<table border=\"1\" class=\"dataframe\">\n",
       "  <thead>\n",
       "    <tr style=\"text-align: right;\">\n",
       "      <th></th>\n",
       "      <th>host_since</th>\n",
       "      <th>neighbourhood</th>\n",
       "      <th>city</th>\n",
       "      <th>accommodates</th>\n",
       "      <th>price</th>\n",
       "    </tr>\n",
       "  </thead>\n",
       "  <tbody>\n",
       "    <tr>\n",
       "      <th>0</th>\n",
       "      <td>2011-12-03</td>\n",
       "      <td>Buttes-Montmartre</td>\n",
       "      <td>Paris</td>\n",
       "      <td>2</td>\n",
       "      <td>53</td>\n",
       "    </tr>\n",
       "    <tr>\n",
       "      <th>1</th>\n",
       "      <td>2013-11-29</td>\n",
       "      <td>Buttes-Montmartre</td>\n",
       "      <td>Paris</td>\n",
       "      <td>2</td>\n",
       "      <td>120</td>\n",
       "    </tr>\n",
       "    <tr>\n",
       "      <th>2</th>\n",
       "      <td>2014-07-31</td>\n",
       "      <td>Elysee</td>\n",
       "      <td>Paris</td>\n",
       "      <td>2</td>\n",
       "      <td>89</td>\n",
       "    </tr>\n",
       "    <tr>\n",
       "      <th>3</th>\n",
       "      <td>2013-12-17</td>\n",
       "      <td>Vaugirard</td>\n",
       "      <td>Paris</td>\n",
       "      <td>2</td>\n",
       "      <td>58</td>\n",
       "    </tr>\n",
       "    <tr>\n",
       "      <th>4</th>\n",
       "      <td>2014-12-14</td>\n",
       "      <td>Passy</td>\n",
       "      <td>Paris</td>\n",
       "      <td>2</td>\n",
       "      <td>60</td>\n",
       "    </tr>\n",
       "  </tbody>\n",
       "</table>\n",
       "</div>"
      ],
      "text/plain": [
       "  host_since      neighbourhood   city  accommodates  price\n",
       "0 2011-12-03  Buttes-Montmartre  Paris             2     53\n",
       "1 2013-11-29  Buttes-Montmartre  Paris             2    120\n",
       "2 2014-07-31             Elysee  Paris             2     89\n",
       "3 2013-12-17          Vaugirard  Paris             2     58\n",
       "4 2014-12-14              Passy  Paris             2     60"
      ]
     },
     "execution_count": 19,
     "metadata": {},
     "output_type": "execute_result"
    }
   ],
   "source": [
    "paris_listings.head()"
   ]
  },
  {
   "cell_type": "code",
   "execution_count": 20,
   "id": "8f135166",
   "metadata": {
    "execution": {
     "iopub.execute_input": "2025-02-10T03:28:17.731660Z",
     "iopub.status.busy": "2025-02-10T03:28:17.731447Z",
     "iopub.status.idle": "2025-02-10T03:28:17.744178Z",
     "shell.execute_reply": "2025-02-10T03:28:17.743425Z"
    },
    "papermill": {
     "duration": 0.024396,
     "end_time": "2025-02-10T03:28:17.745324",
     "exception": false,
     "start_time": "2025-02-10T03:28:17.720928",
     "status": "completed"
    },
    "tags": []
   },
   "outputs": [
    {
     "name": "stdout",
     "output_type": "stream",
     "text": [
      "<class 'pandas.core.frame.DataFrame'>\n",
      "Index: 64690 entries, 0 to 279711\n",
      "Data columns (total 5 columns):\n",
      " #   Column         Non-Null Count  Dtype         \n",
      "---  ------         --------------  -----         \n",
      " 0   host_since     64657 non-null  datetime64[ns]\n",
      " 1   neighbourhood  64690 non-null  object        \n",
      " 2   city           64690 non-null  object        \n",
      " 3   accommodates   64690 non-null  int64         \n",
      " 4   price          64690 non-null  int64         \n",
      "dtypes: datetime64[ns](1), int64(2), object(2)\n",
      "memory usage: 3.0+ MB\n"
     ]
    }
   ],
   "source": [
    "paris_listings.info()"
   ]
  },
  {
   "cell_type": "markdown",
   "id": "1d591ed9",
   "metadata": {
    "papermill": {
     "duration": 0.009831,
     "end_time": "2025-02-10T03:28:17.765332",
     "exception": false,
     "start_time": "2025-02-10T03:28:17.755501",
     "status": "completed"
    },
    "tags": []
   },
   "source": [
    "<div style=\"background-color: #f88379; padding: 25px; border-radius: 10px;\">\n",
    "  <h1 style=\"color: #333;\"><strong>Checking if there are missing values in the dataset</strong></h1>\n",
    "</div>"
   ]
  },
  {
   "cell_type": "code",
   "execution_count": 21,
   "id": "f37a39fa",
   "metadata": {
    "execution": {
     "iopub.execute_input": "2025-02-10T03:28:17.786276Z",
     "iopub.status.busy": "2025-02-10T03:28:17.786076Z",
     "iopub.status.idle": "2025-02-10T03:28:17.796758Z",
     "shell.execute_reply": "2025-02-10T03:28:17.796067Z"
    },
    "papermill": {
     "duration": 0.022515,
     "end_time": "2025-02-10T03:28:17.798044",
     "exception": false,
     "start_time": "2025-02-10T03:28:17.775529",
     "status": "completed"
    },
    "tags": []
   },
   "outputs": [
    {
     "data": {
      "text/plain": [
       "host_since       33\n",
       "neighbourhood     0\n",
       "city              0\n",
       "accommodates      0\n",
       "price             0\n",
       "dtype: int64"
      ]
     },
     "execution_count": 21,
     "metadata": {},
     "output_type": "execute_result"
    }
   ],
   "source": [
    "paris_listings.isna().sum()"
   ]
  },
  {
   "cell_type": "code",
   "execution_count": 22,
   "id": "c6924766",
   "metadata": {
    "execution": {
     "iopub.execute_input": "2025-02-10T03:28:17.819538Z",
     "iopub.status.busy": "2025-02-10T03:28:17.819281Z",
     "iopub.status.idle": "2025-02-10T03:28:17.830150Z",
     "shell.execute_reply": "2025-02-10T03:28:17.829586Z"
    },
    "papermill": {
     "duration": 0.022624,
     "end_time": "2025-02-10T03:28:17.831310",
     "exception": false,
     "start_time": "2025-02-10T03:28:17.808686",
     "status": "completed"
    },
    "tags": []
   },
   "outputs": [],
   "source": [
    "paris_listings.dropna(how = \"any\",inplace = True)"
   ]
  },
  {
   "cell_type": "code",
   "execution_count": 23,
   "id": "48c77d1b",
   "metadata": {
    "execution": {
     "iopub.execute_input": "2025-02-10T03:28:17.852487Z",
     "iopub.status.busy": "2025-02-10T03:28:17.852220Z",
     "iopub.status.idle": "2025-02-10T03:28:17.865514Z",
     "shell.execute_reply": "2025-02-10T03:28:17.864743Z"
    },
    "papermill": {
     "duration": 0.025067,
     "end_time": "2025-02-10T03:28:17.866693",
     "exception": false,
     "start_time": "2025-02-10T03:28:17.841626",
     "status": "completed"
    },
    "tags": []
   },
   "outputs": [
    {
     "name": "stdout",
     "output_type": "stream",
     "text": [
      "<class 'pandas.core.frame.DataFrame'>\n",
      "Index: 64657 entries, 0 to 279711\n",
      "Data columns (total 5 columns):\n",
      " #   Column         Non-Null Count  Dtype         \n",
      "---  ------         --------------  -----         \n",
      " 0   host_since     64657 non-null  datetime64[ns]\n",
      " 1   neighbourhood  64657 non-null  object        \n",
      " 2   city           64657 non-null  object        \n",
      " 3   accommodates   64657 non-null  int64         \n",
      " 4   price          64657 non-null  int64         \n",
      "dtypes: datetime64[ns](1), int64(2), object(2)\n",
      "memory usage: 3.0+ MB\n"
     ]
    }
   ],
   "source": [
    "paris_listings.info()"
   ]
  },
  {
   "cell_type": "code",
   "execution_count": 24,
   "id": "0960156d",
   "metadata": {
    "execution": {
     "iopub.execute_input": "2025-02-10T03:28:17.888961Z",
     "iopub.status.busy": "2025-02-10T03:28:17.888751Z",
     "iopub.status.idle": "2025-02-10T03:28:17.909097Z",
     "shell.execute_reply": "2025-02-10T03:28:17.908427Z"
    },
    "papermill": {
     "duration": 0.032697,
     "end_time": "2025-02-10T03:28:17.910339",
     "exception": false,
     "start_time": "2025-02-10T03:28:17.877642",
     "status": "completed"
    },
    "tags": []
   },
   "outputs": [
    {
     "data": {
      "text/html": [
       "<div>\n",
       "<style scoped>\n",
       "    .dataframe tbody tr th:only-of-type {\n",
       "        vertical-align: middle;\n",
       "    }\n",
       "\n",
       "    .dataframe tbody tr th {\n",
       "        vertical-align: top;\n",
       "    }\n",
       "\n",
       "    .dataframe thead th {\n",
       "        text-align: right;\n",
       "    }\n",
       "</style>\n",
       "<table border=\"1\" class=\"dataframe\">\n",
       "  <thead>\n",
       "    <tr style=\"text-align: right;\">\n",
       "      <th></th>\n",
       "      <th>host_since</th>\n",
       "      <th>accommodates</th>\n",
       "      <th>price</th>\n",
       "    </tr>\n",
       "  </thead>\n",
       "  <tbody>\n",
       "    <tr>\n",
       "      <th>count</th>\n",
       "      <td>64657</td>\n",
       "      <td>64657.000000</td>\n",
       "      <td>64657.000000</td>\n",
       "    </tr>\n",
       "    <tr>\n",
       "      <th>mean</th>\n",
       "      <td>2015-11-01 11:06:05.528867584</td>\n",
       "      <td>3.037877</td>\n",
       "      <td>113.104614</td>\n",
       "    </tr>\n",
       "    <tr>\n",
       "      <th>min</th>\n",
       "      <td>2008-08-30 00:00:00</td>\n",
       "      <td>0.000000</td>\n",
       "      <td>0.000000</td>\n",
       "    </tr>\n",
       "    <tr>\n",
       "      <th>25%</th>\n",
       "      <td>2014-03-09 00:00:00</td>\n",
       "      <td>2.000000</td>\n",
       "      <td>59.000000</td>\n",
       "    </tr>\n",
       "    <tr>\n",
       "      <th>50%</th>\n",
       "      <td>2015-07-07 00:00:00</td>\n",
       "      <td>2.000000</td>\n",
       "      <td>80.000000</td>\n",
       "    </tr>\n",
       "    <tr>\n",
       "      <th>75%</th>\n",
       "      <td>2017-05-29 00:00:00</td>\n",
       "      <td>4.000000</td>\n",
       "      <td>120.000000</td>\n",
       "    </tr>\n",
       "    <tr>\n",
       "      <th>max</th>\n",
       "      <td>2021-02-07 00:00:00</td>\n",
       "      <td>16.000000</td>\n",
       "      <td>12000.000000</td>\n",
       "    </tr>\n",
       "    <tr>\n",
       "      <th>std</th>\n",
       "      <td>NaN</td>\n",
       "      <td>1.588382</td>\n",
       "      <td>214.479626</td>\n",
       "    </tr>\n",
       "  </tbody>\n",
       "</table>\n",
       "</div>"
      ],
      "text/plain": [
       "                          host_since  accommodates         price\n",
       "count                          64657  64657.000000  64657.000000\n",
       "mean   2015-11-01 11:06:05.528867584      3.037877    113.104614\n",
       "min              2008-08-30 00:00:00      0.000000      0.000000\n",
       "25%              2014-03-09 00:00:00      2.000000     59.000000\n",
       "50%              2015-07-07 00:00:00      2.000000     80.000000\n",
       "75%              2017-05-29 00:00:00      4.000000    120.000000\n",
       "max              2021-02-07 00:00:00     16.000000  12000.000000\n",
       "std                              NaN      1.588382    214.479626"
      ]
     },
     "execution_count": 24,
     "metadata": {},
     "output_type": "execute_result"
    }
   ],
   "source": [
    "paris_listings.describe()"
   ]
  },
  {
   "cell_type": "code",
   "execution_count": 25,
   "id": "fa5818c0",
   "metadata": {
    "execution": {
     "iopub.execute_input": "2025-02-10T03:28:17.932286Z",
     "iopub.status.busy": "2025-02-10T03:28:17.932083Z",
     "iopub.status.idle": "2025-02-10T03:28:17.952368Z",
     "shell.execute_reply": "2025-02-10T03:28:17.951744Z"
    },
    "papermill": {
     "duration": 0.032591,
     "end_time": "2025-02-10T03:28:17.953698",
     "exception": false,
     "start_time": "2025-02-10T03:28:17.921107",
     "status": "completed"
    },
    "tags": []
   },
   "outputs": [
    {
     "data": {
      "text/html": [
       "<div>\n",
       "<style scoped>\n",
       "    .dataframe tbody tr th:only-of-type {\n",
       "        vertical-align: middle;\n",
       "    }\n",
       "\n",
       "    .dataframe tbody tr th {\n",
       "        vertical-align: top;\n",
       "    }\n",
       "\n",
       "    .dataframe thead th {\n",
       "        text-align: right;\n",
       "    }\n",
       "</style>\n",
       "<table border=\"1\" class=\"dataframe\">\n",
       "  <thead>\n",
       "    <tr style=\"text-align: right;\">\n",
       "      <th></th>\n",
       "      <th>neighbourhood</th>\n",
       "      <th>city</th>\n",
       "    </tr>\n",
       "  </thead>\n",
       "  <tbody>\n",
       "    <tr>\n",
       "      <th>count</th>\n",
       "      <td>64657</td>\n",
       "      <td>64657</td>\n",
       "    </tr>\n",
       "    <tr>\n",
       "      <th>unique</th>\n",
       "      <td>20</td>\n",
       "      <td>1</td>\n",
       "    </tr>\n",
       "    <tr>\n",
       "      <th>top</th>\n",
       "      <td>Buttes-Montmartre</td>\n",
       "      <td>Paris</td>\n",
       "    </tr>\n",
       "    <tr>\n",
       "      <th>freq</th>\n",
       "      <td>7232</td>\n",
       "      <td>64657</td>\n",
       "    </tr>\n",
       "  </tbody>\n",
       "</table>\n",
       "</div>"
      ],
      "text/plain": [
       "            neighbourhood   city\n",
       "count               64657  64657\n",
       "unique                 20      1\n",
       "top     Buttes-Montmartre  Paris\n",
       "freq                 7232  64657"
      ]
     },
     "execution_count": 25,
     "metadata": {},
     "output_type": "execute_result"
    }
   ],
   "source": [
    "paris_listings.describe(include=\"object\")"
   ]
  },
  {
   "cell_type": "code",
   "execution_count": 26,
   "id": "10034d16",
   "metadata": {
    "execution": {
     "iopub.execute_input": "2025-02-10T03:28:17.975754Z",
     "iopub.status.busy": "2025-02-10T03:28:17.975554Z",
     "iopub.status.idle": "2025-02-10T03:28:17.981454Z",
     "shell.execute_reply": "2025-02-10T03:28:17.980801Z"
    },
    "papermill": {
     "duration": 0.018446,
     "end_time": "2025-02-10T03:28:17.982760",
     "exception": false,
     "start_time": "2025-02-10T03:28:17.964314",
     "status": "completed"
    },
    "tags": []
   },
   "outputs": [
    {
     "data": {
      "text/plain": [
       "host_since       54\n",
       "neighbourhood    54\n",
       "city             54\n",
       "accommodates     54\n",
       "price            54\n",
       "dtype: int64"
      ]
     },
     "execution_count": 26,
     "metadata": {},
     "output_type": "execute_result"
    }
   ],
   "source": [
    "paris_listings[paris_listings[\"accommodates\"]==0].count(axis = 0)"
   ]
  },
  {
   "cell_type": "code",
   "execution_count": 27,
   "id": "1be86c67",
   "metadata": {
    "execution": {
     "iopub.execute_input": "2025-02-10T03:28:18.004780Z",
     "iopub.status.busy": "2025-02-10T03:28:18.004582Z",
     "iopub.status.idle": "2025-02-10T03:28:18.010168Z",
     "shell.execute_reply": "2025-02-10T03:28:18.009556Z"
    },
    "papermill": {
     "duration": 0.017874,
     "end_time": "2025-02-10T03:28:18.011310",
     "exception": false,
     "start_time": "2025-02-10T03:28:17.993436",
     "status": "completed"
    },
    "tags": []
   },
   "outputs": [
    {
     "data": {
      "text/plain": [
       "host_since       62\n",
       "neighbourhood    62\n",
       "city             62\n",
       "accommodates     62\n",
       "price            62\n",
       "dtype: int64"
      ]
     },
     "execution_count": 27,
     "metadata": {},
     "output_type": "execute_result"
    }
   ],
   "source": [
    "paris_listings[paris_listings[\"price\"]==0].count(axis = 0)"
   ]
  },
  {
   "cell_type": "code",
   "execution_count": 28,
   "id": "4e0bc6cb",
   "metadata": {
    "execution": {
     "iopub.execute_input": "2025-02-10T03:28:18.033250Z",
     "iopub.status.busy": "2025-02-10T03:28:18.033056Z",
     "iopub.status.idle": "2025-02-10T03:28:18.041476Z",
     "shell.execute_reply": "2025-02-10T03:28:18.040742Z"
    },
    "papermill": {
     "duration": 0.020871,
     "end_time": "2025-02-10T03:28:18.042813",
     "exception": false,
     "start_time": "2025-02-10T03:28:18.021942",
     "status": "completed"
    },
    "tags": []
   },
   "outputs": [
    {
     "data": {
      "text/html": [
       "<div>\n",
       "<style scoped>\n",
       "    .dataframe tbody tr th:only-of-type {\n",
       "        vertical-align: middle;\n",
       "    }\n",
       "\n",
       "    .dataframe tbody tr th {\n",
       "        vertical-align: top;\n",
       "    }\n",
       "\n",
       "    .dataframe thead th {\n",
       "        text-align: right;\n",
       "    }\n",
       "</style>\n",
       "<table border=\"1\" class=\"dataframe\">\n",
       "  <thead>\n",
       "    <tr style=\"text-align: right;\">\n",
       "      <th></th>\n",
       "      <th>host_since</th>\n",
       "      <th>neighbourhood</th>\n",
       "      <th>city</th>\n",
       "      <th>accommodates</th>\n",
       "      <th>price</th>\n",
       "    </tr>\n",
       "  </thead>\n",
       "  <tbody>\n",
       "    <tr>\n",
       "      <th>207075</th>\n",
       "      <td>2019-07-22</td>\n",
       "      <td>Vaugirard</td>\n",
       "      <td>Paris</td>\n",
       "      <td>2</td>\n",
       "      <td>0</td>\n",
       "    </tr>\n",
       "    <tr>\n",
       "      <th>207076</th>\n",
       "      <td>2019-10-31</td>\n",
       "      <td>Enclos-St-Laurent</td>\n",
       "      <td>Paris</td>\n",
       "      <td>2</td>\n",
       "      <td>0</td>\n",
       "    </tr>\n",
       "    <tr>\n",
       "      <th>208301</th>\n",
       "      <td>2019-05-27</td>\n",
       "      <td>Palais-Bourbon</td>\n",
       "      <td>Paris</td>\n",
       "      <td>2</td>\n",
       "      <td>0</td>\n",
       "    </tr>\n",
       "    <tr>\n",
       "      <th>208302</th>\n",
       "      <td>2019-07-19</td>\n",
       "      <td>Pantheon</td>\n",
       "      <td>Paris</td>\n",
       "      <td>3</td>\n",
       "      <td>0</td>\n",
       "    </tr>\n",
       "    <tr>\n",
       "      <th>208854</th>\n",
       "      <td>2016-09-16</td>\n",
       "      <td>Louvre</td>\n",
       "      <td>Paris</td>\n",
       "      <td>3</td>\n",
       "      <td>0</td>\n",
       "    </tr>\n",
       "    <tr>\n",
       "      <th>208855</th>\n",
       "      <td>2019-11-06</td>\n",
       "      <td>Luxembourg</td>\n",
       "      <td>Paris</td>\n",
       "      <td>3</td>\n",
       "      <td>0</td>\n",
       "    </tr>\n",
       "    <tr>\n",
       "      <th>208856</th>\n",
       "      <td>2019-12-02</td>\n",
       "      <td>Elysee</td>\n",
       "      <td>Paris</td>\n",
       "      <td>3</td>\n",
       "      <td>0</td>\n",
       "    </tr>\n",
       "    <tr>\n",
       "      <th>208857</th>\n",
       "      <td>2019-12-17</td>\n",
       "      <td>Opera</td>\n",
       "      <td>Paris</td>\n",
       "      <td>2</td>\n",
       "      <td>0</td>\n",
       "    </tr>\n",
       "  </tbody>\n",
       "</table>\n",
       "</div>"
      ],
      "text/plain": [
       "       host_since      neighbourhood   city  accommodates  price\n",
       "207075 2019-07-22          Vaugirard  Paris             2      0\n",
       "207076 2019-10-31  Enclos-St-Laurent  Paris             2      0\n",
       "208301 2019-05-27     Palais-Bourbon  Paris             2      0\n",
       "208302 2019-07-19           Pantheon  Paris             3      0\n",
       "208854 2016-09-16             Louvre  Paris             3      0\n",
       "208855 2019-11-06         Luxembourg  Paris             3      0\n",
       "208856 2019-12-02             Elysee  Paris             3      0\n",
       "208857 2019-12-17              Opera  Paris             2      0"
      ]
     },
     "execution_count": 28,
     "metadata": {},
     "output_type": "execute_result"
    }
   ],
   "source": [
    "paris_listings[(paris_listings[\"price\"]==0) & (paris_listings[\"accommodates\"]!=0)]"
   ]
  },
  {
   "cell_type": "code",
   "execution_count": 29,
   "id": "1047ae90",
   "metadata": {
    "execution": {
     "iopub.execute_input": "2025-02-10T03:28:18.065418Z",
     "iopub.status.busy": "2025-02-10T03:28:18.065202Z",
     "iopub.status.idle": "2025-02-10T03:28:18.070377Z",
     "shell.execute_reply": "2025-02-10T03:28:18.069644Z"
    },
    "papermill": {
     "duration": 0.017605,
     "end_time": "2025-02-10T03:28:18.071697",
     "exception": false,
     "start_time": "2025-02-10T03:28:18.054092",
     "status": "completed"
    },
    "tags": []
   },
   "outputs": [],
   "source": [
    "paris_listings = paris_listings[paris_listings[\"price\"]!=0]"
   ]
  },
  {
   "cell_type": "code",
   "execution_count": 30,
   "id": "4e0f1c22",
   "metadata": {
    "execution": {
     "iopub.execute_input": "2025-02-10T03:28:18.093891Z",
     "iopub.status.busy": "2025-02-10T03:28:18.093694Z",
     "iopub.status.idle": "2025-02-10T03:28:18.106256Z",
     "shell.execute_reply": "2025-02-10T03:28:18.105454Z"
    },
    "papermill": {
     "duration": 0.024855,
     "end_time": "2025-02-10T03:28:18.107464",
     "exception": false,
     "start_time": "2025-02-10T03:28:18.082609",
     "status": "completed"
    },
    "tags": []
   },
   "outputs": [
    {
     "name": "stdout",
     "output_type": "stream",
     "text": [
      "<class 'pandas.core.frame.DataFrame'>\n",
      "Index: 64595 entries, 0 to 279711\n",
      "Data columns (total 5 columns):\n",
      " #   Column         Non-Null Count  Dtype         \n",
      "---  ------         --------------  -----         \n",
      " 0   host_since     64595 non-null  datetime64[ns]\n",
      " 1   neighbourhood  64595 non-null  object        \n",
      " 2   city           64595 non-null  object        \n",
      " 3   accommodates   64595 non-null  int64         \n",
      " 4   price          64595 non-null  int64         \n",
      "dtypes: datetime64[ns](1), int64(2), object(2)\n",
      "memory usage: 3.0+ MB\n"
     ]
    }
   ],
   "source": [
    "paris_listings.info()"
   ]
  },
  {
   "cell_type": "code",
   "execution_count": 31,
   "id": "fd19e4e2",
   "metadata": {
    "execution": {
     "iopub.execute_input": "2025-02-10T03:28:18.129918Z",
     "iopub.status.busy": "2025-02-10T03:28:18.129706Z",
     "iopub.status.idle": "2025-02-10T03:28:18.136663Z",
     "shell.execute_reply": "2025-02-10T03:28:18.135965Z"
    },
    "papermill": {
     "duration": 0.019611,
     "end_time": "2025-02-10T03:28:18.137939",
     "exception": false,
     "start_time": "2025-02-10T03:28:18.118328",
     "status": "completed"
    },
    "tags": []
   },
   "outputs": [
    {
     "data": {
      "text/html": [
       "<div>\n",
       "<style scoped>\n",
       "    .dataframe tbody tr th:only-of-type {\n",
       "        vertical-align: middle;\n",
       "    }\n",
       "\n",
       "    .dataframe tbody tr th {\n",
       "        vertical-align: top;\n",
       "    }\n",
       "\n",
       "    .dataframe thead th {\n",
       "        text-align: right;\n",
       "    }\n",
       "</style>\n",
       "<table border=\"1\" class=\"dataframe\">\n",
       "  <thead>\n",
       "    <tr style=\"text-align: right;\">\n",
       "      <th></th>\n",
       "      <th>host_since</th>\n",
       "      <th>neighbourhood</th>\n",
       "      <th>city</th>\n",
       "      <th>accommodates</th>\n",
       "      <th>price</th>\n",
       "    </tr>\n",
       "  </thead>\n",
       "  <tbody>\n",
       "    <tr>\n",
       "      <th>0</th>\n",
       "      <td>2011-12-03</td>\n",
       "      <td>Buttes-Montmartre</td>\n",
       "      <td>Paris</td>\n",
       "      <td>2</td>\n",
       "      <td>53</td>\n",
       "    </tr>\n",
       "    <tr>\n",
       "      <th>1</th>\n",
       "      <td>2013-11-29</td>\n",
       "      <td>Buttes-Montmartre</td>\n",
       "      <td>Paris</td>\n",
       "      <td>2</td>\n",
       "      <td>120</td>\n",
       "    </tr>\n",
       "    <tr>\n",
       "      <th>2</th>\n",
       "      <td>2014-07-31</td>\n",
       "      <td>Elysee</td>\n",
       "      <td>Paris</td>\n",
       "      <td>2</td>\n",
       "      <td>89</td>\n",
       "    </tr>\n",
       "    <tr>\n",
       "      <th>3</th>\n",
       "      <td>2013-12-17</td>\n",
       "      <td>Vaugirard</td>\n",
       "      <td>Paris</td>\n",
       "      <td>2</td>\n",
       "      <td>58</td>\n",
       "    </tr>\n",
       "    <tr>\n",
       "      <th>4</th>\n",
       "      <td>2014-12-14</td>\n",
       "      <td>Passy</td>\n",
       "      <td>Paris</td>\n",
       "      <td>2</td>\n",
       "      <td>60</td>\n",
       "    </tr>\n",
       "  </tbody>\n",
       "</table>\n",
       "</div>"
      ],
      "text/plain": [
       "  host_since      neighbourhood   city  accommodates  price\n",
       "0 2011-12-03  Buttes-Montmartre  Paris             2     53\n",
       "1 2013-11-29  Buttes-Montmartre  Paris             2    120\n",
       "2 2014-07-31             Elysee  Paris             2     89\n",
       "3 2013-12-17          Vaugirard  Paris             2     58\n",
       "4 2014-12-14              Passy  Paris             2     60"
      ]
     },
     "execution_count": 31,
     "metadata": {},
     "output_type": "execute_result"
    }
   ],
   "source": [
    "paris_listings.head()"
   ]
  },
  {
   "cell_type": "markdown",
   "id": "a93e9954",
   "metadata": {
    "papermill": {
     "duration": 0.010842,
     "end_time": "2025-02-10T03:28:18.160031",
     "exception": false,
     "start_time": "2025-02-10T03:28:18.149189",
     "status": "completed"
    },
    "tags": []
   },
   "source": [
    "<div style=\"background-color: #f88379; padding: 25px; border-radius: 10px;\">\n",
    "  <h1 style=\"color: #333;\"><strong>Finding average Price of AirBnB in Paris as per Localities</strong></h1>\n",
    "</div>"
   ]
  },
  {
   "cell_type": "code",
   "execution_count": 32,
   "id": "4b188a48",
   "metadata": {
    "execution": {
     "iopub.execute_input": "2025-02-10T03:28:18.182830Z",
     "iopub.status.busy": "2025-02-10T03:28:18.182612Z",
     "iopub.status.idle": "2025-02-10T03:28:18.193225Z",
     "shell.execute_reply": "2025-02-10T03:28:18.192424Z"
    },
    "papermill": {
     "duration": 0.023367,
     "end_time": "2025-02-10T03:28:18.194564",
     "exception": false,
     "start_time": "2025-02-10T03:28:18.171197",
     "status": "completed"
    },
    "tags": []
   },
   "outputs": [],
   "source": [
    "paris_listings_neighbourhood = paris_listings.groupby(\"neighbourhood\").agg({\"price\":\"mean\"}).sort_values(\"price\",ascending=False).round(2)"
   ]
  },
  {
   "cell_type": "code",
   "execution_count": 33,
   "id": "15524630",
   "metadata": {
    "execution": {
     "iopub.execute_input": "2025-02-10T03:28:18.216906Z",
     "iopub.status.busy": "2025-02-10T03:28:18.216701Z",
     "iopub.status.idle": "2025-02-10T03:28:18.223526Z",
     "shell.execute_reply": "2025-02-10T03:28:18.222876Z"
    },
    "papermill": {
     "duration": 0.019183,
     "end_time": "2025-02-10T03:28:18.224634",
     "exception": false,
     "start_time": "2025-02-10T03:28:18.205451",
     "status": "completed"
    },
    "tags": []
   },
   "outputs": [
    {
     "data": {
      "text/html": [
       "<div>\n",
       "<style scoped>\n",
       "    .dataframe tbody tr th:only-of-type {\n",
       "        vertical-align: middle;\n",
       "    }\n",
       "\n",
       "    .dataframe tbody tr th {\n",
       "        vertical-align: top;\n",
       "    }\n",
       "\n",
       "    .dataframe thead th {\n",
       "        text-align: right;\n",
       "    }\n",
       "</style>\n",
       "<table border=\"1\" class=\"dataframe\">\n",
       "  <thead>\n",
       "    <tr style=\"text-align: right;\">\n",
       "      <th></th>\n",
       "      <th>price</th>\n",
       "    </tr>\n",
       "    <tr>\n",
       "      <th>neighbourhood</th>\n",
       "      <th></th>\n",
       "    </tr>\n",
       "  </thead>\n",
       "  <tbody>\n",
       "    <tr>\n",
       "      <th>Elysee</th>\n",
       "      <td>211.37</td>\n",
       "    </tr>\n",
       "    <tr>\n",
       "      <th>Louvre</th>\n",
       "      <td>175.75</td>\n",
       "    </tr>\n",
       "    <tr>\n",
       "      <th>Passy</th>\n",
       "      <td>161.29</td>\n",
       "    </tr>\n",
       "    <tr>\n",
       "      <th>Palais-Bourbon</th>\n",
       "      <td>157.51</td>\n",
       "    </tr>\n",
       "    <tr>\n",
       "      <th>Luxembourg</th>\n",
       "      <td>155.79</td>\n",
       "    </tr>\n",
       "    <tr>\n",
       "      <th>Bourse</th>\n",
       "      <td>149.63</td>\n",
       "    </tr>\n",
       "    <tr>\n",
       "      <th>Hotel-de-Ville</th>\n",
       "      <td>144.52</td>\n",
       "    </tr>\n",
       "    <tr>\n",
       "      <th>Temple</th>\n",
       "      <td>138.43</td>\n",
       "    </tr>\n",
       "    <tr>\n",
       "      <th>Pantheon</th>\n",
       "      <td>122.98</td>\n",
       "    </tr>\n",
       "    <tr>\n",
       "      <th>Opera</th>\n",
       "      <td>119.20</td>\n",
       "    </tr>\n",
       "    <tr>\n",
       "      <th>Vaugirard</th>\n",
       "      <td>107.09</td>\n",
       "    </tr>\n",
       "    <tr>\n",
       "      <th>Enclos-St-Laurent</th>\n",
       "      <td>103.12</td>\n",
       "    </tr>\n",
       "    <tr>\n",
       "      <th>Batignolles-Monceau</th>\n",
       "      <td>102.69</td>\n",
       "    </tr>\n",
       "    <tr>\n",
       "      <th>Observatoire</th>\n",
       "      <td>102.00</td>\n",
       "    </tr>\n",
       "    <tr>\n",
       "      <th>Gobelins</th>\n",
       "      <td>98.11</td>\n",
       "    </tr>\n",
       "    <tr>\n",
       "      <th>Popincourt</th>\n",
       "      <td>90.55</td>\n",
       "    </tr>\n",
       "    <tr>\n",
       "      <th>Reuilly</th>\n",
       "      <td>89.13</td>\n",
       "    </tr>\n",
       "    <tr>\n",
       "      <th>Buttes-Montmartre</th>\n",
       "      <td>87.25</td>\n",
       "    </tr>\n",
       "    <tr>\n",
       "      <th>Buttes-Chaumont</th>\n",
       "      <td>82.69</td>\n",
       "    </tr>\n",
       "    <tr>\n",
       "      <th>Menilmontant</th>\n",
       "      <td>74.93</td>\n",
       "    </tr>\n",
       "  </tbody>\n",
       "</table>\n",
       "</div>"
      ],
      "text/plain": [
       "                      price\n",
       "neighbourhood              \n",
       "Elysee               211.37\n",
       "Louvre               175.75\n",
       "Passy                161.29\n",
       "Palais-Bourbon       157.51\n",
       "Luxembourg           155.79\n",
       "Bourse               149.63\n",
       "Hotel-de-Ville       144.52\n",
       "Temple               138.43\n",
       "Pantheon             122.98\n",
       "Opera                119.20\n",
       "Vaugirard            107.09\n",
       "Enclos-St-Laurent    103.12\n",
       "Batignolles-Monceau  102.69\n",
       "Observatoire         102.00\n",
       "Gobelins              98.11\n",
       "Popincourt            90.55\n",
       "Reuilly               89.13\n",
       "Buttes-Montmartre     87.25\n",
       "Buttes-Chaumont       82.69\n",
       "Menilmontant          74.93"
      ]
     },
     "execution_count": 33,
     "metadata": {},
     "output_type": "execute_result"
    }
   ],
   "source": [
    "paris_listings_neighbourhood"
   ]
  },
  {
   "cell_type": "code",
   "execution_count": 34,
   "id": "3bcc3c6f",
   "metadata": {
    "execution": {
     "iopub.execute_input": "2025-02-10T03:28:18.247561Z",
     "iopub.status.busy": "2025-02-10T03:28:18.247326Z",
     "iopub.status.idle": "2025-02-10T03:28:18.256268Z",
     "shell.execute_reply": "2025-02-10T03:28:18.255548Z"
    },
    "papermill": {
     "duration": 0.021864,
     "end_time": "2025-02-10T03:28:18.257563",
     "exception": false,
     "start_time": "2025-02-10T03:28:18.235699",
     "status": "completed"
    },
    "tags": []
   },
   "outputs": [],
   "source": [
    "paris_Elysee_accommodates = paris_listings.query(\"neighbourhood=='Elysee'\").groupby(\"accommodates\").agg({\"price\":\"mean\"}).sort_values(\"price\",ascending=False).round(2)"
   ]
  },
  {
   "cell_type": "code",
   "execution_count": 35,
   "id": "7288f8f1",
   "metadata": {
    "execution": {
     "iopub.execute_input": "2025-02-10T03:28:18.280524Z",
     "iopub.status.busy": "2025-02-10T03:28:18.280293Z",
     "iopub.status.idle": "2025-02-10T03:28:18.282995Z",
     "shell.execute_reply": "2025-02-10T03:28:18.282384Z"
    },
    "papermill": {
     "duration": 0.015421,
     "end_time": "2025-02-10T03:28:18.284150",
     "exception": false,
     "start_time": "2025-02-10T03:28:18.268729",
     "status": "completed"
    },
    "tags": []
   },
   "outputs": [],
   "source": [
    "# Inside of Paris,the price of AirBnB is directly impacted by the popularity of the tourist place or\n",
    "# the view of Eiffel tower. We need to further see if the prices are increasing when the regulations are imposed"
   ]
  },
  {
   "cell_type": "code",
   "execution_count": 36,
   "id": "2d4e1918",
   "metadata": {
    "execution": {
     "iopub.execute_input": "2025-02-10T03:28:18.307181Z",
     "iopub.status.busy": "2025-02-10T03:28:18.306990Z",
     "iopub.status.idle": "2025-02-10T03:28:18.313431Z",
     "shell.execute_reply": "2025-02-10T03:28:18.312807Z"
    },
    "papermill": {
     "duration": 0.019176,
     "end_time": "2025-02-10T03:28:18.314613",
     "exception": false,
     "start_time": "2025-02-10T03:28:18.295437",
     "status": "completed"
    },
    "tags": []
   },
   "outputs": [
    {
     "data": {
      "text/html": [
       "<div>\n",
       "<style scoped>\n",
       "    .dataframe tbody tr th:only-of-type {\n",
       "        vertical-align: middle;\n",
       "    }\n",
       "\n",
       "    .dataframe tbody tr th {\n",
       "        vertical-align: top;\n",
       "    }\n",
       "\n",
       "    .dataframe thead th {\n",
       "        text-align: right;\n",
       "    }\n",
       "</style>\n",
       "<table border=\"1\" class=\"dataframe\">\n",
       "  <thead>\n",
       "    <tr style=\"text-align: right;\">\n",
       "      <th></th>\n",
       "      <th>price</th>\n",
       "    </tr>\n",
       "    <tr>\n",
       "      <th>accommodates</th>\n",
       "      <th></th>\n",
       "    </tr>\n",
       "  </thead>\n",
       "  <tbody>\n",
       "    <tr>\n",
       "      <th>14</th>\n",
       "      <td>971.00</td>\n",
       "    </tr>\n",
       "    <tr>\n",
       "      <th>13</th>\n",
       "      <td>842.50</td>\n",
       "    </tr>\n",
       "    <tr>\n",
       "      <th>11</th>\n",
       "      <td>805.00</td>\n",
       "    </tr>\n",
       "    <tr>\n",
       "      <th>16</th>\n",
       "      <td>800.00</td>\n",
       "    </tr>\n",
       "    <tr>\n",
       "      <th>12</th>\n",
       "      <td>529.62</td>\n",
       "    </tr>\n",
       "    <tr>\n",
       "      <th>10</th>\n",
       "      <td>500.86</td>\n",
       "    </tr>\n",
       "    <tr>\n",
       "      <th>9</th>\n",
       "      <td>440.27</td>\n",
       "    </tr>\n",
       "    <tr>\n",
       "      <th>7</th>\n",
       "      <td>411.54</td>\n",
       "    </tr>\n",
       "    <tr>\n",
       "      <th>8</th>\n",
       "      <td>405.52</td>\n",
       "    </tr>\n",
       "    <tr>\n",
       "      <th>6</th>\n",
       "      <td>355.51</td>\n",
       "    </tr>\n",
       "    <tr>\n",
       "      <th>5</th>\n",
       "      <td>328.82</td>\n",
       "    </tr>\n",
       "    <tr>\n",
       "      <th>4</th>\n",
       "      <td>212.10</td>\n",
       "    </tr>\n",
       "    <tr>\n",
       "      <th>2</th>\n",
       "      <td>155.10</td>\n",
       "    </tr>\n",
       "    <tr>\n",
       "      <th>3</th>\n",
       "      <td>153.88</td>\n",
       "    </tr>\n",
       "    <tr>\n",
       "      <th>1</th>\n",
       "      <td>79.52</td>\n",
       "    </tr>\n",
       "  </tbody>\n",
       "</table>\n",
       "</div>"
      ],
      "text/plain": [
       "               price\n",
       "accommodates        \n",
       "14            971.00\n",
       "13            842.50\n",
       "11            805.00\n",
       "16            800.00\n",
       "12            529.62\n",
       "10            500.86\n",
       "9             440.27\n",
       "7             411.54\n",
       "8             405.52\n",
       "6             355.51\n",
       "5             328.82\n",
       "4             212.10\n",
       "2             155.10\n",
       "3             153.88\n",
       "1              79.52"
      ]
     },
     "execution_count": 36,
     "metadata": {},
     "output_type": "execute_result"
    }
   ],
   "source": [
    "paris_Elysee_accommodates"
   ]
  },
  {
   "cell_type": "code",
   "execution_count": 37,
   "id": "7f8d7f42",
   "metadata": {
    "execution": {
     "iopub.execute_input": "2025-02-10T03:28:18.337767Z",
     "iopub.status.busy": "2025-02-10T03:28:18.337573Z",
     "iopub.status.idle": "2025-02-10T03:28:18.339975Z",
     "shell.execute_reply": "2025-02-10T03:28:18.339421Z"
    },
    "papermill": {
     "duration": 0.015171,
     "end_time": "2025-02-10T03:28:18.341120",
     "exception": false,
     "start_time": "2025-02-10T03:28:18.325949",
     "status": "completed"
    },
    "tags": []
   },
   "outputs": [],
   "source": [
    "# The AirBnB with 14 people accommodates is the expensive, even more expensive the 16 accommodates\n",
    "# the same trend is spotted for 11 and 12 accommodates. Every other accommodation looks reasonable."
   ]
  },
  {
   "cell_type": "markdown",
   "id": "64189f75",
   "metadata": {
    "papermill": {
     "duration": 0.011024,
     "end_time": "2025-02-10T03:28:18.363600",
     "exception": false,
     "start_time": "2025-02-10T03:28:18.352576",
     "status": "completed"
    },
    "tags": []
   },
   "source": [
    "### Possible reasons for this trend\n",
    "1. Owners of properties with 16 people might face occupancy issues due to less number of large groups.\n",
    "2. The ones with 14 people might be a sweet spot for a group having two families travelling.\n",
    "3. There is possibility that more than 16 and 12 occupancy properties are away from hotspots in Elysee.\n",
    "4. There might be potential outliers in 11 and 14 occupancy properties which are skewing the trend."
   ]
  },
  {
   "cell_type": "code",
   "execution_count": 38,
   "id": "6b9622ca",
   "metadata": {
    "execution": {
     "iopub.execute_input": "2025-02-10T03:28:18.386547Z",
     "iopub.status.busy": "2025-02-10T03:28:18.386306Z",
     "iopub.status.idle": "2025-02-10T03:28:18.392651Z",
     "shell.execute_reply": "2025-02-10T03:28:18.392037Z"
    },
    "papermill": {
     "duration": 0.019161,
     "end_time": "2025-02-10T03:28:18.393839",
     "exception": false,
     "start_time": "2025-02-10T03:28:18.374678",
     "status": "completed"
    },
    "tags": []
   },
   "outputs": [
    {
     "data": {
      "text/plain": [
       "3854"
      ]
     },
     "execution_count": 38,
     "metadata": {},
     "output_type": "execute_result"
    }
   ],
   "source": [
    "paris_listings[\"host_since\"].nunique()"
   ]
  },
  {
   "cell_type": "markdown",
   "id": "f99ec7b0",
   "metadata": {
    "papermill": {
     "duration": 0.01159,
     "end_time": "2025-02-10T03:28:18.416724",
     "exception": false,
     "start_time": "2025-02-10T03:28:18.405134",
     "status": "completed"
    },
    "tags": []
   },
   "source": [
    "<div style=\"background-color: #f88379; padding: 25px; border-radius: 10px;\">\n",
    "  <h1 style=\"color: #333;\"><strong>Finding popularity of AirBnB over time</strong></h1>\n",
    "</div>"
   ]
  },
  {
   "cell_type": "code",
   "execution_count": 39,
   "id": "96c43a4b",
   "metadata": {
    "execution": {
     "iopub.execute_input": "2025-02-10T03:28:18.448794Z",
     "iopub.status.busy": "2025-02-10T03:28:18.448410Z",
     "iopub.status.idle": "2025-02-10T03:28:18.487568Z",
     "shell.execute_reply": "2025-02-10T03:28:18.486721Z"
    },
    "papermill": {
     "duration": 0.05483,
     "end_time": "2025-02-10T03:28:18.489367",
     "exception": false,
     "start_time": "2025-02-10T03:28:18.434537",
     "status": "completed"
    },
    "tags": []
   },
   "outputs": [],
   "source": [
    "paris_listings_over_time = paris_listings.set_index(\"host_since\").resample(\"Y\").agg({\"neighbourhood\":\"count\",\"price\":\"mean\"})"
   ]
  },
  {
   "cell_type": "code",
   "execution_count": 40,
   "id": "a291113a",
   "metadata": {
    "execution": {
     "iopub.execute_input": "2025-02-10T03:28:18.514773Z",
     "iopub.status.busy": "2025-02-10T03:28:18.514419Z",
     "iopub.status.idle": "2025-02-10T03:28:18.523945Z",
     "shell.execute_reply": "2025-02-10T03:28:18.523121Z"
    },
    "papermill": {
     "duration": 0.023654,
     "end_time": "2025-02-10T03:28:18.525581",
     "exception": false,
     "start_time": "2025-02-10T03:28:18.501927",
     "status": "completed"
    },
    "tags": []
   },
   "outputs": [
    {
     "data": {
      "text/html": [
       "<div>\n",
       "<style scoped>\n",
       "    .dataframe tbody tr th:only-of-type {\n",
       "        vertical-align: middle;\n",
       "    }\n",
       "\n",
       "    .dataframe tbody tr th {\n",
       "        vertical-align: top;\n",
       "    }\n",
       "\n",
       "    .dataframe thead th {\n",
       "        text-align: right;\n",
       "    }\n",
       "</style>\n",
       "<table border=\"1\" class=\"dataframe\">\n",
       "  <thead>\n",
       "    <tr style=\"text-align: right;\">\n",
       "      <th></th>\n",
       "      <th>neighbourhood</th>\n",
       "      <th>price</th>\n",
       "    </tr>\n",
       "    <tr>\n",
       "      <th>host_since</th>\n",
       "      <th></th>\n",
       "      <th></th>\n",
       "    </tr>\n",
       "  </thead>\n",
       "  <tbody>\n",
       "    <tr>\n",
       "      <th>2008-12-31</th>\n",
       "      <td>4</td>\n",
       "      <td>77.750000</td>\n",
       "    </tr>\n",
       "    <tr>\n",
       "      <th>2009-12-31</th>\n",
       "      <td>106</td>\n",
       "      <td>159.641509</td>\n",
       "    </tr>\n",
       "    <tr>\n",
       "      <th>2010-12-31</th>\n",
       "      <td>416</td>\n",
       "      <td>125.031250</td>\n",
       "    </tr>\n",
       "    <tr>\n",
       "      <th>2011-12-31</th>\n",
       "      <td>1339</td>\n",
       "      <td>124.828230</td>\n",
       "    </tr>\n",
       "    <tr>\n",
       "      <th>2012-12-31</th>\n",
       "      <td>4592</td>\n",
       "      <td>111.578615</td>\n",
       "    </tr>\n",
       "    <tr>\n",
       "      <th>2013-12-31</th>\n",
       "      <td>8142</td>\n",
       "      <td>107.096414</td>\n",
       "    </tr>\n",
       "    <tr>\n",
       "      <th>2014-12-31</th>\n",
       "      <td>10922</td>\n",
       "      <td>100.253800</td>\n",
       "    </tr>\n",
       "    <tr>\n",
       "      <th>2015-12-31</th>\n",
       "      <td>12147</td>\n",
       "      <td>103.646250</td>\n",
       "    </tr>\n",
       "    <tr>\n",
       "      <th>2016-12-31</th>\n",
       "      <td>8867</td>\n",
       "      <td>114.211345</td>\n",
       "    </tr>\n",
       "    <tr>\n",
       "      <th>2017-12-31</th>\n",
       "      <td>4585</td>\n",
       "      <td>108.658888</td>\n",
       "    </tr>\n",
       "    <tr>\n",
       "      <th>2018-12-31</th>\n",
       "      <td>4294</td>\n",
       "      <td>138.209362</td>\n",
       "    </tr>\n",
       "    <tr>\n",
       "      <th>2019-12-31</th>\n",
       "      <td>5685</td>\n",
       "      <td>129.962533</td>\n",
       "    </tr>\n",
       "    <tr>\n",
       "      <th>2020-12-31</th>\n",
       "      <td>3363</td>\n",
       "      <td>143.517098</td>\n",
       "    </tr>\n",
       "    <tr>\n",
       "      <th>2021-12-31</th>\n",
       "      <td>133</td>\n",
       "      <td>93.488722</td>\n",
       "    </tr>\n",
       "  </tbody>\n",
       "</table>\n",
       "</div>"
      ],
      "text/plain": [
       "            neighbourhood       price\n",
       "host_since                           \n",
       "2008-12-31              4   77.750000\n",
       "2009-12-31            106  159.641509\n",
       "2010-12-31            416  125.031250\n",
       "2011-12-31           1339  124.828230\n",
       "2012-12-31           4592  111.578615\n",
       "2013-12-31           8142  107.096414\n",
       "2014-12-31          10922  100.253800\n",
       "2015-12-31          12147  103.646250\n",
       "2016-12-31           8867  114.211345\n",
       "2017-12-31           4585  108.658888\n",
       "2018-12-31           4294  138.209362\n",
       "2019-12-31           5685  129.962533\n",
       "2020-12-31           3363  143.517098\n",
       "2021-12-31            133   93.488722"
      ]
     },
     "execution_count": 40,
     "metadata": {},
     "output_type": "execute_result"
    }
   ],
   "source": [
    "paris_listings_over_time"
   ]
  },
  {
   "cell_type": "code",
   "execution_count": 41,
   "id": "e2dc255b",
   "metadata": {
    "execution": {
     "iopub.execute_input": "2025-02-10T03:28:18.556983Z",
     "iopub.status.busy": "2025-02-10T03:28:18.556746Z",
     "iopub.status.idle": "2025-02-10T03:28:19.908447Z",
     "shell.execute_reply": "2025-02-10T03:28:19.907572Z"
    },
    "papermill": {
     "duration": 1.365739,
     "end_time": "2025-02-10T03:28:19.910135",
     "exception": false,
     "start_time": "2025-02-10T03:28:18.544396",
     "status": "completed"
    },
    "tags": []
   },
   "outputs": [],
   "source": [
    "import matplotlib.pyplot as plt\n",
    "import seaborn as sns"
   ]
  },
  {
   "cell_type": "code",
   "execution_count": 42,
   "id": "e67bd4b5",
   "metadata": {
    "execution": {
     "iopub.execute_input": "2025-02-10T03:28:19.935679Z",
     "iopub.status.busy": "2025-02-10T03:28:19.935273Z",
     "iopub.status.idle": "2025-02-10T03:28:19.943339Z",
     "shell.execute_reply": "2025-02-10T03:28:19.942544Z"
    },
    "papermill": {
     "duration": 0.021851,
     "end_time": "2025-02-10T03:28:19.944652",
     "exception": false,
     "start_time": "2025-02-10T03:28:19.922801",
     "status": "completed"
    },
    "tags": []
   },
   "outputs": [
    {
     "data": {
      "text/html": [
       "<div>\n",
       "<style scoped>\n",
       "    .dataframe tbody tr th:only-of-type {\n",
       "        vertical-align: middle;\n",
       "    }\n",
       "\n",
       "    .dataframe tbody tr th {\n",
       "        vertical-align: top;\n",
       "    }\n",
       "\n",
       "    .dataframe thead th {\n",
       "        text-align: right;\n",
       "    }\n",
       "</style>\n",
       "<table border=\"1\" class=\"dataframe\">\n",
       "  <thead>\n",
       "    <tr style=\"text-align: right;\">\n",
       "      <th></th>\n",
       "      <th>price</th>\n",
       "    </tr>\n",
       "    <tr>\n",
       "      <th>neighbourhood</th>\n",
       "      <th></th>\n",
       "    </tr>\n",
       "  </thead>\n",
       "  <tbody>\n",
       "    <tr>\n",
       "      <th>Elysee</th>\n",
       "      <td>211.37</td>\n",
       "    </tr>\n",
       "    <tr>\n",
       "      <th>Louvre</th>\n",
       "      <td>175.75</td>\n",
       "    </tr>\n",
       "    <tr>\n",
       "      <th>Passy</th>\n",
       "      <td>161.29</td>\n",
       "    </tr>\n",
       "    <tr>\n",
       "      <th>Palais-Bourbon</th>\n",
       "      <td>157.51</td>\n",
       "    </tr>\n",
       "    <tr>\n",
       "      <th>Luxembourg</th>\n",
       "      <td>155.79</td>\n",
       "    </tr>\n",
       "    <tr>\n",
       "      <th>Bourse</th>\n",
       "      <td>149.63</td>\n",
       "    </tr>\n",
       "    <tr>\n",
       "      <th>Hotel-de-Ville</th>\n",
       "      <td>144.52</td>\n",
       "    </tr>\n",
       "    <tr>\n",
       "      <th>Temple</th>\n",
       "      <td>138.43</td>\n",
       "    </tr>\n",
       "    <tr>\n",
       "      <th>Pantheon</th>\n",
       "      <td>122.98</td>\n",
       "    </tr>\n",
       "    <tr>\n",
       "      <th>Opera</th>\n",
       "      <td>119.20</td>\n",
       "    </tr>\n",
       "    <tr>\n",
       "      <th>Vaugirard</th>\n",
       "      <td>107.09</td>\n",
       "    </tr>\n",
       "    <tr>\n",
       "      <th>Enclos-St-Laurent</th>\n",
       "      <td>103.12</td>\n",
       "    </tr>\n",
       "    <tr>\n",
       "      <th>Batignolles-Monceau</th>\n",
       "      <td>102.69</td>\n",
       "    </tr>\n",
       "    <tr>\n",
       "      <th>Observatoire</th>\n",
       "      <td>102.00</td>\n",
       "    </tr>\n",
       "    <tr>\n",
       "      <th>Gobelins</th>\n",
       "      <td>98.11</td>\n",
       "    </tr>\n",
       "    <tr>\n",
       "      <th>Popincourt</th>\n",
       "      <td>90.55</td>\n",
       "    </tr>\n",
       "    <tr>\n",
       "      <th>Reuilly</th>\n",
       "      <td>89.13</td>\n",
       "    </tr>\n",
       "    <tr>\n",
       "      <th>Buttes-Montmartre</th>\n",
       "      <td>87.25</td>\n",
       "    </tr>\n",
       "    <tr>\n",
       "      <th>Buttes-Chaumont</th>\n",
       "      <td>82.69</td>\n",
       "    </tr>\n",
       "    <tr>\n",
       "      <th>Menilmontant</th>\n",
       "      <td>74.93</td>\n",
       "    </tr>\n",
       "  </tbody>\n",
       "</table>\n",
       "</div>"
      ],
      "text/plain": [
       "                      price\n",
       "neighbourhood              \n",
       "Elysee               211.37\n",
       "Louvre               175.75\n",
       "Passy                161.29\n",
       "Palais-Bourbon       157.51\n",
       "Luxembourg           155.79\n",
       "Bourse               149.63\n",
       "Hotel-de-Ville       144.52\n",
       "Temple               138.43\n",
       "Pantheon             122.98\n",
       "Opera                119.20\n",
       "Vaugirard            107.09\n",
       "Enclos-St-Laurent    103.12\n",
       "Batignolles-Monceau  102.69\n",
       "Observatoire         102.00\n",
       "Gobelins              98.11\n",
       "Popincourt            90.55\n",
       "Reuilly               89.13\n",
       "Buttes-Montmartre     87.25\n",
       "Buttes-Chaumont       82.69\n",
       "Menilmontant          74.93"
      ]
     },
     "execution_count": 42,
     "metadata": {},
     "output_type": "execute_result"
    }
   ],
   "source": [
    "paris_listings_neighbourhood"
   ]
  },
  {
   "cell_type": "code",
   "execution_count": 43,
   "id": "0a709f6a",
   "metadata": {
    "execution": {
     "iopub.execute_input": "2025-02-10T03:28:19.969052Z",
     "iopub.status.busy": "2025-02-10T03:28:19.968804Z",
     "iopub.status.idle": "2025-02-10T03:28:20.330675Z",
     "shell.execute_reply": "2025-02-10T03:28:20.329833Z"
    },
    "papermill": {
     "duration": 0.375541,
     "end_time": "2025-02-10T03:28:20.332040",
     "exception": false,
     "start_time": "2025-02-10T03:28:19.956499",
     "status": "completed"
    },
    "tags": []
   },
   "outputs": [
    {
     "data": {
      "image/png": "[encoded data removed]",
      "text/plain": [
       "<Figure size 1200x800 with 1 Axes>"
      ]
     },
     "metadata": {},
     "output_type": "display_data"
    }
   ],
   "source": [
    "plt.figure(figsize = (12,8))\n",
    "sns.barplot(data = paris_listings_neighbourhood,\n",
    "           x = \"price\",\n",
    "           y = paris_listings_neighbourhood.index,\n",
    "           color = \"#E5989B\")\n",
    "plt.title(\"Neighbourhoods in Paris (Premium Localities at the Top!)\")\n",
    "plt.xlabel(\"How Expensive? (Euros)\")\n",
    "plt.ylabel(\"Prominent Places with AirBnBs\")\n",
    "plt.show()"
   ]
  },
  {
   "cell_type": "code",
   "execution_count": 44,
   "id": "9ad7d24c",
   "metadata": {
    "execution": {
     "iopub.execute_input": "2025-02-10T03:28:20.358808Z",
     "iopub.status.busy": "2025-02-10T03:28:20.358556Z",
     "iopub.status.idle": "2025-02-10T03:28:20.361481Z",
     "shell.execute_reply": "2025-02-10T03:28:20.360721Z"
    },
    "papermill": {
     "duration": 0.017569,
     "end_time": "2025-02-10T03:28:20.362856",
     "exception": false,
     "start_time": "2025-02-10T03:28:20.345287",
     "status": "completed"
    },
    "tags": []
   },
   "outputs": [],
   "source": [
    "# Inside of Paris, the price of AirBnBs is directly impacted by the popularity of the tourist place or \n",
    "# the view of Eiffel tower. We need to further see if the prices are increasing when the regulations are imposed."
   ]
  },
  {
   "cell_type": "code",
   "execution_count": 45,
   "id": "c4e95e3f",
   "metadata": {
    "execution": {
     "iopub.execute_input": "2025-02-10T03:28:20.389269Z",
     "iopub.status.busy": "2025-02-10T03:28:20.389049Z",
     "iopub.status.idle": "2025-02-10T03:28:20.396328Z",
     "shell.execute_reply": "2025-02-10T03:28:20.395595Z"
    },
    "papermill": {
     "duration": 0.021791,
     "end_time": "2025-02-10T03:28:20.397542",
     "exception": false,
     "start_time": "2025-02-10T03:28:20.375751",
     "status": "completed"
    },
    "tags": []
   },
   "outputs": [
    {
     "data": {
      "text/html": [
       "<div>\n",
       "<style scoped>\n",
       "    .dataframe tbody tr th:only-of-type {\n",
       "        vertical-align: middle;\n",
       "    }\n",
       "\n",
       "    .dataframe tbody tr th {\n",
       "        vertical-align: top;\n",
       "    }\n",
       "\n",
       "    .dataframe thead th {\n",
       "        text-align: right;\n",
       "    }\n",
       "</style>\n",
       "<table border=\"1\" class=\"dataframe\">\n",
       "  <thead>\n",
       "    <tr style=\"text-align: right;\">\n",
       "      <th></th>\n",
       "      <th>price</th>\n",
       "    </tr>\n",
       "    <tr>\n",
       "      <th>accommodates</th>\n",
       "      <th></th>\n",
       "    </tr>\n",
       "  </thead>\n",
       "  <tbody>\n",
       "    <tr>\n",
       "      <th>14</th>\n",
       "      <td>971.00</td>\n",
       "    </tr>\n",
       "    <tr>\n",
       "      <th>13</th>\n",
       "      <td>842.50</td>\n",
       "    </tr>\n",
       "    <tr>\n",
       "      <th>11</th>\n",
       "      <td>805.00</td>\n",
       "    </tr>\n",
       "    <tr>\n",
       "      <th>16</th>\n",
       "      <td>800.00</td>\n",
       "    </tr>\n",
       "    <tr>\n",
       "      <th>12</th>\n",
       "      <td>529.62</td>\n",
       "    </tr>\n",
       "    <tr>\n",
       "      <th>10</th>\n",
       "      <td>500.86</td>\n",
       "    </tr>\n",
       "    <tr>\n",
       "      <th>9</th>\n",
       "      <td>440.27</td>\n",
       "    </tr>\n",
       "    <tr>\n",
       "      <th>7</th>\n",
       "      <td>411.54</td>\n",
       "    </tr>\n",
       "    <tr>\n",
       "      <th>8</th>\n",
       "      <td>405.52</td>\n",
       "    </tr>\n",
       "    <tr>\n",
       "      <th>6</th>\n",
       "      <td>355.51</td>\n",
       "    </tr>\n",
       "    <tr>\n",
       "      <th>5</th>\n",
       "      <td>328.82</td>\n",
       "    </tr>\n",
       "    <tr>\n",
       "      <th>4</th>\n",
       "      <td>212.10</td>\n",
       "    </tr>\n",
       "    <tr>\n",
       "      <th>2</th>\n",
       "      <td>155.10</td>\n",
       "    </tr>\n",
       "    <tr>\n",
       "      <th>3</th>\n",
       "      <td>153.88</td>\n",
       "    </tr>\n",
       "    <tr>\n",
       "      <th>1</th>\n",
       "      <td>79.52</td>\n",
       "    </tr>\n",
       "  </tbody>\n",
       "</table>\n",
       "</div>"
      ],
      "text/plain": [
       "               price\n",
       "accommodates        \n",
       "14            971.00\n",
       "13            842.50\n",
       "11            805.00\n",
       "16            800.00\n",
       "12            529.62\n",
       "10            500.86\n",
       "9             440.27\n",
       "7             411.54\n",
       "8             405.52\n",
       "6             355.51\n",
       "5             328.82\n",
       "4             212.10\n",
       "2             155.10\n",
       "3             153.88\n",
       "1              79.52"
      ]
     },
     "execution_count": 45,
     "metadata": {},
     "output_type": "execute_result"
    }
   ],
   "source": [
    "paris_Elysee_accommodates"
   ]
  },
  {
   "cell_type": "code",
   "execution_count": 46,
   "id": "e0b3d73c",
   "metadata": {
    "execution": {
     "iopub.execute_input": "2025-02-10T03:28:20.423929Z",
     "iopub.status.busy": "2025-02-10T03:28:20.423728Z",
     "iopub.status.idle": "2025-02-10T03:28:20.649412Z",
     "shell.execute_reply": "2025-02-10T03:28:20.648661Z"
    },
    "papermill": {
     "duration": 0.240392,
     "end_time": "2025-02-10T03:28:20.650854",
     "exception": false,
     "start_time": "2025-02-10T03:28:20.410462",
     "status": "completed"
    },
    "tags": []
   },
   "outputs": [
    {
     "data": {
      "image/png": "[encoded data removed]",
      "text/plain": [
       "<Figure size 1200x800 with 1 Axes>"
      ]
     },
     "metadata": {},
     "output_type": "display_data"
    }
   ],
   "source": [
    "plt.figure(figsize = (12,8))\n",
    "sns.barplot(data = paris_Elysee_accommodates,\n",
    "           x = \"price\",\n",
    "           y = paris_Elysee_accommodates.index,\n",
    "           color = \"green\",\n",
    "           orient = \"h\",\n",
    "           order = paris_Elysee_accommodates.index)\n",
    "plt.title(\"Average Price of AirBnB in Elysee -- vs -- Number of People that can stay\")\n",
    "plt.xlabel(\"Average Price (Euros)\")\n",
    "plt.ylabel(\"Number of People that can stay\")\n",
    "plt.show()"
   ]
  },
  {
   "cell_type": "code",
   "execution_count": 47,
   "id": "fb4706cc",
   "metadata": {
    "execution": {
     "iopub.execute_input": "2025-02-10T03:28:20.680889Z",
     "iopub.status.busy": "2025-02-10T03:28:20.680653Z",
     "iopub.status.idle": "2025-02-10T03:28:20.683321Z",
     "shell.execute_reply": "2025-02-10T03:28:20.682734Z"
    },
    "papermill": {
     "duration": 0.017921,
     "end_time": "2025-02-10T03:28:20.684564",
     "exception": false,
     "start_time": "2025-02-10T03:28:20.666643",
     "status": "completed"
    },
    "tags": []
   },
   "outputs": [],
   "source": [
    "# The AirBnBs with 14 people accomodation is the costliest, even costlier than 16 accomodates. \n",
    "# the same trend is spotted for 11 and 12 accomodates. Every other accomodation looks reasonable."
   ]
  },
  {
   "cell_type": "code",
   "execution_count": 48,
   "id": "e95d7384",
   "metadata": {
    "execution": {
     "iopub.execute_input": "2025-02-10T03:28:20.712124Z",
     "iopub.status.busy": "2025-02-10T03:28:20.711915Z",
     "iopub.status.idle": "2025-02-10T03:28:20.718986Z",
     "shell.execute_reply": "2025-02-10T03:28:20.718215Z"
    },
    "papermill": {
     "duration": 0.022228,
     "end_time": "2025-02-10T03:28:20.720145",
     "exception": false,
     "start_time": "2025-02-10T03:28:20.697917",
     "status": "completed"
    },
    "tags": []
   },
   "outputs": [
    {
     "data": {
      "text/html": [
       "<div>\n",
       "<style scoped>\n",
       "    .dataframe tbody tr th:only-of-type {\n",
       "        vertical-align: middle;\n",
       "    }\n",
       "\n",
       "    .dataframe tbody tr th {\n",
       "        vertical-align: top;\n",
       "    }\n",
       "\n",
       "    .dataframe thead th {\n",
       "        text-align: right;\n",
       "    }\n",
       "</style>\n",
       "<table border=\"1\" class=\"dataframe\">\n",
       "  <thead>\n",
       "    <tr style=\"text-align: right;\">\n",
       "      <th></th>\n",
       "      <th>neighbourhood</th>\n",
       "      <th>price</th>\n",
       "    </tr>\n",
       "    <tr>\n",
       "      <th>host_since</th>\n",
       "      <th></th>\n",
       "      <th></th>\n",
       "    </tr>\n",
       "  </thead>\n",
       "  <tbody>\n",
       "    <tr>\n",
       "      <th>2008-12-31</th>\n",
       "      <td>4</td>\n",
       "      <td>77.750000</td>\n",
       "    </tr>\n",
       "    <tr>\n",
       "      <th>2009-12-31</th>\n",
       "      <td>106</td>\n",
       "      <td>159.641509</td>\n",
       "    </tr>\n",
       "    <tr>\n",
       "      <th>2010-12-31</th>\n",
       "      <td>416</td>\n",
       "      <td>125.031250</td>\n",
       "    </tr>\n",
       "    <tr>\n",
       "      <th>2011-12-31</th>\n",
       "      <td>1339</td>\n",
       "      <td>124.828230</td>\n",
       "    </tr>\n",
       "    <tr>\n",
       "      <th>2012-12-31</th>\n",
       "      <td>4592</td>\n",
       "      <td>111.578615</td>\n",
       "    </tr>\n",
       "    <tr>\n",
       "      <th>2013-12-31</th>\n",
       "      <td>8142</td>\n",
       "      <td>107.096414</td>\n",
       "    </tr>\n",
       "    <tr>\n",
       "      <th>2014-12-31</th>\n",
       "      <td>10922</td>\n",
       "      <td>100.253800</td>\n",
       "    </tr>\n",
       "    <tr>\n",
       "      <th>2015-12-31</th>\n",
       "      <td>12147</td>\n",
       "      <td>103.646250</td>\n",
       "    </tr>\n",
       "    <tr>\n",
       "      <th>2016-12-31</th>\n",
       "      <td>8867</td>\n",
       "      <td>114.211345</td>\n",
       "    </tr>\n",
       "    <tr>\n",
       "      <th>2017-12-31</th>\n",
       "      <td>4585</td>\n",
       "      <td>108.658888</td>\n",
       "    </tr>\n",
       "    <tr>\n",
       "      <th>2018-12-31</th>\n",
       "      <td>4294</td>\n",
       "      <td>138.209362</td>\n",
       "    </tr>\n",
       "    <tr>\n",
       "      <th>2019-12-31</th>\n",
       "      <td>5685</td>\n",
       "      <td>129.962533</td>\n",
       "    </tr>\n",
       "    <tr>\n",
       "      <th>2020-12-31</th>\n",
       "      <td>3363</td>\n",
       "      <td>143.517098</td>\n",
       "    </tr>\n",
       "    <tr>\n",
       "      <th>2021-12-31</th>\n",
       "      <td>133</td>\n",
       "      <td>93.488722</td>\n",
       "    </tr>\n",
       "  </tbody>\n",
       "</table>\n",
       "</div>"
      ],
      "text/plain": [
       "            neighbourhood       price\n",
       "host_since                           \n",
       "2008-12-31              4   77.750000\n",
       "2009-12-31            106  159.641509\n",
       "2010-12-31            416  125.031250\n",
       "2011-12-31           1339  124.828230\n",
       "2012-12-31           4592  111.578615\n",
       "2013-12-31           8142  107.096414\n",
       "2014-12-31          10922  100.253800\n",
       "2015-12-31          12147  103.646250\n",
       "2016-12-31           8867  114.211345\n",
       "2017-12-31           4585  108.658888\n",
       "2018-12-31           4294  138.209362\n",
       "2019-12-31           5685  129.962533\n",
       "2020-12-31           3363  143.517098\n",
       "2021-12-31            133   93.488722"
      ]
     },
     "execution_count": 48,
     "metadata": {},
     "output_type": "execute_result"
    }
   ],
   "source": [
    "paris_listings_over_time"
   ]
  },
  {
   "cell_type": "code",
   "execution_count": 49,
   "id": "540b96d4",
   "metadata": {
    "execution": {
     "iopub.execute_input": "2025-02-10T03:28:20.785386Z",
     "iopub.status.busy": "2025-02-10T03:28:20.785098Z",
     "iopub.status.idle": "2025-02-10T03:28:21.031195Z",
     "shell.execute_reply": "2025-02-10T03:28:21.030414Z"
    },
    "papermill": {
     "duration": 0.298656,
     "end_time": "2025-02-10T03:28:21.032467",
     "exception": false,
     "start_time": "2025-02-10T03:28:20.733811",
     "status": "completed"
    },
    "tags": []
   },
   "outputs": [
    {
     "data": {
      "image/png": "[encoded data removed]",
      "text/plain": [
       "<Figure size 1200x800 with 1 Axes>"
      ]
     },
     "metadata": {},
     "output_type": "display_data"
    }
   ],
   "source": [
    "plt.figure(figsize = (12,8))\n",
    "sns.lineplot(data = paris_listings_over_time[\"neighbourhood\"],color = \"pink\")\n",
    "plt.xlabel(\"Years\")\n",
    "plt.ylabel(\"Number of AirBnBs and Localities\")\n",
    "plt.title(\"Popularity of AirBnBs over time\")\n",
    "plt.grid(True)\n",
    "plt.show()"
   ]
  },
  {
   "cell_type": "code",
   "execution_count": 50,
   "id": "936017b0",
   "metadata": {
    "execution": {
     "iopub.execute_input": "2025-02-10T03:28:21.063459Z",
     "iopub.status.busy": "2025-02-10T03:28:21.063210Z",
     "iopub.status.idle": "2025-02-10T03:28:21.289913Z",
     "shell.execute_reply": "2025-02-10T03:28:21.289092Z"
    },
    "papermill": {
     "duration": 0.243576,
     "end_time": "2025-02-10T03:28:21.291160",
     "exception": false,
     "start_time": "2025-02-10T03:28:21.047584",
     "status": "completed"
    },
    "tags": []
   },
   "outputs": [
    {
     "data": {
      "image/png": "[encoded data removed]",
      "text/plain": [
       "<Figure size 1200x800 with 1 Axes>"
      ]
     },
     "metadata": {},
     "output_type": "display_data"
    }
   ],
   "source": [
    "plt.figure(figsize = (12,8))\n",
    "sns.lineplot(data = paris_listings_over_time[\"price\"],color = \"red\")\n",
    "plt.xlabel(\"Years\")\n",
    "plt.ylabel(\"Average Price\")\n",
    "plt.title(\"Average Price of AirBnBs over time\")\n",
    "plt.grid(True)\n",
    "plt.show()"
   ]
  },
  {
   "cell_type": "markdown",
   "id": "95430cfc",
   "metadata": {
    "papermill": {
     "duration": 0.015234,
     "end_time": "2025-02-10T03:28:21.322440",
     "exception": false,
     "start_time": "2025-02-10T03:28:21.307206",
     "status": "completed"
    },
    "tags": []
   },
   "source": [
    "<div style=\"background-color: #f88379; padding: 25px; border-radius: 10px;\">\n",
    "  <h1 style=\"color: #333;\"><strong>Finding effects of Regulations on AirBnB Business</strong></h1>\n",
    "</div>"
   ]
  },
  {
   "cell_type": "code",
   "execution_count": 51,
   "id": "15f9a5d0",
   "metadata": {
    "execution": {
     "iopub.execute_input": "2025-02-10T03:28:21.353956Z",
     "iopub.status.busy": "2025-02-10T03:28:21.353684Z",
     "iopub.status.idle": "2025-02-10T03:28:21.725758Z",
     "shell.execute_reply": "2025-02-10T03:28:21.724941Z"
    },
    "papermill": {
     "duration": 0.38949,
     "end_time": "2025-02-10T03:28:21.727268",
     "exception": false,
     "start_time": "2025-02-10T03:28:21.337778",
     "status": "completed"
    },
    "tags": []
   },
   "outputs": [
    {
     "data": {
      "image/png": "[encoded data removed]",
      "text/plain": [
       "<Figure size 640x480 with 2 Axes>"
      ]
     },
     "metadata": {},
     "output_type": "display_data"
    }
   ],
   "source": [
    "fig , ax = plt.subplots()\n",
    "\n",
    "ax.plot(paris_listings_over_time.index,paris_listings_over_time[\"neighbourhood\"], label = \"New Hosts\", c = \"pink\")\n",
    "\n",
    "ax.set_ylabel(\"New Hosts\")\n",
    "\n",
    "ax2 = ax.twinx()\n",
    "\n",
    "ax2.plot(paris_listings_over_time.index,paris_listings_over_time[\"price\"], label = \"Average Price\")\n",
    "\n",
    "ax2.set_ylim(0)\n",
    "\n",
    "ax2.set_ylabel(\"Average Price\")\n",
    "\n",
    "ax.set_title(\"Regulations Lead to Fewer New Hosts and Higher Prices\")\n",
    "\n",
    "plt.show()"
   ]
  },
  {
   "cell_type": "markdown",
   "id": "3143f218",
   "metadata": {
    "papermill": {
     "duration": 0.025661,
     "end_time": "2025-02-10T03:28:21.774918",
     "exception": false,
     "start_time": "2025-02-10T03:28:21.749257",
     "status": "completed"
    },
    "tags": []
   },
   "source": [
    "<div style=\"background-color: #f88379; padding: 25px; border-radius: 10px;\">\n",
    "  <h1 style=\"color: #333;\"><strong>Final Insights</strong></h1>\n",
    "</div>"
   ]
  },
  {
   "cell_type": "markdown",
   "id": "43a7120a",
   "metadata": {
    "papermill": {
     "duration": 0.019885,
     "end_time": "2025-02-10T03:28:21.813230",
     "exception": false,
     "start_time": "2025-02-10T03:28:21.793345",
     "status": "completed"
    },
    "tags": []
   },
   "source": [
    "\n",
    "1. The Number of AirBnBs kept on increasing since the launch and prices kept on increasing too, due to initial traction and early adopters.\n",
    "2. After the startup is known to everyone and becomes a common utility, AirBnBs start increasing in numbers and prices also kept on decreasing.\n",
    "3. After regulation was announced around 2015 there was under confidence in the business, number of AirBnBs started decreasing and prices started increasing.\n",
    "4. Once the regulation is the new normal, during the year 2019 the number of AirBnBs have increased in number and prices kept decreasing due to more supply of them."
   ]
  },
  {
   "cell_type": "markdown",
   "id": "0e031246",
   "metadata": {
    "papermill": {
     "duration": 0.016337,
     "end_time": "2025-02-10T03:28:21.846046",
     "exception": false,
     "start_time": "2025-02-10T03:28:21.829709",
     "status": "completed"
    },
    "tags": []
   },
   "source": [
    "<div style=\"background-color: #f88379; padding: 25px; border-radius: 10px;\">\n",
    "  <h1 style=\"color: #333;\"><strong>Recommendation for AirBnB</strong></h1>\n",
    "</div>"
   ]
  },
  {
   "cell_type": "markdown",
   "id": "cf54c412",
   "metadata": {
    "papermill": {
     "duration": 0.016204,
     "end_time": "2025-02-10T03:28:21.878621",
     "exception": false,
     "start_time": "2025-02-10T03:28:21.862417",
     "status": "completed"
    },
    "tags": []
   },
   "source": [
    "\n",
    "1. Regulations in long term rentals can impact the business adversely, there might be customer and hosts churn due to uncertainty.\n",
    "2. Such regulations might add to AirBnBs losses which might be difficult to recover later.\n",
    "3. If the customer experience is going to get impacted due to this, it would lead to incorrect brand perception.\n",
    "4. It is recommended to watch out for any such regulations at other places and be prepared for it.\n",
    "5. AirBnB can replicate such regulations at other places.\n",
    "6. They can keep strict rules to onboard and release the hosts.\n",
    "7. They can limit the number of AirBnBs in a locality to ensure the public has enough rental options and the government doesn't step in."
   ]
  },
  {
   "cell_type": "code",
   "execution_count": null,
   "id": "f44e0b7c",
   "metadata": {
    "papermill": {
     "duration": 0.016198,
     "end_time": "2025-02-10T03:28:21.911028",
     "exception": false,
     "start_time": "2025-02-10T03:28:21.894830",
     "status": "completed"
    },
    "tags": []
   },
   "outputs": [],
   "source": []
  }
 ],
 "metadata": {
  "kaggle": {
   "accelerator": "gpu",
   "dataSources": [
    {
     "datasetId": 1530930,
     "sourceId": 2526818,
     "sourceType": "datasetVersion"
    }
   ],
   "dockerImageVersionId": 30840,
   "isGpuEnabled": true,
   "isInternetEnabled": true,
   "language": "python",
   "sourceType": "notebook"
  },
  "kernelspec": {
   "display_name": "Python 3",
   "language": "python",
   "name": "python3"
  },
  "language_info": {
   "codemirror_mode": {
    "name": "ipython",
    "version": 3
   },
   "file_extension": ".py",
   "mimetype": "text/x-python",
   "name": "python",
   "nbconvert_exporter": "python",
   "pygments_lexer": "ipython3",
   "version": "3.10.12"
  },
  "papermill": {
   "default_parameters": {},
   "duration": 17.045731,
   "end_time": "2025-02-10T03:28:22.445156",
   "environment_variables": {},
   "exception": null,
   "input_path": "__notebook__.ipynb",
   "output_path": "__notebook__.ipynb",
   "parameters": {},
   "start_time": "2025-02-10T03:28:05.399425",
   "version": "2.6.0"
  }
 },
 "nbformat": 4,
 "nbformat_minor": 5
}
