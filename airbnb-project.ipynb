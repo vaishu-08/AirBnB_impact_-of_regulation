{"metadata":{"kernelspec":{"language":"python","display_name":"Python 3","name":"python3"},"language_info":{"name":"python","version":"3.11.11","mimetype":"text/x-python","codemirror_mode":{"name":"ipython","version":3},"pygments_lexer":"ipython3","nbconvert_exporter":"python","file_extension":".py"},"kaggle":{"accelerator":"nvidiaTeslaT4","dataSources":[{"sourceId":2526818,"sourceType":"datasetVersion","datasetId":1530930}],"dockerImageVersionId":31011,"isInternetEnabled":true,"language":"python","sourceType":"notebook","isGpuEnabled":true}},"nbformat_minor":4,"nbformat":4,"cells":[{"cell_type":"code","source":"# This Python 3 environment comes with many helpful analytics libraries installed\n# It is defined by the kaggle/python Docker image: https://github.com/kaggle/docker-python\n# For example, here's several helpful packages to load\n\nimport numpy as np # linear algebra\nimport pandas as pd # data processing, CSV file I/O (e.g. pd.read_csv)\n\n# Input data files are available in the read-only \"../input/\" directory\n# For example, running this (by clicking run or pressing Shift+Enter) will list all files under the input directory\n\nimport os\nfor dirname, _, filenames in os.walk('/kaggle/input'):\n    for filename in filenames:\n        print(os.path.join(dirname, filename))\n\n# You can write up to 20GB to the current directory (/kaggle/working/) that gets preserved as output when you create a version using \"Save & Run All\" \n# You can also write temporary files to /kaggle/temp/, but they won't be saved outside of the current session","metadata":{"_uuid":"8f2839f25d086af736a60e9eeb907d3b93b6e0e5","_cell_guid":"b1076dfc-b9ad-4769-8c92-a6c4dae69d19","trusted":true,"execution":{"iopub.status.busy":"2025-05-11T03:41:06.930158Z","iopub.execute_input":"2025-05-11T03:41:06.930644Z","iopub.status.idle":"2025-05-11T03:41:07.220725Z","shell.execute_reply.started":"2025-05-11T03:41:06.930612Z","shell.execute_reply":"2025-05-11T03:41:07.219825Z"}},"outputs":[{"name":"stdout","text":"/kaggle/input/airbnb-listings-reviews/Airbnb Data/Listings.csv\n/kaggle/input/airbnb-listings-reviews/Airbnb Data/Reviews.csv\n/kaggle/input/airbnb-listings-reviews/Airbnb Data/Reviews_data_dictionary.csv\n/kaggle/input/airbnb-listings-reviews/Airbnb Data/Listings_data_dictionary.csv\n","output_type":"stream"}],"execution_count":2},{"cell_type":"code","source":"reviews_dict = pd.read_csv(r\"/kaggle/input/airbnb-listings-reviews/Airbnb Data/Reviews_data_dictionary.csv\")","metadata":{"trusted":true,"execution":{"iopub.status.busy":"2025-05-11T03:41:07.222092Z","iopub.execute_input":"2025-05-11T03:41:07.222463Z","iopub.status.idle":"2025-05-11T03:41:07.245539Z","shell.execute_reply.started":"2025-05-11T03:41:07.222438Z","shell.execute_reply":"2025-05-11T03:41:07.244728Z"}},"outputs":[],"execution_count":3},{"cell_type":"code","source":"reviews_dict","metadata":{"trusted":true,"execution":{"iopub.status.busy":"2025-05-11T03:41:07.246357Z","iopub.execute_input":"2025-05-11T03:41:07.246592Z","iopub.status.idle":"2025-05-11T03:41:07.272111Z","shell.execute_reply.started":"2025-05-11T03:41:07.246551Z","shell.execute_reply":"2025-05-11T03:41:07.271479Z"}},"outputs":[{"execution_count":4,"output_type":"execute_result","data":{"text/plain":"         Field  Description\n0   listing_id   Listing ID\n1    review_id    Review ID\n2         date  Review date\n3  reviewer_id  Reviewer ID","text/html":"<div>\n<style scoped>\n    .dataframe tbody tr th:only-of-type {\n        vertical-align: middle;\n    }\n\n    .dataframe tbody tr th {\n        vertical-align: top;\n    }\n\n    .dataframe thead th {\n        text-align: right;\n    }\n</style>\n<table border=\"1\" class=\"dataframe\">\n  <thead>\n    <tr style=\"text-align: right;\">\n      <th></th>\n      <th>Field</th>\n      <th>Description</th>\n    </tr>\n  </thead>\n  <tbody>\n    <tr>\n      <th>0</th>\n      <td>listing_id</td>\n      <td>Listing ID</td>\n    </tr>\n    <tr>\n      <th>1</th>\n      <td>review_id</td>\n      <td>Review ID</td>\n    </tr>\n    <tr>\n      <th>2</th>\n      <td>date</td>\n      <td>Review date</td>\n    </tr>\n    <tr>\n      <th>3</th>\n      <td>reviewer_id</td>\n      <td>Reviewer ID</td>\n    </tr>\n  </tbody>\n</table>\n</div>"},"metadata":{}}],"execution_count":4},{"cell_type":"code","source":"reviews = pd.read_csv(r\"/kaggle/input/airbnb-listings-reviews/Airbnb Data/Reviews.csv\")","metadata":{"trusted":true,"execution":{"iopub.status.busy":"2025-05-11T03:41:07.274155Z","iopub.execute_input":"2025-05-11T03:41:07.274371Z","iopub.status.idle":"2025-05-11T03:41:12.851135Z","shell.execute_reply.started":"2025-05-11T03:41:07.274354Z","shell.execute_reply":"2025-05-11T03:41:12.850580Z"}},"outputs":[],"execution_count":5},{"cell_type":"code","source":"reviews.head()","metadata":{"trusted":true,"execution":{"iopub.status.busy":"2025-05-11T03:41:12.851949Z","iopub.execute_input":"2025-05-11T03:41:12.852226Z","iopub.status.idle":"2025-05-11T03:41:12.860331Z","shell.execute_reply.started":"2025-05-11T03:41:12.852203Z","shell.execute_reply":"2025-05-11T03:41:12.859690Z"}},"outputs":[{"execution_count":6,"output_type":"execute_result","data":{"text/plain":"   listing_id  review_id        date  reviewer_id\n0       11798  330265172  2018-09-30     11863072\n1       15383  330103585  2018-09-30     39147453\n2       16455  329985788  2018-09-30      1125378\n3       17919  330016899  2018-09-30    172717984\n4       26827  329995638  2018-09-30     17542859","text/html":"<div>\n<style scoped>\n    .dataframe tbody tr th:only-of-type {\n        vertical-align: middle;\n    }\n\n    .dataframe tbody tr th {\n        vertical-align: top;\n    }\n\n    .dataframe thead th {\n        text-align: right;\n    }\n</style>\n<table border=\"1\" class=\"dataframe\">\n  <thead>\n    <tr style=\"text-align: right;\">\n      <th></th>\n      <th>listing_id</th>\n      <th>review_id</th>\n      <th>date</th>\n      <th>reviewer_id</th>\n    </tr>\n  </thead>\n  <tbody>\n    <tr>\n      <th>0</th>\n      <td>11798</td>\n      <td>330265172</td>\n      <td>2018-09-30</td>\n      <td>11863072</td>\n    </tr>\n    <tr>\n      <th>1</th>\n      <td>15383</td>\n      <td>330103585</td>\n      <td>2018-09-30</td>\n      <td>39147453</td>\n    </tr>\n    <tr>\n      <th>2</th>\n      <td>16455</td>\n      <td>329985788</td>\n      <td>2018-09-30</td>\n      <td>1125378</td>\n    </tr>\n    <tr>\n      <th>3</th>\n      <td>17919</td>\n      <td>330016899</td>\n      <td>2018-09-30</td>\n      <td>172717984</td>\n    </tr>\n    <tr>\n      <th>4</th>\n      <td>26827</td>\n      <td>329995638</td>\n      <td>2018-09-30</td>\n      <td>17542859</td>\n    </tr>\n  </tbody>\n</table>\n</div>"},"metadata":{}}],"execution_count":6},{"cell_type":"code","source":"listing_dict = pd.read_csv(r\"/kaggle/input/airbnb-listings-reviews/Airbnb Data/Listings_data_dictionary.csv\")","metadata":{"trusted":true,"execution":{"iopub.status.busy":"2025-05-11T03:41:12.861104Z","iopub.execute_input":"2025-05-11T03:41:12.861412Z","iopub.status.idle":"2025-05-11T03:41:12.897164Z","shell.execute_reply.started":"2025-05-11T03:41:12.861391Z","shell.execute_reply":"2025-05-11T03:41:12.896526Z"}},"outputs":[],"execution_count":7},{"cell_type":"code","source":"listing_dict","metadata":{"trusted":true,"execution":{"iopub.status.busy":"2025-05-11T03:41:12.897865Z","iopub.execute_input":"2025-05-11T03:41:12.898049Z","iopub.status.idle":"2025-05-11T03:41:12.905496Z","shell.execute_reply.started":"2025-05-11T03:41:12.898034Z","shell.execute_reply":"2025-05-11T03:41:12.904963Z"}},"outputs":[{"execution_count":8,"output_type":"execute_result","data":{"text/plain":"                          Field  \\\n0                    listing_id   \n1                          name   \n2                       host_id   \n3                    host_since   \n4                 host_location   \n5            host_response_time   \n6            host_response_rate   \n7          host_acceptance_rate   \n8             host_is_superhost   \n9     host_total_listings_count   \n10         host_has_profile_pic   \n11       host_identity_verified   \n12                neighbourhood   \n13                     district   \n14                         city   \n15                     latitude   \n16                    longitude   \n17                property_type   \n18                    room_type   \n19                 accommodates   \n20                     bedrooms   \n21                    amenities   \n22                        price   \n23               minimum_nights   \n24               maximum_nights   \n25         review_scores_rating   \n26       review_scores_accuracy   \n27    review_scores_cleanliness   \n28        review_scores_checkin   \n29  review_scores_communication   \n30       review_scores_location   \n31          review_scores_value   \n32             instant_bookable   \n\n                                          Description  \n0                                          Listing ID  \n1                                        Listing Name  \n2                                             Host ID  \n3                         Date the Host joined Airbnb  \n4                    Location where the Host is based  \n5      Estimate of how long the Host takes to respond  \n6               Percentage of times the Host responds  \n7   Percentage of times the Host accepts a booking...  \n8   Binary field to determine if the Host is a Sup...  \n9               Total listings the Host has in Airbnb  \n10  Binary field to determine if the Host has a pr...  \n11  Binary field to determine if the Host has a ve...  \n12                     Neighborhood the Listing is in  \n13                         District the Listing is in  \n14                             City the Listing is in  \n15                                 Listing's latitude  \n16                                Listing's longitude  \n17                   Type of property for the Listing  \n18        Type of room type in Airbnb for the Listing  \n19                     Guests the Listing accomodates  \n20                            Bedrooms in the Listing  \n21                     Amenities the Listing includes  \n22         Listing price (in each country's currency)  \n23                         Minimum nights per booking  \n24                         Maximum nights per booking  \n25              Listing's overall rating (out of 100)  \n26  Listing's accuracy score based on what's promo...  \n27            Listing's cleanliness score (out of 10)  \n28    Listing's check-in experience score (out of 10)  \n29  Listing's communication with the Host score (o...  \n30  Listing's location score within the city (out ...  \n31  Listing's value score relative to its price (o...  \n32  Binary field to determine if the Listing can b...  ","text/html":"<div>\n<style scoped>\n    .dataframe tbody tr th:only-of-type {\n        vertical-align: middle;\n    }\n\n    .dataframe tbody tr th {\n        vertical-align: top;\n    }\n\n    .dataframe thead th {\n        text-align: right;\n    }\n</style>\n<table border=\"1\" class=\"dataframe\">\n  <thead>\n    <tr style=\"text-align: right;\">\n      <th></th>\n      <th>Field</th>\n      <th>Description</th>\n    </tr>\n  </thead>\n  <tbody>\n    <tr>\n      <th>0</th>\n      <td>listing_id</td>\n      <td>Listing ID</td>\n    </tr>\n    <tr>\n      <th>1</th>\n      <td>name</td>\n      <td>Listing Name</td>\n    </tr>\n    <tr>\n      <th>2</th>\n      <td>host_id</td>\n      <td>Host ID</td>\n    </tr>\n    <tr>\n      <th>3</th>\n      <td>host_since</td>\n      <td>Date the Host joined Airbnb</td>\n    </tr>\n    <tr>\n      <th>4</th>\n      <td>host_location</td>\n      <td>Location where the Host is based</td>\n    </tr>\n    <tr>\n      <th>5</th>\n      <td>host_response_time</td>\n      <td>Estimate of how long the Host takes to respond</td>\n    </tr>\n    <tr>\n      <th>6</th>\n      <td>host_response_rate</td>\n      <td>Percentage of times the Host responds</td>\n    </tr>\n    <tr>\n      <th>7</th>\n      <td>host_acceptance_rate</td>\n      <td>Percentage of times the Host accepts a booking...</td>\n    </tr>\n    <tr>\n      <th>8</th>\n      <td>host_is_superhost</td>\n      <td>Binary field to determine if the Host is a Sup...</td>\n    </tr>\n    <tr>\n      <th>9</th>\n      <td>host_total_listings_count</td>\n      <td>Total listings the Host has in Airbnb</td>\n    </tr>\n    <tr>\n      <th>10</th>\n      <td>host_has_profile_pic</td>\n      <td>Binary field to determine if the Host has a pr...</td>\n    </tr>\n    <tr>\n      <th>11</th>\n      <td>host_identity_verified</td>\n      <td>Binary field to determine if the Host has a ve...</td>\n    </tr>\n    <tr>\n      <th>12</th>\n      <td>neighbourhood</td>\n      <td>Neighborhood the Listing is in</td>\n    </tr>\n    <tr>\n      <th>13</th>\n      <td>district</td>\n      <td>District the Listing is in</td>\n    </tr>\n    <tr>\n      <th>14</th>\n      <td>city</td>\n      <td>City the Listing is in</td>\n    </tr>\n    <tr>\n      <th>15</th>\n      <td>latitude</td>\n      <td>Listing's latitude</td>\n    </tr>\n    <tr>\n      <th>16</th>\n      <td>longitude</td>\n      <td>Listing's longitude</td>\n    </tr>\n    <tr>\n      <th>17</th>\n      <td>property_type</td>\n      <td>Type of property for the Listing</td>\n    </tr>\n    <tr>\n      <th>18</th>\n      <td>room_type</td>\n      <td>Type of room type in Airbnb for the Listing</td>\n    </tr>\n    <tr>\n      <th>19</th>\n      <td>accommodates</td>\n      <td>Guests the Listing accomodates</td>\n    </tr>\n    <tr>\n      <th>20</th>\n      <td>bedrooms</td>\n      <td>Bedrooms in the Listing</td>\n    </tr>\n    <tr>\n      <th>21</th>\n      <td>amenities</td>\n      <td>Amenities the Listing includes</td>\n    </tr>\n    <tr>\n      <th>22</th>\n      <td>price</td>\n      <td>Listing price (in each country's currency)</td>\n    </tr>\n    <tr>\n      <th>23</th>\n      <td>minimum_nights</td>\n      <td>Minimum nights per booking</td>\n    </tr>\n    <tr>\n      <th>24</th>\n      <td>maximum_nights</td>\n      <td>Maximum nights per booking</td>\n    </tr>\n    <tr>\n      <th>25</th>\n      <td>review_scores_rating</td>\n      <td>Listing's overall rating (out of 100)</td>\n    </tr>\n    <tr>\n      <th>26</th>\n      <td>review_scores_accuracy</td>\n      <td>Listing's accuracy score based on what's promo...</td>\n    </tr>\n    <tr>\n      <th>27</th>\n      <td>review_scores_cleanliness</td>\n      <td>Listing's cleanliness score (out of 10)</td>\n    </tr>\n    <tr>\n      <th>28</th>\n      <td>review_scores_checkin</td>\n      <td>Listing's check-in experience score (out of 10)</td>\n    </tr>\n    <tr>\n      <th>29</th>\n      <td>review_scores_communication</td>\n      <td>Listing's communication with the Host score (o...</td>\n    </tr>\n    <tr>\n      <th>30</th>\n      <td>review_scores_location</td>\n      <td>Listing's location score within the city (out ...</td>\n    </tr>\n    <tr>\n      <th>31</th>\n      <td>review_scores_value</td>\n      <td>Listing's value score relative to its price (o...</td>\n    </tr>\n    <tr>\n      <th>32</th>\n      <td>instant_bookable</td>\n      <td>Binary field to determine if the Listing can b...</td>\n    </tr>\n  </tbody>\n</table>\n</div>"},"metadata":{}}],"execution_count":8},{"cell_type":"code","source":"listing = pd.read_csv(r\"/kaggle/input/airbnb-listings-reviews/Airbnb Data/Listings.csv\",\n                     encoding = \"ISO-8859-1\",low_memory=False)","metadata":{"trusted":true,"execution":{"iopub.status.busy":"2025-05-11T03:41:12.906127Z","iopub.execute_input":"2025-05-11T03:41:12.906319Z","iopub.status.idle":"2025-05-11T03:41:18.323202Z","shell.execute_reply.started":"2025-05-11T03:41:12.906298Z","shell.execute_reply":"2025-05-11T03:41:18.322606Z"}},"outputs":[],"execution_count":9},{"cell_type":"code","source":"import warnings\nwarnings.filterwarnings(\"ignore\")","metadata":{"trusted":true,"execution":{"iopub.status.busy":"2025-05-11T03:41:18.323892Z","iopub.execute_input":"2025-05-11T03:41:18.324081Z","iopub.status.idle":"2025-05-11T03:41:18.327856Z","shell.execute_reply.started":"2025-05-11T03:41:18.324066Z","shell.execute_reply":"2025-05-11T03:41:18.327018Z"}},"outputs":[],"execution_count":10},{"cell_type":"code","source":"listing.head()","metadata":{"trusted":true,"execution":{"iopub.status.busy":"2025-05-11T03:41:18.330970Z","iopub.execute_input":"2025-05-11T03:41:18.331176Z","iopub.status.idle":"2025-05-11T03:41:18.400159Z","shell.execute_reply.started":"2025-05-11T03:41:18.331160Z","shell.execute_reply":"2025-05-11T03:41:18.399453Z"}},"outputs":[{"execution_count":11,"output_type":"execute_result","data":{"text/plain":"   listing_id                                              name   host_id  \\\n0      281420    Beautiful Flat in le Village Montmartre, Paris   1466919   \n1     3705183                   39 mÃÂ² Paris (Sacre CÃ\nâur)  10328771   \n2     4082273               Lovely apartment with Terrace, 60m2  19252768   \n3     4797344               Cosy studio (close to Eiffel tower)  10668311   \n4     4823489  Close to Eiffel Tower - Beautiful flat : 2 rooms  24837558   \n\n   host_since                 host_location host_response_time  \\\n0  2011-12-03  Paris, Ile-de-France, France                NaN   \n1  2013-11-29  Paris, Ile-de-France, France                NaN   \n2  2014-07-31  Paris, Ile-de-France, France                NaN   \n3  2013-12-17  Paris, Ile-de-France, France                NaN   \n4  2014-12-14  Paris, Ile-de-France, France                NaN   \n\n   host_response_rate  host_acceptance_rate host_is_superhost  \\\n0                 NaN                   NaN                 f   \n1                 NaN                   NaN                 f   \n2                 NaN                   NaN                 f   \n3                 NaN                   NaN                 f   \n4                 NaN                   NaN                 f   \n\n   host_total_listings_count  ... minimum_nights maximum_nights  \\\n0                        1.0  ...              2           1125   \n1                        1.0  ...              2           1125   \n2                        1.0  ...              2           1125   \n3                        1.0  ...              2           1125   \n4                        1.0  ...              2           1125   \n\n  review_scores_rating review_scores_accuracy review_scores_cleanliness  \\\n0                100.0                   10.0                      10.0   \n1                100.0                   10.0                      10.0   \n2                100.0                   10.0                      10.0   \n3                100.0                   10.0                      10.0   \n4                100.0                   10.0                      10.0   \n\n   review_scores_checkin  review_scores_communication review_scores_location  \\\n0                   10.0                         10.0                   10.0   \n1                   10.0                         10.0                   10.0   \n2                   10.0                         10.0                   10.0   \n3                   10.0                         10.0                   10.0   \n4                   10.0                         10.0                   10.0   \n\n  review_scores_value  instant_bookable  \n0                10.0                 f  \n1                10.0                 f  \n2                10.0                 f  \n3                10.0                 f  \n4                10.0                 f  \n\n[5 rows x 33 columns]","text/html":"<div>\n<style scoped>\n    .dataframe tbody tr th:only-of-type {\n        vertical-align: middle;\n    }\n\n    .dataframe tbody tr th {\n        vertical-align: top;\n    }\n\n    .dataframe thead th {\n        text-align: right;\n    }\n</style>\n<table border=\"1\" class=\"dataframe\">\n  <thead>\n    <tr style=\"text-align: right;\">\n      <th></th>\n      <th>listing_id</th>\n      <th>name</th>\n      <th>host_id</th>\n      <th>host_since</th>\n      <th>host_location</th>\n      <th>host_response_time</th>\n      <th>host_response_rate</th>\n      <th>host_acceptance_rate</th>\n      <th>host_is_superhost</th>\n      <th>host_total_listings_count</th>\n      <th>...</th>\n      <th>minimum_nights</th>\n      <th>maximum_nights</th>\n      <th>review_scores_rating</th>\n      <th>review_scores_accuracy</th>\n      <th>review_scores_cleanliness</th>\n      <th>review_scores_checkin</th>\n      <th>review_scores_communication</th>\n      <th>review_scores_location</th>\n      <th>review_scores_value</th>\n      <th>instant_bookable</th>\n    </tr>\n  </thead>\n  <tbody>\n    <tr>\n      <th>0</th>\n      <td>281420</td>\n      <td>Beautiful Flat in le Village Montmartre, Paris</td>\n      <td>1466919</td>\n      <td>2011-12-03</td>\n      <td>Paris, Ile-de-France, France</td>\n      <td>NaN</td>\n      <td>NaN</td>\n      <td>NaN</td>\n      <td>f</td>\n      <td>1.0</td>\n      <td>...</td>\n      <td>2</td>\n      <td>1125</td>\n      <td>100.0</td>\n      <td>10.0</td>\n      <td>10.0</td>\n      <td>10.0</td>\n      <td>10.0</td>\n      <td>10.0</td>\n      <td>10.0</td>\n      <td>f</td>\n    </tr>\n    <tr>\n      <th>1</th>\n      <td>3705183</td>\n      <td>39 mÃÂ² Paris (Sacre CÃâur)</td>\n      <td>10328771</td>\n      <td>2013-11-29</td>\n      <td>Paris, Ile-de-France, France</td>\n      <td>NaN</td>\n      <td>NaN</td>\n      <td>NaN</td>\n      <td>f</td>\n      <td>1.0</td>\n      <td>...</td>\n      <td>2</td>\n      <td>1125</td>\n      <td>100.0</td>\n      <td>10.0</td>\n      <td>10.0</td>\n      <td>10.0</td>\n      <td>10.0</td>\n      <td>10.0</td>\n      <td>10.0</td>\n      <td>f</td>\n    </tr>\n    <tr>\n      <th>2</th>\n      <td>4082273</td>\n      <td>Lovely apartment with Terrace, 60m2</td>\n      <td>19252768</td>\n      <td>2014-07-31</td>\n      <td>Paris, Ile-de-France, France</td>\n      <td>NaN</td>\n      <td>NaN</td>\n      <td>NaN</td>\n      <td>f</td>\n      <td>1.0</td>\n      <td>...</td>\n      <td>2</td>\n      <td>1125</td>\n      <td>100.0</td>\n      <td>10.0</td>\n      <td>10.0</td>\n      <td>10.0</td>\n      <td>10.0</td>\n      <td>10.0</td>\n      <td>10.0</td>\n      <td>f</td>\n    </tr>\n    <tr>\n      <th>3</th>\n      <td>4797344</td>\n      <td>Cosy studio (close to Eiffel tower)</td>\n      <td>10668311</td>\n      <td>2013-12-17</td>\n      <td>Paris, Ile-de-France, France</td>\n      <td>NaN</td>\n      <td>NaN</td>\n      <td>NaN</td>\n      <td>f</td>\n      <td>1.0</td>\n      <td>...</td>\n      <td>2</td>\n      <td>1125</td>\n      <td>100.0</td>\n      <td>10.0</td>\n      <td>10.0</td>\n      <td>10.0</td>\n      <td>10.0</td>\n      <td>10.0</td>\n      <td>10.0</td>\n      <td>f</td>\n    </tr>\n    <tr>\n      <th>4</th>\n      <td>4823489</td>\n      <td>Close to Eiffel Tower - Beautiful flat : 2 rooms</td>\n      <td>24837558</td>\n      <td>2014-12-14</td>\n      <td>Paris, Ile-de-France, France</td>\n      <td>NaN</td>\n      <td>NaN</td>\n      <td>NaN</td>\n      <td>f</td>\n      <td>1.0</td>\n      <td>...</td>\n      <td>2</td>\n      <td>1125</td>\n      <td>100.0</td>\n      <td>10.0</td>\n      <td>10.0</td>\n      <td>10.0</td>\n      <td>10.0</td>\n      <td>10.0</td>\n      <td>10.0</td>\n      <td>f</td>\n    </tr>\n  </tbody>\n</table>\n<p>5 rows × 33 columns</p>\n</div>"},"metadata":{}}],"execution_count":11},{"cell_type":"code","source":"listing.info()","metadata":{"trusted":true,"execution":{"iopub.status.busy":"2025-05-11T03:41:18.400879Z","iopub.execute_input":"2025-05-11T03:41:18.401083Z","iopub.status.idle":"2025-05-11T03:41:18.633604Z","shell.execute_reply.started":"2025-05-11T03:41:18.401067Z","shell.execute_reply":"2025-05-11T03:41:18.632980Z"}},"outputs":[{"name":"stdout","text":"<class 'pandas.core.frame.DataFrame'>\nRangeIndex: 279712 entries, 0 to 279711\nData columns (total 33 columns):\n #   Column                       Non-Null Count   Dtype  \n---  ------                       --------------   -----  \n 0   listing_id                   279712 non-null  int64  \n 1   name                         279537 non-null  object \n 2   host_id                      279712 non-null  int64  \n 3   host_since                   279547 non-null  object \n 4   host_location                278872 non-null  object \n 5   host_response_time           150930 non-null  object \n 6   host_response_rate           150930 non-null  float64\n 7   host_acceptance_rate         166625 non-null  float64\n 8   host_is_superhost            279547 non-null  object \n 9   host_total_listings_count    279547 non-null  float64\n 10  host_has_profile_pic         279547 non-null  object \n 11  host_identity_verified       279547 non-null  object \n 12  neighbourhood                279712 non-null  object \n 13  district                     37012 non-null   object \n 14  city                         279712 non-null  object \n 15  latitude                     279712 non-null  float64\n 16  longitude                    279712 non-null  float64\n 17  property_type                279712 non-null  object \n 18  room_type                    279712 non-null  object \n 19  accommodates                 279712 non-null  int64  \n 20  bedrooms                     250277 non-null  float64\n 21  amenities                    279712 non-null  object \n 22  price                        279712 non-null  int64  \n 23  minimum_nights               279712 non-null  int64  \n 24  maximum_nights               279712 non-null  int64  \n 25  review_scores_rating         188307 non-null  float64\n 26  review_scores_accuracy       187999 non-null  float64\n 27  review_scores_cleanliness    188047 non-null  float64\n 28  review_scores_checkin        187941 non-null  float64\n 29  review_scores_communication  188025 non-null  float64\n 30  review_scores_location       187937 non-null  float64\n 31  review_scores_value          187927 non-null  float64\n 32  instant_bookable             279712 non-null  object \ndtypes: float64(13), int64(6), object(14)\nmemory usage: 70.4+ MB\n","output_type":"stream"}],"execution_count":12},{"cell_type":"code","source":"listing[\"host_since\"] = pd.to_datetime(listing[\"host_since\"])","metadata":{"trusted":true,"execution":{"iopub.status.busy":"2025-05-11T03:41:18.634256Z","iopub.execute_input":"2025-05-11T03:41:18.634701Z","iopub.status.idle":"2025-05-11T03:41:18.685219Z","shell.execute_reply.started":"2025-05-11T03:41:18.634677Z","shell.execute_reply":"2025-05-11T03:41:18.684534Z"}},"outputs":[],"execution_count":13},{"cell_type":"code","source":"listing.info()","metadata":{"trusted":true,"execution":{"iopub.status.busy":"2025-05-11T03:41:18.686055Z","iopub.execute_input":"2025-05-11T03:41:18.686271Z","iopub.status.idle":"2025-05-11T03:41:18.887575Z","shell.execute_reply.started":"2025-05-11T03:41:18.686248Z","shell.execute_reply":"2025-05-11T03:41:18.887006Z"}},"outputs":[{"name":"stdout","text":"<class 'pandas.core.frame.DataFrame'>\nRangeIndex: 279712 entries, 0 to 279711\nData columns (total 33 columns):\n #   Column                       Non-Null Count   Dtype         \n---  ------                       --------------   -----         \n 0   listing_id                   279712 non-null  int64         \n 1   name                         279537 non-null  object        \n 2   host_id                      279712 non-null  int64         \n 3   host_since                   279547 non-null  datetime64[ns]\n 4   host_location                278872 non-null  object        \n 5   host_response_time           150930 non-null  object        \n 6   host_response_rate           150930 non-null  float64       \n 7   host_acceptance_rate         166625 non-null  float64       \n 8   host_is_superhost            279547 non-null  object        \n 9   host_total_listings_count    279547 non-null  float64       \n 10  host_has_profile_pic         279547 non-null  object        \n 11  host_identity_verified       279547 non-null  object        \n 12  neighbourhood                279712 non-null  object        \n 13  district                     37012 non-null   object        \n 14  city                         279712 non-null  object        \n 15  latitude                     279712 non-null  float64       \n 16  longitude                    279712 non-null  float64       \n 17  property_type                279712 non-null  object        \n 18  room_type                    279712 non-null  object        \n 19  accommodates                 279712 non-null  int64         \n 20  bedrooms                     250277 non-null  float64       \n 21  amenities                    279712 non-null  object        \n 22  price                        279712 non-null  int64         \n 23  minimum_nights               279712 non-null  int64         \n 24  maximum_nights               279712 non-null  int64         \n 25  review_scores_rating         188307 non-null  float64       \n 26  review_scores_accuracy       187999 non-null  float64       \n 27  review_scores_cleanliness    188047 non-null  float64       \n 28  review_scores_checkin        187941 non-null  float64       \n 29  review_scores_communication  188025 non-null  float64       \n 30  review_scores_location       187937 non-null  float64       \n 31  review_scores_value          187927 non-null  float64       \n 32  instant_bookable             279712 non-null  object        \ndtypes: datetime64[ns](1), float64(13), int64(6), object(13)\nmemory usage: 70.4+ MB\n","output_type":"stream"}],"execution_count":14},{"cell_type":"code","source":"listing[\"city\"].value_counts()","metadata":{"trusted":true,"execution":{"iopub.status.busy":"2025-05-11T03:41:18.888215Z","iopub.execute_input":"2025-05-11T03:41:18.888460Z","iopub.status.idle":"2025-05-11T03:41:18.906974Z","shell.execute_reply.started":"2025-05-11T03:41:18.888439Z","shell.execute_reply":"2025-05-11T03:41:18.906309Z"}},"outputs":[{"execution_count":15,"output_type":"execute_result","data":{"text/plain":"city\nParis             64690\nNew York          37012\nSydney            33630\nRome              27647\nRio de Janeiro    26615\nIstanbul          24519\nMexico City       20065\nBangkok           19361\nCape Town         19086\nHong Kong          7087\nName: count, dtype: int64"},"metadata":{}}],"execution_count":15},{"cell_type":"code","source":"paris_listings = listing.query(\"city == 'Paris'\").loc[:,[\"host_since\",\"neighbourhood\",\"city\",\"accommodates\",\"price\"]]","metadata":{"trusted":true,"execution":{"iopub.status.busy":"2025-05-11T03:41:18.907790Z","iopub.execute_input":"2025-05-11T03:41:18.908248Z","iopub.status.idle":"2025-05-11T03:41:18.960160Z","shell.execute_reply.started":"2025-05-11T03:41:18.908231Z","shell.execute_reply":"2025-05-11T03:41:18.959349Z"}},"outputs":[],"execution_count":16},{"cell_type":"code","source":"paris_listings.info()","metadata":{"trusted":true,"execution":{"iopub.status.busy":"2025-05-11T03:41:18.961016Z","iopub.execute_input":"2025-05-11T03:41:18.961208Z","iopub.status.idle":"2025-05-11T03:41:18.976660Z","shell.execute_reply.started":"2025-05-11T03:41:18.961192Z","shell.execute_reply":"2025-05-11T03:41:18.975856Z"}},"outputs":[{"name":"stdout","text":"<class 'pandas.core.frame.DataFrame'>\nIndex: 64690 entries, 0 to 279711\nData columns (total 5 columns):\n #   Column         Non-Null Count  Dtype         \n---  ------         --------------  -----         \n 0   host_since     64657 non-null  datetime64[ns]\n 1   neighbourhood  64690 non-null  object        \n 2   city           64690 non-null  object        \n 3   accommodates   64690 non-null  int64         \n 4   price          64690 non-null  int64         \ndtypes: datetime64[ns](1), int64(2), object(2)\nmemory usage: 3.0+ MB\n","output_type":"stream"}],"execution_count":17},{"cell_type":"code","source":"paris_listings.head()","metadata":{"trusted":true,"execution":{"iopub.status.busy":"2025-05-11T03:41:18.977555Z","iopub.execute_input":"2025-05-11T03:41:18.977883Z","iopub.status.idle":"2025-05-11T03:41:19.000478Z","shell.execute_reply.started":"2025-05-11T03:41:18.977856Z","shell.execute_reply":"2025-05-11T03:41:18.999907Z"}},"outputs":[{"execution_count":18,"output_type":"execute_result","data":{"text/plain":"  host_since      neighbourhood   city  accommodates  price\n0 2011-12-03  Buttes-Montmartre  Paris             2     53\n1 2013-11-29  Buttes-Montmartre  Paris             2    120\n2 2014-07-31             Elysee  Paris             2     89\n3 2013-12-17          Vaugirard  Paris             2     58\n4 2014-12-14              Passy  Paris             2     60","text/html":"<div>\n<style scoped>\n    .dataframe tbody tr th:only-of-type {\n        vertical-align: middle;\n    }\n\n    .dataframe tbody tr th {\n        vertical-align: top;\n    }\n\n    .dataframe thead th {\n        text-align: right;\n    }\n</style>\n<table border=\"1\" class=\"dataframe\">\n  <thead>\n    <tr style=\"text-align: right;\">\n      <th></th>\n      <th>host_since</th>\n      <th>neighbourhood</th>\n      <th>city</th>\n      <th>accommodates</th>\n      <th>price</th>\n    </tr>\n  </thead>\n  <tbody>\n    <tr>\n      <th>0</th>\n      <td>2011-12-03</td>\n      <td>Buttes-Montmartre</td>\n      <td>Paris</td>\n      <td>2</td>\n      <td>53</td>\n    </tr>\n    <tr>\n      <th>1</th>\n      <td>2013-11-29</td>\n      <td>Buttes-Montmartre</td>\n      <td>Paris</td>\n      <td>2</td>\n      <td>120</td>\n    </tr>\n    <tr>\n      <th>2</th>\n      <td>2014-07-31</td>\n      <td>Elysee</td>\n      <td>Paris</td>\n      <td>2</td>\n      <td>89</td>\n    </tr>\n    <tr>\n      <th>3</th>\n      <td>2013-12-17</td>\n      <td>Vaugirard</td>\n      <td>Paris</td>\n      <td>2</td>\n      <td>58</td>\n    </tr>\n    <tr>\n      <th>4</th>\n      <td>2014-12-14</td>\n      <td>Passy</td>\n      <td>Paris</td>\n      <td>2</td>\n      <td>60</td>\n    </tr>\n  </tbody>\n</table>\n</div>"},"metadata":{}}],"execution_count":18},{"cell_type":"code","source":"paris_listings.isna().sum()","metadata":{"trusted":true,"execution":{"iopub.status.busy":"2025-05-11T03:41:19.001182Z","iopub.execute_input":"2025-05-11T03:41:19.001399Z","iopub.status.idle":"2025-05-11T03:41:19.024403Z","shell.execute_reply.started":"2025-05-11T03:41:19.001377Z","shell.execute_reply":"2025-05-11T03:41:19.023950Z"}},"outputs":[{"execution_count":19,"output_type":"execute_result","data":{"text/plain":"host_since       33\nneighbourhood     0\ncity              0\naccommodates      0\nprice             0\ndtype: int64"},"metadata":{}}],"execution_count":19},{"cell_type":"raw","source":"paris_listings.dropna()","metadata":{}},{"cell_type":"code","source":"paris_listings.dropna(how = \"any\",inplace = True)","metadata":{"trusted":true,"execution":{"iopub.status.busy":"2025-05-11T03:41:19.025274Z","iopub.execute_input":"2025-05-11T03:41:19.025549Z","iopub.status.idle":"2025-05-11T03:41:19.047290Z","shell.execute_reply.started":"2025-05-11T03:41:19.025523Z","shell.execute_reply":"2025-05-11T03:41:19.046679Z"}},"outputs":[],"execution_count":20},{"cell_type":"raw","source":"paris_listings.info()","metadata":{}},{"cell_type":"code","source":"paris_listings.info()","metadata":{"trusted":true,"execution":{"iopub.status.busy":"2025-05-11T03:41:19.047953Z","iopub.execute_input":"2025-05-11T03:41:19.048134Z","iopub.status.idle":"2025-05-11T03:41:19.073288Z","shell.execute_reply.started":"2025-05-11T03:41:19.048118Z","shell.execute_reply":"2025-05-11T03:41:19.072618Z"}},"outputs":[{"name":"stdout","text":"<class 'pandas.core.frame.DataFrame'>\nIndex: 64657 entries, 0 to 279711\nData columns (total 5 columns):\n #   Column         Non-Null Count  Dtype         \n---  ------         --------------  -----         \n 0   host_since     64657 non-null  datetime64[ns]\n 1   neighbourhood  64657 non-null  object        \n 2   city           64657 non-null  object        \n 3   accommodates   64657 non-null  int64         \n 4   price          64657 non-null  int64         \ndtypes: datetime64[ns](1), int64(2), object(2)\nmemory usage: 3.0+ MB\n","output_type":"stream"}],"execution_count":21},{"cell_type":"code","source":"paris_listings.describe()","metadata":{"trusted":true,"execution":{"iopub.status.busy":"2025-05-11T03:41:19.073960Z","iopub.execute_input":"2025-05-11T03:41:19.074189Z","iopub.status.idle":"2025-05-11T03:41:19.112099Z","shell.execute_reply.started":"2025-05-11T03:41:19.074174Z","shell.execute_reply":"2025-05-11T03:41:19.111581Z"}},"outputs":[{"execution_count":22,"output_type":"execute_result","data":{"text/plain":"                          host_since  accommodates         price\ncount                          64657  64657.000000  64657.000000\nmean   2015-11-01 11:06:05.528867584      3.037877    113.104614\nmin              2008-08-30 00:00:00      0.000000      0.000000\n25%              2014-03-09 00:00:00      2.000000     59.000000\n50%              2015-07-07 00:00:00      2.000000     80.000000\n75%              2017-05-29 00:00:00      4.000000    120.000000\nmax              2021-02-07 00:00:00     16.000000  12000.000000\nstd                              NaN      1.588382    214.479626","text/html":"<div>\n<style scoped>\n    .dataframe tbody tr th:only-of-type {\n        vertical-align: middle;\n    }\n\n    .dataframe tbody tr th {\n        vertical-align: top;\n    }\n\n    .dataframe thead th {\n        text-align: right;\n    }\n</style>\n<table border=\"1\" class=\"dataframe\">\n  <thead>\n    <tr style=\"text-align: right;\">\n      <th></th>\n      <th>host_since</th>\n      <th>accommodates</th>\n      <th>price</th>\n    </tr>\n  </thead>\n  <tbody>\n    <tr>\n      <th>count</th>\n      <td>64657</td>\n      <td>64657.000000</td>\n      <td>64657.000000</td>\n    </tr>\n    <tr>\n      <th>mean</th>\n      <td>2015-11-01 11:06:05.528867584</td>\n      <td>3.037877</td>\n      <td>113.104614</td>\n    </tr>\n    <tr>\n      <th>min</th>\n      <td>2008-08-30 00:00:00</td>\n      <td>0.000000</td>\n      <td>0.000000</td>\n    </tr>\n    <tr>\n      <th>25%</th>\n      <td>2014-03-09 00:00:00</td>\n      <td>2.000000</td>\n      <td>59.000000</td>\n    </tr>\n    <tr>\n      <th>50%</th>\n      <td>2015-07-07 00:00:00</td>\n      <td>2.000000</td>\n      <td>80.000000</td>\n    </tr>\n    <tr>\n      <th>75%</th>\n      <td>2017-05-29 00:00:00</td>\n      <td>4.000000</td>\n      <td>120.000000</td>\n    </tr>\n    <tr>\n      <th>max</th>\n      <td>2021-02-07 00:00:00</td>\n      <td>16.000000</td>\n      <td>12000.000000</td>\n    </tr>\n    <tr>\n      <th>std</th>\n      <td>NaN</td>\n      <td>1.588382</td>\n      <td>214.479626</td>\n    </tr>\n  </tbody>\n</table>\n</div>"},"metadata":{}}],"execution_count":22},{"cell_type":"code","source":"paris_listings.describe(include =\"object\")","metadata":{"trusted":true,"execution":{"iopub.status.busy":"2025-05-11T03:41:19.112738Z","iopub.execute_input":"2025-05-11T03:41:19.112909Z","iopub.status.idle":"2025-05-11T03:41:19.133882Z","shell.execute_reply.started":"2025-05-11T03:41:19.112895Z","shell.execute_reply":"2025-05-11T03:41:19.133259Z"}},"outputs":[{"execution_count":23,"output_type":"execute_result","data":{"text/plain":"            neighbourhood   city\ncount               64657  64657\nunique                 20      1\ntop     Buttes-Montmartre  Paris\nfreq                 7232  64657","text/html":"<div>\n<style scoped>\n    .dataframe tbody tr th:only-of-type {\n        vertical-align: middle;\n    }\n\n    .dataframe tbody tr th {\n        vertical-align: top;\n    }\n\n    .dataframe thead th {\n        text-align: right;\n    }\n</style>\n<table border=\"1\" class=\"dataframe\">\n  <thead>\n    <tr style=\"text-align: right;\">\n      <th></th>\n      <th>neighbourhood</th>\n      <th>city</th>\n    </tr>\n  </thead>\n  <tbody>\n    <tr>\n      <th>count</th>\n      <td>64657</td>\n      <td>64657</td>\n    </tr>\n    <tr>\n      <th>unique</th>\n      <td>20</td>\n      <td>1</td>\n    </tr>\n    <tr>\n      <th>top</th>\n      <td>Buttes-Montmartre</td>\n      <td>Paris</td>\n    </tr>\n    <tr>\n      <th>freq</th>\n      <td>7232</td>\n      <td>64657</td>\n    </tr>\n  </tbody>\n</table>\n</div>"},"metadata":{}}],"execution_count":23},{"cell_type":"code","source":"paris_listings[paris_listings[\"accommodates\"] == 0].count(axis=0)","metadata":{"trusted":true,"execution":{"iopub.status.busy":"2025-05-11T03:41:19.134626Z","iopub.execute_input":"2025-05-11T03:41:19.135393Z","iopub.status.idle":"2025-05-11T03:41:19.156430Z","shell.execute_reply.started":"2025-05-11T03:41:19.135359Z","shell.execute_reply":"2025-05-11T03:41:19.155703Z"}},"outputs":[{"execution_count":24,"output_type":"execute_result","data":{"text/plain":"host_since       54\nneighbourhood    54\ncity             54\naccommodates     54\nprice            54\ndtype: int64"},"metadata":{}}],"execution_count":24},{"cell_type":"code","source":"paris_listings[paris_listings[\"price\"] == 0].count(axis=0)","metadata":{"trusted":true,"execution":{"iopub.status.busy":"2025-05-11T03:41:19.157159Z","iopub.execute_input":"2025-05-11T03:41:19.157363Z","iopub.status.idle":"2025-05-11T03:41:19.176113Z","shell.execute_reply.started":"2025-05-11T03:41:19.157348Z","shell.execute_reply":"2025-05-11T03:41:19.175407Z"}},"outputs":[{"execution_count":25,"output_type":"execute_result","data":{"text/plain":"host_since       62\nneighbourhood    62\ncity             62\naccommodates     62\nprice            62\ndtype: int64"},"metadata":{}}],"execution_count":25},{"cell_type":"code","source":"paris_listings[(paris_listings[\"accommodates\"] != 0) & (paris_listings[\"price\"] == 0)]","metadata":{"trusted":true,"execution":{"iopub.status.busy":"2025-05-11T03:41:19.176924Z","iopub.execute_input":"2025-05-11T03:41:19.177140Z","iopub.status.idle":"2025-05-11T03:41:19.194205Z","shell.execute_reply.started":"2025-05-11T03:41:19.177125Z","shell.execute_reply":"2025-05-11T03:41:19.193679Z"}},"outputs":[{"execution_count":26,"output_type":"execute_result","data":{"text/plain":"       host_since      neighbourhood   city  accommodates  price\n207075 2019-07-22          Vaugirard  Paris             2      0\n207076 2019-10-31  Enclos-St-Laurent  Paris             2      0\n208301 2019-05-27     Palais-Bourbon  Paris             2      0\n208302 2019-07-19           Pantheon  Paris             3      0\n208854 2016-09-16             Louvre  Paris             3      0\n208855 2019-11-06         Luxembourg  Paris             3      0\n208856 2019-12-02             Elysee  Paris             3      0\n208857 2019-12-17              Opera  Paris             2      0","text/html":"<div>\n<style scoped>\n    .dataframe tbody tr th:only-of-type {\n        vertical-align: middle;\n    }\n\n    .dataframe tbody tr th {\n        vertical-align: top;\n    }\n\n    .dataframe thead th {\n        text-align: right;\n    }\n</style>\n<table border=\"1\" class=\"dataframe\">\n  <thead>\n    <tr style=\"text-align: right;\">\n      <th></th>\n      <th>host_since</th>\n      <th>neighbourhood</th>\n      <th>city</th>\n      <th>accommodates</th>\n      <th>price</th>\n    </tr>\n  </thead>\n  <tbody>\n    <tr>\n      <th>207075</th>\n      <td>2019-07-22</td>\n      <td>Vaugirard</td>\n      <td>Paris</td>\n      <td>2</td>\n      <td>0</td>\n    </tr>\n    <tr>\n      <th>207076</th>\n      <td>2019-10-31</td>\n      <td>Enclos-St-Laurent</td>\n      <td>Paris</td>\n      <td>2</td>\n      <td>0</td>\n    </tr>\n    <tr>\n      <th>208301</th>\n      <td>2019-05-27</td>\n      <td>Palais-Bourbon</td>\n      <td>Paris</td>\n      <td>2</td>\n      <td>0</td>\n    </tr>\n    <tr>\n      <th>208302</th>\n      <td>2019-07-19</td>\n      <td>Pantheon</td>\n      <td>Paris</td>\n      <td>3</td>\n      <td>0</td>\n    </tr>\n    <tr>\n      <th>208854</th>\n      <td>2016-09-16</td>\n      <td>Louvre</td>\n      <td>Paris</td>\n      <td>3</td>\n      <td>0</td>\n    </tr>\n    <tr>\n      <th>208855</th>\n      <td>2019-11-06</td>\n      <td>Luxembourg</td>\n      <td>Paris</td>\n      <td>3</td>\n      <td>0</td>\n    </tr>\n    <tr>\n      <th>208856</th>\n      <td>2019-12-02</td>\n      <td>Elysee</td>\n      <td>Paris</td>\n      <td>3</td>\n      <td>0</td>\n    </tr>\n    <tr>\n      <th>208857</th>\n      <td>2019-12-17</td>\n      <td>Opera</td>\n      <td>Paris</td>\n      <td>2</td>\n      <td>0</td>\n    </tr>\n  </tbody>\n</table>\n</div>"},"metadata":{}}],"execution_count":26},{"cell_type":"code","source":"paris_listings = paris_listings[paris_listings[\"price\"] != 0]","metadata":{"trusted":true,"execution":{"iopub.status.busy":"2025-05-11T03:41:19.194801Z","iopub.execute_input":"2025-05-11T03:41:19.194979Z","iopub.status.idle":"2025-05-11T03:41:19.211108Z","shell.execute_reply.started":"2025-05-11T03:41:19.194966Z","shell.execute_reply":"2025-05-11T03:41:19.210501Z"}},"outputs":[],"execution_count":27},{"cell_type":"code","source":"paris_listings.info()","metadata":{"trusted":true,"execution":{"iopub.status.busy":"2025-05-11T03:41:19.211892Z","iopub.execute_input":"2025-05-11T03:41:19.212641Z","iopub.status.idle":"2025-05-11T03:41:19.233856Z","shell.execute_reply.started":"2025-05-11T03:41:19.212616Z","shell.execute_reply":"2025-05-11T03:41:19.233314Z"}},"outputs":[{"name":"stdout","text":"<class 'pandas.core.frame.DataFrame'>\nIndex: 64595 entries, 0 to 279711\nData columns (total 5 columns):\n #   Column         Non-Null Count  Dtype         \n---  ------         --------------  -----         \n 0   host_since     64595 non-null  datetime64[ns]\n 1   neighbourhood  64595 non-null  object        \n 2   city           64595 non-null  object        \n 3   accommodates   64595 non-null  int64         \n 4   price          64595 non-null  int64         \ndtypes: datetime64[ns](1), int64(2), object(2)\nmemory usage: 3.0+ MB\n","output_type":"stream"}],"execution_count":28},{"cell_type":"code","source":"paris_listings.head()","metadata":{"trusted":true,"execution":{"iopub.status.busy":"2025-05-11T03:41:19.237447Z","iopub.execute_input":"2025-05-11T03:41:19.237667Z","iopub.status.idle":"2025-05-11T03:41:19.253943Z","shell.execute_reply.started":"2025-05-11T03:41:19.237651Z","shell.execute_reply":"2025-05-11T03:41:19.253215Z"}},"outputs":[{"execution_count":29,"output_type":"execute_result","data":{"text/plain":"  host_since      neighbourhood   city  accommodates  price\n0 2011-12-03  Buttes-Montmartre  Paris             2     53\n1 2013-11-29  Buttes-Montmartre  Paris             2    120\n2 2014-07-31             Elysee  Paris             2     89\n3 2013-12-17          Vaugirard  Paris             2     58\n4 2014-12-14              Passy  Paris             2     60","text/html":"<div>\n<style scoped>\n    .dataframe tbody tr th:only-of-type {\n        vertical-align: middle;\n    }\n\n    .dataframe tbody tr th {\n        vertical-align: top;\n    }\n\n    .dataframe thead th {\n        text-align: right;\n    }\n</style>\n<table border=\"1\" class=\"dataframe\">\n  <thead>\n    <tr style=\"text-align: right;\">\n      <th></th>\n      <th>host_since</th>\n      <th>neighbourhood</th>\n      <th>city</th>\n      <th>accommodates</th>\n      <th>price</th>\n    </tr>\n  </thead>\n  <tbody>\n    <tr>\n      <th>0</th>\n      <td>2011-12-03</td>\n      <td>Buttes-Montmartre</td>\n      <td>Paris</td>\n      <td>2</td>\n      <td>53</td>\n    </tr>\n    <tr>\n      <th>1</th>\n      <td>2013-11-29</td>\n      <td>Buttes-Montmartre</td>\n      <td>Paris</td>\n      <td>2</td>\n      <td>120</td>\n    </tr>\n    <tr>\n      <th>2</th>\n      <td>2014-07-31</td>\n      <td>Elysee</td>\n      <td>Paris</td>\n      <td>2</td>\n      <td>89</td>\n    </tr>\n    <tr>\n      <th>3</th>\n      <td>2013-12-17</td>\n      <td>Vaugirard</td>\n      <td>Paris</td>\n      <td>2</td>\n      <td>58</td>\n    </tr>\n    <tr>\n      <th>4</th>\n      <td>2014-12-14</td>\n      <td>Passy</td>\n      <td>Paris</td>\n      <td>2</td>\n      <td>60</td>\n    </tr>\n  </tbody>\n</table>\n</div>"},"metadata":{}}],"execution_count":29},{"cell_type":"code","source":"paris_listings_neighbourhood = paris_listings.groupby(\"neighbourhood\").agg({\"price\":\"mean\"}).sort_values(\"price\",ascending = False)","metadata":{"trusted":true,"execution":{"iopub.status.busy":"2025-05-11T03:41:19.254686Z","iopub.execute_input":"2025-05-11T03:41:19.254976Z","iopub.status.idle":"2025-05-11T03:41:19.278916Z","shell.execute_reply.started":"2025-05-11T03:41:19.254961Z","shell.execute_reply":"2025-05-11T03:41:19.278122Z"}},"outputs":[],"execution_count":30},{"cell_type":"code","source":"paris_listings_neighbourhood","metadata":{"trusted":true,"execution":{"iopub.status.busy":"2025-05-11T03:41:19.279660Z","iopub.execute_input":"2025-05-11T03:41:19.279826Z","iopub.status.idle":"2025-05-11T03:41:19.288852Z","shell.execute_reply.started":"2025-05-11T03:41:19.279798Z","shell.execute_reply":"2025-05-11T03:41:19.288213Z"}},"outputs":[{"execution_count":31,"output_type":"execute_result","data":{"text/plain":"                          price\nneighbourhood                  \nElysee               211.373651\nLouvre               175.754448\nPassy                161.290875\nPalais-Bourbon       157.514464\nLuxembourg           155.794589\nBourse               149.633577\nHotel-de-Ville       144.515228\nTemple               138.429300\nPantheon             122.983599\nOpera                119.201841\nVaugirard            107.086207\nEnclos-St-Laurent    103.122590\nBatignolles-Monceau  102.686778\nObservatoire         101.996775\nGobelins              98.110184\nPopincourt            90.548168\nReuilly               89.125566\nButtes-Montmartre     87.246196\nButtes-Chaumont       82.690182\nMenilmontant          74.931521","text/html":"<div>\n<style scoped>\n    .dataframe tbody tr th:only-of-type {\n        vertical-align: middle;\n    }\n\n    .dataframe tbody tr th {\n        vertical-align: top;\n    }\n\n    .dataframe thead th {\n        text-align: right;\n    }\n</style>\n<table border=\"1\" class=\"dataframe\">\n  <thead>\n    <tr style=\"text-align: right;\">\n      <th></th>\n      <th>price</th>\n    </tr>\n    <tr>\n      <th>neighbourhood</th>\n      <th></th>\n    </tr>\n  </thead>\n  <tbody>\n    <tr>\n      <th>Elysee</th>\n      <td>211.373651</td>\n    </tr>\n    <tr>\n      <th>Louvre</th>\n      <td>175.754448</td>\n    </tr>\n    <tr>\n      <th>Passy</th>\n      <td>161.290875</td>\n    </tr>\n    <tr>\n      <th>Palais-Bourbon</th>\n      <td>157.514464</td>\n    </tr>\n    <tr>\n      <th>Luxembourg</th>\n      <td>155.794589</td>\n    </tr>\n    <tr>\n      <th>Bourse</th>\n      <td>149.633577</td>\n    </tr>\n    <tr>\n      <th>Hotel-de-Ville</th>\n      <td>144.515228</td>\n    </tr>\n    <tr>\n      <th>Temple</th>\n      <td>138.429300</td>\n    </tr>\n    <tr>\n      <th>Pantheon</th>\n      <td>122.983599</td>\n    </tr>\n    <tr>\n      <th>Opera</th>\n      <td>119.201841</td>\n    </tr>\n    <tr>\n      <th>Vaugirard</th>\n      <td>107.086207</td>\n    </tr>\n    <tr>\n      <th>Enclos-St-Laurent</th>\n      <td>103.122590</td>\n    </tr>\n    <tr>\n      <th>Batignolles-Monceau</th>\n      <td>102.686778</td>\n    </tr>\n    <tr>\n      <th>Observatoire</th>\n      <td>101.996775</td>\n    </tr>\n    <tr>\n      <th>Gobelins</th>\n      <td>98.110184</td>\n    </tr>\n    <tr>\n      <th>Popincourt</th>\n      <td>90.548168</td>\n    </tr>\n    <tr>\n      <th>Reuilly</th>\n      <td>89.125566</td>\n    </tr>\n    <tr>\n      <th>Buttes-Montmartre</th>\n      <td>87.246196</td>\n    </tr>\n    <tr>\n      <th>Buttes-Chaumont</th>\n      <td>82.690182</td>\n    </tr>\n    <tr>\n      <th>Menilmontant</th>\n      <td>74.931521</td>\n    </tr>\n  </tbody>\n</table>\n</div>"},"metadata":{}}],"execution_count":31},{"cell_type":"code","source":"paris_listings_accommodates = paris_listings.groupby(\"accommodates\").agg({\"price\":\"mean\"}).sort_values(\"price\",ascending = False)","metadata":{"trusted":true,"execution":{"iopub.status.busy":"2025-05-11T03:41:19.289644Z","iopub.execute_input":"2025-05-11T03:41:19.289886Z","iopub.status.idle":"2025-05-11T03:41:19.310121Z","shell.execute_reply.started":"2025-05-11T03:41:19.289864Z","shell.execute_reply":"2025-05-11T03:41:19.309409Z"}},"outputs":[],"execution_count":32},{"cell_type":"code","source":"paris_listings_accommodates","metadata":{"trusted":true,"execution":{"iopub.status.busy":"2025-05-11T03:41:19.310946Z","iopub.execute_input":"2025-05-11T03:41:19.311205Z","iopub.status.idle":"2025-05-11T03:41:19.326330Z","shell.execute_reply.started":"2025-05-11T03:41:19.311189Z","shell.execute_reply":"2025-05-11T03:41:19.325393Z"}},"outputs":[{"execution_count":33,"output_type":"execute_result","data":{"text/plain":"                   price\naccommodates            \n15            928.416667\n12            821.434211\n13            704.578947\n14            699.230769\n11            680.911765\n16            677.060606\n10            585.756219\n9             381.900000\n8             325.022440\n7             261.065957\n6             217.193198\n5             165.191455\n4             125.997595\n3              98.295913\n2              84.093921\n1              64.847055","text/html":"<div>\n<style scoped>\n    .dataframe tbody tr th:only-of-type {\n        vertical-align: middle;\n    }\n\n    .dataframe tbody tr th {\n        vertical-align: top;\n    }\n\n    .dataframe thead th {\n        text-align: right;\n    }\n</style>\n<table border=\"1\" class=\"dataframe\">\n  <thead>\n    <tr style=\"text-align: right;\">\n      <th></th>\n      <th>price</th>\n    </tr>\n    <tr>\n      <th>accommodates</th>\n      <th></th>\n    </tr>\n  </thead>\n  <tbody>\n    <tr>\n      <th>15</th>\n      <td>928.416667</td>\n    </tr>\n    <tr>\n      <th>12</th>\n      <td>821.434211</td>\n    </tr>\n    <tr>\n      <th>13</th>\n      <td>704.578947</td>\n    </tr>\n    <tr>\n      <th>14</th>\n      <td>699.230769</td>\n    </tr>\n    <tr>\n      <th>11</th>\n      <td>680.911765</td>\n    </tr>\n    <tr>\n      <th>16</th>\n      <td>677.060606</td>\n    </tr>\n    <tr>\n      <th>10</th>\n      <td>585.756219</td>\n    </tr>\n    <tr>\n      <th>9</th>\n      <td>381.900000</td>\n    </tr>\n    <tr>\n      <th>8</th>\n      <td>325.022440</td>\n    </tr>\n    <tr>\n      <th>7</th>\n      <td>261.065957</td>\n    </tr>\n    <tr>\n      <th>6</th>\n      <td>217.193198</td>\n    </tr>\n    <tr>\n      <th>5</th>\n      <td>165.191455</td>\n    </tr>\n    <tr>\n      <th>4</th>\n      <td>125.997595</td>\n    </tr>\n    <tr>\n      <th>3</th>\n      <td>98.295913</td>\n    </tr>\n    <tr>\n      <th>2</th>\n      <td>84.093921</td>\n    </tr>\n    <tr>\n      <th>1</th>\n      <td>64.847055</td>\n    </tr>\n  </tbody>\n</table>\n</div>"},"metadata":{}}],"execution_count":33},{"cell_type":"code","source":"elysee_listings_accommodates = paris_listings.query(\"neighbourhood == 'Elysee'\").groupby(\"accommodates\").agg({\"price\":\"mean\"}).sort_values(\"price\",ascending = False)","metadata":{"trusted":true,"execution":{"iopub.status.busy":"2025-05-11T03:41:19.327102Z","iopub.execute_input":"2025-05-11T03:41:19.327279Z","iopub.status.idle":"2025-05-11T03:41:19.348453Z","shell.execute_reply.started":"2025-05-11T03:41:19.327264Z","shell.execute_reply":"2025-05-11T03:41:19.348002Z"}},"outputs":[],"execution_count":34},{"cell_type":"code","source":"elysee_listings_accommodates","metadata":{"trusted":true,"execution":{"iopub.status.busy":"2025-05-11T03:41:19.349109Z","iopub.execute_input":"2025-05-11T03:41:19.349345Z","iopub.status.idle":"2025-05-11T03:41:19.365696Z","shell.execute_reply.started":"2025-05-11T03:41:19.349325Z","shell.execute_reply":"2025-05-11T03:41:19.365002Z"}},"outputs":[{"execution_count":35,"output_type":"execute_result","data":{"text/plain":"                   price\naccommodates            \n14            971.000000\n13            842.500000\n11            805.000000\n16            800.000000\n12            529.625000\n10            500.857143\n9             440.272727\n7             411.538462\n8             405.518519\n6             355.508571\n5             328.817073\n4             212.096070\n2             155.103352\n3             153.882759\n1              79.522222","text/html":"<div>\n<style scoped>\n    .dataframe tbody tr th:only-of-type {\n        vertical-align: middle;\n    }\n\n    .dataframe tbody tr th {\n        vertical-align: top;\n    }\n\n    .dataframe thead th {\n        text-align: right;\n    }\n</style>\n<table border=\"1\" class=\"dataframe\">\n  <thead>\n    <tr style=\"text-align: right;\">\n      <th></th>\n      <th>price</th>\n    </tr>\n    <tr>\n      <th>accommodates</th>\n      <th></th>\n    </tr>\n  </thead>\n  <tbody>\n    <tr>\n      <th>14</th>\n      <td>971.000000</td>\n    </tr>\n    <tr>\n      <th>13</th>\n      <td>842.500000</td>\n    </tr>\n    <tr>\n      <th>11</th>\n      <td>805.000000</td>\n    </tr>\n    <tr>\n      <th>16</th>\n      <td>800.000000</td>\n    </tr>\n    <tr>\n      <th>12</th>\n      <td>529.625000</td>\n    </tr>\n    <tr>\n      <th>10</th>\n      <td>500.857143</td>\n    </tr>\n    <tr>\n      <th>9</th>\n      <td>440.272727</td>\n    </tr>\n    <tr>\n      <th>7</th>\n      <td>411.538462</td>\n    </tr>\n    <tr>\n      <th>8</th>\n      <td>405.518519</td>\n    </tr>\n    <tr>\n      <th>6</th>\n      <td>355.508571</td>\n    </tr>\n    <tr>\n      <th>5</th>\n      <td>328.817073</td>\n    </tr>\n    <tr>\n      <th>4</th>\n      <td>212.096070</td>\n    </tr>\n    <tr>\n      <th>2</th>\n      <td>155.103352</td>\n    </tr>\n    <tr>\n      <th>3</th>\n      <td>153.882759</td>\n    </tr>\n    <tr>\n      <th>1</th>\n      <td>79.522222</td>\n    </tr>\n  </tbody>\n</table>\n</div>"},"metadata":{}}],"execution_count":35},{"cell_type":"code","source":"# Inside of paris the price of AirBnB is directly impacted by the popularity of the tourist place or \n# the view of Eiffel tower. we need to further see if the prices are increasing when the regulations are imposed","metadata":{"trusted":true,"execution":{"iopub.status.busy":"2025-05-11T03:41:19.366457Z","iopub.execute_input":"2025-05-11T03:41:19.366662Z","iopub.status.idle":"2025-05-11T03:41:19.381274Z","shell.execute_reply.started":"2025-05-11T03:41:19.366647Z","shell.execute_reply":"2025-05-11T03:41:19.380592Z"}},"outputs":[],"execution_count":36},{"cell_type":"code","source":"# The AirBnB with 14 people accommodates is the expensive, even more expensive the 16 accommodates\n# the same trend is spotted for 11 and 12 accommodates. Every other accommodation looks reasonable.","metadata":{"trusted":true,"execution":{"iopub.status.busy":"2025-05-11T03:41:19.382006Z","iopub.execute_input":"2025-05-11T03:41:19.382192Z","iopub.status.idle":"2025-05-11T03:41:19.400965Z","shell.execute_reply.started":"2025-05-11T03:41:19.382173Z","shell.execute_reply":"2025-05-11T03:41:19.400461Z"}},"outputs":[],"execution_count":37},{"cell_type":"markdown","source":"# Possible reasons for this trend \n1. Owners of properties with 16 people might face occupancy issues due to less number of large groups.\n2. The ones with 14 people might be a sweet spot for a group having two families travelling.\n3. There is possibility that more than 16 and 12 occupancy properties are away from hotspots in Elysee.\n4. There might be potential outliers in 11 and 14 occupancy properties which are skewing the trend.","metadata":{}},{"cell_type":"code","source":"paris_listings[\"host_since\"].nunique()","metadata":{"trusted":true,"execution":{"iopub.status.busy":"2025-05-11T03:41:19.401514Z","iopub.execute_input":"2025-05-11T03:41:19.401691Z","iopub.status.idle":"2025-05-11T03:41:19.422758Z","shell.execute_reply.started":"2025-05-11T03:41:19.401678Z","shell.execute_reply":"2025-05-11T03:41:19.422184Z"}},"outputs":[{"execution_count":38,"output_type":"execute_result","data":{"text/plain":"3854"},"metadata":{}}],"execution_count":38},{"cell_type":"code","source":"paris_listing_over_time = paris_listings.set_index(\"host_since\").resample(\"Y\").agg({\"neighbourhood\":\"count\",\"price\":\"mean\"})","metadata":{"trusted":true,"execution":{"iopub.status.busy":"2025-05-11T03:41:19.423450Z","iopub.execute_input":"2025-05-11T03:41:19.423699Z","iopub.status.idle":"2025-05-11T03:41:19.474472Z","shell.execute_reply.started":"2025-05-11T03:41:19.423683Z","shell.execute_reply":"2025-05-11T03:41:19.473767Z"}},"outputs":[],"execution_count":39},{"cell_type":"code","source":"paris_listing_over_time","metadata":{"trusted":true,"execution":{"iopub.status.busy":"2025-05-11T03:41:19.475270Z","iopub.execute_input":"2025-05-11T03:41:19.475462Z","iopub.status.idle":"2025-05-11T03:41:19.482756Z","shell.execute_reply.started":"2025-05-11T03:41:19.475447Z","shell.execute_reply":"2025-05-11T03:41:19.482025Z"}},"outputs":[{"execution_count":40,"output_type":"execute_result","data":{"text/plain":"            neighbourhood       price\nhost_since                           \n2008-12-31              4   77.750000\n2009-12-31            106  159.641509\n2010-12-31            416  125.031250\n2011-12-31           1339  124.828230\n2012-12-31           4592  111.578615\n2013-12-31           8142  107.096414\n2014-12-31          10922  100.253800\n2015-12-31          12147  103.646250\n2016-12-31           8867  114.211345\n2017-12-31           4585  108.658888\n2018-12-31           4294  138.209362\n2019-12-31           5685  129.962533\n2020-12-31           3363  143.517098\n2021-12-31            133   93.488722","text/html":"<div>\n<style scoped>\n    .dataframe tbody tr th:only-of-type {\n        vertical-align: middle;\n    }\n\n    .dataframe tbody tr th {\n        vertical-align: top;\n    }\n\n    .dataframe thead th {\n        text-align: right;\n    }\n</style>\n<table border=\"1\" class=\"dataframe\">\n  <thead>\n    <tr style=\"text-align: right;\">\n      <th></th>\n      <th>neighbourhood</th>\n      <th>price</th>\n    </tr>\n    <tr>\n      <th>host_since</th>\n      <th></th>\n      <th></th>\n    </tr>\n  </thead>\n  <tbody>\n    <tr>\n      <th>2008-12-31</th>\n      <td>4</td>\n      <td>77.750000</td>\n    </tr>\n    <tr>\n      <th>2009-12-31</th>\n      <td>106</td>\n      <td>159.641509</td>\n    </tr>\n    <tr>\n      <th>2010-12-31</th>\n      <td>416</td>\n      <td>125.031250</td>\n    </tr>\n    <tr>\n      <th>2011-12-31</th>\n      <td>1339</td>\n      <td>124.828230</td>\n    </tr>\n    <tr>\n      <th>2012-12-31</th>\n      <td>4592</td>\n      <td>111.578615</td>\n    </tr>\n    <tr>\n      <th>2013-12-31</th>\n      <td>8142</td>\n      <td>107.096414</td>\n    </tr>\n    <tr>\n      <th>2014-12-31</th>\n      <td>10922</td>\n      <td>100.253800</td>\n    </tr>\n    <tr>\n      <th>2015-12-31</th>\n      <td>12147</td>\n      <td>103.646250</td>\n    </tr>\n    <tr>\n      <th>2016-12-31</th>\n      <td>8867</td>\n      <td>114.211345</td>\n    </tr>\n    <tr>\n      <th>2017-12-31</th>\n      <td>4585</td>\n      <td>108.658888</td>\n    </tr>\n    <tr>\n      <th>2018-12-31</th>\n      <td>4294</td>\n      <td>138.209362</td>\n    </tr>\n    <tr>\n      <th>2019-12-31</th>\n      <td>5685</td>\n      <td>129.962533</td>\n    </tr>\n    <tr>\n      <th>2020-12-31</th>\n      <td>3363</td>\n      <td>143.517098</td>\n    </tr>\n    <tr>\n      <th>2021-12-31</th>\n      <td>133</td>\n      <td>93.488722</td>\n    </tr>\n  </tbody>\n</table>\n</div>"},"metadata":{}}],"execution_count":40},{"cell_type":"code","source":"import matplotlib.pyplot as plt\nimport seaborn as sns","metadata":{"trusted":true,"execution":{"iopub.status.busy":"2025-05-11T03:41:19.483504Z","iopub.execute_input":"2025-05-11T03:41:19.484284Z","iopub.status.idle":"2025-05-11T03:41:20.342216Z","shell.execute_reply.started":"2025-05-11T03:41:19.484263Z","shell.execute_reply":"2025-05-11T03:41:20.341718Z"}},"outputs":[],"execution_count":41},{"cell_type":"code","source":"paris_listings_neighbourhood","metadata":{"trusted":true,"execution":{"iopub.status.busy":"2025-05-11T03:41:20.342938Z","iopub.execute_input":"2025-05-11T03:41:20.343183Z","iopub.status.idle":"2025-05-11T03:41:20.350900Z","shell.execute_reply.started":"2025-05-11T03:41:20.343168Z","shell.execute_reply":"2025-05-11T03:41:20.350067Z"}},"outputs":[{"execution_count":42,"output_type":"execute_result","data":{"text/plain":"                          price\nneighbourhood                  \nElysee               211.373651\nLouvre               175.754448\nPassy                161.290875\nPalais-Bourbon       157.514464\nLuxembourg           155.794589\nBourse               149.633577\nHotel-de-Ville       144.515228\nTemple               138.429300\nPantheon             122.983599\nOpera                119.201841\nVaugirard            107.086207\nEnclos-St-Laurent    103.122590\nBatignolles-Monceau  102.686778\nObservatoire         101.996775\nGobelins              98.110184\nPopincourt            90.548168\nReuilly               89.125566\nButtes-Montmartre     87.246196\nButtes-Chaumont       82.690182\nMenilmontant          74.931521","text/html":"<div>\n<style scoped>\n    .dataframe tbody tr th:only-of-type {\n        vertical-align: middle;\n    }\n\n    .dataframe tbody tr th {\n        vertical-align: top;\n    }\n\n    .dataframe thead th {\n        text-align: right;\n    }\n</style>\n<table border=\"1\" class=\"dataframe\">\n  <thead>\n    <tr style=\"text-align: right;\">\n      <th></th>\n      <th>price</th>\n    </tr>\n    <tr>\n      <th>neighbourhood</th>\n      <th></th>\n    </tr>\n  </thead>\n  <tbody>\n    <tr>\n      <th>Elysee</th>\n      <td>211.373651</td>\n    </tr>\n    <tr>\n      <th>Louvre</th>\n      <td>175.754448</td>\n    </tr>\n    <tr>\n      <th>Passy</th>\n      <td>161.290875</td>\n    </tr>\n    <tr>\n      <th>Palais-Bourbon</th>\n      <td>157.514464</td>\n    </tr>\n    <tr>\n      <th>Luxembourg</th>\n      <td>155.794589</td>\n    </tr>\n    <tr>\n      <th>Bourse</th>\n      <td>149.633577</td>\n    </tr>\n    <tr>\n      <th>Hotel-de-Ville</th>\n      <td>144.515228</td>\n    </tr>\n    <tr>\n      <th>Temple</th>\n      <td>138.429300</td>\n    </tr>\n    <tr>\n      <th>Pantheon</th>\n      <td>122.983599</td>\n    </tr>\n    <tr>\n      <th>Opera</th>\n      <td>119.201841</td>\n    </tr>\n    <tr>\n      <th>Vaugirard</th>\n      <td>107.086207</td>\n    </tr>\n    <tr>\n      <th>Enclos-St-Laurent</th>\n      <td>103.122590</td>\n    </tr>\n    <tr>\n      <th>Batignolles-Monceau</th>\n      <td>102.686778</td>\n    </tr>\n    <tr>\n      <th>Observatoire</th>\n      <td>101.996775</td>\n    </tr>\n    <tr>\n      <th>Gobelins</th>\n      <td>98.110184</td>\n    </tr>\n    <tr>\n      <th>Popincourt</th>\n      <td>90.548168</td>\n    </tr>\n    <tr>\n      <th>Reuilly</th>\n      <td>89.125566</td>\n    </tr>\n    <tr>\n      <th>Buttes-Montmartre</th>\n      <td>87.246196</td>\n    </tr>\n    <tr>\n      <th>Buttes-Chaumont</th>\n      <td>82.690182</td>\n    </tr>\n    <tr>\n      <th>Menilmontant</th>\n      <td>74.931521</td>\n    </tr>\n  </tbody>\n</table>\n</div>"},"metadata":{}}],"execution_count":42},{"cell_type":"code","source":"plt.figure(figsize = (12,8))\nsns.barplot(data = paris_listings_neighbourhood,\n           x = \"price\",\n           y = paris_listings_neighbourhood.index,\n           color = \"#FF5A5F\")\nplt.title(\"neighbourhoods in Paris (Premium Localities at the Top!)\")\nplt.xlabel(\"How Expensive?(Euros)\")\nplt.ylabel(\"Prominent places with AirBnBs\")\nplt.show()","metadata":{"trusted":true,"execution":{"iopub.status.busy":"2025-05-11T03:41:20.351724Z","iopub.execute_input":"2025-05-11T03:41:20.351995Z","iopub.status.idle":"2025-05-11T03:41:20.866367Z","shell.execute_reply.started":"2025-05-11T03:41:20.351977Z","shell.execute_reply":"2025-05-11T03:41:20.865711Z"}},"outputs":[{"output_type":"display_data","data":{"text/plain":"<Figure size 1200x800 with 1 Axes>","image/png":"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\n"},"metadata":{}}],"execution_count":43},{"cell_type":"code","source":"plt.figure(figsize = (12,8))\nsns.barplot(data = elysee_listings_accommodates,\n           x = \"price\",\n           y = elysee_listings_accommodates.index,\n           color = \"#fc642d\",\n           orient = \"h\",\n           order = elysee_listings_accommodates.index )\nplt.title(\"Average Price of AirBnB in Elysee -- vs -- Number of people that can stay \")\nplt.xlabel(\"Average Price(Euros)\")\nplt.ylabel(\"Number of people that can stay \")\nplt.show()","metadata":{"trusted":true,"execution":{"iopub.status.busy":"2025-05-11T03:41:20.867245Z","iopub.execute_input":"2025-05-11T03:41:20.867512Z","iopub.status.idle":"2025-05-11T03:41:21.102415Z","shell.execute_reply.started":"2025-05-11T03:41:20.867490Z","shell.execute_reply":"2025-05-11T03:41:21.101628Z"}},"outputs":[{"output_type":"display_data","data":{"text/plain":"<Figure size 1200x800 with 1 Axes>","image/png":"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\n"},"metadata":{}}],"execution_count":44},{"cell_type":"code","source":"plt.figure(figsize = (12,8))\nsns.lineplot(data = paris_listing_over_time[\"neighbourhood\"],\n           color = \"#fc642d\")\nplt.title(\"Popularity of AirBnBs over time \")\nplt.xlabel(\"Year\")\nplt.ylabel(\"Number of AirBnBs activated \")\nplt.grid()\nplt.show()","metadata":{"trusted":true,"execution":{"iopub.status.busy":"2025-05-11T03:41:21.103090Z","iopub.execute_input":"2025-05-11T03:41:21.103274Z","iopub.status.idle":"2025-05-11T03:41:21.347717Z","shell.execute_reply.started":"2025-05-11T03:41:21.103260Z","shell.execute_reply":"2025-05-11T03:41:21.346904Z"}},"outputs":[{"output_type":"display_data","data":{"text/plain":"<Figure size 1200x800 with 1 Axes>","image/png":"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\n"},"metadata":{}}],"execution_count":45},{"cell_type":"code","source":"plt.figure(figsize = (12,8))\nsns.lineplot(data = paris_listing_over_time[\"price\"],\n           color = \"green\")\nplt.title(\"Average Price of AirBnBs over time \")\nplt.xlabel(\"Year\")\nplt.ylabel(\"Average Price \")\nplt.grid()\nplt.show()","metadata":{"trusted":true,"execution":{"iopub.status.busy":"2025-05-11T03:41:21.348365Z","iopub.execute_input":"2025-05-11T03:41:21.348555Z","iopub.status.idle":"2025-05-11T03:41:21.563546Z","shell.execute_reply.started":"2025-05-11T03:41:21.348540Z","shell.execute_reply":"2025-05-11T03:41:21.562855Z"}},"outputs":[{"output_type":"display_data","data":{"text/plain":"<Figure size 1200x800 with 1 Axes>","image/png":"iVBORw0KGgoAAAANSUhEUgAAA+0AAAK9CAYAAABRvo1QAAAAOXRFWHRTb2Z0d2FyZQBNYXRwbG90bGliIHZlcnNpb24zLjcuNSwgaHR0cHM6Ly9tYXRwbG90bGliLm9yZy/xnp5ZAAAACXBIWXMAAA9hAAAPYQGoP6dpAAC0DklEQVR4nOzdd3hUddrG8e+k94RASOgQepEiIiC9N+mugggiCjbUVVnLuurau2JBAQurGKw06YTeBAQJvfeWhJYe0ua8f/DOSKQlMJMzk9yf6+LSTDlzZ3KMPHOe3++xGIZhICIiIiIiIiIux8PsACIiIiIiIiJyeSraRURERERERFyUinYRERERERERF6WiXURERERERMRFqWgXERERERERcVEq2kVERERERERclIp2ERERERERERelol1ERERERETERaloFxEREREREXFRKtpFRESc6NChQ1gsFv73v/+ZHeWK3nvvPaKjo/H09KRx48YOOeayZcuwWCwsW7bMIccT5xo+fDhVq1Y1O4aIiFyGinYREeHzzz/HYrHQvHlzs6O4nKpVq2KxWOx/ypYtS5s2bZg+fbrZ0Rxi4cKFPPPMM7Rq1YpJkybx5ptvFuh5d955JxaLhWeffdYhOdq3b5/vffbx8aFatWqMGjWKo0ePXvdx//7z8/Pzo2bNmvzrX//i7NmzDsnuLk6cOMF///tf4uLizI4iIiKFYDEMwzA7hIiImKtVq1acOHGCQ4cOsXfvXmrUqGF2JJdRtWpVSpUqxdNPPw1cKHwmTJjAgQMH+OKLL3jooYeu+nzDMMjKysLb2xtPT8+iiFwozz33HO+99x6ZmZn4+PgU6DkpKSlERkYSFRVFXl4ehw8fxmKx5HuM1WolOzsbHx8fPDyufY2gffv27N+/n7feeguA7OxsduzYwfjx4yldujQ7d+4kICCg0N/f339+58+fZ+PGjXz11Vc0adKE9evXF/qY7mrDhg00a9aMSZMmMXz48Hz35eTkYLVa8fX1NSeciIhckZfZAURExFwHDx5kzZo1TJs2jQcffJCYmBhefvnlIs1gK/D8/PyK9HULqkKFCtxzzz32r4cNG0aNGjX46KOPrli05+bmYrVa8fHxcdnvCyAxMRF/f/8CF+wAU6dOJS8vj2+++YaOHTuyYsUK2rVrl+8xHh4eBfq+MzIy7MV4aGhovvcZoFq1aowePZrVq1fTpUuXAme82N9/fg888ABBQUG8//777N27l5o1a17XcV1Reno6gYGBhX6et7e3E9KIiIgjqD1eRKSEi4mJoVSpUvTq1Ys77riDmJgY+305OTmEh4dz3333XfK8lJQU/Pz8GDNmjP22rKwsXn75ZWrUqIGvry+VKlXimWeeISsrK99zLRYLo0ePJiYmhvr16+Pr68v8+fMBeP/997ntttsoXbo0/v7+NG3alF9//fWS18/MzOTxxx+nTJkyBAcH06dPH44fP47FYuG///1vvsceP36cESNGEBkZia+vL/Xr1+ebb7657vcsKiqKunXrcvDgQeCvdevvv/8+Y8eOpXr16vj6+rJjx44rrmnftWsXd955JxEREfj7+1O7dm1eeOEFh+XOzc3ltddes2epWrUq//73v/P9LCwWC5MmTSI9Pd3ePl6QtfcxMTF06dKFDh06ULdu3XznjM3l1rS3b9+eBg0asHHjRtq2bUtAQAD//ve/r/paUVFRAHh5/XWd4b///S8Wi4V9+/YxfPhwwsLCCA0N5b777iMjI+Oa+a903Pj4eO677z4qVqyIr68v5cqVo2/fvhw6dOiax1uyZAlt2rQhMDCQsLAw+vbty86dO+33//rrr1gsFpYvX37JcydMmIDFYmHbtm3223bt2sUdd9xBeHg4fn5+3HLLLfz222/5nve///3PfsxHHnmEsmXLUrFixcvmW7ZsGc2aNQPgvvvuu+Tn/fc17Ref0+PGjSM6OpqAgAC6du3K0aNHMQyD1157jYoVK+Lv70/fvn0vu9xg3rx59vclODiYXr16sX379mu+nyIi8hddaRcRKeFiYmIYMGAAPj4+DB48mC+++II//viDZs2a4e3tTf/+/Zk2bRoTJkzIdzV2xowZZGVlMWjQIODC1fI+ffqwatUqRo0aRd26ddm6dSsfffQRe/bsYcaMGfled8mSJfz888+MHj2aMmXK2AuGjz/+mD59+jBkyBCys7P58ccf+cc//sHs2bPp1auX/fnDhw/n559/ZujQobRo0YLly5fnu98mISGBFi1a2D8oiIiIYN68edx///2kpKTwz3/+s9DvWU5ODkePHqV06dL5bp80aRLnz59n1KhR+Pr6Eh4ejtVqveT5W7ZsoU2bNnh7ezNq1CiqVq3K/v37mTVrFm+88YZDcj/wwAN8++233HHHHTz99NOsW7eOt956i507d9rX40+ePJmJEyeyfv16vvrqKwBuu+22qx73xIkTLF26lG+//RaAwYMH89FHH/HZZ58V6Gr9mTNn6NGjB4MGDeKee+4hMjLSfl9eXh6nT58GLrzHO3futH8I1KpVq0uOdeedd1KtWjXeeust/vzzT7766ivKli3LO++8k+9xOTk59uOeP3+eTZs28eGHH9K2bVuqVatmf9zAgQPZvn07jz32GFWrViUxMZHY2FiOHDly1U3aFi1aRI8ePYiOjua///0vmZmZfPrpp7Rq1Yo///yTqlWr0qtXL4KCgvj5558v6Ur46aefqF+/Pg0aNABg+/bttGrVigoVKvDcc88RGBjIzz//TL9+/Zg6dSr9+/fP9/xHHnmEiIgIXnrpJdLT0y+bsW7durz66qu89NJLjBo1ijZt2gDX/nnHxMSQnZ3NY489xtmzZ3n33Xe588476dixI8uWLePZZ59l3759fPrpp4wZMybfh0qTJ0/m3nvvpVu3brzzzjtkZGTwxRdf0Lp1azZt2qSN70RECsoQEZESa8OGDQZgxMbGGoZhGFar1ahYsaLxxBNP2B+zYMECAzBmzZqV77k9e/Y0oqOj7V9PnjzZ8PDwMFauXJnvcePHjzcAY/Xq1fbbAMPDw8PYvn37JZkyMjLyfZ2dnW00aNDA6Nixo/22jRs3GoDxz3/+M99jhw8fbgDGyy+/bL/t/vvvN8qVK2ecPn0632MHDRpkhIaGXvJ6f1elShWja9euxqlTp4xTp04ZmzdvNgYNGmQAxmOPPWYYhmEcPHjQAIyQkBAjMTEx3/Nt902aNMl+W9u2bY3g4GDj8OHD+R5rtVodkjsuLs4AjAceeCDf7WPGjDEAY8mSJfbb7r33XiMwMPCq78HF3n//fcPf399ISUkxDMMw9uzZYwDG9OnT8z1u6dKlBmAsXbrUflu7du0MwBg/fvwlx7Xd9/c/devWNQ4cOJDvsS+//LIBGCNGjMh3e//+/Y3SpUvnu61KlSqXPW6rVq3yvbfnzp0zAOO9994r8Hth07hxY6Ns2bLGmTNn7Ldt3rzZ8PDwMIYNG2a/bfDgwUbZsmWN3Nxc+20nT540PDw8jFdffdV+W6dOnYybbrrJOH/+vP02q9Vq3HbbbUbNmjXtt02aNMkAjNatW+c75pX88ccfl5yLNvfee69RpUoV+9e28zYiIsJISkqy3/78888bgNGoUSMjJycn3/fm4+Njz5yammqEhYUZI0eOzPc68fHxRmho6CW3i4jIlak9XkSkBIuJiSEyMpIOHToAF9ql77rrLn788Ufy8vIA6NixI2XKlOGnn36yP+/cuXPExsZy11132W/75ZdfqFu3LnXq1OH06dP2Px07dgRg6dKl+V67Xbt21KtX75JM/v7++V4nOTmZNm3a8Oeff9pvt7XSP/LII/me+9hjj+X72jAMpk6dSu/evTEMI1+ubt26kZycnO+4V7Jw4UIiIiKIiIigUaNG/PLLLwwdOvSSK7oDBw4kIiLiqsc6deoUK1asYMSIEVSuXDnffbbN3G4099y5cwF46qmn8t1u24xtzpw51/yeryQmJoZevXoRHBwMQM2aNWnatOllW+Qvx9fX97LLLeDCpnGxsbHExsYyb948xo4dS3JyMj169ODUqVOXPP7v+wm0adOGM2fOkJKSku/25s2b2487e/Zs3njjDbZv306fPn3IzMwEsK/rX7ZsGefOnSvQ9wJw8uRJ4uLiGD58OOHh4fbbGzZsSJcuXew/C4C77rqLxMTEfEsGfv31V6xWq/2/pbNnz7JkyRLuvPNOUlNT7T/3M2fO0K1bN/bu3cvx48fzZRg5cqTTNjn8xz/+QWhoqP1r24SJe+65J9/SgubNm5OdnW3PFhsbS1JSEoMHD853/np6etK8efNLfh+IiMiVqT1eRKSEysvL48cff6RDhw72tdlw4S/fH3zwAYsXL6Zr1654eXkxcOBApkyZQlZWFr6+vkybNo2cnJx8RfvevXvZuXPnFYvWxMTEfF9f3JZ8sdmzZ/P6668TFxd3yfprm8OHD+Ph4XHJMf6+6/2pU6dISkpi4sSJTJw4sUC5Lqd58+a8/vrrWCwWAgICqFu3LmFhYZc87krf08UOHDgAYG+FvpwbzW17f/7+fkRFRREWFsbhw4evmfNydu7cyaZNmxg2bBj79u2z396+fXvGjRtHSkoKISEhVz1GhQoVrthGHxgYSOfOne1fd+/endatW3PLLbfw9ttv88EHH+R7/N8/9ChVqhRw4cOei3OUKVMm33F79epF7dq1ueOOO/jqq6947LHH8PX15Z133uHpp58mMjKSFi1acPvttzNs2DD7+vfLsb2XtWvXvuS+unXrsmDBAvvmcN27dyc0NJSffvqJTp06ARda4xs3bkytWrUA2LdvH4Zh8OKLL/Liiy9e9jUTExOpUKGC/euCnHfX6+/vsa2Ar1Sp0mVvt33gsXfvXgD7h3Z/d63zRERE/qKiXUSkhFqyZAknT57kxx9/5Mcff7zk/piYGLp27QrAoEGDmDBhAvPmzaNfv378/PPP1KlTh0aNGtkfb7Vauemmm/jwww8v+3p//0v+xVfUbVauXEmfPn1o27Ytn3/+OeXKlcPb25tJkyYxZcqUQn+PtvXk99xzD/fee+9lH9OwYcNrHufvRd+VXO57uh6Oyv33MWw36vvvvwfgySef5Mknn7zk/qlTp17xKrpNYd+jpk2bEhoayooVKy6570pXl40CTLO1Fc0rVqywd2j885//pHfv3syYMYMFCxbw4osv8tZbb7FkyRKaNGlSqNyX4+vrS79+/Zg+fTqff/45CQkJrF69mjfffNP+GNvPfsyYMXTr1u2yx/n7hzGOOu8u50rv8bXee9v3MXny5Mt+6HHxVXoREbk6/cYUESmhYmJiKFu2LOPGjbvkvmnTpjF9+nTGjx+Pv78/bdu2pVy5cvz000+0bt2aJUuWXLLTefXq1dm8eTOdOnW67mJx6tSp+Pn5sWDBgnzzoidNmpTvcVWqVMFqtXLw4MF847ouvvoLEBERQXBwMHl5eQUquotCdHQ0QL6dwv/uRnPb3p+9e/dSt25d++0JCQkkJSVRpUqVQh/TMAymTJlChw4dLlmWAPDaa68RExNzzaL9euTl5ZGWlubQY+bm5gJcctzq1avz9NNP8/TTT7N3714aN27MBx98YP/A4u9s7+Xu3bsvuW/Xrl2UKVMm3wi2u+66i2+//ZbFixezc+dODMPI17FiOz+8vb0dfs46+kOcq6levToAZcuWdZn/9kRE3JXWtIuIlECZmZlMmzaN22+/nTvuuOOSP6NHjyY1NdU+YsrDw4M77riDWbNmMXnyZHJzc/MVGnBhJ+/jx4/z5ZdfXvb1rrSr9cU8PT2xWCz29fRwYfTU33eet12B/Pzzz/Pd/umnn15yvIEDBzJ16tTLFsmXWyftbBEREbRt25ZvvvmGI0eO5LvPdpXyRnP37NkTgLFjx+a73dYFcbld9q9l9erVHDp0iPvuu++y58xdd93F0qVLOXHiRKGPfTVLly4lLS0tX1eHI8yaNQvAftyMjAzOnz+f7zHVq1cnODj4kpGFFytXrhyNGzfm22+/JSkpyX77tm3bWLhwof1nYdO5c2fCw8P56aef+Omnn7j11lvztbeXLVuW9u3bM2HCBE6ePHnJ693IOWv78ODinM7SrVs3QkJCePPNN8nJybnkfjP+2xMRcVe60i4iUgL99ttvpKam0qdPn8ve36JFCyIiIoiJibEX53fddReffvopL7/8MjfddFO+K7gAQ4cO5eeff+ahhx5i6dKltGrViry8PHbt2sXPP//MggULuOWWW66aq1evXnz44Yd0796du+++m8TERMaNG0eNGjXYsmWL/XFNmzZl4MCBjB07ljNnzthHvu3ZswfIf0Xx7bffZunSpTRv3pyRI0dSr149zp49y59//smiRYsuO1va2T755BNat27NzTffzKhRo6hWrRqHDh1izpw5xMXF3XDuRo0ace+99zJx4kSSkpJo164d69ev59tvv6Vfv372jQcLIyYmBk9PzysW/H369OGFF17gxx9/vGQDvIJKTk62X9HOzc1l9+7dfPHFF/j7+/Pcc89d1zHhwrx723Gzs7PZvHkzEyZMoEyZMvbW+D179tCpUyfuvPNO6tWrh5eXF9OnTychIcE+1vBK3nvvPXr06EHLli25//777SPfQkND+e9//5vvsd7e3gwYMIAff/yR9PR03n///UuON27cOFq3bs1NN93EyJEjiY6OJiEhgd9//51jx46xefPm63ofqlevTlhYGOPHjyc4OJjAwECaN2/ulDXxISEhfPHFFwwdOpSbb76ZQYMGERERwZEjR5gzZw6tWrXis88+c/jriogUS2ZtWy8iIubp3bu34efnZ6Snp1/xMcOHDze8vb3tY7GsVqtRqVIlAzBef/31yz4nOzvbeOedd4z69esbvr6+RqlSpYymTZsar7zyipGcnGx/HGA8+uijlz3G119/bdSsWdPw9fU16tSpY0yaNMk+4uti6enpxqOPPmqEh4cbQUFBRr9+/Yzdu3cbgPH222/ne2xCQoLx6KOPGpUqVTK8vb2NqKgoo1OnTsbEiROv+V5VqVLF6NWr11UfYxuPdblxYZcb+WYYhrFt2zajf//+RlhYmOHn52fUrl3bePHFFx2WOycnx3jllVeMatWqGd7e3kalSpWM559/Pt8YMcMo2Mi37Oxso3Tp0kabNm2u+rhq1aoZTZo0MQzjyiPf6tevf9nn/n3km8ViMcLDw40+ffoYGzduzPdY2/lw6tSpfLfbRqAdPHjQftvfR755eHgYZcuWNQYPHmzs27fP/rjTp08bjz76qFGnTh0jMDDQCA0NNZo3b278/PPPV/2ebRYtWmS0atXK8Pf3N0JCQozevXsbO3bsuOxjY2Nj7d/j0aNHL/uY/fv3G8OGDTOioqIMb29vo0KFCsbtt99u/Prrr5d8v3/88UeBMhqGYcycOdOoV6+e4eXlle+8vNLIt7+f07af6y+//JLv9itlWbp0qdGtWzcjNDTU8PPzM6pXr24MHz7c2LBhQ4Ezi4iUdBbDKMBuLSIiIm4gLi6OJk2a8P333zNkyBCz44iIiIjcMK1pFxERt2Sbr32xsWPH4uHhQdu2bU1IJCIiIuJ4WtMuIiJu6d1332Xjxo106NABLy8v5s2bx7x58xg1atQl4+VERERE3JXa40VExC3FxsbyyiuvsGPHDtLS0qhcuTJDhw7lhRde0AxoERERKTZUtIuIiIiIiIi4KK1pFxEREREREXFRKtpFREREREREXJQW/QFWq5UTJ04QHByMxWIxO46IiIiIiIgUc4ZhkJqaSvny5fHwuPL1dBXtwIkTJ7TTsIiIiIiIiBS5o0ePUrFixSver6IdCA4OBi68WSEhISankavJyclh4cKFdO3aFW9vb7PjiEl0HgjoPJALdB6Ijc4FAZ0HcoG7nAcpKSlUqlTJXo9eiYp2sLfEh4SEqGh3cTk5OQQEBBASEuLS/wGKc+k8ENB5IBfoPBAbnQsCOg/kAnc7D661RFsb0YmIiIiIiIi4KBXtIiIiIiIiIi5KRbuIiIiIiIiIi1LRLiIiIiIiIuKiVLSLiIiIiIiIuCgV7SIiIiIiIiIuSkW7iIiIiIiIiItS0S4iIiIiIiLiolS0i4iIiIiIiLgoFe0iIiIiIiIiLkpFu4iIiIiIiIiLUtEuIiIiIiIi4qJUtIuIiIiIiIi4KBXtIiIiIiIiIi5KRbuIiIiIiIiIi1LRLiIiIiIiIuKiVLSLiIiIiIiIuCgV7SIiIiIiIiIuytSifcWKFfTu3Zvy5ctjsViYMWPGJY/ZuXMnffr0ITQ0lMDAQJo1a8aRI0fs958/f55HH32U0qVLExQUxMCBA0lISCjC70JERERERETEOUwt2tPT02nUqBHjxo277P379++ndevW1KlTh2XLlrFlyxZefPFF/Pz87I958sknmTVrFr/88gvLly/nxIkTDBgwoKi+BRERERERERGn8TLzxXv06EGPHj2ueP8LL7xAz549effdd+23Va9e3f7vycnJfP3110yZMoWOHTsCMGnSJOrWrcvatWtp0aKF88KLiIiIiIiIOJmpRfvVWK1W5syZwzPPPEO3bt3YtGkT1apV4/nnn6dfv34AbNy4kZycHDp37mx/Xp06dahcuTK///77FYv2rKwssrKy7F+npKQAkJOTQ05OjvO+Kblhtp+Pfk4lm84DAZ0HcoHOA7HRuSCg80AucJfzoKD5XLZoT0xMJC0tjbfffpvXX3+dd955h/nz5zNgwACWLl1Ku3btiI+Px8fHh7CwsHzPjYyMJD4+/orHfuutt3jllVcuuX3hwoUEBAQ4+lsRJ4iNjTU7grgAnQcCOg/kAp0HYqNzQUDngVzg6udBRkZGgR7nskW71WoFoG/fvjz55JMANG7cmDVr1jB+/HjatWt33cd+/vnneeqpp+xfp6SkUKlSJbp27UpISMiNBRenOnz2MEuWL+Ge2+/B29vb7DhikpycHGJjY+nSpYvOgxJM54GAzgP5i84FAZ0HcoG7nAe2ju9rcdmivUyZMnh5eVGvXr18t9etW5dVq1YBEBUVRXZ2NklJSfmutickJBAVFXXFY/v6+uLr63vJ7d7e3i79Qy3prIaVTlM6cSb9DH1y+hAVcOWfsZQM+m9WQOeBXKDzQGx0LgjoPJALXP08KGg2l53T7uPjQ7Nmzdi9e3e+2/fs2UOVKlUAaNq0Kd7e3ixevNh+/+7duzly5AgtW7Ys0rzifAlpCRxJOUJ6XjqLDy2+9hNERERERETcnKlX2tPS0ti3b5/964MHDxIXF0d4eDiVK1fmX//6F3fddRdt27alQ4cOzJ8/n1mzZrFs2TIAQkNDuf/++3nqqacIDw8nJCSExx57jJYtW2rn+GLoSPIR+78vOriIIY2GmJhGRERERETE+Uwt2jds2ECHDh3sX9vWmd97773873//o3///owfP5633nqLxx9/nNq1azN16lRat25tf85HH32Eh4cHAwcOJCsri27duvH5558X+fcizpevaD+wCMMwsFgsJiYSERERERFxLlOL9vbt22MYxlUfM2LECEaMGHHF+/38/Bg3bhzjxo1zdDxxMUdTjtr//VjqMXae3km9iHpXeYaIiIiIiIh7c9k17SJ/d/GVdoCF+xealERERERERKRoqGgXt2Er2iN9IgEV7SIiIiIiUvypaBe3YSvaO4d3BmDZoWWczz1vZiQRERERERGnUtEubsO2pr1pSFOiAqPIzM1k9ZHVJqcSERERERFxHhXt4hYyczJJTE8EoIxPGTpHX7jarhZ5EREREREpzlS0i1s4lnIMgADvAII9g+kS3QWAhQdUtIuIiIiISPGlol3cgq01vlJIJSwWC52qdgIgLj6OhLQEM6OJiIiIiIg4jYp2cQu2TegqhVQCoGxgWZpENQEg9kCsablEREREREScSUW7uIW/F+0A3ap3A7SuXUREREREii8V7eIWLle0d63eFbhQtFsNqym5REREREREnElFu7gF25r2yqGV7bfdVuk2ArwDSEhPYGvCVrOiiYiIiIiIOI2KdnELtivtFYMr2m/z9fKlfdX2gFrkRURERESkeFLRLi7PMIy/2uNDK+W7z7aufcH+BUWeS0RERERExNlUtIvLO3f+HBk5GUD+K+3w17r2lUdW2h8jIiIiIiJSXKhoF5dnu8oeERCBv7d/vvtql65NpZBKZOdls+LwCjPiiYiIiIiIOI2KdnF5tqL94k3obCwWi0a/iYiIiIhIsaWiXVze1Yp2+KtFXuvaRURERESkuFHRLi7vaPKFcW8Xz2i/WKfoTnhYPNhxagfHUo4VZTQRERERERGnUtEuLu9IytWvtIf7h9OsfDMAYvfHFlkuERERERERZ1PRLi7vWu3xoBZ5EREREREpnlS0i8uztccXpGiPPRBLnjWvSHKJiIiIiIg4m4p2cWm51lyOpx4HoFLo5de0AzSv0Jxgn2DOZp5lU/ymooonIiIiIiLiVCraxaWdSD2B1bDi7eFNVFDUFR/n7elNp+hOgEa/iYiIiIhI8aGiXVyabT17xZCKeFiufrp2jda6dhERERERKV5UtItLs497u0prvI1tXfuao2tIzUp1ai4REREREZGioKJdXFpBdo63qR5eneqlqpNrzWXZoWVOTiYiIiIiIuJ8KtrFpdmL9pBrF+2g0W8iIiIiIlK8qGgXl3Y05drj3i5mK9q1GZ2IiIiIiBQHKtrFpdmutBdkTTtAx2od8bR4svfsXg6eO+jMaCIiIiIiIk6nol1cWmHWtAOE+IbQslJLQFfbRURERETE/aloF5eVlp3GufPngIIX7fDX6LeFB1S0i4iIiIiIe1PRLi7LNu4txDeEEN+QAj/Ptq598YHF5FpznZJNRERERESkKKhoF5dV2NZ4m1vK30Ipv1IkZyXzx/E/nBFNRERERESkSKhoF5d1vUW7p4cnnaM7Axr9JiIiIiIi7k1Fu7gs+7i3As5ov5hGv4mIiIiISHGgol1cVmHHvV3MVrSvO76OpPNJjowlIiIiIiJSZFS0i8u63vZ423PqlKmD1bCy+MBiR0cTEREREREpEiraxWXZ2+Ovo2iHi0a/qUVeRERERETclIp2cUlWw2of+VYppPDt8QDdanQDLmxGZxiGw7KJiIiIiIgUFRXt4pJOpZ8iKy8LCxYqhFS4rmO0q9IObw9vDicfZu/ZvQ5OKCIiIiIi4nwq2sUl2dazlwsuh4+nz3UdI9AnkNaVWwNqkRcREREREfekol1c0o2uZ7fR6DcREREREXFnKtrFJdnHvV3nenabbtUvrGtfemgp2XnZN5xLRERERESkKKloF5d0I+PeLtYoqhERARGkZafx+9HfHRFNRERERESkyKhoF5fkqPZ4D4sHXap3AdQiLyIiIiIi7kdFu7gkR7XHw18t8gsPqGgXERERERH3oqJdXJKj2uMBukRfuNK+8cRGTmecvuHjiYiIiIiIFBUV7eJysnKziE+LBxxTtJcLLsdNZW/CwGDRgUU3fDwREREREZGioqJdXM7x1OMA+Hn5USagjEOOaW+R17p2ERERERFxIyraxeVcvJ7dYrE45JgXz2s3DMMhxxQREREREXE2Fe3ichy5nt2mdeXW+Hn5cTz1ODtO7XDYcUVERERERJxJRbu4nKPJjhn3djF/b3/aVmkLqEVeRERERETch4p2cTmOHPd2MY1+ExERERERd6OiXVzOkRTHt8fDX+valx9azvnc8w49toiIiIiIiDOoaBeX44w17QD1I+pTPrg8mbmZrDqyyqHHFhERERERcQYV7eJSDMNwWtFusVjy7SIvIiIiIiLi6lS0i0tJzkomLTsNgEqhjl3TDtA1+kLRvmD/AocfW0RERERExNFUtItLsV1lL+1fmgDvAIcfv3N0ZyxY2JKwhZOpJx1+fBEREREREUdS0S4uxRnj3i4WERjBzeVuBmDRgUVOeQ0RERERERFHUdEuLsU+7s0JrfE29nXtGv0mIiIiIiIuTkW7uBT7JnQhzrnSDuTbjM5qWJ32OiIiIiIiIjdKRbu4FGfNaL/YbZVuI9A7kMT0RLYkbHHa64iIiIiIiNwoFe3iUpy9ph3Ax9OHDtU6ABr9JiIiIiIirk1Fu7iUoljTDhr9JiIiIiIi7kFFu7iMPGsex1KOAc690g5/rWtfdWQV6dnpTn0tERERERGR66WiXVxGfFo8eUYenhZPygWVc+pr1SpdiyqhVcjOy2bF4RVOfS0REREREZHrpaJdXIatNb5CSAU8PTyd+loWi8V+tV0t8iIiIiIi4qpUtIvLsI97c3JrvM3Fo99ERERERERckYp2cRlFXbR3qtYJD4sHO0/vtO9aLyIiIiIi4kpUtIvLOJry/+PeQoqmaC/lX4pbK9wKQOyB2CJ5TRERERERkcJQ0S4uo6jGvV1Mo99ERERERMSVqWgXl1HU7fEA3Wp0A2DRgUXkWfOK7HVFREREREQKQkW7uAx7e3wRFu23VriVEN8Qzmae5c+TfxbZ64qIiIiIiBSEinZxCRk5GZzOOA1ApZCia4/38vCiU7VOgFrkRURERETE9ahoF5dg2709yCeIML+wIn1tjX4TERERERFXpaJdXMLF69ktFkuRvna36hfWtf9+7HdSslKK9LVFRERERESuRkW7uATbevaibI23qVaqGjXCa5BrzWXZoWVF/voiIiIiIiJXoqJdXIIZO8dfzD76bZ/WtYuIiIiIiOtQ0S4uweyi3Tb6beEBrWsXERERERHXoaJdXIIZ494u1r5qe7w8vNh3dh8Hzh0wJYOIiIiIiMjfqWgXl2C70m7GmnaAEN8QWlZsCWgXeRERERERcR0q2sV0hmGY3h4Pf+0ir6JdRERERERchYp2Md2ZzDOczz0PQMWQiqblsM1rX3xwMbnWXNNyiIiIiIiI2KhoF9PZrrJHBkbi6+VrWo6by91MuH84KVkprDu2zrQcIiIiIiIiNiraxXSu0BoP4OnhSefozoBa5EVERERExDWoaBfTuUrRDheta9foNxERERERcQEq2sV0R5PNHfd2sS7RXQBYf3w95zLPmZxGRERERERKOhXtYrojKeaOe7tYpdBK1C1TF6thZfHBxWbHERERERGREk5Fu5jOldrjQaPfRERERETEdahoF9O5Uns8/DX6beH+hRiGYXIaEREREREpyVS0i6ly8nI4kXoCuNCa7graVmmLj6cPh5MPs+fMHrPjiIiIiIhICaaiXUx1PPU4BgY+nj6UDSxrdhwAAn0CaVO5DaAWeRERERERMZeKdjGVbT17pZBKeFhc53S0t8hr9JuIiIiIiJjIdaokKZFcbT27ja1oX3pwKdl52SanERERERGRkkpFu5jKfqXdRdaz2zSMbEjZwLKk56Sz5ugas+OIiIiIiEgJpaJdTGUf9xbiWlfaPSwe+XaRFxERERERMYOKdjHV0RTXbI8H6Bqtol1ERERERMylol1M5art8QBdqncB4M+Tf3Iq/ZTJaUREREREpCRS0S6msrfHu+CV9qigKBpFNsLAYNGBRWbHERERERGREkhFu5gmJSuF5Kxk4MLIN1ek0W8iIiIiImImFe1iGtu4t1J+pQj2DTY5zeVdvBmdYRgmpxERERERkZJGRbuYxpXXs9u0rtwafy9/TqSeYPup7WbHERERERGREkZFu5jGldez2/h5+dGuajtAu8iLiIiIiEjRU9EuprGPe3OxGe1/Zxv9tmD/ApOTiIiIiIhISaOiXUzjDu3x8Ne69hWHV5CZk2lyGhERERGRK7MaVrMjiIOpaBfTuEN7PEC9iHpUCK7A+dzzrDqyyuw4IiIiIiKXNWnTJELeCuHXHb+aHUUcSEW7mMZdinaLxZJvF3kREREREVez49QOHpn7COk56fy0/Sez44gDqWgXU1gNK8dSjgGuX7TDXy3yWtcuIiIiIq4mOy+bIdOGcD73PACbTm4yOZE4kop2MUVCWgI51hw8LB6UDy5vdpxr6hzdGQsWtiZu5WTqSbPjiIiIiIjYvbT0JeLi4yjlVwqA/ef2k5KVYnIqcRQV7WIKW2t8+eDyeHl4mZzm2soElKFp+aYAxB6INTmNiIiIiMgFyw8t593V7wLwdZ+vqRRyYZPnzfGbzYwlDqSiXUxhH/fmBq3xNhr9JiIiIiKuJOl8EsNmDMPA4P4m99O/bn+alGsCwKZ4tcgXFyraxRT2cW8hrj3u7WLdanQDIHZ/rEZpiIiIiIjpRs8dzZHkI1QvVZ2x3ccC0DiyMQBx8XGm5RLHUtEupnCXneMv1qJiC4J8gjiVcUrtRiIiIiJiqh+2/kDM1hg8LZ58P+B7gnyCAHSlvRhS0S6mcMei3cfThw5VOwAa/SYiIiIi5jmSfISH5zwMwH/a/ocWFVvY72sSdaFo3564ney8bFPyiWOpaBdTuOOadtDoNxERERExl9Wwcu+Me0nOSqZ5hea80OaFfPdXDq1MKb9S5Fhz2HFqh0kpxZFUtIsp3HFNO0C36hfWta86sor07HST04iIiIhISfPh7x+y7NAyAr0Dmdx/Mt6e3vnut1gsNI5qDGhee3Ghol2K3Pnc8ySmJwLud6W9RngNqoZVJceaw/LDy82OIyIiIiIlyOb4zfx78b8BGNt9LDVL17zs4+xFu9a1Fwsq2qXIHUs5BkCAdwDh/uEmpykci8Xy1+i3fWqRFxEREZGikZmTyZBpQ8ix5tC3dl/ub3L/FR9rW9euHeSLBxXtUuQubo23WCwmpyk82+i3hQe0GZ2IiIiIFI3nFz/P9lPbiQyM5MveX17179G2HeTj4uM0qrgYUNEuRc4dd46/WMdqHfGweLDr9C779yIiIiIi4iwL9y/k43UfAzCp7yQiAiOu+vjapWvj6+lLanYqB88dLIqI4kQq2qXIuXvRHuYXRvMKzQGNfhMRERER5zqTcYbhM4YD8GizR+lRs8c1n+Pt6c1NkTcBWtdeHKholyJ3NNk9x71dzLaLvIp2EREREXEWwzAYNXsUJ9NOUqdMHd7t8m6Bn2tb164d5N2finYpckdS3HPc28Vs89oXHVhEnjXP5DQiIiIiUhx9u/lbpu2chpeHFzEDYgjwDijwc207yMclxDknnBQZFe1S5Ny9PR6gWYVmhPqGcu78OTae3Gh2HBEREREpZg6cO8Bj8x4D4LUOr3FzuZsL9XxdaS8+VLRLkTIMo1i0x3t5eNEpuhOg0W8iIiIi4li51lyGTh9KWnYabSq34V+3/avQx2gY2RALFk6mnSQhLcEJKaWoqGiXInXu/DnSc9IBqBhS0eQ0N8a+rl2j30RERETEgd5e9TZrjq4hxDeE7/p/h6eHZ6GPEegTSK3StQDNa3d3phbtK1asoHfv3pQvXx6LxcKMGTOu+NiHHnoIi8XC2LFj891+9uxZhgwZQkhICGFhYdx///2kpaU5N7hcN1trfERABP7e/ianuTFdorsA8PvR30nJSjE5jYiIiIgUB+uPr+e/y/4LwLie46gaVvW6j2Wb164d5N2bqUV7eno6jRo1Yty4cVd93PTp01m7di3ly5e/5L4hQ4awfft2YmNjmT17NitWrGDUqFHOiiw3qDi0xttUK1WNmuE1yTPyWHJwidlxRERERMTNpWenc8+0e8gz8rir/l0MuWnIDR2vcWRjQEW7uzO1aO/Rowevv/46/fv3v+Jjjh8/zmOPPUZMTAze3t757tu5cyfz58/nq6++onnz5rRu3ZpPP/2UH3/8kRMnTjg7vlwH25X2SqHuu3P8xTT6TUREREQc5emFT7P37F4qhlTki15fYLFYbuh4tivtao93b15mB7gaq9XK0KFD+de//kX9+vUvuf/3338nLCyMW265xX5b586d8fDwYN26dVf8MCArK4usrCz71ykpF1qbc3JyyMnJcfB3IRc7eO4gABWDKl7Xe217jqv8nDpW7chnf3zGwv0LXSZTSeBq54GYQ+eBgM4D+YvOBQH3Pg9m753NhI0TAPj69q8J8gq64e+jfukLNdTeM3s5l36OIJ+gG87pDtzlPChoPpcu2t955x28vLx4/PHHL3t/fHw8ZcuWzXebl5cX4eHhxMfHX/G4b731Fq+88solty9cuJCAgILPPpTCW39oPQBpJ9KYO3fudR8nNjbWUZFuSFZeFp54sv/cfr6e/jXlfMuZHalEcZXzQMyl80BA54H8ReeCgPudB0k5STyx+wkA+kb0JXNHJnN3XP/flS8W7h3O2ZyzTJw5kTqBdRxyTHfh6udBRkZGgR7nskX7xo0b+fjjj/nzzz9vuC3k755//nmeeuop+9cpKSlUqlSJrl27EhIS4tDXkvze/e5dSIKuzbvSs27PQj8/JyeH2NhYunTpcslyCbN8kfwFK46sILdyLj2bFv57ksJzxfNAip7OAwGdB/IXnQsC7nkeGIZB/1/6k5ybTIOIBnx/3/f4evk67Pgt0lowd99c/Kv50/OWkvF3VXc5D2wd39fiskX7ypUrSUxMpHLlvzYsy8vL4+mnn2bs2LEcOnSIqKgoEhMT8z0vNzeXs2fPEhUVdcVj+/r64ut76X8I3t7eLv1DLQ6OplzYiK5aeLUbeq9d6WfVrUY3VhxZweLDixndYrTZcUoUVzoPxDw6DwR0HshfdC4IuNd5MH7DeObum4uvpy9TBk4hyN+xLew3l7uZufvmsuXUFrd5TxzF1c+DgmZz2TntQ4cOZcuWLcTFxdn/lC9fnn/9618sWLAAgJYtW5KUlMTGjRvtz1uyZAlWq5XmzZubFV2uINeay/HU40Dx2D3epmv1rgAsObiEnDzXXjcjIiIiIq5j9+ndPLXgQgfw253f5qbImxz+Go2jGgPajM6dmXqlPS0tjX379tm/PnjwIHFxcYSHh1O5cmVKly6d7/He3t5ERUVRu3ZtAOrWrUv37t0ZOXIk48ePJycnh9GjRzNo0KDLjocTc51MPYnVsOLt4U1U0JU7IdxNk6gmlPYvzZnMM6w7vo7WlVubHUlEREREXFxOXg5Dpg0hMzeTztGdebz55ffxulG2HeS3Jm4lJy8Hb0/XvfIsl2fqlfYNGzbQpEkTmjS5cCI99dRTNGnShJdeeqnAx4iJiaFOnTp06tSJnj170rp1ayZOnOisyHIDbOPeKoRUwMPisk0ehebp4UmX6l0AjX4TERERkYJ5ZfkrbDy5kVJ+pfhf3/857e/H1cKqEeIbQnZeNjtP73TKa4hzmXqlvX379hiGUeDHHzp06JLbwsPDmTJligNTibPYivbi1Bpv0zW6Kz9u+5GF+xfyaodXzY4jIiIiIi5s1ZFVvLXqLQAm9p5IhZAKTnsti8VC46jGrDi8grj4OBpGNnTaa4lzFJ/LneLyinPRbrvS/seJPzibedbkNCIiIiLiqlKyUhg6fShWw8q9je7ljnp3OP01m0Rd6GzedHKT019LHE9FuxQZ287xlUOKX9FeMaQi9SPqYzWsLD6w2Ow4IiIiIuKiHp/3OIeSDlE1rCqf9PikSF7TvhldQlyRvJ44lop2KTK2K+2VQiuZnMQ5bLvIa127iIiIiFzOL9t/4dvN3+Jh8WBy/8mE+IYUyevarrTHxccVanmyuAYV7VJkinN7PFxUtB9YqF+GIiIiIpLP8ZTjPDj7QQCeb/18kU4cqhtRFx9PH5LOJ3Eo6VCRva44hop2KTL29vhiWrS3rdIWX09fjiQfYfeZ3WbHERERkRJk4f6F3PnLnew8pd3BXZHVsDJ85nDOnT/HLeVv4eV2Lxfp6/t4+lA/oj6gee3uSEW7FIm07DT7Bm2VQopne3yAdwBtqrQB1CIvIiIiRWvMwjH8suMXbvvmNpYeXGp2HPmbT9Z9wqIDi/D38uf7/t+bMivdvhldvDajczcq2qVIHE2+cJU9xDeEUL9Qk9M4T9dorWsXERGRorX3zF62Jm4FIOl8Et2+78bkzZNNTiU2WxO28tyi5wD4sNuH1C5T25QcTcqpaHdXKtqlSBT39ew2tnXtSw8tJSs3y+Q0IiIiUhJM3zUdgHZV2nFX/bvIseYwbMYwXl3+qvbZMdn53PMMmTaErLwsetXsxYNNHzQti30HebXHux0V7VIkivt6dpuGkQ2JDIwkIyeDNUfXmB1HRERESoCpO6cCMKjBIKYMnMJzrS5c1X152cuM+G0E2XnZZsYr0f6z5D9sTdxKREAEX/f5GovFYlqWRpGNADiWcozTGadNyyGFp6JdioR93FsxXc9uY7FYNPpNREREiszR5KOsP74eCxb61emHh8WDtzq/xYTbJ+Bp8eR/cf+jZ0xPks4nmR21xFl8YDEf/P4BAF/3+ZrIoEhT8wT7BlMjvAYAm06qRd6dqGiXIlFS2uPhrxb5BfsXmJxEREREirsZu2YA0KpyK6KCouy3j2o6itl3zybIJ4jFBxfT+pvWHE46bFLKkudc5jnunXEvAA82fZDetXubnOiCi+e1i/tQ0S5FoqS0xwN0ie4CXNjkIzE90eQ0IiIiUpzZWuMH1BlwyX3da3Rn1X2rqBBcge2nttPi6xZsOLGhqCOWOIZh8NCchzieepya4TX5oOsHZkey0w7y7klFuxSJktIeDxAZFGnf6GPRgUXmhhEREZFiKzE9kZVHVgIwoO6lRTtAo6hGrH1gLQ0jGxKfFk+7/7Vj1u5ZRRmzxInZGsPP23/G0+JJzIAYAn0CzY5kp83o3JOKdnE6q2G1j3wrCVfaQaPfRERExPl+2/0bVsNK03JNqRJW5YqPqxhSkZX3raRb9W5k5GTQ76d+jFs/rgiTlhyHkg7x6NxHAfhv+//SrEIzkxPlZxv7tvvMbjJyMkxOIwWlol2c7lT6KbLysrBgoUJIBbPjFIluNboBF4p2jVoRERERZ7C1xg+sO/Cajw3xDWHW4Fk80OQBrIaV0fNG8/SCp7EaVmfHLDHyrHkMmz6MlKwUbqt0G8+1fs7sSJeICooiKigKq2FlS8IWs+NIAaloF6ezrWcvF1wOH08fk9MUjVaVWuHv5c/JtJNsS9xmdhwREREpZpLOJ7H4wGLgyq3xf+ft6c3E3hN5q9NbAHy49kP+8cs/dMXVQd5b8x4rj6wkyCeIyf0n4+XhZXaky1KLvPtR0S5OV5LWs9v4evnSvmp7QC3yIiIi4nhz9swhx5pDvYh61C5Tu8DPs1gsPNf6OX4Y+AM+nj5M2zmNjt921Oa5N+jPk3/y4tIXAfi0x6dEl4o2OdGV2Tej09g3t6GiXZyuJI17u5hGv4mIiIizFKY1/nIGNRjEoqGLCPcPZ93xdbT4qgW7T+92ZMQSIyMngyHThpBrzWVg3YHc2+hesyNdlXaQdz8q2sXpStomdDbdql9Y177i8AoyczJNTiMiIiLFRXp2OvP3zQcK3hp/OW2qtGHNiDVEl4rmYNJBWn7dkhWHVzgqZonxTOwz7Dq9i3JB5Zhw+wQsFovZka7K1h6/NXErudZcc8NIgahoF6c7klLy2uMB6pSpQ8WQimTlZdnHsYiIiIjcqAX7F5CZm0m1sGo0imx0Q8eqXaY2a+9fS4uKLTh3/hxdJndhytYpDkpa/M3dO5dxf1zYif9//f5H6YDSJie6turh1QnyCeJ87nl1V7gJFe3idCW1Pd5isdhHvy3YpxZ5ERERcYyLW+MdcVU3IjCCJcOWMLDuQLLzshkybQhvrnxTE3Cu4VT6KUbMHAHAE82fsC+NdHUeFg/7hz1qkXcPKtrF6Upq0Q4XjX47oM3oRERE5MZl5WYxe89s4MZa4//O39ufn//xM2NajgHghSUvMHLWSHLychz2GsWJYRiMnDWShPQE6kfUt+/I7y5s69q1g7x7UNEuTpWVm0V8WjxQMov2TtU6YcHCtsRtnEg9YXYcERERcXOLDy4mJSuF8sHlaV6xuUOP7WHx4L2u7zGu5zg8LB58velrek3pRUpWikNfpzj4etPXzNw9Ex9PH2IGxODv7W92pEJpUk6b0bkTFe3iVMdTjwPg5+VHmYAyJqcpeqUDSnNL+VsAiN0fa3IaERERcXfTdk4DoH+d/nhYnPNX+UeaPcLMQTMJ8A4g9kAsrb9pbd9YWGDvmb08Mf8JAN7o+AaNom5sXwEzXDyrXcsgXJ+KdnGqi2e0u/pOms5i20Veo99ERETkRuRac5m5eybg2Nb4y7m91u2sGL6CqKAotiZupcXXLdRKDeTk5XDP9HvIyMmgQ9UOPNXyKbMjXZf6EfXx8vDibOZZjqboAxlXp6JdnKqkjnu7mG1TktgDsVgNq8lpRERExF2tPLyS0xmnKe1fmrZV2jr99ZqWb8q6B9ZRP6I+J1JP0GZSG+btnef013Vlb6x8g/XH1xPqG8q3/b51WreDs/l6+VI/oj4Am06qRd7VuedZJm7DfqU9tGSNe7tYi4otCPYJ5nTGaX1CLSIiItfN1hrft3ZfvDy8iuQ1K4dWZvWI1XSq1om07DR6/9CbCRsmFMlru5rfj/7O6yteB2D87ePd/u+3F7fIi2tT0S5OZd85PqTkXmn39vSmY7WOgEa/iYiIyPWxGlam75oOOL81/u9C/UKZO2QuwxsPJ8/I46E5D/Fs7LMlqoMwNSuVodOHkmfkMeSmIQxqMMjsSDfMtoO8NqNzfSraxamOpJTccW8Xs7XIa/SbiIiIXI/1x9dzPPU4wT7BdI7uXOSv7+Ppwzd9vuHV9q8C8O6adxn06yAyczKLPIsZnlzwJPvP7adyaGU+6/mZ2XEcQjvIuw8V7eJUWtN+ga1oX31kNWnZaSanEREREXdja42/vdbt+Hr5mpLBYrHwYrsXmdx/Mt4e3vyy4xc6T+7M6YzTpuQpKtN3TufrTV9jwcJ3/b4jzC/M7EgO0Sjywq73R5KPcDbzrMlp5GpUtIvTGIbB4eTDQMle0w5QvVR1qoVVI8eaw/JDy82OIyIiIm7EMAx70V7UrfGXc0/De1g4dCFhfmGsObqGll+3ZO+ZvWbHcoqTqScZOWskAM+0eoZ2VduZnMhxQv1CiS4VDWhdu6tT0S5Ok5yVbL+qXCmkZBftFotFo99ERETkumxJ2ML+c/vx8/Kje43uZscBoH3V9qwZsYaqYVXZd3YfLb9uyeojq82O5VCGYXDfzPs4k3mGxlGNebXDq2ZHcjjbZnTaQd61qWgXp7G1xpf2L02gT6DJacxnX9e+X+vaRUREpOBsV9m71+hOkE+QyWn+UjeiLmvvX0uz8s04k3mGTt914qdtP5kdy2HG/TGOBfsX4OflR8yAGHw8fcyO5HC2zejiEuLMDSJXpaJdnEbj3vLrWK0jnhZPdp/ZzeGkw2bHERERETcxbdf/t8bXMb81/u8igyJZNnwZfWv3JSsvi0FTB/HOqncwDMPsaDdkx6kd/Cv2XwC81+U96kXUMzmRc9h3kNeVdpemol2cxj7urYRvQmcT6hdKi4otAF1tFxERkYLZc2YP2xK34eXhxe21bjc7zmUFeAcw9c6pPNH8CQCeW/wcD895mFxrrsnJrk92XjZDpg3hfO55utfozqPNHjU7ktPY2uN3nd5VYiYBuCMV7eI0mtF+KY1+ExERkcKwtcZ3qtaJUv6lTE5zZZ4enoztPpax3cZiwcKEjRPo/UNvUrNSzY5WaC8tfYm4+DhK+5fmmz7fYLFYzI7kNOWDyxMREEGekce2xG1mx5ErUNEuTnM0RePe/s5WtC86sIg8a57JaURERMTVudKu8QXxRIsnmH7XdPy9/Jm/bz5tJrXheMpxs2MV2PJDy3l39bsAfNn7S8oFlzM5kXNZLBbNa3cDKtrFabSm/VLNyjcjzC+MpPNJ/HHiD7PjiIiIiAs7knyEP078gQULfWv3NTtOgfWt05flw5dTNrAsmxM20/yr5mxJ2GJ2rGtKOp/EsBnDMDC4v8n99K/b3+xIRaJxZGNAY99cmYp2cRqtab+Up4cnnaM7A1rXLiIiIlc3fed0ANpUaUNkUKTJaQqnWYVmrL1/LXXL1OV46nFaf9OaBftce+zt6LmjOZJ8hOqlqjO2+1iz4xQZXWl3fSraxSnyrHkcT73QCqWiPb+u0Rr9JiIiItfmyrvGF0S1UtVYPWI17au2JzU7lV5TevHVn1+ZHeuyftj6AzFbY/C0ePL9gO9darSes9k2o9uSsEXLN12UinZxivi0eHKtuXhaPCkXVLzXAhWWbV372mNrST6fbHIaERERcUUJaQmsPLwSwK3btEv5l2L+kPnc0/Ae8ow8Rs4ayQuLX8BqWM2OZnck+QgPz3kYgP+0/Y992k9JUTO8JgHeAWTkZLD37F6z48hlqGgXp7C1xlcIqYCnh6fJaVxLlbAq1C5dmzwjjyUHl5gdR0RERFzQzN0zMTBoVr6Z23ct+nr58l2/73ip7UsAvLnqTe6Zdg9ZuVkmJwOrYeXeGfeSnJVM8wrNeaHNC2ZHKnKeHp40imwEaF67q1LRLk6hneOvzj76TS3yIiIichnutmv8tVgsFl7p8AqT+k7Cy8OLH7b9QJfJXTiTccbUXB/+/iHLDi0j0DuQyf0n4+3pbWoes9ha5LWu3TWpaBensO8cH6Kd4y9H89pFRETkSs5lnmPxwcVA8SnabYY3Hs78IfMJ8Q1h5ZGV3PbNbew/u9+ULJvjN/Pvxf8GYGz3sdQsXdOUHK6gSdSFzei0g7xrUtEuTqGd46+ufdX2eHt4c+DcAfad3Wd2HBEREXEhs/fMJteaS4OyDahVupbZcRyuU3QnVo9YTeXQyuw5s4cWX7dg7bG1RZohMyeTIdOGkGPNoW/tvtzf5P4ifX1Xc/EO8oZhmJxG/k5FuziFivarC/IJolXlVoBa5EVERCQ/d981viAalG3A2vvXcnO5mzmdcZoO33Zg6o6pRfb6zy9+nu2nthMZGMmXvb/EYrEU2Wu7ogZlG+Bp8eR0xmlOpJ4wO478jYp2cQqtab82jX4TERGRv0vLTmP+vvlA8WuN/7tyweVYPnw5vWr24nzuef7xyz/4YM0HTr/Su3D/Qj5e9zEAk/pOIiIwwqmv5w78vPyoG1EX0Lp2V6SiXZxCa9qvrVuNbgAsObiEnLwck9OIiIiIK5i/bz7nc89TvVR1GkY2NDuO0wX5BDFj0AweueURDAzGxI5h9NzR5FpznfJ6ZzLOMHzGcAAebfYoPWr2cMrruCPbunbtIO96VLSLw2XkZHA64zSgK+1X0ziqMWUCypCanVrk67hERETENV28a3xJadn28vDis56f8UHXD7Bg4fMNn9Pvx36kZac59HUMw2DU7FGcTDtJnTJ1eLfLuw49vruz7SAflxBnag65lIp2cbhjKceAC5+chvmFmRvGhXlYPOgS3QVQi7yIiIhAVm4Ws/fMBop/a/zfWSwWnmr5FL/84xf8vPyYs3cObSe1dej66m83f8u0ndPw8vAiZkAMAd4BDjt2caAr7a5LRbs43MWt8SXlE+LrpdFvIiIiYrPowCJSs1OpEFyBWyvcanYcUwysN5Cl9y6lTEAZNsVvosVXLdiWuO2Gj3vg3AEem/cYAK91eI2by918w8csbhpFNQLgYNJBks4nmRtG8lHRLg6nneMLzla0/3H8D85knDE5jYiIiJjJ1hrfv05/PCwl96/pLSq2YO39a6lVuhZHU47S6ptWLDqw6LqPl2vNZej0oaRlp9Gmchv+ddu/HJi2+Aj3D6dKaBXgwgx7cR0l97eBOI2K9oIrH1yeBmUbYGCw+OBis+OIiIiISXKtuczcPRMoea3xl1M9vDprRqyhdeXWpGSl0COmB5M2TbquY7296m3WHF1DiG8I3/X/Dk8PTwenLT4untcurkNFuzjc0WSNeysMjX4TERGRFYdXcCbzDGUCytCmShuz47iE0gGliR0ay6AGg8i15jLitxG8tPSlQo2EW398Pf9d9l8AxvUcR9Wwqs4JW0w0jmwMQFx8nKk5JD8V7eJwR1I07q0wbKPfFuxf4PS5pCIiIuKabK3xfWv3xcvDy+Q0rsPPy4+YATH8u/W/AXhtxWsMmzGMrNysaz43PTude6bdQ56Rx13172LITUOcHdft6Uq7a1LRLg6n9vjCaVO5Db6evhxLOcau07vMjiMiIiJFzGpY8416k/w8LB680ekNvuz9JZ4WT77f8j3dY7pzLvPcVZ/39MKn2Xt2LxVDKvJFry+0QXIB2HaQ33FqR4E+GJGioaJdHMowDLXHF5K/tz9tq7QF1CIvIiJSEq07to6TaScJ8Q2hU7VOZsdxWQ/c/ABz7p5DsE8wyw4t47ZvbuPguYOXfezsvbOZsHECAN/2+5ZS/qWKMqrbqhhSkXD/cHKtuWw/td3sOPL/VLSLQ53JPENmbiZw4T96KZhu1S+0yGv0m4iISMlju8p+e63b8fXyNTmNa+tWoxsr71tJheAK7Dq9ixZft2D98fX5HpOUk8SDcx4E4OmWT9OxWkczoroli8Wiee0uSEW7OJStNT4yMFL/0ykE2+i3ZYeWqRVJRESkBDEMg6k7pwIwoI5a4wuiUVQj1j2wjkaRjUhMT6T9/9ozY9cM4ML7+dnRzziVcYqbyt7EGx3fMDesG7IX7VrX7jJUtItDaT379WlQtgFRQVFk5GSw+uhqs+OIiIhIEdmcsJmDSQfx9/Kne43uZsdxGxVCKrDyvpV0r9GdzNxMBvw0gI/XfsyXm75kQ8oGfD19iRkQo4tI16FxVGNAO8i7EhXt4lBaz359LBaL/Wq71rWLiIiUHLbW+O41uhPoE2hyGvcS7BvMrMGzGHXzKAwM/rngnzyx4AkA3ujwBjdF3mRyQvdk20F+c8JmrIbV5DQCKtrFwWxX2jXurfBs69oX7F9gchIREREpKvbWeO0af128PLwYf/t43un8DgB5Rh6Nghoxutlok5O5r1qla+Hn5Udadhr7zu4zO44AGgIpDmWb0a4r7YXXObozcKEVKSEtgcigSJMTiYiIiDPtOr2LHad24O3hze21bjc7jtuyWCw80+oZ6pSpw+zds7kt+zY8LLo2eb28PLxoGNmQ9cfXExcfR63StcyOVOLpbBaHUnv89SsbWNa+8ceiA4tMTiMiIiLONn3ndAA6RXcizC/M3DDFQJ/afRjXYxylvDXe7UZpB3nXoqJdHMreHh+q9vjroRZ5ERGRkkO7xoursm9GlxBnag65QEW7OExOXg4nUk8AutJ+vS7ejM4wDJPTiIiIiLMcTjrMxpMb8bB40LdOX7PjiOSjK+2uRUW7OMzx1OMYGPh4+lA2sKzZcdzSbZVuI8A7gIT0BLYmbjU7joiIiDjJ9F0XWuPbVG6jvzeJy7kp8iY8LB4kpCdwMvWk2XFKPBXt4jC29eyVQipp84/r5OvlS4eqHQCNfhMRESnOtGu8uLIA7wBql64NaF67K1BlJQ6j9eyOYWuR17p2ERGR4ik+LZ7VR1YD0L9Of5PTiFyebV77pni1yJtNRbs4jK1o13r2G2Mr2lceXklGTobJaURERMTRZu6aiYHBrRVu1cUOcVmNIxsDKtpdgYp2cZijKf8/7i1ERfuNqF26NpVCKpGVl8XKwyvNjiMiIiIOpl3jxR3YrrSrPd58KtrFYdQe7xgWi0Wj30RERIqps5lnWXpoKaD17OLabGPf9p3dR0pWirlhSjgV7eIwao93nItHv4mIiEjxMXvPbHKtudxU9iZqlq5pdhyRKyoTUIaKIRUB2By/2eQ0JZuKdnEYFe2O0ym6Ex4WD7af2s7xlONmxxEREREH0a7x4k5s89rVIm8uFe3iEClZKSRnJQMXRr7JjQn3D6dZ+WaArraLiIgUF2nZaSzYd2Hp28C6A01OI3JttqJdm9GZS0W7OIRtRnuYXxjBvsEmpyke7C3yB1S0i4iIFAfz9s4jKy+LGuE1aFC2gdlxRK7Jtq5dV9rNpaJdHEKt8Y5nK9pj98diNawmpxEREZEbZWuNH1h3IBaLxeQ0Itdm20F+W+I2svOyTU5TcqloF4ewj3tT0e4wzSs0J8Q3hDOZZ9h0Ui1JIiIi7ux87nnm7J0DaD27uI8qoVUI8wsjx5rDjlM7zI5TYqloF4ewj3vTenaH8fb0pmO1joBGv4mIiLi7RQcWkZadRsWQitxS/haz44gUiMViUYu8C1DRLg6h9njn6Bqt0W8iIiLFgX3X+DoD8LDor+DiPuyb0anz0zT6jSEOoaLdOWzr2tccXUNqVqrJaUREROR65OTl8Nvu3wC1xov7sV1p1w7y5lHRLg6hNe3OUT28OtVLVSfHmsOyQ8vMjiMiIiLXYfnh5ZzNPEtEQAStK7c2O45IoVw8q12bI5tDRbvcMKthtY9805p2x7OPflOLvIiIiFuatnMaAP3q9MPTw9PkNCKFU6dMHXw9fUnNTuXguYNmxymRVLTLDUtISyDHmoOHxYPyweXNjlPsaF67iIiI+7IaVqbvmg6oNV7ck7enNw3KNgDUIm8WFe1yw2yt8eWDy+Pt6W1ymuKnY7WOeFo82XNmD4eSDpkdR0RERArh96O/E58WT6hvqH0qjIi7ubhFXoqeina5YRr35lwhviG0rNQSUIu8iIiIu7G1xveu3RsfTx+T04hcnybl/n8HeV1pN4WKdrlh2jne+TT6TURExP0YhsG0XReK9gF11Bov7kuz2s2lol1umG0TOhXtztOtRjcAFh9cTK411+Q0IiIiUhCb4jdxKOkQAd4B9v+Xi7ijhpENsWDhROoJEtMTzY5T4qholxt2JEVX2p2tabmmlPIrRdL5JP44/ofZcURERKQAbK3xPWr0IMA7wOQ0ItcvyCeIWqVrAbDppFrki5qKdrlhWtPufJ4ennSO7gyoRV5ERMRd2Ip27RovxYFa5M2jol1umNa0Fw2NfhMREXEfO0/tZOfpnXh7eNOrZi+z44jcMNsO8tqMruipaJcbcj73vH1di4p257IV7euOrSPpfJK5YUREROSqbFfZu1TvQqhfqMlpRG6c7Uq7ivaip6JdbsixlGMA+Hv5E+4fbnKa4q1yaGXqlKlDnpHHkoNLzI4jIiIiV6Fd46W4sY1923tmL2nZaSanKVlUtMsNubg13mKxmJym+NPoNxEREdd38NxB/jz5Jx4WD/rU7mN2HBGHKBtYlvLB5TEw2JKwxew4JYqX2QHEvWncW9HqVqMbn6z/hF93/EpOXg7ent74ePrg7fH//7zK14V57JWe62nx1IczIiIi1zB913QA2lVpR0RghMlpRByncVRjTqSeIC4+jtsq3WZ2nBLjuor2lStXMmHCBPbv38+vv/5KhQoVmDx5MtWqVaN169aOziguTJvQFa12VdoR6B3ImcwzfBP3jSkZHPYhwVWOca3jWwwLKbkppnz/IiIi16Jd46W4ahLVhLl752rsWxErdNE+depUhg4dypAhQ9i0aRNZWVkAJCcn8+abbzJ37lyHhxTXpXFvRSvQJ5DFwxaz8shKcvJyyLHmkJ2XTU7e///T+rd/Xu0xV/na9u95Rt4lGbLzssnOyyY9J92Ed+AvAR4BNL6tMTeVu8nUHCIiIhc7mXqSNUfXANC/Tn+T04g4lnaQN0ehi/bXX3+d8ePHM2zYMH788Uf77a1ateL11193aDhxfUdSdKW9qDWv2JzmFZsXyWtZDWuBC//r+VCgIB86XO45x1OOczLtJMNmDmPtA2vx9fItkvdDRETkWmbsmoGBQYuKLagQUsHsOCIOZdtBflviNvtSTXG+Qhftu3fvpm3btpfcHhoaSlJSkiMyiRvRmvbizcPiga+XL764VlF86OwhGn7ekLiEOF5Y8gLvd33f7EgiIiKAdo2X4q1aqWqE+IaQkpXCrtO7uClSHY9FodC7x0dFRbFv375Lbl+1ahXR0dEOCSXuwTCMv9rjQ9UeL0WnQnAFRlceDcAHv3+g3fRFRMQlnMk4w9KDSwGtZ5fiycPiQaPIRoBa5ItSoYv2kSNH8sQTT7Bu3TosFgsnTpwgJiaGMWPG8PDDDzsjo7ioc+fP2dc1a027FLXmoc156OaHABg2fRiJ6YkmJxIRkZJu1p5Z5Bl5NIpsRPXw6mbHEXEK27r2uPg4c4OUIIVuj3/uueewWq106tSJjIwM2rZti6+vL2PGjOGxxx5zRkZxUbbW+IiACPy9/U1OIyXRO53eYcXRFew4tYMRM0cwa/AsjaQTERHTaNd4KQmalNNmdEWt0FfaLRYLL7zwAmfPnmXbtm2sXbuWU6dO8dprrzkjn7gwtcaL2fy9/flh4A/4evoyZ+8cxv0xzuxIIiJSQqVmpdqXa6lol+LMthldXHwchmGYG6aEKHTRnpyczNmzZ/Hx8aFevXrceuutBAUFcfbsWVJSNDe5JNGMdnEFDSMb8l6X9wAYs3AMWxK2mJxIRERKorl755KVl0Wt0rWoH1Hf7DgiTlMvoh7eHt4knU/icPJhs+OUCIUu2gcNGpRv1JvNzz//zKBBgxwSStyDvWgPUdEu5hp962h61uxJVl4Wg6cOJjMn0+xIIiJSwly8a7yWaklx5uPpQ4OyDQDYdFIt8kWh0EX7unXr6NChwyW3t2/fnnXr1jkklLiHoyka9yauwWKxMKnvJCIDI9lxagdjFo4xO5KIiJQgmTmZzNkzB1BrvJQMF7fIi/MVumjPysoiNzf3kttzcnLIzNTVrZJEa9rFlZQNLMt3/b8D4PMNn/Pb7t9MTiQiIiVF7IFY0nPSqRRSiVvK32J2HBGns+0gr83oikahi/Zbb72ViRMnXnL7+PHjadq0qUNCiXvQmnZxNV2rd+Xplk8DMGLmCE6knjA5kYiIlAQX7xqv1ngpCbSDfNEq9Mi3119/nc6dO7N582Y6deoEwOLFi/njjz9YuHChwwOKa8q15toLIhXt4kre6PgGSw4uYVP8JoZNH8bCoQvxsBT680kREZECycnLsXd3qTVeSoqGkQ0BOJZyjNMZpykTUMbkRMVbof8m26pVK37//XcqVarEzz//zKxZs6hRowZbtmyhTZs2zsgoLuhk6knyjDy8PLyIDIw0O46Ina+XLz8M/IEA7wAWH1zMB2s+MDuSiIgUY8sOLePc+XOUDSxLq0qtzI4jUiRCfEOoEV4D0Lr2onBdl58aN25MTEwM27dvZ8OGDXzzzTfUrFnT0dnEhdla4yuGVMTTw9PkNCL51S5Tm4+7fwzAv5f8mw0nNpicSEREiitba3y/2v30dyIpUWyb0WkHeecrUNF+8fz1lJSUq/6RkkHr2cXV3d/kfgbWHUiuNZe7p95NWnaa2ZFERKSYybPmMX3XdECt8VLy2Daji0uIMzdICVCgor1UqVIkJiYCEBYWRqlSpS75Y7tdSgaNexNXZ7FYmNh7IhVDKrL37F4en/e42ZFERKSY+f3Y7ySkJxDmF0aHapeORBYpzuw7yOtKu9MVaCO6JUuWEB4eDsDSpUudGkjcg33cW4jGvYnrCvcPJ2ZADO3/155JcZPoVr0bdzW4y+xYIiJSTNha43vX6o2Pp4/JaUSKlq09fveZ3WTkZBDgHWBuoGKsQEV7u3btAMjNzWX58uWMGDGCihUrOjWYuDa1x4u7aFulLS+0eYHXV77Og7MfpEXFFlQJq2J2LBERcXOGYeQb9SZS0pQLLkdkYCQJ6QlsTdhK84rNzY5UbBVqIzovLy/ee+89cnNznZVH3ITa48WdvNTuJVpUbEFyVjJDpg0h16rfYSIicmP+PPknh5MPE+AdQLfq3cyOI2IKzWsvGoXePb5jx44sX77cGVnEjag9XtyJt6c3MQNiCPYJZvXR1by58k2zI4mIiJuzXWXvWbMn/t7+JqcRMUfjyMaAxr45W4Ha4y/Wo0cPnnvuObZu3UrTpk0JDAzMd3+fPn0cFk5cU1p2GmczzwK60i7uI7pUNF/0+oJ7pt/DK8tfoVO1TrSqrHm6IiJSeIZhMHXnVAAG1FFrvJRcutJeNApdtD/yyCMAfPjhh5fcZ7FYyMvLu/FU4tKOJl9ojQ/xDSHUL9TkNCIFN6ThEObvn8/3W75nyLQhxD0UR5hfmNmxRETEzew8vZPdZ3bj4+lDr1q9zI4jYhrbZnRbEraQa83Fy6PQ5aUUQKHb461W6xX/qGAvGbSeXdzZuJ7jiC4VzeHkwzw0+yEMwzA7koiIuBlba3yX6C6E+IaYnEbEPDXCaxDkE8T53PPsObPH7DjFVqGK9kOHDvHll1/y+eefs337dmdlEhen9ezizkJ8Q5gyYAqeFk9+2v4T323+zuxIIiLiZuyt8do1Xko4D4sHjSIbAZrX7kwFLtqXLl1K/fr1efDBBxk9ejRNmjTh+++/d2Y2cVEa9yburnnF5rza4VUAHp37KPvO7jM5kYiIuIsD5w4QFx+Hp8WTPrW1l5OIrUVe69qdp8BF+4svvkiXLl04fvw4Z86cYeTIkTzzzDPOzCYuSu3xUhw82+pZ2lVpR3pOOoOnDiY7L9vsSCIi4gam75wOQLuq7SgTUMbkNCLmaxJ1YTM67SDvPAUu2rdt28abb75JuXLlKFWqFO+99x6JiYmcOXPGmfnEBak9XooDTw9PJvefTCm/Umw4sYGXl75sdiQREXED2jVeJL+Ld5DXXkHOUeCiPSUlhTJl/vo0MSAgAH9/f5KTk50STFyX2uOluKgUWokve38JwDur32HJwSUmJxIREVd2IvUEvx/7HYD+dfubnEbENdSPqI+XhxdnM8/aO3LFsQq1J/+CBQsIDf1rxJfVamXx4sVs27bNfpvmtBdvhmHYR76paJfiYGC9gYy8eSRf/vklQ6cPZfNDm9XuKCIilzVj1wwAWlZsSfng8uaGEXERvl6+1Iuox5aELcTFx6lGcIJC7R5/77330q9fP/ufzMxMHnzwQfvX/fsX7hPHFStW0Lt3b8qXL4/FYmHGjBn2+3Jycnj22We56aabCAwMpHz58gwbNowTJ07kO8bZs2cZMmQIISEhhIWFcf/995OWllaoHFJwpzJOkZWXhQULFUIqmB1HxCE+6vYRdcrU4UTqCR747QG1domIyGVp13iRy7Ota9cO8s5R4KL9avPZr3dOe3p6Oo0aNWLcuHGX3JeRkcGff/7Jiy++yJ9//sm0adPYvXv3JVfyhwwZwvbt24mNjWX27NmsWLGCUaNGFSqHFJytNT4qKAofTx+T04g4RqBPIFMGTMHH04eZu2cyYeMEsyOJiIiLOZ1xmuWHlgMq2kX+zraDfFxCnKk5iqtCtcc7Wo8ePejRo8dl7wsNDSU2NjbfbZ999hm33norR44coXLlyuzcuZP58+fzxx9/cMsttwDw6aef0rNnT95//33Kl1fbkqNpPbsUV03KNeHtTm/z1MKneHLBk7St0pZ6EfXMjiUiIi5i1u5Z5Bl5NI5qTHSpaLPjiLgUXWl3LlOL9sJKTk7GYrEQFhYGwO+//05YWJi9YAfo3LkzHh4erFu37ort+llZWWRlZdm/TklJAS605Ofk5DjvGygGDp09BEDF4IqmvFe219TPqWRz1nnwSNNHmL9vPgsPLGTQr4NYPXw1fl5+Dn0NcRz9PhDQeSB/cfa58OuOXwHoW6uvzjcXpt8J5qhX+sKFjsPJh0lISSDcP9zUPO5yHhQ0n9sU7efPn+fZZ59l8ODBhISEABAfH0/ZsmXzPc7Ly4vw8HDi4+OveKy33nqLV1555ZLbFy5cSEBAgGODFzPLj19oC8s5k8PcuXNNy/H3LgwpmZxxHgz2H8w6r3VsTdzK3d/czQMVH3D4a4hj6feBgM4D+YszzoWMvAwW7l8IQJnEMqb+HUgKRr8Til6kTyQJ2Ql8+duX3BR8k9lxANc/DzIyMgr0OLco2nNycrjzzjsxDIMvvvjiho/3/PPP89RTT9m/TklJoVKlSnTt2tX+gYBc3nfTvoNT0K5RO3re2rPIXz8nJ4fY2Fi6dOmCt7d3kb++uAZnnwfh+8Lp+3NfZp+ezciOI+lR4/LLeMRc+n0goPNA/uLMc+Gn7T+RuzWXWuG1GNV/FBaLxaHHF8fR7wTztMxsyYzdM/Ct6kvP5kVfJ1zMXc4DW8f3tbh80W4r2A8fPsySJUvyFdVRUVEkJibme3xubi5nz54lKirqisf09fXF19f3ktu9vb1d+ofqCo6nHgegWng1U98r/awEnHce9Knbh8dvfZxP1n/CA7MfYMvDW4gKuvLvFDGXfh8I6DyQvzjjXJi5dyZwYUyoj4824nUH+p1Q9G4udzMzds9gy6ktLvPeu/p5UNBshRr5ZpOUlMRXX33F888/z9mzZwH4888/OX78+PUc7opsBfvevXtZtGgRpUuXznd/y5YtSUpKYuPGjfbblixZgtVqpXnz5g7NIhdoIzopKd7p8g4NIxtyKuMU9864F6thNTuSiIiYIDMnk7l7L7TDD6w70OQ0Iq6rSbkLm9HFxceZG6QYKnTRvmXLFmrVqsU777zD+++/T1JSEgDTpk3j+eefL9Sx0tLSiIuLIy4uDoCDBw8SFxfHkSNHyMnJ4Y477mDDhg3ExMSQl5dHfHw88fHxZGdnA1C3bl26d+/OyJEjWb9+PatXr2b06NEMGjRIO8c7QVZuFifTTgJQKbSSyWlEnMvPy48fBv6An5cfC/cv5OO1H5sdSURETLBw/0IycjKoHFqZm8vdbHYcEZdl20F+56mdZOZkmpymeCl00f7UU08xfPhw9u7di5/fX7sq9+zZkxUrVhTqWBs2bKBJkyY0adLEfuwmTZrw0ksvcfz4cX777TeOHTtG48aNKVeunP3PmjVr7MeIiYmhTp06dOrUiZ49e9K6dWsmTpxY2G9LCsDWGu/r6UtEQITJaUScr15EPT7q9hEAzy56VmNMRERKoKk7pwIwoM4ArWUXuYryweUpE1CGPCOP7ae2mx2nWCn0mvY//viDCRMmXHJ7hQoVrrpj++W0b98ewzCueP/V7rMJDw9nypQphXpduT5Hk48CF1rj9T8tKSkebPog8/fNZ+bumdw97W42jNxAoE+g2bFERKQIZOdlM2vPLODCenYRuTKLxUKTqCbEHohl08lN3FL+lms/SQqk0FfafX19L7vL3Z49e4iI0NXX4sy2nl2t8VKSWCwWvurzFeWDy7Pr9C6eWvDUtZ8kIiLFwtKDS0k6n0RkYCQtK7Y0O46Iy7O1yG+KV3eiIxW6aO/Tpw+vvvqqfRC8xWLhyJEjPPvsswwcqE8gizNtQiclVZmAMnzX7zssWJj450Sm7ZxmdiQRESkCtt/3/er0w9PD0+Q0Iq6vcVRjQJvROVqhi/YPPviAtLQ0ypYtS2ZmJu3ataNGjRoEBwfzxhtvOCOjuIijKf/fHh+iol1Knk7RnXim1TMAPPDbA/blIiIiUjzlWfOYsXsGoF3jRQrKtoP85oTN5FnzTE5TfBR6TXtoaCixsbGsWrWKLVu2kJaWxs0330znzp2dkU9ciK60S0n3aodXWXxwMRtObGDo9KEsHrZYV15ERIqp1UdXk5ieSCm/UrSv2t7sOCJuoWZ4TQK8A8jIyWDv2b3UKVPH7EjFwnXNaQdo3bo1jzzyCM8884wK9hJCa9qlpPPx9OGHgT8Q6B3I8sPLeWf1O2ZHEhERJ7G1xvep3QdvT2+T04i4B08PTxpGNgTUIu9Ihb7S/sknn1z2dovFgp+fHzVq1KBt27Z4eurqU3GjK+0iUCO8BuN6jmP4zOG8tPQlOlXrRPOKzc2OJSIiDmQYhr1oH1B3gMlpRNxLk6gmrD22lk0nNzGowSCz4xQLhS7aP/roI06dOkVGRgalSpUC4Ny5cwQEBBAUFERiYiLR0dEsXbqUSpV0Rba4SD6fTGp2KgCVQvRzlZJtWKNhzN8/nx+3/cjd0+5m04ObCPENMTuWiIg4yIYTGziacpRA70C6RHcxO46IW7FtRqcd5B2n0O3xb775Js2aNWPv3r2cOXOGM2fOsGfPHpo3b87HH3/MkSNHiIqK4sknn3RGXjGJ7Sp7uH+4ZlRLiWexWPii1xdUCa3CgXMHGD13tNmRRETEgWxX2XvV6oW/t7/JaUTci23sW1x8HIZhmJymeCh00f6f//yHjz76iOrVq9tvq1GjBu+//z7PP/88FStW5N1332X16tUODSrmUmu8SH5hfmHEDIjBw+LB5C2TidkSY3YkERFxAMMwmLpzKgAD6qg1XqSwGpRtgKfFk1MZpziResLsOMVCoYv2kydPkpube8ntubm5xMfHA1C+fHlSU1NvPJ24DPu4NxXtInatKrfipbYvAfDwnIc5cO6AyYlERORGbT+1nb1n9+Lr6UvPmj3NjiPidvy9/e27xmszOscodNHeoUMHHnzwQTZt+muNwqZNm3j44Yfp2LEjAFu3bqVatWqOSymms19p14x2kXxeaPsCrSq1IjU7lbun3k1OXo7ZkURE5AbYWuO7Vu9KsG+wyWlE3JNtXrvWtTtGoYv2r7/+mvDwcJo2bYqvry++vr7ccssthIeH8/XXXwMQFBTEBx984PCwYh6NexO5PC8PL2IGxBDqG8q64+t4dfmrZkcSEZEboF3jRW5c48jGgIp2Ryn07vFRUVHExsaya9cu9uzZA0Dt2rWpXbu2/TEdOnRwXEJxCVrTLnJlVcKqMLH3RO769S7eWPkGnaM7065qO7NjiYhIIe0/u5/NCZvxtHjSu1Zvs+OIuC3blXa1xztGoYt2mzp16lCnTh1HZhEXpjXtIld3Z/07mb9vPpPiJnHP9HvY8tAWSvmXMjuWiIgUgu0qe4dqHSgdUNrkNCLuyzb27cC5AySfTybUL9TcQG7uuor2Y8eO8dtvv3HkyBGys7Pz3ffhhx86JJi4jjxrHsdSjgGa0S5yNZ/0+IRVR1ax9+xeRs0exc93/IzFYjE7loiIFNC0Xf/fGq9d40VuSLh/OJVDK3Mk+Qhx8XHqQLxBhS7aFy9eTJ8+fYiOjmbXrl00aNCAQ4cOYRgGN998szMyisni0+LJtebiafGkXHA5s+OIuKwgnyCmDJxCy69b8uuOX/lm0zfcf/P9ZscSEZECOJZyjLXH1mLBQr86/cyOI+L2mkQ1UdHuIIXeiO75559nzJgxbN26FT8/P6ZOncrRo0dp164d//jHP5yRUUxma42vEFIBL4/rXlEhUiLcUv4W3uj4BgCPz3+c3ad3m5xIREQKYsauGQDcVuk2XaQQcYAmUdpB3lEKXbTv3LmTYcOGAeDl5UVmZiZBQUG8+uqrvPPOOw4PKOaz7xyv1niRAhlz2xg6VetERk4Gg6cOJis3y+xIIiJyDdo1XsSxbOvaVbTfuEIX7YGBgfZ17OXKlWP//v32+06fPu24ZOIytHO8SOF4WDz4rv93lPYvzab4Tbyw5AWzI4mIyFWcSj/F8sPLAehfp7/JaUSKB9sO8jtO7dAFjBtU6KK9RYsWrFq1CoCePXvy9NNP88YbbzBixAhatGjh8IBiPhXtIoVXPrg83/T9BoAPfv+AhfsXmpxIRESu5Lfdv2E1rNxc7maqlapmdhyRYqFSSCXC/cPJteay/dR2s+O4tUIX7R9++CHNmzcH4JVXXqFTp0789NNPVK1ala+//trhAcV8Gvcmcn361O7DI7c8AsCw6cNITE80OZGIiFyOdo0XcTyLxWJvkde89htTqKI9Ly+PY8eOUbnyheItMDCQ8ePHs2XLFqZOnUqVKlWcElLMpTXtItfv/a7vUy+iHgnpCYyYOQLDMMyOJCIiF0k+n0zs/lhA69lFHM2+Gd1JrWu/EYUq2j09PenatSvnzp1zVh5xQWqPF7l+/t7+/DDwB3w9fZmzdw7j/hhndiQREbnInL1zyLHmULdMXepG1DU7jkixos3oHKPQ7fENGjTgwIEDzsgiLigzJ5PTGRc2GFTRLnJ9GkY25L0u7wEwZuEYtiZsNTmRiIjYaNd4EeexXWnfnLAZq2E1OY37KnTR/vrrrzNmzBhmz57NyZMnSUlJyfdHihfbevZA70DC/MLMDSPixkbfOppeNXuRlZfF4KmDyczJNDuSiEiJl5GTwbx98wAV7SLOULtMbfy8/EjLTmP/2f3XfoJcVqGL9p49e7J582b69OlDxYoVKVWqFKVKlSIsLIxSpUo5I6OY6OLWeIvFYnIaEfdlsViY1HcSUUFRbD+1nTELx5gdSUSkxFuwbwEZORlUDatqvyIoIo7j5eHFTWVvAtQifyO8CvuEpUuXOiOHuCitZxdxnIjACL7t9y3dvu/G5xs+p1uNbvSp3cfsWCIiJdbFu8br4oSIczSJasIfJ/4gLj6OO+vfaXYct1Toor1du3bOyCEu6miyxr2JOFLX6l15uuXTfPD7B4yYOYItD2+hfHB5s2OJiJQ42XnZzNo9C1BrvIgzNSn3/zvI60r7dSt0ezzAypUrueeee7jttts4fvw4AJMnT2bVqlUODSfm07g3Ecd7o+MbNIlqwpnMMwybPkwbs4iImGDJwSUkZyUTFRRFy0otzY4jUmzZd5DX2LfrVuiiferUqXTr1g1/f3/+/PNPsrKyAEhOTubNN990eEAx15EUtceLOJqvly8/DPyBAO8AFh9czAdrPjA7kohIiWPbNb5/nf54WK7rOpaIFEDDyIZ4WDxISE8gPi3e7Dhu6bp2jx8/fjxffvkl3t7e9ttbtWrFn3/+6dBwYj61x4s4R+0ytfm4+8cA/HvJv9lwYoPJiURESo48ax4zds0A1Bov4mwB3gHULl0b0NX261Xoon337t20bdv2kttDQ0NJSkpyRCZxEYZh/NUeH6r2eBFHu7/J/dxR7w5yrbncPfVu0rLTzI4kIm5o7bG1PD7vcbYlbjM7ittYdWQVpzJOEe4fTrsq2q9JxNlsLfJx8XGm5nBXhS7ao6Ki2Ldv3yW3r1q1iujoaIeEEtdwJvMMmbkXZklXDKlochqR4sdisTDx9olUCqnE3rN7eXze42ZHEhE3s/HERrpM7sKn6z+l8fjGPD7vcc5lnjM7lsuztcb3qd0Hb0/vazxaRG6UbaSiNqO7PoUu2keOHMkTTzzBunXrsFgsnDhxgpiYGMaMGcPDDz/sjIxiEttV9sjASPy8/ExOI1I8lfIvxfcDvseChUlxk/hp209mRxIRN7Hv7D56xPQgLTuN8sHlyTPy+HT9p9T8tCYTN04kz5pndkSXZDWs+Ua9iYjz2TejU9F+XQpdtD/33HPcfffddOrUibS0NNq2bcsDDzzAgw8+yGOPPeaMjGISrWcXKRptq7TlhTYvAPDg7Ac5nHTY5EQi4uri0+Lp9n03TmWcoklUE3Y+upPYobHUi6jHmcwzPDj7QZp92YxVRzTZ5+82nNjAsZRjBPkE0aV6F7PjiJQItrFv+87uIzUr1eQ07qfQRbvFYuGFF17g7NmzbNu2jbVr13Lq1Clee+01Z+QTE2k9u0jReandS7So2ILkrGSGTBtCrjXX7Egi4qJSslLoGdOTA+cOEF0qmnlD5hHiG0Ln6M7EPRjHx90/JtQ3lE3xm2gzqQ13T72bYynHzI7tMmyt8b1q9lInoUgRKRNQxr7cdnPCZpPTuJ9CF+3ff/89GRkZ+Pj4UK9ePW699VaCgoKckU1MZivaK4foSruIs3l7ehMzIIZgn2BWH13Nmys1QlNELpWdl82AnwawKX4TZQPLsuCeBUQGRdrv9/b05vHmj7P3sb2MunkUFiz8sO0Han9WmzdWvMH53PMmpjefYRhM3TkV0K7xIkVN89qvX6GL9ieffJKyZcty9913M3fuXPLytF6quDqaovZ4kaIUXSqaL3p9AcAry19h9ZHVJicSEVdiNawMnzGcxQcXE+QTxNy751IjvMZlHxsRGMGE3hPYMGoDt1W6jYycDP6z9D/UG1ePGbtmYBhGEad3DdsSt7Hv7D58PX3pWbOn2XFEShTbZnTaQb7wCl20nzx5kh9//BGLxcKdd95JuXLlePTRR1mzZo0z8omJ1B4vUvSGNBzC0IZDsRpWhkwbQtL5JLMjiYgLMAyDpxc8zQ/bfsDbw5tpd06jafmm13zezeVuZtV9q4gZEEP54PIcTDpI/5/60+37buw8tbMIkrsWW2t8txrdCPJRp6hIUdIO8tev0EW7l5cXt99+OzExMSQmJvLRRx9x6NAhOnToQPXq1Z2RUUxib4/XlXaRIvVZz8+ILhXN4eTDPDT7oRJ7RUxE/vLemvcYu24sAN/2+7ZQG6hZLBbuvuludo/ezb9b/xsfTx9iD8TScHxDnpz/ZIn6cNDeGq9d40WKnK09fvup7WTnZZsbxs0Uumi/WEBAAN26daNHjx7UrFmTQ4cOOSiWmC0nL4eTaScBFe0iRS3EN4QpA6bgafHkp+0/8d3m78yOJCIm+m7zdzy76FkAPuz6IYNvGnxdxwnyCeKNTm+w45Ed9K3dl1xrLmPXjaXWp7X46s+viv2IuL1n9rI1cSteHl70rt3b7DgiJU7VsKqE+oaSnZddIjt9bsR1Fe0ZGRnExMTQs2dPKlSowNixY+nfvz/bt293dD4xyYnUE1gNKz6ePpQNLGt2HJESp3nF5rza4VUAHp37KPvO7jM5kYiYYd7eeYyYOQKAf932L55s+eQNH7N6eHVmDJrBgnsWUKdMHU5lnGLkrJE0/6o5a44W3+WO03dNB6BD1Q6E+4ebnEak5LFYLJrXfp0KXbQPGjSIsmXL8uSTTxIdHc2yZcvYt28fr732GnXq1HFGRjGBrTW+YkhFPCw31JAhItfp2VbP0q5KO9Jz0hk8dbBayURKmHXH1nHHL3eQZ+QxtOFQ3u78tkOP37V6V7Y8tIUPu35IiG8IG09upNU3rRg6fSgnUk849LVcgXaNFzGfNqO7PoWuxjw9Pfn55585efIkn332GS1btrTft23bNoeGE/NoPbuI+Tw9PJncfzKl/Eqx4cQGXl76stmRRKSI7D69m15TepGRk0H3Gt35us/XTvkQ3dvTmydbPsme0Xu4v8n9WLDw/ZbvqfVpLd5e9TZZuVkOf00zHE0+yvrj67FgoV+dfmbHESmxmpTTZnTXo9C//W1t8Z6engCkpqYyceJEbr31Vho1auTwgGIOjXsTcQ2VQivxVZ+vAHhn9TssObjE5EQi4mwnUk/Q7ftunMk8Q7PyzfjlH7/g7ent1NeMDIrkqz5fsX7kelpWbEl6TjrPL36e+p/XZ9buWW6/IeaMXTMAaFW5FVFBUeaGESnBbO3xcfFxWA2ruWHcyHV/ZLtixQruvfdeypUrx/vvv0/Hjh1Zu3atI7OJiezj3kI07k3EbAPqDmDUzaMwMBg6fSinM06bHUlEnCT5fDI9YnpwOPkwNcNrMufuOUU6muyW8rewasQqvuv3HeWCyrH/3H76/NiHnlN6suv0riLL4WjaNV7ENdQtUxdfT19SslI4lHTI7Dhuo1BFe3x8PG+//TY1a9bkH//4ByEhIWRlZTFjxgzefvttmjVr5qycUsTUHi/iWj7s9iF1ytThROoJHvjtAbe/6iUilzqfe56+P/ZlS8IWooKiWHDPAiICI4o8h4fFg6GNhrJ79G6ebfUs3h7ezN83n5u+uIkxC8eQfD65yDPdiMT0RFYeWQloPbuI2bw9vWlQtgEAm06qRb6gCly09+7dm9q1a7NlyxbGjh3LiRMn+PTTT52ZTUyk9ngR1xLoE8iUAVPw8fRh5u6ZTNg4wexIIuJAedY87pl2D8sPLyfYJ5h5Q+ZRrVQ1UzMF+wbzdue32f7Idm6vdTu51lw++P0Dan1Wi0mbJrlNa+tvu3/DalhpWq4pVcKqmB1HpMTTDvKFV+Cifd68edx///288sor9OrVy76mXYonXWkXcT1NyjXh7U4Xdo9+csGT7Di1w+REIuIIhmHw+LzHmbpz6oUP5gbNtP+l1hXULF2TWYNnMffuudQqXYvE9ERG/DaCFl+1YN2xdWbHuybtGi/iWrSDfOEVuGhftWoVqampNG3alObNm/PZZ59x+rTWVRZHKVkpJJ1PArSmXcTVPNHiCbpV78b53PPc9etd7Dy10+xIInKD3lj5Bp9v+PzCzu39v6dDtQ5mR7qsHjV7sPXhrbzX5T2CfYL548QftPi6BcNnDOdk6kmz411W0vkkFh9YDMDAugNNTiMioB3kr0eBi/YWLVrw5ZdfcvLkSR588EF+/PFHypcvj9VqJTY2ltTUVGfmlCJ0NPlCa3yYXxjBvsEmpxGRi3lYPPhfv/9RNrAs2xK3Uf/z+gz4aQDrj683O5qIXIev/vyKF5e+CMAnPT7hH/X/YXKiq/Px9GHMbWPY89gehjceDsC3m7+l1me1eG/1e2TnZZsb8G/m7JlDjjWHehH1qF2mttlxRARoGNkQCxZOpJ4gMT3R7DhuodC7xwcGBjJixAhWrVrF1q1befrpp3n77bcpW7Ysffr0cUZGKWJazy7i2qKColh671L61emHgcH0XdNp/lVzOn3XiUUHFmmTOhE38dvu33hw9oMA/Lv1vxl962iTExVcVFAUk/pOYu39a7m1wq2kZafxzKJnaPB5A+bunWt2PDvtGi/ieoJ8gqhZuiagFvmCuu6RbwC1a9fm3Xff5dixY/zwww+OyiQm07g3EddXL6Ie0++azo5HdnBvo3vx8vBiycEldJnchVu/upWpO6a6zSZRIiXRmqNruOvXu7AaVkY0HsHrHV83O9J1aV6xOb/f/zuT+k4iMjCSvWf30mtKL3pN6cWeM3tMzZaenc78ffMBGFhPrfEirsS+GZ12kC+QGyrabTw9PenXrx+//fabIw4nJtMmdCLuo25EXf7X73/se2wfj936GP5e/mw4sYE7frmDeuPqMWnTJJdrVxUp6Xac2sHtU27nfO55bq91OxN6T8BisZgd67p5WDwY3ng4ex7bw5iWY/D28Gbu3rk0+LwBz8Y+S2qWOUsoF+xfQGZuJtXCqtEospEpGUTk8uyb0SXEmRvETTikaJfiRe3xIu6nSlgVPunxCYf/eZj/tPkPYX5h7D6zmxG/jaD6J9UZu3Ys6dnpZscUKfGOpRyj2/fdOHf+HC0rtuSnO37Cy8PL7FgOEeIbwntd32Prw1vpXqM7OdYc3l3zLrU+q8V3m78r8u6fi3eNd+cPRUSKI1vRrivtBaOiXS6hK+0i7isiMILXOr7G4X8e5t3O7xIVFMWxlGM8ueBJqoytwqvLX+Vs5lmzY4qUSOcyz9H9++4cSzlG3TJ1mTV4FgHeAWbHcrjaZWoz9+65zBo8ixrhNYhPi+feGfdy29e38cfxP4okQ1ZuFrP3zAa0a7yIK7K1x+85s4e07DRzw7gBFe1yCa1pF3F/Ib4h/KvVvzj4xEEm3D6B6qWqcybzDC8ve5nKH1Xm6QVPczzluNkxRUqMzJxM+vzYh+2ntlMhuALz75lP6YDSZsdyGovFwu21bmfbw9t4p/M7BPkEse74Om796lZGzBxBQlqCU19/8cHFpGSlUC6oHM0rNnfqa4lI4UUGRVIuqBwGBlsTtpodx+WpaJd8rIbVPvJNV9pF3J+flx+jmo5i1+hd/DDwBxpFNiI9J50P135I9CfRjPxtJHvP7DU7pkixlmvNZfDUwaw6sopQ31Dm3zO/xPw/1tfLl2daPcPu0bsZ2nAoAJPiJlHrs1p8sOYDp+25MW3nNAD61+mPh0V/3RVxRZrXXnD6LSb5JKYnkmPNwcPiQfng8mbHEREH8fLwYlCDQWx6cBNz755Lm8ptyM7L5qtNX1H7s9rc+cudWlcm4gSGYfDInEeYuXsmvp6+/Db4NxqUbWB2rCJXPrg83/X/jjUj1tC0XFNSslIYEzuGhl80tO/w7ii51lxm7p4JaNd4EVfWOLIxoHXtBaGiXfKxtcaXCyqHt6e3yWlExNEsFgs9avZgxX0rWHXfKm6vdTsGBr/s+IWbJ95M9++7s+zQMs16F3GQ/y77L1/++SUeFg9+GPgDbau0NTuSqVpWasn6kev5us/XRAREsPvMbnrE9KDPD33Yd3afQ15j1ZFVnM44Tbh/eIl/v0Vcme1Ku3aQvzYV7ZKPNqETKTlaVW7FrMGz2PLQFu6+6W48LB4s2L+ADt924LZvbuO33b9p1rvIDRi/YTyvrngVgM97fk7/uv1NTuQaPCwejGgygj2P7eHJFk/i5eHFrD2zqP95fZ5f9PwNb0o1Y/cMAPrW7ltsduYXKY5sO8hvTdhKTl6OyWlcm4p2yUfr2UVKnpsibyJmQAx7H9vLw7c8jK+nL2uPraXvj31p+EVDJm+erP+ZihTStJ3TeGTOIwC83O5lHrzlQZMTuZ4wvzA+7PYhWx7aQtfqXcnOy+bt1W9T+7PafL/l++vq+LEaVmbu+f/WeO0aL+LSqpWqRrBPMFl5Wew+s9vsOC5NRbvkoyvtIiVXdKloPu/1OYf+eYhnWz1LsE8w209tZ9iMYdT6rBbj1o8jMyfT7JgiLm/5oeXcPfVuDAxG3TyKl9u9bHYkl1Y3oi7zh8xn5qCZRJeK5kTqCYZOH0rrSa3ZeGJjoY61N2Mvx1OPE+wTTKfoTk5KLCKO4GHxsI9+07r2q1PRLvkcSdG4N5GSLiooirc7v82RJ4/wZsc3KRtYlkNJhxg9bzRVxlbhzZVvknQ+yeyYIi5pa8JW+v7Yl6y8LPrV6cfnvT7HYrGYHcvlWSwW+tTuw/ZHtvNmxzcJ8A5gzdE1NPuyGSN/G0liemKBjvN78u8A9KrVCz8vP2dGFhEHsBft2kH+qlS0Sz660i4iNmF+YTzf5nkOPXGIcT3HUTWsKqcyTvHCkheoMrYKzy16jvi0eLNjiriMw0mH6R7TneSsZNpUbsOUAVPw9PA0O5Zb8fPy4/k2z7N79G7uvulCt8JXm76i1qe1GLt27FWX6hiGwdqktYBa40XchW1de1x8nLlBXJyKdslHa9pF5O/8vf15pNkj7Bm9h8n9J1M/oj4pWSm8s/odqo6tysOzH+bAuQNmxxQx1emM03T7vhsnUk/QoGwDZg6aib+3v9mx3FbFkIrEDIhh1X2ruLnczSRnJfPkgidpNL4RsftjL/ucLYlbiM+Ox8/Lj+41uhdxYhG5HhfPatfkmitT0S5253PPk5CeAEClULXHi0h+3p7e3NPwHrY8vIWZg2bSomILsvKyGL9xPLU+rcWQaUPYmrDV7JgiRS49O53bp9zO7jO7qRRSiXlD5lHKv5TZsYqFVpVbsf6B9Uy8fSJlAsqw8/ROun7flf4/9b/kw0LbrvFdo7sS5BNkQloRKax6EfXw9vAm6XwSh5MPmx3HZaloF7tjKccA8Pfyp7R/aZPTiIir8rB40Kd2H9aMWMOye5fRrXo38ow8pmydQsPxDbl9yu2sPrLa7JgiRSInL4e7fr2LdcfXEe4fzoJ7FlAxpKLZsYoVTw9PRjYdyZ7Re3ii+RN4WjyZsWsG9cbV4z9L/kN6djrwV9Her3Y/88KKSKH4ePpQv2x9QC3yV6OiXewubo3Xpjkici0Wi4V2Vdsx/575/DnqT+6sfycWLMzZO4fWk1rTdlJb5u2dp3Y3KbYMw+DB2Q8yZ+8c/L38mT14NnUj6podq9gq5V+Ksd3HsvmhzXSq1omsvCzeWPkGtT+rzXur32P7qe144kmvGr3MjioihWBb164d5K9MRbvYaRM6EbleTco14ac7fmL36N2MvHkkPp4+rDyykp5TetJkQhN+3PYjudZcs2OKONQLS15gUtwkPC2e/PyPn2lZqaXZkUqE+mXrEzs0lml3TqNqWFWOpx7nmUXPANAwuKGWJoi4Ge0gf20q2sXOVrRr3JuIXK+apWsysfdEDjx+gKdbPk2gdyCbEzYzeOpg6nxWhwkbJnA+97zZMUVu2KfrPuWtVW8BMLH3RG6vdbvJiUoWi8VC/7r92fHIDl7r8BoB3gEAtC3V1uRkIlJY2kH+2lS0i52utIuIo1QIqcD7Xd/nyJNHeKX9K5T2L83+c/t5aM5DRH8czXur3yM1K9XsmCLX5eftP/PE/CcAeL3D64xoMsLkRCWXv7c//2n7H/aM3sPcwXNpX6q92ZFEpJAaRTUC4GjKUc5knDE5jWtS0S52R1M07k1EHCvcP5yX2r3E4X8eZmy3sVQMqcjJtJM8s+gZKo+tzItLXuRU+imzY4oU2JKDSxg6fSgGBo82e5R/t/m32ZGECx8Udq7WWXvyiLihEN8QqpeqDuhq+5WoaBc7e3u8xr2JiIMF+gTyRIsn2P/4fib1nUSdMnVIOp/E6ytfp8rYKjw+73H77yARV7Xp5Cb6/diP7Lxs7qh3Bx93/1hFooiIA1w8r10upaJdgAs74Ko9XkSczcfTh+GNh7P9ke1MvXMqt5S/hczcTD5d/ynVP6nOvTPuZcepHWbHFLnEgXMH6BHTg9TsVNpXbc/k/pPx9PA0O5aISLHQOLIxoKL9SlS0CwBJ55NIz7kw51Qb0YmIs3lYPBhQdwDrH1hP7NBYOlXrRK41l+82f0f9z+vT/6f+rD++3uyYIgAkpifS7ftuJKQn0CiyETPumoGfl5/ZsUREig3blXa1x1+einYB/mqNLxNQBn9vf5PTiEhJYbFY6BzdmUXDFrHugXX0r9MfgBm7ZtD8q+Z0+q4TsftjNetdTJOWnUavKb3Yd3YfVcOqMm/IPEL9Qs2OJSJSrNh2kN91ehcZORkmp3E9KtoF0M7xImK+WyvcyrS7prHjkR0MbzwcLw8vlhxcQtfvu9Lsy2ZM3TGVPGue2TGlBMnOy2bgzwPZcGIDZQLKsOCeBZQLLmd2LBGRYicqKIqygWWxGla2Jmw1O47LUdEugIp2EXEddSPqMqnvJPY/vp/Hb30cfy9/Np7cyB2/3EH9z+vzzaZvyM7LNjumFHNWw8qImSNYuH8hAd4BzLl7DrVK1zI7lohIsWSxWDSv/SpUtAtw0bi3EBXtIuIaKodW5uMeH3PkySO82PZFwvzC2H1mN/f/dj/VP6nOJ+s/4XzeebNjSjH1TOwzxGyNwcvDi6l3TuXWCreaHUlEpFizFe3ajO5SKtoF0Lg3EXFdZQLK8GqHVznyzyO81+U9ygWV41jKMcYsGsODOx/ktz2/mR1RipkP1nzAB79/AMA3fb6he43uJicSESn+Gkc1BnSl/XJUtAug9ngRcX3BvsGMuW0MB584yMTbJ1K9VHWSc5O549c7eGTOI2TmZJodUYqBmC0xjIkdA8C7nd9laKOhJicSESkZbDvIb0nYoj1s/kZFuwAXtceraBcRF+fr5cvIpiOJGxlHv4h+AHyx4Qtu+fIWtiRsMTecuLWF+xcyfOZwAJ5s8SRjbhtjbiARkRKkRngNAr0DyczNZPeZ3WbHcSkq2oVcay7HU44DmtEuIu7D18uX4RWGM2fQHCIDI9lxage3fnkrn677VCPipNA2nNjAgJ8GkGvNZXCDwbzf9X0sFovZsURESgwPiweNohoBapH/OxXtwsnUk+QZeXh5eBEVFGV2HBGRQukS3YUtD2+hV81eZOVl8fj8x+n9Q29OpZ8yO5q4ib1n9tIzpifpOel0ju7M//r9Dw+L/ookIlLU7JvRndRmdBfT/5HE3hpfMaQinh6eJqcRESm8soFlmTV4Fp90/wRfT1/m7J1Dw/ENWbh/odnRxMXFp8XT7ftunMo4xc3lbmbanf/X3p3GR1Xf7R+/JpmQBLKyJQQCBJFFCCTgUkRQFIiICIpWIAiCgFawon9EvVUsqLcF0aqIItZCKQGFalGpBlLCUiVFwISwiYBB1gQUkglbCMn5P8g9IymgLDNzZs583q+XD5g5zHx/5VvNxW/7WDWCa5hdFgAEJOdhdJwgXx2hHRxCB8ASbDabHrnuEX098mtdVe8qVxgbt3Qc97rjnBxlDvXK6KWC4gJdEXuFPh/0uSJDI80uCwAC1pl3tbPV7WeEdvx83Rv72QFYQLu4dlo3cp1+d/XvJEmv5ryqTu930rYfOdQGPys7XaY7P7xTeYV5ql+rvpYMXqK4iDizywKAgNamfhvZg+z66cRP2uvYa3Y5PoPQDmbaAVhOeEi43u79thbdu0i1w2vrmwPfqMPMDnr/m/f5m3uo0qjUkEVDlF2QrYgaEfoi/QtdUfsKs8sCgIAXZg9T67qtJbFE/kyEdnDdGwDL6tuqr/IfytfNSTfrePlxjfhshO79+706cuKI2aXBJIZh6LHMx7Rg8wKFBIXoH/f+Qx0adDC7LADA/3He184J8j8jtIPl8QAsrWFUQ2Xdl6U/3vJH2YPsWrhlodrPaK9///Bvs0uDCSZ/NVlvfv2mJGnOnXPUvVl3kysCAJwpJS5FEjPtZyK0g+XxACwvyBakJ294UquHr1bz2s21x7FHN/31Jj2//Hmdrjxtdnnwktl5s/X0sqclSX9K+5MGtB1gckUAgP/GTPvZCO0B7tipYzp84rAkQjsA67um4TX6ZtQ3Gtp+qCqNSk1aNUldZ3VVwZECs0uDh/3zu39qxKcjJEnjrx+vsb8Za25BAIBzcl77tqt4F9vZ/g+hPcA597NHhUYpOiza5GoAwPMiQyM1u99szbtrnqJCo5SzN0cp76Zo/sb5ZpcGD/nP3v/onoX3qMKo0JD2Q/TH7n80uyQAwHnEhMWoaUxTScy2OxHaAxz72QEEqoHJA7XhoQ26PvF6OcocGvTxIN2/6H6VlpWaXRrc6Nsfv1Xveb114vQJ9WreS3/u82fZbDazywIA/IIz72sHoT3gsZ8dQCBrGtNUK+9fqQldJyjIFqS/bvirUt9N1dp9a80uDW6wz7FPaXPTdPjEYV3b8FotvGehQoJDzC4LAPArnKGdw+iqENoD3J4SrnsDENjsQXZN7DZRK4auUGJUonYe2anr/3K9Jn85WZVGpdnl4RIVnyxWr4xe2l2yWy3qtNA/B/1TtWrUMrssAMAFcO5rJ7RXIbQHuN0OlscDgCR1adJFGx7aoHuuukenK0/rqWVPqcffemifY5/ZpeEinTx9Un0/6KuNBzcqPiJememZqluzrtllAQAukPME+a2Hturk6ZMmV2M+QnuAY3k8APwsNjxWH979od6/433VDKmp7IJstZvRTp98+4nZpeECVVRWKP3jdK36YZWiQqOUmZ6ppNgks8sCAFyEhpENVbdmXVUYFdp0cJPZ5ZiO0B7gWB4PANXZbDYNTx2ub0Z9ow4NOujwicPq92E/PfzPh3W8/LjZ5eEXGIahR754RB9v/Vg1gmvokwGfqH18e7PLAgBcJJvN9vMS+QMskSe0BzDDMJhpB4DzaFm3pVYPX61xncZJkt5Z946uee8a5Rflm1wZzufFVS/qnXXvyCabMu7K0E1NbzK7JADAJeIE+Z8R2gPYoeOHVFZRJptsahjV0OxyAMDnhNpD9UrPV7R08FLFR8Rry6Etuva9azVtzTQZhmF2eTjD+7nva8KKCZKkab2m6e6r7ja5IgDA5eAwup8R2gOYc5Y9PiJeNYJrmFwNAPiuHlf0UP5D+ep9ZW+VVZTp95m/1+3zb9fBYwfNLg2S1pSs0ejM0ZKkZ7o8o9HXjja5IgDA5XLOtOcX5auissLkasxFaA9g7GcHgAtXr1Y9fTbwM03rNU2hwaH6fPvnavdOOy3dudTs0gKWYRj6fMfnenXXq6o0KvVA6gN6odsLZpcFAHCDFnVaKNwermPlx7Tj8A6zyzEVoT2AOWfaE6O57g0ALoTNZtOYa8fo65Ff66p6V6noWJHS5qZp3NJxKjtdZnZ5AWProa16NvtZXfHmFeq3oJ9OGafU+8remnH7DNlsNrPLAwC4QXBQsNrFtZPEEnlCewBzHUIXxUw7AFyMdnHttG7kOj189cOSpFdzXlWn9ztp24/bTK7MuvaX7tdrOa+p48yOuurtq/TSv19SQXGBImpEqGednsrolyF7kN3sMgEAbsRhdFX4r1sA2+NgeTwAXKrwkHBN7z1dac3TNPyT4cotzFWHmR305q1vanjqcGZ83cBR5tDHWz9WxsYMZRdkq9KolCTZg+y6tfmtSk9OV69mvbQia4VqhtQ0uVoAgLulNqgK7YE+005oD2Bc9wYAl++Olndow0MbNGTREGUXZGvEZyOUuTNTM2+fqdjwWLPL8zunKk4pc0emMjZm6NNtn+rk6ZOu965PvF7pyen6bZvfqm7NupKk8vJys0oFAHjYmXe1G4YRsH8hTmgPYOxpBwD3aBjVUFn3ZWnq6ql6JvsZ/X3L37Vm7xpl3JWhLk26mF2ez6s0KrV6z2pl5GdowZYFOnzisOu9VnVbKT05XYOSB6lZbDMTqwQAeFty/WQF24J16PghHTh6QAmRCWaXZApCe4A6VXFKhUcLJTHTDgDuEGQL0vjO49WtaTcN+niQdhzeoZv+epOe6fKMJtw4gf3W57Dl0BZl5Gdo3qZ52lW8y/V6fES8BrYdqMHtBis1PjVgZ1YAINCFh4SrVd1W2nxos3IP5BLaEVj2OfbJkKHQ4FDVq1nP7HIAwDKuaXiNvhn1jX6f+XvNzputF1a9oH99/y9l3JWhpNgks8sz3f7S/Zq/cb4yNmZU26MYUSNC/Vv3V3pyum5OulnBQcEmVgkA8BUp8SlVob0wV71b9Da7HFMQ2gPUmUvjmcEAAPeKDI3UrL6zlHZFmh5c/KBy9uYo5d0Uzeg9QwOTB5pdnteVnCypdqCcIUNS1YFyvZr3Unpyuvq07MNhcgCAs6TGpypjY0ZAnyBPaA9QHEIHAJ43oO0A/abRb5T+cbpW71mtQR8PUubOTL3V6y1FhkaaXZ5Hnao4pS+2f6GMjRn67LvPzjpQbnDyYN3T5h7XgXIAAJyL6zC6AD5BntAeoLjuDQC8o2lMU628f6VeXPWiXlj1guZsmKOvdn+lef3n6dqG15pdnls5D5Sbmz9XC7csPOtAucHJgzUoeRDbBAAAF8x57dv3R75XyckSRYdFm1yR9xHaA5Rrpj2K0A4AnmYPsusPN/1BtyTdovSP07XzyE51/ktnvdDtBT1x/RN+v397y6Etmps/V/M2ztMPJT+4Xm8Q0UAD2w5Uert0DpQDAFyS2uG11Ti6sXaX7NaGog3q2qSr2SV5HaE9QHHdGwB4X5cmXbThoQ16cPGDWrhloZ5e9rSW7lyqv935NzWMamh2eRdln2Of5m+af9Y+w8gakep/VdWBct2advP7v5AAAJgvJT5Fu0t2K/dALqEdgYM97QBgjtjwWH1494e6Ne9WPfLFI1q+a7nazWin9+94X/1a9TO7vF9UcrJEH239SBkbM7S8YPlZB8oNbjdYfVr0UXhIuMmVAgCsJDU+VZ9u+1R5RXlml2IKQnuAYk87AJjHZrNpeOpwdU7srEEfD9I3B77RnR/eqYc6PqRX0171qVPUnQfKzd04V59t+0xlFWWu9zondtbgdoN1z1X3qE7NOiZWCQCwstT4qn3tuQcC8zA6QnsAKjlZIkeZQ5KUGMXyeAAwS8u6LZXzQI6ezX5Wr6x+RTPWz9Cq3as0v/98tYtrZ1pdlUalvtr9letAuSMnj7jea123tdKT0zlQDgDgNc4T5Dcf2qyy02UKtYeaW5CXEdoDkHNpfO3w2qpVo5bJ1QBAYKsRXENTekxRj2Y9NGTREG05tEXXvnetpvSYokeufcSrh7dtPri56kC5TfNc/62Qfj5QbnC7wUqJT+FAOQCAVzWObqzYsFgdOXlEWw5tcZ0oHygI7QGIpfEA4Ht6XNFD+Q/la/inw7X4u8V6NPNRLdm5RLP6zlL9WvU99r3OA+Xm5s/VhqINrtedB8oNTh6sm5rexIFyAADT2Gw2pcSnaPmu5cotzCW0w/o4hA4AfFO9WvX06YBPNX3tdI1bOk6fb/9c7d5pp7/2+6vSmqe57XucB8rNzZ+rFbtWuA6UCwkKUa8re2lw8mDd3uJ2DpQDAPiM1PhULd+1vNqNJYGC0B6AXNe9sZ8dAHyOzWbTmGvH6MYmN2rgRwO1+dBm3Zpxqx7/zeP631v+95L38ZWdLtMXO77Q3Py5Wvzd4moHyt3Q+AalJ6dzoBwAwGc5Z9dzCwPvMDpCewBiph0AfF9yXLLWjlyrcUvH6e11b+u1/7ym5buWa37/+WpZt+UFfUalUakvd3/pOlCu+GSx673WdVtrcLvBGpQ8SE1jmnpmEAAAuInzMLq8wjxVGpUKsgWZW5AXEdoDEHvaAcA/hIeEa3rv6UprnqbhnwxXbmGuOszsoDdufUMPpD5w3gPhNh3cpIz8jHMeKDcoeZDSk9M5UA4A4Fda1W2lMHuYjp46qu+PfK/mtZubXZLXENoDEMvjAcC/3NHyDuX/Ll9D/jFEywqWaeRnI7Vk5xLNvH2mYsNjJUl7HXs1f+N8zd04V/lF+a7fGxUapf6t+ys9OZ0D5QAAfsseZFdy/WSt3b9WuQdyAyq0m7qmYNWqVerTp48SEhJks9m0aNGiau8bhqEJEyaoQYMGCg8PV/fu3bV9+/Zqzxw+fFjp6emKiopSTEyMHnjgAR09etSLo/AvFZUV2uvYK4mZdgDwJwmRCVp631JN7j5Z9iC7/r7l72o/o72mrp6qm/96sxr/qbHG/2u88ovyFRIUor4t+2rB3QtU+P8K9Ze+f9EtzW4hsAMA/JpziXyg7Ws3NbQfO3ZM7du31/Tp08/5/pQpU/Tmm29qxowZWrNmjWrVqqW0tDSdPHnS9Ux6ero2b96srKwsLV68WKtWrdKoUaO8NQS/U3SsSKcrTyvYFqwGkQ3MLgcAcBGCbEEa33m8Vg9frea1m2uPY4+eyHpCy3ctlyFDXRp30YzeM1Q4rlCLBizSPW3u4QR4AIBlpMZXHUYXaCfIm7o8vlevXurVq9c53zMMQ6+//rqeffZZ9e3bV5I0Z84cxcXFadGiRRowYIC2bt2qzMxMrV27VldffbUkadq0abrttts0depUJSQkeG0s/sK5ND4hMkH2IHZHAIA/uqbhNcp9MFfjlo7Tuv3r1L91fw1MHsiBcgAASwvUE+R9NrUVFBSosLBQ3bt3d70WHR2t6667Tjk5ORowYIBycnIUExPjCuyS1L17dwUFBWnNmjW68847z/nZZWVlKiv7+aobh8MhSSovL1d5ebmHRuQbvv/pe0lV+9n9cazOmv2xdrgPfQCJPgi1hWpa2rRqrwXi/xaB3gf4Gb0AiT6wulaxrWSTTYVHC7XnyB7FR8Sf8zl/6YMLrc9nQ3thYaEkKS4urtrrcXFxrvcKCwtVv379au/b7XbVrl3b9cy5vPzyy5o4ceJZry9dulQ1a9a83NJ9WtbBLElS8NFgff755yZXc+mysrLMLgE+gD6ARB+gCn0AJ3oBEn1gZQ1DG2pv2V79efGf1SGqwy8+6+t9cPz48Qt6zmdDuyc9/fTTevzxx12/djgcSkxMVM+ePRUVFWViZZ73r6X/kvZL17W+Trd1u83sci5aeXm5srKy1KNHD4WEhJhdDkxCH0CiD1CFPoATvQCJPggE15+6Xgu2LFBI4xDddv2584y/9IFzxfev8dnQHh9ftdShqKhIDRr8fGBaUVGRUlJSXM8cPHiw2u87ffq0Dh8+7Pr95xIaGqrQ0NCzXg8JCfHpP1R32Hu06uT4pjFN/XqsgfBnhV9HH0CiD1CFPoATvQCJPrCyjgkdtWDLAm08tPFX/4x9vQ8utDZTT4//JUlJSYqPj9eyZctcrzkcDq1Zs0adOnWSJHXq1EnFxcVav36965ns7GxVVlbquuuu83rN/sB5EB3XvQEAAADwN84T5HMPBM5hdKbOtB89elQ7duxw/bqgoEB5eXmqXbu2GjdurLFjx+rFF1/UlVdeqaSkJD333HNKSEhQv379JEmtW7fWrbfeqpEjR2rGjBkqLy/XmDFjNGDAAE6OP489JXskEdoBAAAA+B/nXe3bD29XaVmpIkMjzS3IC0wN7evWrVO3bt1cv3buMx86dKhmz56t8ePH69ixYxo1apSKi4t1ww03KDMzU2FhYa7fk5GRoTFjxuiWW25RUFCQ+vfvrzfffNPrY/EHJ8pP6NDxQ5KkxOhEk6sBAAAAgItTr1Y9NYxsqH2l+5RflK/OjTubXZLHmRrab7rpJhmGcd73bTabJk2apEmTJp33mdq1a2vevHmeKM9y9jiqZtlrhdRSbFisydUAAAAAwMVLbZCqfaX7lFuYGxCh3Wf3tMP9zlwab7PZTK4GAAAAAC5eSlyKpMDZ105oDyAcQgcAAADA36U2qDqMLq8oz9xCvITQHkCcoT0xiv3sAAAAAPyT8wT5TQc3qbyi3ORqPI/QHkCYaQcAAADg75rGNFV0aLROVZzSlkNbzC7H4wjtAcR5EB2hHQAAAIC/stlsrqvf8grzTK3FGwjtAcS1PJ7r3gAAAAD4MWdozy20/mF0hPYAYRgGy+MBAAAAWIJzXzsz7bCMwycO68TpE5KkRlGNTK4GAAAAAC6d6wT5wjwZhmFyNZ5FaA8Qzln2uFpxCrOHmVwNAAAAAFy61nVbq0ZwDZWUlaiguMDscjyK0B4g2M8OAAAAwCpCgkPUtn5bSdZfIk9oDxDsZwcAAABgJc597bkHrH0YHaE9QLiue4sitAMAAADwf4FygjyhPUCwPB4AAACAlQTKCfKE9gDB8ngAAAAAVtIurp1ssmlf6T4dOnbI7HI8htAeIFzL4wntAAAAACwgMjRSzWs3l2TtJfKE9gBQXlGu/aX7JRHaAQAAAFjHmfe1WxWhPQDsL92vSqNSIUEhql+rvtnlAAAAAIBbpMSlSGKmHX7uzEPogmz8kQMAAACwBmbaYQnsZwcAAABgRc4T5Lf9uE3HTh0zuRrPILQHANdMexTXvQEAAACwjriIOMVHxMuQofyifLPL8QhCewDgujcAAAAAVmX1+9oJ7QGA5fEAAAAArMoZ2q16GB2hPQAw0w4AAADAqlLiUyQR2uHH2NMOAAAAwKqcJ8hvLNqo05WnTa7G/QjtFldaVqrik8WSqq58AwAAAAAraRbbTJE1IlVWUaZvf/zW7HLcjtBucc797DFhMYoKjTK5GgAAAABwryBbkNrHt5dkzcPoCO0Wx9J4AAAAAFbnOozugPX2tRPaLY5D6AAAAABYnZUPoyO0W9yeEq57AwAAAGBtZ97VbhiGydW4F6Hd4nY7mGkHAAAAYG1t6rdRSFCIjpw84spAVkFotzj2tAMAAACwuhrBNXRVvaskWe8wOkK7xbGnHQAAAEAgcN7XvqFog8mVuBeh3cIqjUrtdeyVRGgHAAAAYG2ufe1FeeYW4maEdgs7eOygTlWckk02JUQmmF0OAAAAAHiM8wR5ZtrhN5xL4xMiExQSHGJyNQAAAADgOe3j2kuS9jj2yHHaYXI17kNotzCuewMAAAAQKKLDotUstpkkqeBEgcnVuA+h3cI4hA4AAABAIHHuaye0wy9w3RsAAACAQOIM7T+c+MHkStzHbnYB8Jw9DpbHAwAAAAgcw1KH6Y4r79D2NdvNLsVtmGm3MJbHAwAAAAgkCZEJalW3lYJtwWaX4jaEdgtzLY+PZnk8AAAAAPgjQrtFlZ0uU9GxIknMtAMAAACAvyK0W9Rex15JUrg9XHXC65hcDQAAAADgUhDaLerM/ew2m83kagAAAAAAl4LQblHsZwcAAAAA/0dotyjXdW9R7GcHAAAAAH9FaLcornsDAAAAAP9HaLcolscDAAAAgP8jtFsUM+0AAAAA4P8I7RZkGMbPe9oJ7QAAAADgtwjtFlR8slhHTx2VJDWKamRyNQAAAACAS0VotyDn0vi6NeuqZkhNk6sBAAAAAFwqQrsFsTQeAAAAAKyB0G5BHEIHAAAAANZAaLcg13VvUVz3BgAAAAD+jNBuQcy0AwAAAIA1ENotiD3tAAAAAGANhHYLYnk8AAAAAFgDod1iKiortM+xTxIz7QAAAADg7wjtFnPg6AFVGBWyB9kVHxFvdjkAAAAAgMtAaLcY59L4RlGNFBwUbHI1AAAAAIDLQWi3GPazAwAAAIB1ENothuveAAAAAMA6CO0Ws6eE694AAAAAwCoI7Raz28HyeAAAAACwCkK7xbA8HgAAAACsg9BuMSyPBwAAAADrILRbyLFTx/TTiZ8kEdoBAAAAwAoI7Rayx1E1yx5ZI1LRYdEmVwMAAAAAuFyEdgthPzsAAAAAWAuh3ULYzw4AAAAA1kJotxDnTDvXvQEAAACANRDaLcR5Rzsz7QAAAABgDYR2C2F5PAAAAABYC6HdQjiIDgAAAACshdBuEYZh/LynPZo97QAAAABgBYR2izh0/JDKKspkk00NIxuaXQ4AAAAAwA0I7Rbh3M8eHxGvUHuoydUAAAAAANyB0G4RLI0HAAAAAOshtFsEh9ABAAAAgPUQ2i1ij+P/rnuLIrQDAAAAgFUQ2i2CmXYAAAAAsB5Cu0Wwpx0AAAAArIfQbhGu5fHMtAMAAACAZRDaLeBUxSkdKD0gidAOAAAAAFZCaLeAfY59MmQoNDhU9WrWM7scAAAAAICbENot4Mz97DabzeRqAAAAAADuQmi3APazAwAAAIA1EdotgOveAAAAAMCaCO0W4FoeH8V1bwAAAABgJYR2C2B5PAAAAABYE6HdAlgeDwAAAADWRGi3AJbHAwAAAIA1Edr9XMnJEjnKHJKqrnwDAAAAAFgHod3POfez1w6vrYgaESZXAwAAAABwJ0K7n2M/OwAAAABYF6Hdz7GfHQAAAACsi9Du5/aUcN0bAAAAAFgVod3P7XawPB4AAAAArIrQ7udYHg8AAAAA1kVo93McRAcAAAAA1kVo92MVlRXa59gnidAOAAAAAFZEaPdjRceKVF5ZriBbkBpENjC7HAAAAACAmxHa/ZhzaXzDyIayB9lNrgYAAAAA4G6Edj/GdW8AAAAAYG2Edj/GIXQAAAAAYG2Edj/GdW8AAAAAYG2Edj+228FMOwAAAABYGaHdj7GnHQAAAACsjdDux1zL46NZHg8AAAAAVkRo91Mnyk/o0PFDkphpBwAAAACrIrT7qb2OvZKkWiG1FBsWa3I1AAAAAABPILT7qTOve7PZbCZXAwAAAADwBEK7n2I/OwAAAABYH6HdT7lm2qPYzw4AAAAAVkVo91N7HFz3BgAAAABWR2j3UyyPBwAAAADrI7T7qTMPogMAAAAAWBOh3Q8ZhsHyeAAAAAAIAIR2P3T4xGEdLz8uSWoU1cjkagAAAAAAnkJo90POpfH1a9VXmD3M5GoAAAAAAJ5CaPdD7GcHAAAAgMBAaPdD7GcHAAAAgMBAaPdDruveorjuDQAAAACsjNDuh1geDwAAAACBwadDe0VFhZ577jklJSUpPDxcV1xxhV544QUZhuF6xjAMTZgwQQ0aNFB4eLi6d++u7du3m1i157E8HgAAAAACg0+H9smTJ+udd97RW2+9pa1bt2ry5MmaMmWKpk2b5npmypQpevPNNzVjxgytWbNGtWrVUlpamk6ePGli5Z7FTDsAAAAABAa72QX8ktWrV6tv377q3bu3JKlp06aaP3++vv76a0lVs+yvv/66nn32WfXt21eSNGfOHMXFxWnRokUaMGCAabV7yunK09pful8Se9oBAAAAwOp8OrRff/31mjlzpr777ju1aNFCGzZs0JdffqnXXntNklRQUKDCwkJ1797d9Xuio6N13XXXKScn57yhvaysTGVlZa5fOxwOSVJ5ebnKy8s9OKLLt7tktyqNSoUEhah2aG2fr9fdnOMNtHGjOvoAEn2AKvQBnOgFSPQBqvhLH1xofT4d2p966ik5HA61atVKwcHBqqio0EsvvaT09HRJUmFhoSQpLi6u2u+Li4tzvXcuL7/8siZOnHjW60uXLlXNmjXdOAL323J0iySptr22Mr/INLka82RlZZldAnwAfQCJPkAV+gBO9AIk+gBVfL0Pjh8/fkHP+XRoX7BggTIyMjRv3jy1adNGeXl5Gjt2rBISEjR06NBL/tynn35ajz/+uOvXDodDiYmJ6tmzp6KiotxRuseUbC6Rdkgt41vqtttuM7scrysvL1dWVpZ69OihkJAQs8uBSegDSPQBqtAHcKIXINEHqOIvfeBc8f1rfDq0P/HEE3rqqadcy9yTk5P1ww8/6OWXX9bQoUMVHx8vSSoqKlKDBg1cv6+oqEgpKSnn/dzQ0FCFhoae9XpISIhP/6FK0v6jVfvZm8Q08flaPckf/qzgefQBJPoAVegDONELkOgDVPH1PrjQ2nz69Pjjx48rKKh6icHBwaqsrJQkJSUlKT4+XsuWLXO973A4tGbNGnXq1MmrtXrLnhKuewMAAACAQOHTM+19+vTRSy+9pMaNG6tNmzbKzc3Va6+9puHDh0uSbDabxo4dqxdffFFXXnmlkpKS9NxzzykhIUH9+vUzt3gP2e3gujcAAAAACBQ+HdqnTZum5557Tg8//LAOHjyohIQEPfjgg5owYYLrmfHjx+vYsWMaNWqUiouLdcMNNygzM1NhYWEmVu45zjvaue4NAAAAAKzPp0N7ZGSkXn/9db3++uvnfcZms2nSpEmaNGmS9wozEcvjAQAAACBw+PSedlRXWlaqIyePSJISo5lpBwAAAACrI7T7kT2Oqln26NBoRYX69tV0AAAAAIDLR2j3I8797CyNBwAAAIDAQGj3I+xnBwAAAIDAQmj3I8y0AwAAAEBgIbT7Eecd7Vz3BgAAAACBgdDuR1geDwAAAACBhdDuR1geDwAAAACBhdDuJyqNSteVb9zRDgAAAACBwW52Abgwx8uPq3uz7tpTskcNIxuaXQ4AAAAAwAsI7X4iokaE/jnon2aXAQAAAADwIpbHAwAAAADgowjtAAAAAAD4KEI7AAAAAAA+itAOAAAAAICPIrQDAAAAAOCjCO0AAAAAAPgoQjsAAAAAAD6K0A4AAAAAgI8itAMAAAAA4KMI7QAAAAAA+ChCOwAAAAAAPorQDgAAAACAjyK0AwAAAADgowjtAAAAAAD4KEI7AAAAAAA+itAOAAAAAICPIrQDAAAAAOCjCO0AAAAAAPgoQjsAAAAAAD6K0A4AAAAAgI8itAMAAAAA4KMI7QAAAAAA+ChCOwAAAAAAPorQDgAAAACAjyK0AwAAAADgo+xmF+ALDMOQJDkcDpMrwa8pLy/X8ePH5XA4FBISYnY5MAl9AIk+QBX6AE70AiT6AFX8pQ+c+dOZR8+H0C6ptLRUkpSYmGhyJQAAAACAQFJaWqro6Ojzvm8zfi3WB4DKykrt379fkZGRstlsZpeDX+BwOJSYmKg9e/YoKirK7HJgEvoAEn2AKvQBnOgFSPQBqvhLHxiGodLSUiUkJCgo6Pw715lplxQUFKRGjRqZXQYuQlRUlE//HxDeQR9Aog9QhT6AE70AiT5AFX/og1+aYXfiIDoAAAAAAHwUoR0AAAAAAB9FaIdfCQ0N1fPPP6/Q0FCzS4GJ6ANI9AGq0Adwohcg0QeoYrU+4CA6AAAAAAB8FDPtAAAAAAD4KEI7AAAAAAA+itAOAAAAAICPIrQDAAAAAOCjCO3wupdfflnXXHONIiMjVb9+ffXr10/btm2r9szJkyc1evRo1alTRxEREerfv7+KioqqPfP73/9eHTt2VGhoqFJSUs75Xfn5+erSpYvCwsKUmJioKVOmeGpYuEje6oMVK1aob9++atCggWrVqqWUlBRlZGR4cmi4CN7894HTjh07FBkZqZiYGDePBpfKm31gGIamTp2qFi1aKDQ0VA0bNtRLL73kqaHhInizD5YsWaLf/OY3ioyMVL169dS/f3/t2rXLQyPDxXBHH2zYsEEDBw5UYmKiwsPD1bp1a73xxhtnfdeKFSvUoUMHhYaGqnnz5po9e7anh4cL5K0++Pjjj9WjRw/Vq1dPUVFR6tSpk5YsWeKVMV4MQju8buXKlRo9erT+85//KCsrS+Xl5erZs6eOHTvmeuaxxx7TZ599poULF2rlypXav3+/7rrrrrM+a/jw4br33nvP+T0Oh0M9e/ZUkyZNtH79er3yyiv6wx/+oJkzZ3psbLhw3uqD1atXq127dvroo4+Un5+vYcOGaciQIVq8eLHHxoYL560+cCovL9fAgQPVpUsXt48Fl86bffDoo4/qz3/+s6ZOnapvv/1Wn376qa699lqPjAsXx1t9UFBQoL59++rmm29WXl6elixZoh9//PGcnwPvc0cfrF+/XvXr19fcuXO1efNmPfPMM3r66af11ltvuZ4pKChQ79691a1bN+Xl5Wns2LEaMWKETwa2QOStPli1apV69Oihzz//XOvXr1e3bt3Up08f5ebmenW8v8oATHbw4EFDkrFy5UrDMAyjuLjYCAkJMRYuXOh6ZuvWrYYkIycn56zf//zzzxvt27c/6/W3337biI2NNcrKylyvPfnkk0bLli3dPwhcNk/1wbncdtttxrBhw9xSN9zL030wfvx4Y/DgwcasWbOM6Ohod5cPN/FUH2zZssWw2+3Gt99+67Ha4T6e6oOFCxcadrvdqKiocL326aefGjabzTh16pT7B4LLcrl94PTwww8b3bp1c/16/PjxRps2bao9c++99xppaWluHgHcwVN9cC5XXXWVMXHiRPcU7ibMtMN0JSUlkqTatWtLqvpbsfLycnXv3t31TKtWrdS4cWPl5ORc8Ofm5OSoa9euqlGjhuu1tLQ0bdu2TUeOHHFT9XAXT/XB+b7L+T3wLZ7sg+zsbC1cuFDTp093X8HwCE/1wWeffaZmzZpp8eLFSkpKUtOmTTVixAgdPnzYvQOAW3iqDzp27KigoCDNmjVLFRUVKikp0d/+9jd1795dISEh7h0ELpu7+uC//9ufk5NT7TOkqp8TL/dnDHiGp/rgv1VWVqq0tNTnfk4ktMNUlZWVGjt2rDp37qy2bdtKkgoLC1WjRo2z9pvGxcWpsLDwgj+7sLBQcXFxZ32G8z34Dk/2wX9bsGCB1q5dq2HDhl1OyfAAT/bBTz/9pPvvv1+zZ89WVFSUO8uGm3myD77//nv98MMPWrhwoebMmaPZs2dr/fr1uvvuu905BLiBJ/sgKSlJS5cu1f/8z/8oNDRUMTEx2rt3rxYsWODOIcAN3NUHq1ev1ocffqhRo0a5Xjvfz4kOh0MnTpxw70BwWTzZB/9t6tSpOnr0qH7729+6rX53sJtdAALb6NGjtWnTJn355ZdmlwITeasPli9frmHDhum9995TmzZtPPpduHie7IORI0dq0KBB6tq1q9s/G+7lyT6orKxUWVmZ5syZoxYtWkiS3n//fXXs2FHbtm1Ty5Yt3f6duDSe7IPCwkKNHDlSQ4cO1cCBA1VaWqoJEybo7rvvVlZWlmw2m9u/E5fGHX2wadMm9e3bV88//7x69uzpxurgLd7qg3nz5mnixIn65JNPVL9+/Uv+Lk9gph2mGTNmjBYvXqzly5erUaNGrtfj4+N16tQpFRcXV3u+qKhI8fHxF/z58fHxZ50o6/z1xXwOPMvTfeC0cuVK9enTR3/60580ZMiQyy0bbubpPsjOztbUqVNlt9tlt9v1wAMPqKSkRHa7XX/5y1/cNQxcJk/3QYMGDWS3212BXZJat24tSdq9e/flFQ+38XQfTJ8+XdHR0ZoyZYpSU1PVtWtXzZ07V8uWLdOaNWvcNQxcJnf0wZYtW3TLLbdo1KhRevbZZ6u9d76fE6OiohQeHu7eweCSeboPnD744AONGDFCCxYsOGvbhC8gtMPrDMPQmDFj9I9//EPZ2dlKSkqq9n7Hjh0VEhKiZcuWuV7btm2bdu/erU6dOl3w93Tq1EmrVq1SeXm567WsrCy1bNlSsbGxlz8QXBZv9YFUdaVL7969NXny5F9cEgXv81Yf5OTkKC8vz/XPpEmTFBkZqby8PN15551uGw8ujbf6oHPnzjp9+rR27tzpeu27776TJDVp0uQyR4HL5a0+OH78uIKCqv8IHBwcLKlqNQbM5a4+2Lx5s7p166ahQ4ee81rHTp06VfsMqernxIv9GQOe4a0+kKT58+dr2LBhmj9/vnr37u2ZAV0uEw/BQ4D63e9+Z0RHRxsrVqwwDhw44Prn+PHjrmceeugho3HjxkZ2draxbt06o1OnTkanTp2qfc727duN3Nxc48EHHzRatGhh5ObmGrm5ua7T4ouLi424uDjjvvvuMzZt2mR88MEHRs2aNY13333Xq+PFuXmrD7Kzs42aNWsaTz/9dLXv+emnn7w6Xpybt/rgv3F6vG/xVh9UVFQYHTp0MLp27Wp88803xrp164zrrrvO6NGjh1fHi3PzVh8sW7bMsNlsxsSJE43vvvvOWL9+vZGWlmY0adKk2nfBHO7og40bNxr16tUzBg8eXO0zDh486Hrm+++/N2rWrGk88cQTxtatW43p06cbwcHBRmZmplfHi3PzVh9kZGQYdrvdmD59erVniouLvTreX0Noh9dJOuc/s2bNcj1z4sQJ4+GHHzZiY2ONmjVrGnfeeadx4MCBap9z4403nvNzCgoKXM9s2LDBuOGGG4zQ0FCjYcOGxh//+EcvjRK/xlt9MHTo0HO+f+ONN3pvsDgvb/774EyEdt/izT7Yt2+fcddddxkRERFGXFyccf/99/OXeD7Cm30wf/58IzU11ahVq5ZRr14944477jC2bt3qpZHil7ijD55//vlzfkaTJk2qfdfy5cuNlJQUo0aNGkazZs2qfQfM5a0+ON+/L4YOHeq9wV4Am2EYxkVMzAMAAAAAAC9hTzsAAAAAAD6K0A4AAAAAgI8itAMAAAAA4KMI7QAAAAAA+ChCOwAAAAAAPorQDgAAAACAjyK0AwAAAADgowjtAAAAAAD4KEI7AAAAAAA+itAOAABkGIa6d++utLS0s957++23FRMTo71795pQGQAAgY3QDgAAZLPZNGvWLK1Zs0bvvvuu6/WCggKNHz9e06ZNU6NGjdz6neXl5W79PAAArIjQDgAAJEmJiYl64403NG7cOBUUFMgwDD3wwAPq2bOnUlNT1atXL0VERCguLk733XeffvzxR9fvzczM1A033KCYmBjVqVNHt99+u3bu3Ol6f9euXbLZbPrwww914403KiwsTBkZGWYMEwAAv2IzDMMwuwgAAOA7+vXrp5KSEt1111164YUXtHnzZrVp00YjRozQkCFDdOLECT355JM6ffq0srOzJUkfffSRbDab2rVrp6NHj2rChAnatWuX8vLyFBQUpF27dikpKUlNmzbVq6++qtTUVIWFhalBgwYmjxYAAN9GaAcAANUcPHhQbdq00eHDh/XRRx9p06ZN+ve//60lS5a4ntm7d68SExO1bds2tWjR4qzP+PHHH1WvXj1t3LhRbdu2dYX2119/XY8++qg3hwMAgF9jeTwAAKimfv36evDBB9W6dWv169dPGzZs0PLlyxUREeH6p1WrVpLkWgK/fft2DRw4UM2aNVNUVJSaNm0qSdq9e3e1z7766qu9OhYAAPyd3ewCAACA77Hb7bLbq35MOHr0qPr06aPJkyef9ZxzeXufPn3UpEkTvffee0pISFBlZaXatm2rU6dOVXu+Vq1ani8eAAALIbQDAIBf1KFDB3300Udq2rSpK8if6aefftK2bdv03nvvqUuXLpKkL7/80ttlAgBgSSyPBwAAv2j06NE6fPiwBg4cqLVr12rnzp1asmSJhg0bpoqKCsXGxqpOnTqaOXOmduzYoezsbD3++ONmlw0AgCUQ2gEAwC9KSEjQV199pYqKCvXs2VPJyckaO3asYmJiFBQUpKCgIH3wwQdav3692rZtq8cee0yvvPKK2WUDAGAJnB4PAAAAAICPYqYdAAAAAAAfRWgHAAAAAMBHEdoBAAAAAPBRhHYAAAAAAHwUoR0AAAAAAB9FaAcAAAAAwEcR2gEAAAAA8FGEdgAAAAAAfBShHQAAAAAAH0VoBwAAAADARxHaAQAAAADwUf8fvfLPK2qm3ncAAAAASUVORK5CYII=\n"},"metadata":{}}],"execution_count":46},{"cell_type":"code","source":"fig, ax = plt.subplots()\nax.plot(paris_listing_over_time.index,paris_listing_over_time[\"neighbourhood\"],label = \"New Hosts\", c = \"pink\")\nax.set_ylabel(\"New Hosts\")\nax2 = ax.twinx()\nax2.plot(paris_listing_over_time.index,paris_listing_over_time[\"price\"],label = \"Average Price\")\nax2.set_ylim(0)\nax2.set_ylabel(\"Average Price\")\nax.set_title(\"Regulations Lead to Fewer New Hosts and Higher Prices\")\nplt.show()","metadata":{"trusted":true,"execution":{"iopub.status.busy":"2025-05-11T03:41:21.564297Z","iopub.execute_input":"2025-05-11T03:41:21.564473Z","iopub.status.idle":"2025-05-11T03:41:21.845716Z","shell.execute_reply.started":"2025-05-11T03:41:21.564459Z","shell.execute_reply":"2025-05-11T03:41:21.845003Z"}},"outputs":[{"output_type":"display_data","data":{"text/plain":"<Figure size 640x480 with 2 Axes>","image/png":"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\n"},"metadata":{}}],"execution_count":47},{"cell_type":"markdown","source":"# final result \n\n1. The Number of AirBnBs kept on increasing since the launch and prices kept on increasing too, due to initial traction and early adopters.\n2. After the startup is known to everyone and becomes a common utility, AirBnBs start increasing in numbers and prices also kept on decreasing.\n3. After regulation was announced around 2015 there was under confidence in the business, number of AirBnBs started decreasing and prices started increasing.\n4. Once the regulation is the new normal, during the year 2019 the number of AirBnBs have increased in number and prices kept decreasing due to more supply of them.\n","metadata":{}},{"cell_type":"code","source":"","metadata":{"trusted":true},"outputs":[],"execution_count":null},{"cell_type":"markdown","source":"#  Recommendation for AirBnB \nRegulations in long term rentals can impact the business adversely, there might be customer and hosts churn due to uncertainty.\nSuch regulations might add to AirBnBs losses which might be difficult to recover later.\nIf the customer experience is going to get impacted due to this, it would lead to incorrect brand perception.\nIt is recommended to watch out for any such regulations at other places and be prepared for it.\nAirBnB can replicate such regulations at other places.\nThey can keep strict rules to onboard and release the hosts.\nThey can limit the number of AirBnBs in a locality to ensure the public has enough rental options and the government doesn't step in.","metadata":{}},{"cell_type":"code","source":"","metadata":{"trusted":true},"outputs":[],"execution_count":null},{"cell_type":"code","source":"","metadata":{"trusted":true},"outputs":[],"execution_count":null},{"cell_type":"code","source":"","metadata":{"trusted":true},"outputs":[],"execution_count":null}]}
{
 "cells": [
  {
   "cell_type": "code",
   "execution_count": 1,
   "id": "dcc23ffd",
   "metadata": {
    "_cell_guid": "b1076dfc-b9ad-4769-8c92-a6c4dae69d19",
    "_uuid": "8f2839f25d086af736a60e9eeb907d3b93b6e0e5",
    "execution": {
     "iopub.execute_input": "2025-02-10T03:28:07.946959Z",
     "iopub.status.busy": "2025-02-10T03:28:07.946730Z",
     "iopub.status.idle": "2025-02-10T03:28:08.656231Z",
     "shell.execute_reply": "2025-02-10T03:28:08.655231Z"
    },
    "papermill": {
     "duration": 0.721934,
     "end_time": "2025-02-10T03:28:08.657736",
     "exception": false,
     "start_time": "2025-02-10T03:28:07.935802",
     "status": "completed"
    },
    "tags": []
   },
   "outputs": [
    {
     "name": "stdout",
     "output_type": "stream",
     "text": [
      "/kaggle/input/airbnb-listings-reviews/Airbnb Data/Listings.csv\n",
      "/kaggle/input/airbnb-listings-reviews/Airbnb Data/Reviews.csv\n",
      "/kaggle/input/airbnb-listings-reviews/Airbnb Data/Reviews_data_dictionary.csv\n",
      "/kaggle/input/airbnb-listings-reviews/Airbnb Data/Listings_data_dictionary.csv\n"
     ]
    }
   ],
   "source": [
    "# This Python 3 environment comes with many helpful analytics libraries installed\n",
    "# It is defined by the kaggle/python Docker image: https://github.com/kaggle/docker-python\n",
    "# For example, here's several helpful packages to load\n",
    "\n",
    "import numpy as np # linear algebra\n",
    "import pandas as pd # data processing, CSV file I/O (e.g. pd.read_csv)\n",
    "\n",
    "# Input data files are available in the read-only \"../input/\" directory\n",
    "# For example, running this (by clicking run or pressing Shift+Enter) will list all files under the input directory\n",
    "\n",
    "import os\n",
    "for dirname, _, filenames in os.walk('/kaggle/input'):\n",
    "    for filename in filenames:\n",
    "        print(os.path.join(dirname, filename))\n",
    "\n",
    "# You can write up to 20GB to the current directory (/kaggle/working/) that gets preserved as output when you create a version using \"Save & Run All\" \n",
    "# You can also write temporary files to /kaggle/temp/, but they won't be saved outside of the current session"
   ]
  },
  {
   "cell_type": "markdown",
   "id": "a2689358",
   "metadata": {
    "papermill": {
     "duration": 0.008762,
     "end_time": "2025-02-10T03:28:08.675952",
     "exception": false,
     "start_time": "2025-02-10T03:28:08.667190",
     "status": "completed"
    },
    "tags": []
   },
   "source": [
    "<div style=\"background-color: #f88379; padding: 25px; border-radius: 10px;font-size:20px;font-weight:10px\">\n",
    "  <h1 style=\"color: #333;\"><strong>AirBnB Listings and reviews</strong></h1>\n",
    "</div>"
   ]
  },
  {
   "cell_type": "markdown",
   "id": "7fd3a7e1",
   "metadata": {
    "papermill": {
     "duration": 0.008523,
     "end_time": "2025-02-10T03:28:08.693223",
     "exception": false,
     "start_time": "2025-02-10T03:28:08.684700",
     "status": "completed"
    },
    "tags": []
   },
   "source": [
    "<img src=\"https://jayvas.com/wp-content/uploads/2020/11/airbnb-real-estate-company.jpg\" width=1200>"
   ]
  },
  {
   "cell_type": "markdown",
   "id": "ec12132d",
   "metadata": {
    "papermill": {
     "duration": 0.008909,
     "end_time": "2025-02-10T03:28:08.711180",
     "exception": false,
     "start_time": "2025-02-10T03:28:08.702271",
     "status": "completed"
    },
    "tags": []
   },
   "source": [
    "<div style=\"background-color: #0000; padding: 20px; border-radius: 10px;font-size:25px;font-weight:10px\">\n",
    "  <h1 style=\"color: #333;\"><strong>Exploratory Data Analysis</strong></h1>\n",
    "</div>"
   ]
  },
  {
   "cell_type": "code",
   "execution_count": 2,
   "id": "dc77895d",
   "metadata": {
    "execution": {
     "iopub.execute_input": "2025-02-10T03:28:08.729571Z",
     "iopub.status.busy": "2025-02-10T03:28:08.729175Z",
     "iopub.status.idle": "2025-02-10T03:28:08.741380Z",
     "shell.execute_reply": "2025-02-10T03:28:08.740590Z"
    },
    "papermill": {
     "duration": 0.022948,
     "end_time": "2025-02-10T03:28:08.742759",
     "exception": false,
     "start_time": "2025-02-10T03:28:08.719811",
     "status": "completed"
    },
    "tags": []
   },
   "outputs": [],
   "source": [
    "reviews_dict = pd.read_csv(r\"/kaggle/input/airbnb-listings-reviews/Airbnb Data/Reviews_data_dictionary.csv\")"
   ]
  },
  {
   "cell_type": "code",
   "execution_count": 3,
   "id": "3ee5774b",
   "metadata": {
    "execution": {
     "iopub.execute_input": "2025-02-10T03:28:08.761139Z",
     "iopub.status.busy": "2025-02-10T03:28:08.760938Z",
     "iopub.status.idle": "2025-02-10T03:28:08.777621Z",
     "shell.execute_reply": "2025-02-10T03:28:08.776917Z"
    },
    "papermill": {
     "duration": 0.027105,
     "end_time": "2025-02-10T03:28:08.778852",
     "exception": false,
     "start_time": "2025-02-10T03:28:08.751747",
     "status": "completed"
    },
    "tags": []
   },
   "outputs": [
    {
     "data": {
      "text/html": [
       "<div>\n",
       "<style scoped>\n",
       "    .dataframe tbody tr th:only-of-type {\n",
       "        vertical-align: middle;\n",
       "    }\n",
       "\n",
       "    .dataframe tbody tr th {\n",
       "        vertical-align: top;\n",
       "    }\n",
       "\n",
       "    .dataframe thead th {\n",
       "        text-align: right;\n",
       "    }\n",
       "</style>\n",
       "<table border=\"1\" class=\"dataframe\">\n",
       "  <thead>\n",
       "    <tr style=\"text-align: right;\">\n",
       "      <th></th>\n",
       "      <th>Field</th>\n",
       "      <th>Description</th>\n",
       "    </tr>\n",
       "  </thead>\n",
       "  <tbody>\n",
       "    <tr>\n",
       "      <th>0</th>\n",
       "      <td>listing_id</td>\n",
       "      <td>Listing ID</td>\n",
       "    </tr>\n",
       "    <tr>\n",
       "      <th>1</th>\n",
       "      <td>review_id</td>\n",
       "      <td>Review ID</td>\n",
       "    </tr>\n",
       "    <tr>\n",
       "      <th>2</th>\n",
       "      <td>date</td>\n",
       "      <td>Review date</td>\n",
       "    </tr>\n",
       "    <tr>\n",
       "      <th>3</th>\n",
       "      <td>reviewer_id</td>\n",
       "      <td>Reviewer ID</td>\n",
       "    </tr>\n",
       "  </tbody>\n",
       "</table>\n",
       "</div>"
      ],
      "text/plain": [
       "         Field  Description\n",
       "0   listing_id   Listing ID\n",
       "1    review_id    Review ID\n",
       "2         date  Review date\n",
       "3  reviewer_id  Reviewer ID"
      ]
     },
     "execution_count": 3,
     "metadata": {},
     "output_type": "execute_result"
    }
   ],
   "source": [
    "reviews_dict"
   ]
  },
  {
   "cell_type": "code",
   "execution_count": 4,
   "id": "9549b799",
   "metadata": {
    "execution": {
     "iopub.execute_input": "2025-02-10T03:28:08.797649Z",
     "iopub.status.busy": "2025-02-10T03:28:08.797425Z",
     "iopub.status.idle": "2025-02-10T03:28:12.581770Z",
     "shell.execute_reply": "2025-02-10T03:28:12.581089Z"
    },
    "papermill": {
     "duration": 3.795419,
     "end_time": "2025-02-10T03:28:12.583425",
     "exception": false,
     "start_time": "2025-02-10T03:28:08.788006",
     "status": "completed"
    },
    "tags": []
   },
   "outputs": [],
   "source": [
    "reviews = pd.read_csv(r\"/kaggle/input/airbnb-listings-reviews/Airbnb Data/Reviews.csv\")"
   ]
  },
  {
   "cell_type": "code",
   "execution_count": 5,
   "id": "dea8a0a3",
   "metadata": {
    "execution": {
     "iopub.execute_input": "2025-02-10T03:28:12.602718Z",
     "iopub.status.busy": "2025-02-10T03:28:12.602436Z",
     "iopub.status.idle": "2025-02-10T03:28:12.610078Z",
     "shell.execute_reply": "2025-02-10T03:28:12.609279Z"
    },
    "papermill": {
     "duration": 0.018166,
     "end_time": "2025-02-10T03:28:12.611281",
     "exception": false,
     "start_time": "2025-02-10T03:28:12.593115",
     "status": "completed"
    },
    "tags": []
   },
   "outputs": [
    {
     "data": {
      "text/html": [
       "<div>\n",
       "<style scoped>\n",
       "    .dataframe tbody tr th:only-of-type {\n",
       "        vertical-align: middle;\n",
       "    }\n",
       "\n",
       "    .dataframe tbody tr th {\n",
       "        vertical-align: top;\n",
       "    }\n",
       "\n",
       "    .dataframe thead th {\n",
       "        text-align: right;\n",
       "    }\n",
       "</style>\n",
       "<table border=\"1\" class=\"dataframe\">\n",
       "  <thead>\n",
       "    <tr style=\"text-align: right;\">\n",
       "      <th></th>\n",
       "      <th>listing_id</th>\n",
       "      <th>review_id</th>\n",
       "      <th>date</th>\n",
       "      <th>reviewer_id</th>\n",
       "    </tr>\n",
       "  </thead>\n",
       "  <tbody>\n",
       "    <tr>\n",
       "      <th>0</th>\n",
       "      <td>11798</td>\n",
       "      <td>330265172</td>\n",
       "      <td>2018-09-30</td>\n",
       "      <td>11863072</td>\n",
       "    </tr>\n",
       "    <tr>\n",
       "      <th>1</th>\n",
       "      <td>15383</td>\n",
       "      <td>330103585</td>\n",
       "      <td>2018-09-30</td>\n",
       "      <td>39147453</td>\n",
       "    </tr>\n",
       "    <tr>\n",
       "      <th>2</th>\n",
       "      <td>16455</td>\n",
       "      <td>329985788</td>\n",
       "      <td>2018-09-30</td>\n",
       "      <td>1125378</td>\n",
       "    </tr>\n",
       "    <tr>\n",
       "      <th>3</th>\n",
       "      <td>17919</td>\n",
       "      <td>330016899</td>\n",
       "      <td>2018-09-30</td>\n",
       "      <td>172717984</td>\n",
       "    </tr>\n",
       "    <tr>\n",
       "      <th>4</th>\n",
       "      <td>26827</td>\n",
       "      <td>329995638</td>\n",
       "      <td>2018-09-30</td>\n",
       "      <td>17542859</td>\n",
       "    </tr>\n",
       "  </tbody>\n",
       "</table>\n",
       "</div>"
      ],
      "text/plain": [
       "   listing_id  review_id        date  reviewer_id\n",
       "0       11798  330265172  2018-09-30     11863072\n",
       "1       15383  330103585  2018-09-30     39147453\n",
       "2       16455  329985788  2018-09-30      1125378\n",
       "3       17919  330016899  2018-09-30    172717984\n",
       "4       26827  329995638  2018-09-30     17542859"
      ]
     },
     "execution_count": 5,
     "metadata": {},
     "output_type": "execute_result"
    }
   ],
   "source": [
    "reviews.head()"
   ]
  },
  {
   "cell_type": "code",
   "execution_count": 6,
   "id": "d882af3a",
   "metadata": {
    "execution": {
     "iopub.execute_input": "2025-02-10T03:28:12.630915Z",
     "iopub.status.busy": "2025-02-10T03:28:12.630707Z",
     "iopub.status.idle": "2025-02-10T03:28:12.636796Z",
     "shell.execute_reply": "2025-02-10T03:28:12.636220Z"
    },
    "papermill": {
     "duration": 0.017569,
     "end_time": "2025-02-10T03:28:12.637958",
     "exception": false,
     "start_time": "2025-02-10T03:28:12.620389",
     "status": "completed"
    },
    "tags": []
   },
   "outputs": [],
   "source": [
    "listings_dict = pd.read_csv(r\"/kaggle/input/airbnb-listings-reviews/Airbnb Data/Listings_data_dictionary.csv\")"
   ]
  },
  {
   "cell_type": "code",
   "execution_count": 7,
   "id": "74e65264",
   "metadata": {
    "execution": {
     "iopub.execute_input": "2025-02-10T03:28:12.656848Z",
     "iopub.status.busy": "2025-02-10T03:28:12.656652Z",
     "iopub.status.idle": "2025-02-10T03:28:12.659532Z",
     "shell.execute_reply": "2025-02-10T03:28:12.658922Z"
    },
    "papermill": {
     "duration": 0.013592,
     "end_time": "2025-02-10T03:28:12.660646",
     "exception": false,
     "start_time": "2025-02-10T03:28:12.647054",
     "status": "completed"
    },
    "tags": []
   },
   "outputs": [],
   "source": [
    "import warnings\n",
    "warnings.filterwarnings('ignore')"
   ]
  },
  {
   "cell_type": "code",
   "execution_count": 8,
   "id": "5176dc3a",
   "metadata": {
    "execution": {
     "iopub.execute_input": "2025-02-10T03:28:12.679230Z",
     "iopub.status.busy": "2025-02-10T03:28:12.679035Z",
     "iopub.status.idle": "2025-02-10T03:28:12.686629Z",
     "shell.execute_reply": "2025-02-10T03:28:12.685934Z"
    },
    "papermill": {
     "duration": 0.018308,
     "end_time": "2025-02-10T03:28:12.687870",
     "exception": false,
     "start_time": "2025-02-10T03:28:12.669562",
     "status": "completed"
    },
    "tags": []
   },
   "outputs": [
    {
     "data": {
      "text/html": [
       "<div>\n",
       "<style scoped>\n",
       "    .dataframe tbody tr th:only-of-type {\n",
       "        vertical-align: middle;\n",
       "    }\n",
       "\n",
       "    .dataframe tbody tr th {\n",
       "        vertical-align: top;\n",
       "    }\n",
       "\n",
       "    .dataframe thead th {\n",
       "        text-align: right;\n",
       "    }\n",
       "</style>\n",
       "<table border=\"1\" class=\"dataframe\">\n",
       "  <thead>\n",
       "    <tr style=\"text-align: right;\">\n",
       "      <th></th>\n",
       "      <th>Field</th>\n",
       "      <th>Description</th>\n",
       "    </tr>\n",
       "  </thead>\n",
       "  <tbody>\n",
       "    <tr>\n",
       "      <th>0</th>\n",
       "      <td>listing_id</td>\n",
       "      <td>Listing ID</td>\n",
       "    </tr>\n",
       "    <tr>\n",
       "      <th>1</th>\n",
       "      <td>name</td>\n",
       "      <td>Listing Name</td>\n",
       "    </tr>\n",
       "    <tr>\n",
       "      <th>2</th>\n",
       "      <td>host_id</td>\n",
       "      <td>Host ID</td>\n",
       "    </tr>\n",
       "    <tr>\n",
       "      <th>3</th>\n",
       "      <td>host_since</td>\n",
       "      <td>Date the Host joined Airbnb</td>\n",
       "    </tr>\n",
       "    <tr>\n",
       "      <th>4</th>\n",
       "      <td>host_location</td>\n",
       "      <td>Location where the Host is based</td>\n",
       "    </tr>\n",
       "    <tr>\n",
       "      <th>5</th>\n",
       "      <td>host_response_time</td>\n",
       "      <td>Estimate of how long the Host takes to respond</td>\n",
       "    </tr>\n",
       "    <tr>\n",
       "      <th>6</th>\n",
       "      <td>host_response_rate</td>\n",
       "      <td>Percentage of times the Host responds</td>\n",
       "    </tr>\n",
       "    <tr>\n",
       "      <th>7</th>\n",
       "      <td>host_acceptance_rate</td>\n",
       "      <td>Percentage of times the Host accepts a booking...</td>\n",
       "    </tr>\n",
       "    <tr>\n",
       "      <th>8</th>\n",
       "      <td>host_is_superhost</td>\n",
       "      <td>Binary field to determine if the Host is a Sup...</td>\n",
       "    </tr>\n",
       "    <tr>\n",
       "      <th>9</th>\n",
       "      <td>host_total_listings_count</td>\n",
       "      <td>Total listings the Host has in Airbnb</td>\n",
       "    </tr>\n",
       "    <tr>\n",
       "      <th>10</th>\n",
       "      <td>host_has_profile_pic</td>\n",
       "      <td>Binary field to determine if the Host has a pr...</td>\n",
       "    </tr>\n",
       "    <tr>\n",
       "      <th>11</th>\n",
       "      <td>host_identity_verified</td>\n",
       "      <td>Binary field to determine if the Host has a ve...</td>\n",
       "    </tr>\n",
       "    <tr>\n",
       "      <th>12</th>\n",
       "      <td>neighbourhood</td>\n",
       "      <td>Neighborhood the Listing is in</td>\n",
       "    </tr>\n",
       "    <tr>\n",
       "      <th>13</th>\n",
       "      <td>district</td>\n",
       "      <td>District the Listing is in</td>\n",
       "    </tr>\n",
       "    <tr>\n",
       "      <th>14</th>\n",
       "      <td>city</td>\n",
       "      <td>City the Listing is in</td>\n",
       "    </tr>\n",
       "    <tr>\n",
       "      <th>15</th>\n",
       "      <td>latitude</td>\n",
       "      <td>Listing's latitude</td>\n",
       "    </tr>\n",
       "    <tr>\n",
       "      <th>16</th>\n",
       "      <td>longitude</td>\n",
       "      <td>Listing's longitude</td>\n",
       "    </tr>\n",
       "    <tr>\n",
       "      <th>17</th>\n",
       "      <td>property_type</td>\n",
       "      <td>Type of property for the Listing</td>\n",
       "    </tr>\n",
       "    <tr>\n",
       "      <th>18</th>\n",
       "      <td>room_type</td>\n",
       "      <td>Type of room type in Airbnb for the Listing</td>\n",
       "    </tr>\n",
       "    <tr>\n",
       "      <th>19</th>\n",
       "      <td>accommodates</td>\n",
       "      <td>Guests the Listing accomodates</td>\n",
       "    </tr>\n",
       "    <tr>\n",
       "      <th>20</th>\n",
       "      <td>bedrooms</td>\n",
       "      <td>Bedrooms in the Listing</td>\n",
       "    </tr>\n",
       "    <tr>\n",
       "      <th>21</th>\n",
       "      <td>amenities</td>\n",
       "      <td>Amenities the Listing includes</td>\n",
       "    </tr>\n",
       "    <tr>\n",
       "      <th>22</th>\n",
       "      <td>price</td>\n",
       "      <td>Listing price (in each country's currency)</td>\n",
       "    </tr>\n",
       "    <tr>\n",
       "      <th>23</th>\n",
       "      <td>minimum_nights</td>\n",
       "      <td>Minimum nights per booking</td>\n",
       "    </tr>\n",
       "    <tr>\n",
       "      <th>24</th>\n",
       "      <td>maximum_nights</td>\n",
       "      <td>Maximum nights per booking</td>\n",
       "    </tr>\n",
       "    <tr>\n",
       "      <th>25</th>\n",
       "      <td>review_scores_rating</td>\n",
       "      <td>Listing's overall rating (out of 100)</td>\n",
       "    </tr>\n",
       "    <tr>\n",
       "      <th>26</th>\n",
       "      <td>review_scores_accuracy</td>\n",
       "      <td>Listing's accuracy score based on what's promo...</td>\n",
       "    </tr>\n",
       "    <tr>\n",
       "      <th>27</th>\n",
       "      <td>review_scores_cleanliness</td>\n",
       "      <td>Listing's cleanliness score (out of 10)</td>\n",
       "    </tr>\n",
       "    <tr>\n",
       "      <th>28</th>\n",
       "      <td>review_scores_checkin</td>\n",
       "      <td>Listing's check-in experience score (out of 10)</td>\n",
       "    </tr>\n",
       "    <tr>\n",
       "      <th>29</th>\n",
       "      <td>review_scores_communication</td>\n",
       "      <td>Listing's communication with the Host score (o...</td>\n",
       "    </tr>\n",
       "    <tr>\n",
       "      <th>30</th>\n",
       "      <td>review_scores_location</td>\n",
       "      <td>Listing's location score within the city (out ...</td>\n",
       "    </tr>\n",
       "    <tr>\n",
       "      <th>31</th>\n",
       "      <td>review_scores_value</td>\n",
       "      <td>Listing's value score relative to its price (o...</td>\n",
       "    </tr>\n",
       "    <tr>\n",
       "      <th>32</th>\n",
       "      <td>instant_bookable</td>\n",
       "      <td>Binary field to determine if the Listing can b...</td>\n",
       "    </tr>\n",
       "  </tbody>\n",
       "</table>\n",
       "</div>"
      ],
      "text/plain": [
       "                          Field  \\\n",
       "0                    listing_id   \n",
       "1                          name   \n",
       "2                       host_id   \n",
       "3                    host_since   \n",
       "4                 host_location   \n",
       "5            host_response_time   \n",
       "6            host_response_rate   \n",
       "7          host_acceptance_rate   \n",
       "8             host_is_superhost   \n",
       "9     host_total_listings_count   \n",
       "10         host_has_profile_pic   \n",
       "11       host_identity_verified   \n",
       "12                neighbourhood   \n",
       "13                     district   \n",
       "14                         city   \n",
       "15                     latitude   \n",
       "16                    longitude   \n",
       "17                property_type   \n",
       "18                    room_type   \n",
       "19                 accommodates   \n",
       "20                     bedrooms   \n",
       "21                    amenities   \n",
       "22                        price   \n",
       "23               minimum_nights   \n",
       "24               maximum_nights   \n",
       "25         review_scores_rating   \n",
       "26       review_scores_accuracy   \n",
       "27    review_scores_cleanliness   \n",
       "28        review_scores_checkin   \n",
       "29  review_scores_communication   \n",
       "30       review_scores_location   \n",
       "31          review_scores_value   \n",
       "32             instant_bookable   \n",
       "\n",
       "                                          Description  \n",
       "0                                          Listing ID  \n",
       "1                                        Listing Name  \n",
       "2                                             Host ID  \n",
       "3                         Date the Host joined Airbnb  \n",
       "4                    Location where the Host is based  \n",
       "5      Estimate of how long the Host takes to respond  \n",
       "6               Percentage of times the Host responds  \n",
       "7   Percentage of times the Host accepts a booking...  \n",
       "8   Binary field to determine if the Host is a Sup...  \n",
       "9               Total listings the Host has in Airbnb  \n",
       "10  Binary field to determine if the Host has a pr...  \n",
       "11  Binary field to determine if the Host has a ve...  \n",
       "12                     Neighborhood the Listing is in  \n",
       "13                         District the Listing is in  \n",
       "14                             City the Listing is in  \n",
       "15                                 Listing's latitude  \n",
       "16                                Listing's longitude  \n",
       "17                   Type of property for the Listing  \n",
       "18        Type of room type in Airbnb for the Listing  \n",
       "19                     Guests the Listing accomodates  \n",
       "20                            Bedrooms in the Listing  \n",
       "21                     Amenities the Listing includes  \n",
       "22         Listing price (in each country's currency)  \n",
       "23                         Minimum nights per booking  \n",
       "24                         Maximum nights per booking  \n",
       "25              Listing's overall rating (out of 100)  \n",
       "26  Listing's accuracy score based on what's promo...  \n",
       "27            Listing's cleanliness score (out of 10)  \n",
       "28    Listing's check-in experience score (out of 10)  \n",
       "29  Listing's communication with the Host score (o...  \n",
       "30  Listing's location score within the city (out ...  \n",
       "31  Listing's value score relative to its price (o...  \n",
       "32  Binary field to determine if the Listing can b...  "
      ]
     },
     "execution_count": 8,
     "metadata": {},
     "output_type": "execute_result"
    }
   ],
   "source": [
    "listings_dict"
   ]
  },
  {
   "cell_type": "markdown",
   "id": "3d6bd9e1",
   "metadata": {
    "papermill": {
     "duration": 0.009322,
     "end_time": "2025-02-10T03:28:12.706577",
     "exception": false,
     "start_time": "2025-02-10T03:28:12.697255",
     "status": "completed"
    },
    "tags": []
   },
   "source": [
    "<div style=\"background-color: #f88379; padding: 25px; border-radius: 10px;\">\n",
    "  <h1 style=\"color: #333;\"><strong>Loading and Checking the dataset</strong></h1>\n",
    "</div>"
   ]
  },
  {
   "cell_type": "code",
   "execution_count": 9,
   "id": "f73488ac",
   "metadata": {
    "execution": {
     "iopub.execute_input": "2025-02-10T03:28:12.725584Z",
     "iopub.status.busy": "2025-02-10T03:28:12.725322Z",
     "iopub.status.idle": "2025-02-10T03:28:16.833699Z",
     "shell.execute_reply": "2025-02-10T03:28:16.832707Z"
    },
    "papermill": {
     "duration": 4.119738,
     "end_time": "2025-02-10T03:28:16.835445",
     "exception": false,
     "start_time": "2025-02-10T03:28:12.715707",
     "status": "completed"
    },
    "tags": []
   },
   "outputs": [],
   "source": [
    "listings = pd.read_csv(r\"/kaggle/input/airbnb-listings-reviews/Airbnb Data/Listings.csv\",encoding = \"ISO-8859-1\",low_memory=False)"
   ]
  },
  {
   "cell_type": "code",
   "execution_count": 10,
   "id": "d3760412",
   "metadata": {
    "execution": {
     "iopub.execute_input": "2025-02-10T03:28:16.855743Z",
     "iopub.status.busy": "2025-02-10T03:28:16.855476Z",
     "iopub.status.idle": "2025-02-10T03:28:16.879379Z",
     "shell.execute_reply": "2025-02-10T03:28:16.878594Z"
    },
    "papermill": {
     "duration": 0.035307,
     "end_time": "2025-02-10T03:28:16.880717",
     "exception": false,
     "start_time": "2025-02-10T03:28:16.845410",
     "status": "completed"
    },
    "tags": []
   },
   "outputs": [
    {
     "data": {
      "text/html": [
       "<div>\n",
       "<style scoped>\n",
       "    .dataframe tbody tr th:only-of-type {\n",
       "        vertical-align: middle;\n",
       "    }\n",
       "\n",
       "    .dataframe tbody tr th {\n",
       "        vertical-align: top;\n",
       "    }\n",
       "\n",
       "    .dataframe thead th {\n",
       "        text-align: right;\n",
       "    }\n",
       "</style>\n",
       "<table border=\"1\" class=\"dataframe\">\n",
       "  <thead>\n",
       "    <tr style=\"text-align: right;\">\n",
       "      <th></th>\n",
       "      <th>listing_id</th>\n",
       "      <th>name</th>\n",
       "      <th>host_id</th>\n",
       "      <th>host_since</th>\n",
       "      <th>host_location</th>\n",
       "      <th>host_response_time</th>\n",
       "      <th>host_response_rate</th>\n",
       "      <th>host_acceptance_rate</th>\n",
       "      <th>host_is_superhost</th>\n",
       "      <th>host_total_listings_count</th>\n",
       "      <th>...</th>\n",
       "      <th>minimum_nights</th>\n",
       "      <th>maximum_nights</th>\n",
       "      <th>review_scores_rating</th>\n",
       "      <th>review_scores_accuracy</th>\n",
       "      <th>review_scores_cleanliness</th>\n",
       "      <th>review_scores_checkin</th>\n",
       "      <th>review_scores_communication</th>\n",
       "      <th>review_scores_location</th>\n",
       "      <th>review_scores_value</th>\n",
       "      <th>instant_bookable</th>\n",
       "    </tr>\n",
       "  </thead>\n",
       "  <tbody>\n",
       "    <tr>\n",
       "      <th>0</th>\n",
       "      <td>281420</td>\n",
       "      <td>Beautiful Flat in le Village Montmartre, Paris</td>\n",
       "      <td>1466919</td>\n",
       "      <td>2011-12-03</td>\n",
       "      <td>Paris, Ile-de-France, France</td>\n",
       "      <td>NaN</td>\n",
       "      <td>NaN</td>\n",
       "      <td>NaN</td>\n",
       "      <td>f</td>\n",
       "      <td>1.0</td>\n",
       "      <td>...</td>\n",
       "      <td>2</td>\n",
       "      <td>1125</td>\n",
       "      <td>100.0</td>\n",
       "      <td>10.0</td>\n",
       "      <td>10.0</td>\n",
       "      <td>10.0</td>\n",
       "      <td>10.0</td>\n",
       "      <td>10.0</td>\n",
       "      <td>10.0</td>\n",
       "      <td>f</td>\n",
       "    </tr>\n",
       "    <tr>\n",
       "      <th>1</th>\n",
       "      <td>3705183</td>\n",
       "      <td>39 mÃÂ² Paris (Sacre CÃ",
       "âur)</td>\n",
       "      <td>10328771</td>\n",
       "      <td>2013-11-29</td>\n",
       "      <td>Paris, Ile-de-France, France</td>\n",
       "      <td>NaN</td>\n",
       "      <td>NaN</td>\n",
       "      <td>NaN</td>\n",
       "      <td>f</td>\n",
       "      <td>1.0</td>\n",
       "      <td>...</td>\n",
       "      <td>2</td>\n",
       "      <td>1125</td>\n",
       "      <td>100.0</td>\n",
       "      <td>10.0</td>\n",
       "      <td>10.0</td>\n",
       "      <td>10.0</td>\n",
       "      <td>10.0</td>\n",
       "      <td>10.0</td>\n",
       "      <td>10.0</td>\n",
       "      <td>f</td>\n",
       "    </tr>\n",
       "    <tr>\n",
       "      <th>2</th>\n",
       "      <td>4082273</td>\n",
       "      <td>Lovely apartment with Terrace, 60m2</td>\n",
       "      <td>19252768</td>\n",
       "      <td>2014-07-31</td>\n",
       "      <td>Paris, Ile-de-France, France</td>\n",
       "      <td>NaN</td>\n",
       "      <td>NaN</td>\n",
       "      <td>NaN</td>\n",
       "      <td>f</td>\n",
       "      <td>1.0</td>\n",
       "      <td>...</td>\n",
       "      <td>2</td>\n",
       "      <td>1125</td>\n",
       "      <td>100.0</td>\n",
       "      <td>10.0</td>\n",
       "      <td>10.0</td>\n",
       "      <td>10.0</td>\n",
       "      <td>10.0</td>\n",
       "      <td>10.0</td>\n",
       "      <td>10.0</td>\n",
       "      <td>f</td>\n",
       "    </tr>\n",
       "    <tr>\n",
       "      <th>3</th>\n",
       "      <td>4797344</td>\n",
       "      <td>Cosy studio (close to Eiffel tower)</td>\n",
       "      <td>10668311</td>\n",
       "      <td>2013-12-17</td>\n",
       "      <td>Paris, Ile-de-France, France</td>\n",
       "      <td>NaN</td>\n",
       "      <td>NaN</td>\n",
       "      <td>NaN</td>\n",
       "      <td>f</td>\n",
       "      <td>1.0</td>\n",
       "      <td>...</td>\n",
       "      <td>2</td>\n",
       "      <td>1125</td>\n",
       "      <td>100.0</td>\n",
       "      <td>10.0</td>\n",
       "      <td>10.0</td>\n",
       "      <td>10.0</td>\n",
       "      <td>10.0</td>\n",
       "      <td>10.0</td>\n",
       "      <td>10.0</td>\n",
       "      <td>f</td>\n",
       "    </tr>\n",
       "    <tr>\n",
       "      <th>4</th>\n",
       "      <td>4823489</td>\n",
       "      <td>Close to Eiffel Tower - Beautiful flat : 2 rooms</td>\n",
       "      <td>24837558</td>\n",
       "      <td>2014-12-14</td>\n",
       "      <td>Paris, Ile-de-France, France</td>\n",
       "      <td>NaN</td>\n",
       "      <td>NaN</td>\n",
       "      <td>NaN</td>\n",
       "      <td>f</td>\n",
       "      <td>1.0</td>\n",
       "      <td>...</td>\n",
       "      <td>2</td>\n",
       "      <td>1125</td>\n",
       "      <td>100.0</td>\n",
       "      <td>10.0</td>\n",
       "      <td>10.0</td>\n",
       "      <td>10.0</td>\n",
       "      <td>10.0</td>\n",
       "      <td>10.0</td>\n",
       "      <td>10.0</td>\n",
       "      <td>f</td>\n",
       "    </tr>\n",
       "  </tbody>\n",
       "</table>\n",
       "<p>5 rows × 33 columns</p>\n",
       "</div>"
      ],
      "text/plain": [
       "   listing_id                                              name   host_id  \\\n",
       "0      281420    Beautiful Flat in le Village Montmartre, Paris   1466919   \n",
       "1     3705183                   39 mÃÂ² Paris (Sacre CÃ\n",
       "âur)  10328771   \n",
       "2     4082273               Lovely apartment with Terrace, 60m2  19252768   \n",
       "3     4797344               Cosy studio (close to Eiffel tower)  10668311   \n",
       "4     4823489  Close to Eiffel Tower - Beautiful flat : 2 rooms  24837558   \n",
       "\n",
       "   host_since                 host_location host_response_time  \\\n",
       "0  2011-12-03  Paris, Ile-de-France, France                NaN   \n",
       "1  2013-11-29  Paris, Ile-de-France, France                NaN   \n",
       "2  2014-07-31  Paris, Ile-de-France, France                NaN   \n",
       "3  2013-12-17  Paris, Ile-de-France, France                NaN   \n",
       "4  2014-12-14  Paris, Ile-de-France, France                NaN   \n",
       "\n",
       "   host_response_rate  host_acceptance_rate host_is_superhost  \\\n",
       "0                 NaN                   NaN                 f   \n",
       "1                 NaN                   NaN                 f   \n",
       "2                 NaN                   NaN                 f   \n",
       "3                 NaN                   NaN                 f   \n",
       "4                 NaN                   NaN                 f   \n",
       "\n",
       "   host_total_listings_count  ... minimum_nights maximum_nights  \\\n",
       "0                        1.0  ...              2           1125   \n",
       "1                        1.0  ...              2           1125   \n",
       "2                        1.0  ...              2           1125   \n",
       "3                        1.0  ...              2           1125   \n",
       "4                        1.0  ...              2           1125   \n",
       "\n",
       "  review_scores_rating review_scores_accuracy review_scores_cleanliness  \\\n",
       "0                100.0                   10.0                      10.0   \n",
       "1                100.0                   10.0                      10.0   \n",
       "2                100.0                   10.0                      10.0   \n",
       "3                100.0                   10.0                      10.0   \n",
       "4                100.0                   10.0                      10.0   \n",
       "\n",
       "   review_scores_checkin  review_scores_communication review_scores_location  \\\n",
       "0                   10.0                         10.0                   10.0   \n",
       "1                   10.0                         10.0                   10.0   \n",
       "2                   10.0                         10.0                   10.0   \n",
       "3                   10.0                         10.0                   10.0   \n",
       "4                   10.0                         10.0                   10.0   \n",
       "\n",
       "  review_scores_value  instant_bookable  \n",
       "0                10.0                 f  \n",
       "1                10.0                 f  \n",
       "2                10.0                 f  \n",
       "3                10.0                 f  \n",
       "4                10.0                 f  \n",
       "\n",
       "[5 rows x 33 columns]"
      ]
     },
     "execution_count": 10,
     "metadata": {},
     "output_type": "execute_result"
    }
   ],
   "source": [
    "listings.head()"
   ]
  },
  {
   "cell_type": "code",
   "execution_count": 11,
   "id": "6f54b35e",
   "metadata": {
    "execution": {
     "iopub.execute_input": "2025-02-10T03:28:16.901062Z",
     "iopub.status.busy": "2025-02-10T03:28:16.900827Z",
     "iopub.status.idle": "2025-02-10T03:28:17.100368Z",
     "shell.execute_reply": "2025-02-10T03:28:17.099221Z"
    },
    "papermill": {
     "duration": 0.211052,
     "end_time": "2025-02-10T03:28:17.101717",
     "exception": false,
     "start_time": "2025-02-10T03:28:16.890665",
     "status": "completed"
    },
    "tags": []
   },
   "outputs": [
    {
     "name": "stdout",
     "output_type": "stream",
     "text": [
      "<class 'pandas.core.frame.DataFrame'>\n",
      "RangeIndex: 279712 entries, 0 to 279711\n",
      "Data columns (total 33 columns):\n",
      " #   Column                       Non-Null Count   Dtype  \n",
      "---  ------                       --------------   -----  \n",
      " 0   listing_id                   279712 non-null  int64  \n",
      " 1   name                         279537 non-null  object \n",
      " 2   host_id                      279712 non-null  int64  \n",
      " 3   host_since                   279547 non-null  object \n",
      " 4   host_location                278872 non-null  object \n",
      " 5   host_response_time           150930 non-null  object \n",
      " 6   host_response_rate           150930 non-null  float64\n",
      " 7   host_acceptance_rate         166625 non-null  float64\n",
      " 8   host_is_superhost            279547 non-null  object \n",
      " 9   host_total_listings_count    279547 non-null  float64\n",
      " 10  host_has_profile_pic         279547 non-null  object \n",
      " 11  host_identity_verified       279547 non-null  object \n",
      " 12  neighbourhood                279712 non-null  object \n",
      " 13  district                     37012 non-null   object \n",
      " 14  city                         279712 non-null  object \n",
      " 15  latitude                     279712 non-null  float64\n",
      " 16  longitude                    279712 non-null  float64\n",
      " 17  property_type                279712 non-null  object \n",
      " 18  room_type                    279712 non-null  object \n",
      " 19  accommodates                 279712 non-null  int64  \n",
      " 20  bedrooms                     250277 non-null  float64\n",
      " 21  amenities                    279712 non-null  object \n",
      " 22  price                        279712 non-null  int64  \n",
      " 23  minimum_nights               279712 non-null  int64  \n",
      " 24  maximum_nights               279712 non-null  int64  \n",
      " 25  review_scores_rating         188307 non-null  float64\n",
      " 26  review_scores_accuracy       187999 non-null  float64\n",
      " 27  review_scores_cleanliness    188047 non-null  float64\n",
      " 28  review_scores_checkin        187941 non-null  float64\n",
      " 29  review_scores_communication  188025 non-null  float64\n",
      " 30  review_scores_location       187937 non-null  float64\n",
      " 31  review_scores_value          187927 non-null  float64\n",
      " 32  instant_bookable             279712 non-null  object \n",
      "dtypes: float64(13), int64(6), object(14)\n",
      "memory usage: 70.4+ MB\n"
     ]
    }
   ],
   "source": [
    "listings.info()"
   ]
  },
  {
   "cell_type": "code",
   "execution_count": 12,
   "id": "f3238a04",
   "metadata": {
    "execution": {
     "iopub.execute_input": "2025-02-10T03:28:17.122315Z",
     "iopub.status.busy": "2025-02-10T03:28:17.122097Z",
     "iopub.status.idle": "2025-02-10T03:28:17.170654Z",
     "shell.execute_reply": "2025-02-10T03:28:17.170060Z"
    },
    "papermill": {
     "duration": 0.060105,
     "end_time": "2025-02-10T03:28:17.171894",
     "exception": false,
     "start_time": "2025-02-10T03:28:17.111789",
     "status": "completed"
    },
    "tags": []
   },
   "outputs": [],
   "source": [
    "listings[\"host_since\"] = pd.to_datetime(listings[\"host_since\"]) # converting string into date"
   ]
  },
  {
   "cell_type": "markdown",
   "id": "c1e2f9bb",
   "metadata": {
    "papermill": {
     "duration": 0.009332,
     "end_time": "2025-02-10T03:28:17.190827",
     "exception": false,
     "start_time": "2025-02-10T03:28:17.181495",
     "status": "completed"
    },
    "tags": []
   },
   "source": [
    "<div style=\"background-color: #f88379; padding: 25px; border-radius: 10px;\">\n",
    "  <h1 style=\"color: #333;\"><strong>Information About the dataset</strong></h1>\n",
    "</div>"
   ]
  },
  {
   "cell_type": "code",
   "execution_count": 13,
   "id": "2418f75e",
   "metadata": {
    "execution": {
     "iopub.execute_input": "2025-02-10T03:28:17.210285Z",
     "iopub.status.busy": "2025-02-10T03:28:17.210074Z",
     "iopub.status.idle": "2025-02-10T03:28:17.390886Z",
     "shell.execute_reply": "2025-02-10T03:28:17.389825Z"
    },
    "papermill": {
     "duration": 0.192185,
     "end_time": "2025-02-10T03:28:17.392404",
     "exception": false,
     "start_time": "2025-02-10T03:28:17.200219",
     "status": "completed"
    },
    "tags": []
   },
   "outputs": [
    {
     "name": "stdout",
     "output_type": "stream",
     "text": [
      "<class 'pandas.core.frame.DataFrame'>\n",
      "RangeIndex: 279712 entries, 0 to 279711\n",
      "Data columns (total 33 columns):\n",
      " #   Column                       Non-Null Count   Dtype         \n",
      "---  ------                       --------------   -----         \n",
      " 0   listing_id                   279712 non-null  int64         \n",
      " 1   name                         279537 non-null  object        \n",
      " 2   host_id                      279712 non-null  int64         \n",
      " 3   host_since                   279547 non-null  datetime64[ns]\n",
      " 4   host_location                278872 non-null  object        \n",
      " 5   host_response_time           150930 non-null  object        \n",
      " 6   host_response_rate           150930 non-null  float64       \n",
      " 7   host_acceptance_rate         166625 non-null  float64       \n",
      " 8   host_is_superhost            279547 non-null  object        \n",
      " 9   host_total_listings_count    279547 non-null  float64       \n",
      " 10  host_has_profile_pic         279547 non-null  object        \n",
      " 11  host_identity_verified       279547 non-null  object        \n",
      " 12  neighbourhood                279712 non-null  object        \n",
      " 13  district                     37012 non-null   object        \n",
      " 14  city                         279712 non-null  object        \n",
      " 15  latitude                     279712 non-null  float64       \n",
      " 16  longitude                    279712 non-null  float64       \n",
      " 17  property_type                279712 non-null  object        \n",
      " 18  room_type                    279712 non-null  object        \n",
      " 19  accommodates                 279712 non-null  int64         \n",
      " 20  bedrooms                     250277 non-null  float64       \n",
      " 21  amenities                    279712 non-null  object        \n",
      " 22  price                        279712 non-null  int64         \n",
      " 23  minimum_nights               279712 non-null  int64         \n",
      " 24  maximum_nights               279712 non-null  int64         \n",
      " 25  review_scores_rating         188307 non-null  float64       \n",
      " 26  review_scores_accuracy       187999 non-null  float64       \n",
      " 27  review_scores_cleanliness    188047 non-null  float64       \n",
      " 28  review_scores_checkin        187941 non-null  float64       \n",
      " 29  review_scores_communication  188025 non-null  float64       \n",
      " 30  review_scores_location       187937 non-null  float64       \n",
      " 31  review_scores_value          187927 non-null  float64       \n",
      " 32  instant_bookable             279712 non-null  object        \n",
      "dtypes: datetime64[ns](1), float64(13), int64(6), object(13)\n",
      "memory usage: 70.4+ MB\n"
     ]
    }
   ],
   "source": [
    "listings.info()"
   ]
  },
  {
   "cell_type": "code",
   "execution_count": 14,
   "id": "42437394",
   "metadata": {
    "execution": {
     "iopub.execute_input": "2025-02-10T03:28:17.412950Z",
     "iopub.status.busy": "2025-02-10T03:28:17.412719Z",
     "iopub.status.idle": "2025-02-10T03:28:17.418128Z",
     "shell.execute_reply": "2025-02-10T03:28:17.417490Z"
    },
    "papermill": {
     "duration": 0.016929,
     "end_time": "2025-02-10T03:28:17.419328",
     "exception": false,
     "start_time": "2025-02-10T03:28:17.402399",
     "status": "completed"
    },
    "tags": []
   },
   "outputs": [
    {
     "data": {
      "text/plain": [
       "0         Paris\n",
       "1         Paris\n",
       "2         Paris\n",
       "3         Paris\n",
       "4         Paris\n",
       "          ...  \n",
       "279707    Paris\n",
       "279708    Paris\n",
       "279709    Paris\n",
       "279710    Paris\n",
       "279711    Paris\n",
       "Name: city, Length: 279712, dtype: object"
      ]
     },
     "execution_count": 14,
     "metadata": {},
     "output_type": "execute_result"
    }
   ],
   "source": [
    "listings[\"city\"]"
   ]
  },
  {
   "cell_type": "code",
   "execution_count": 15,
   "id": "11c2dbe3",
   "metadata": {
    "execution": {
     "iopub.execute_input": "2025-02-10T03:28:17.439580Z",
     "iopub.status.busy": "2025-02-10T03:28:17.439371Z",
     "iopub.status.idle": "2025-02-10T03:28:17.456592Z",
     "shell.execute_reply": "2025-02-10T03:28:17.455930Z"
    },
    "papermill": {
     "duration": 0.028477,
     "end_time": "2025-02-10T03:28:17.457693",
     "exception": false,
     "start_time": "2025-02-10T03:28:17.429216",
     "status": "completed"
    },
    "tags": []
   },
   "outputs": [
    {
     "data": {
      "text/plain": [
       "city\n",
       "Paris             64690\n",
       "New York          37012\n",
       "Sydney            33630\n",
       "Rome              27647\n",
       "Rio de Janeiro    26615\n",
       "Istanbul          24519\n",
       "Mexico City       20065\n",
       "Bangkok           19361\n",
       "Cape Town         19086\n",
       "Hong Kong          7087\n",
       "Name: count, dtype: int64"
      ]
     },
     "execution_count": 15,
     "metadata": {},
     "output_type": "execute_result"
    }
   ],
   "source": [
    "listings[\"city\"].value_counts()"
   ]
  },
  {
   "cell_type": "markdown",
   "id": "73e0cca2",
   "metadata": {
    "papermill": {
     "duration": 0.009686,
     "end_time": "2025-02-10T03:28:17.477281",
     "exception": false,
     "start_time": "2025-02-10T03:28:17.467595",
     "status": "completed"
    },
    "tags": []
   },
   "source": [
    "<div style=\"background-color: #f88379; padding: 25px; border-radius: 10px;\">\n",
    "  <h1 style=\"color: #333;\"><strong>Columns and Rows Filtering</strong></h1>\n",
    "</div>"
   ]
  },
  {
   "cell_type": "code",
   "execution_count": 16,
   "id": "35ad03c0",
   "metadata": {
    "execution": {
     "iopub.execute_input": "2025-02-10T03:28:17.497505Z",
     "iopub.status.busy": "2025-02-10T03:28:17.497264Z",
     "iopub.status.idle": "2025-02-10T03:28:17.527244Z",
     "shell.execute_reply": "2025-02-10T03:28:17.526629Z"
    },
    "papermill": {
     "duration": 0.041583,
     "end_time": "2025-02-10T03:28:17.528580",
     "exception": false,
     "start_time": "2025-02-10T03:28:17.486997",
     "status": "completed"
    },
    "tags": []
   },
   "outputs": [],
   "source": [
    "paris_listings = listings.query(\"city=='Paris'\")"
   ]
  },
  {
   "cell_type": "markdown",
   "id": "91f9308f",
   "metadata": {
    "papermill": {
     "duration": 0.010196,
     "end_time": "2025-02-10T03:28:17.548940",
     "exception": false,
     "start_time": "2025-02-10T03:28:17.538744",
     "status": "completed"
    },
    "tags": []
   },
   "source": [
    "<div style=\"background-color: #f88379; padding: 25px; border-radius: 10px;\">\n",
    "  <h1 style=\"color: #333;\"><strong>Paris City Data Analysis</strong></h1>\n",
    "</div>"
   ]
  },
  {
   "cell_type": "code",
   "execution_count": 17,
   "id": "52b058e6",
   "metadata": {
    "execution": {
     "iopub.execute_input": "2025-02-10T03:28:17.569600Z",
     "iopub.status.busy": "2025-02-10T03:28:17.569311Z",
     "iopub.status.idle": "2025-02-10T03:28:17.619960Z",
     "shell.execute_reply": "2025-02-10T03:28:17.619077Z"
    },
    "papermill": {
     "duration": 0.062935,
     "end_time": "2025-02-10T03:28:17.621727",
     "exception": false,
     "start_time": "2025-02-10T03:28:17.558792",
     "status": "completed"
    },
    "tags": []
   },
   "outputs": [
    {
     "name": "stdout",
     "output_type": "stream",
     "text": [
      "<class 'pandas.core.frame.DataFrame'>\n",
      "Index: 64690 entries, 0 to 279711\n",
      "Data columns (total 33 columns):\n",
      " #   Column                       Non-Null Count  Dtype         \n",
      "---  ------                       --------------  -----         \n",
      " 0   listing_id                   64690 non-null  int64         \n",
      " 1   name                         64627 non-null  object        \n",
      " 2   host_id                      64690 non-null  int64         \n",
      " 3   host_since                   64657 non-null  datetime64[ns]\n",
      " 4   host_location                64522 non-null  object        \n",
      " 5   host_response_time           23346 non-null  object        \n",
      " 6   host_response_rate           23346 non-null  float64       \n",
      " 7   host_acceptance_rate         31919 non-null  float64       \n",
      " 8   host_is_superhost            64657 non-null  object        \n",
      " 9   host_total_listings_count    64657 non-null  float64       \n",
      " 10  host_has_profile_pic         64657 non-null  object        \n",
      " 11  host_identity_verified       64657 non-null  object        \n",
      " 12  neighbourhood                64690 non-null  object        \n",
      " 13  district                     0 non-null      object        \n",
      " 14  city                         64690 non-null  object        \n",
      " 15  latitude                     64690 non-null  float64       \n",
      " 16  longitude                    64690 non-null  float64       \n",
      " 17  property_type                64690 non-null  object        \n",
      " 18  room_type                    64690 non-null  object        \n",
      " 19  accommodates                 64690 non-null  int64         \n",
      " 20  bedrooms                     51286 non-null  float64       \n",
      " 21  amenities                    64690 non-null  object        \n",
      " 22  price                        64690 non-null  int64         \n",
      " 23  minimum_nights               64690 non-null  int64         \n",
      " 24  maximum_nights               64690 non-null  int64         \n",
      " 25  review_scores_rating         48036 non-null  float64       \n",
      " 26  review_scores_accuracy       47989 non-null  float64       \n",
      " 27  review_scores_cleanliness    47998 non-null  float64       \n",
      " 28  review_scores_checkin        47972 non-null  float64       \n",
      " 29  review_scores_communication  47991 non-null  float64       \n",
      " 30  review_scores_location       47971 non-null  float64       \n",
      " 31  review_scores_value          47972 non-null  float64       \n",
      " 32  instant_bookable             64690 non-null  object        \n",
      "dtypes: datetime64[ns](1), float64(13), int64(6), object(13)\n",
      "memory usage: 16.8+ MB\n"
     ]
    }
   ],
   "source": [
    "paris_listings.info()"
   ]
  },
  {
   "cell_type": "code",
   "execution_count": 18,
   "id": "ca248730",
   "metadata": {
    "execution": {
     "iopub.execute_input": "2025-02-10T03:28:17.645171Z",
     "iopub.status.busy": "2025-02-10T03:28:17.644917Z",
     "iopub.status.idle": "2025-02-10T03:28:17.679460Z",
     "shell.execute_reply": "2025-02-10T03:28:17.678553Z"
    },
    "papermill": {
     "duration": 0.048041,
     "end_time": "2025-02-10T03:28:17.680862",
     "exception": false,
     "start_time": "2025-02-10T03:28:17.632821",
     "status": "completed"
    },
    "tags": []
   },
   "outputs": [],
   "source": [
    "paris_listings = listings.query(\"city=='Paris'\").loc[:,[\"host_since\",\"neighbourhood\",\"city\",\"accommodates\",\"price\"]]"
   ]
  },
  {
   "cell_type": "code",
   "execution_count": 19,
   "id": "5eb6e3c2",
   "metadata": {
    "execution": {
     "iopub.execute_input": "2025-02-10T03:28:17.701821Z",
     "iopub.status.busy": "2025-02-10T03:28:17.701593Z",
     "iopub.status.idle": "2025-02-10T03:28:17.709506Z",
     "shell.execute_reply": "2025-02-10T03:28:17.708722Z"
    },
    "papermill": {
     "duration": 0.019751,
     "end_time": "2025-02-10T03:28:17.710759",
     "exception": false,
     "start_time": "2025-02-10T03:28:17.691008",
     "status": "completed"
    },
    "tags": []
   },
   "outputs": [
    {
     "data": {
      "text/html": [
       "<div>\n",
       "<style scoped>\n",
       "    .dataframe tbody tr th:only-of-type {\n",
       "        vertical-align: middle;\n",
       "    }\n",
       "\n",
       "    .dataframe tbody tr th {\n",
       "        vertical-align: top;\n",
       "    }\n",
       "\n",
       "    .dataframe thead th {\n",
       "        text-align: right;\n",
       "    }\n",
       "</style>\n",
       "<table border=\"1\" class=\"dataframe\">\n",
       "  <thead>\n",
       "    <tr style=\"text-align: right;\">\n",
       "      <th></th>\n",
       "      <th>host_since</th>\n",
       "      <th>neighbourhood</th>\n",
       "      <th>city</th>\n",
       "      <th>accommodates</th>\n",
       "      <th>price</th>\n",
       "    </tr>\n",
       "  </thead>\n",
       "  <tbody>\n",
       "    <tr>\n",
       "      <th>0</th>\n",
       "      <td>2011-12-03</td>\n",
       "      <td>Buttes-Montmartre</td>\n",
       "      <td>Paris</td>\n",
       "      <td>2</td>\n",
       "      <td>53</td>\n",
       "    </tr>\n",
       "    <tr>\n",
       "      <th>1</th>\n",
       "      <td>2013-11-29</td>\n",
       "      <td>Buttes-Montmartre</td>\n",
       "      <td>Paris</td>\n",
       "      <td>2</td>\n",
       "      <td>120</td>\n",
       "    </tr>\n",
       "    <tr>\n",
       "      <th>2</th>\n",
       "      <td>2014-07-31</td>\n",
       "      <td>Elysee</td>\n",
       "      <td>Paris</td>\n",
       "      <td>2</td>\n",
       "      <td>89</td>\n",
       "    </tr>\n",
       "    <tr>\n",
       "      <th>3</th>\n",
       "      <td>2013-12-17</td>\n",
       "      <td>Vaugirard</td>\n",
       "      <td>Paris</td>\n",
       "      <td>2</td>\n",
       "      <td>58</td>\n",
       "    </tr>\n",
       "    <tr>\n",
       "      <th>4</th>\n",
       "      <td>2014-12-14</td>\n",
       "      <td>Passy</td>\n",
       "      <td>Paris</td>\n",
       "      <td>2</td>\n",
       "      <td>60</td>\n",
       "    </tr>\n",
       "  </tbody>\n",
       "</table>\n",
       "</div>"
      ],
      "text/plain": [
       "  host_since      neighbourhood   city  accommodates  price\n",
       "0 2011-12-03  Buttes-Montmartre  Paris             2     53\n",
       "1 2013-11-29  Buttes-Montmartre  Paris             2    120\n",
       "2 2014-07-31             Elysee  Paris             2     89\n",
       "3 2013-12-17          Vaugirard  Paris             2     58\n",
       "4 2014-12-14              Passy  Paris             2     60"
      ]
     },
     "execution_count": 19,
     "metadata": {},
     "output_type": "execute_result"
    }
   ],
   "source": [
    "paris_listings.head()"
   ]
  },
  {
   "cell_type": "code",
   "execution_count": 20,
   "id": "8f135166",
   "metadata": {
    "execution": {
     "iopub.execute_input": "2025-02-10T03:28:17.731660Z",
     "iopub.status.busy": "2025-02-10T03:28:17.731447Z",
     "iopub.status.idle": "2025-02-10T03:28:17.744178Z",
     "shell.execute_reply": "2025-02-10T03:28:17.743425Z"
    },
    "papermill": {
     "duration": 0.024396,
     "end_time": "2025-02-10T03:28:17.745324",
     "exception": false,
     "start_time": "2025-02-10T03:28:17.720928",
     "status": "completed"
    },
    "tags": []
   },
   "outputs": [
    {
     "name": "stdout",
     "output_type": "stream",
     "text": [
      "<class 'pandas.core.frame.DataFrame'>\n",
      "Index: 64690 entries, 0 to 279711\n",
      "Data columns (total 5 columns):\n",
      " #   Column         Non-Null Count  Dtype         \n",
      "---  ------         --------------  -----         \n",
      " 0   host_since     64657 non-null  datetime64[ns]\n",
      " 1   neighbourhood  64690 non-null  object        \n",
      " 2   city           64690 non-null  object        \n",
      " 3   accommodates   64690 non-null  int64         \n",
      " 4   price          64690 non-null  int64         \n",
      "dtypes: datetime64[ns](1), int64(2), object(2)\n",
      "memory usage: 3.0+ MB\n"
     ]
    }
   ],
   "source": [
    "paris_listings.info()"
   ]
  },
  {
   "cell_type": "markdown",
   "id": "1d591ed9",
   "metadata": {
    "papermill": {
     "duration": 0.009831,
     "end_time": "2025-02-10T03:28:17.765332",
     "exception": false,
     "start_time": "2025-02-10T03:28:17.755501",
     "status": "completed"
    },
    "tags": []
   },
   "source": [
    "<div style=\"background-color: #f88379; padding: 25px; border-radius: 10px;\">\n",
    "  <h1 style=\"color: #333;\"><strong>Checking if there are missing values in the dataset</strong></h1>\n",
    "</div>"
   ]
  },
  {
   "cell_type": "code",
   "execution_count": 21,
   "id": "f37a39fa",
   "metadata": {
    "execution": {
     "iopub.execute_input": "2025-02-10T03:28:17.786276Z",
     "iopub.status.busy": "2025-02-10T03:28:17.786076Z",
     "iopub.status.idle": "2025-02-10T03:28:17.796758Z",
     "shell.execute_reply": "2025-02-10T03:28:17.796067Z"
    },
    "papermill": {
     "duration": 0.022515,
     "end_time": "2025-02-10T03:28:17.798044",
     "exception": false,
     "start_time": "2025-02-10T03:28:17.775529",
     "status": "completed"
    },
    "tags": []
   },
   "outputs": [
    {
     "data": {
      "text/plain": [
       "host_since       33\n",
       "neighbourhood     0\n",
       "city              0\n",
       "accommodates      0\n",
       "price             0\n",
       "dtype: int64"
      ]
     },
     "execution_count": 21,
     "metadata": {},
     "output_type": "execute_result"
    }
   ],
   "source": [
    "paris_listings.isna().sum()"
   ]
  },
  {
   "cell_type": "code",
   "execution_count": 22,
   "id": "c6924766",
   "metadata": {
    "execution": {
     "iopub.execute_input": "2025-02-10T03:28:17.819538Z",
     "iopub.status.busy": "2025-02-10T03:28:17.819281Z",
     "iopub.status.idle": "2025-02-10T03:28:17.830150Z",
     "shell.execute_reply": "2025-02-10T03:28:17.829586Z"
    },
    "papermill": {
     "duration": 0.022624,
     "end_time": "2025-02-10T03:28:17.831310",
     "exception": false,
     "start_time": "2025-02-10T03:28:17.808686",
     "status": "completed"
    },
    "tags": []
   },
   "outputs": [],
   "source": [
    "paris_listings.dropna(how = \"any\",inplace = True)"
   ]
  },
  {
   "cell_type": "code",
   "execution_count": 23,
   "id": "48c77d1b",
   "metadata": {
    "execution": {
     "iopub.execute_input": "2025-02-10T03:28:17.852487Z",
     "iopub.status.busy": "2025-02-10T03:28:17.852220Z",
     "iopub.status.idle": "2025-02-10T03:28:17.865514Z",
     "shell.execute_reply": "2025-02-10T03:28:17.864743Z"
    },
    "papermill": {
     "duration": 0.025067,
     "end_time": "2025-02-10T03:28:17.866693",
     "exception": false,
     "start_time": "2025-02-10T03:28:17.841626",
     "status": "completed"
    },
    "tags": []
   },
   "outputs": [
    {
     "name": "stdout",
     "output_type": "stream",
     "text": [
      "<class 'pandas.core.frame.DataFrame'>\n",
      "Index: 64657 entries, 0 to 279711\n",
      "Data columns (total 5 columns):\n",
      " #   Column         Non-Null Count  Dtype         \n",
      "---  ------         --------------  -----         \n",
      " 0   host_since     64657 non-null  datetime64[ns]\n",
      " 1   neighbourhood  64657 non-null  object        \n",
      " 2   city           64657 non-null  object        \n",
      " 3   accommodates   64657 non-null  int64         \n",
      " 4   price          64657 non-null  int64         \n",
      "dtypes: datetime64[ns](1), int64(2), object(2)\n",
      "memory usage: 3.0+ MB\n"
     ]
    }
   ],
   "source": [
    "paris_listings.info()"
   ]
  },
  {
   "cell_type": "code",
   "execution_count": 24,
   "id": "0960156d",
   "metadata": {
    "execution": {
     "iopub.execute_input": "2025-02-10T03:28:17.888961Z",
     "iopub.status.busy": "2025-02-10T03:28:17.888751Z",
     "iopub.status.idle": "2025-02-10T03:28:17.909097Z",
     "shell.execute_reply": "2025-02-10T03:28:17.908427Z"
    },
    "papermill": {
     "duration": 0.032697,
     "end_time": "2025-02-10T03:28:17.910339",
     "exception": false,
     "start_time": "2025-02-10T03:28:17.877642",
     "status": "completed"
    },
    "tags": []
   },
   "outputs": [
    {
     "data": {
      "text/html": [
       "<div>\n",
       "<style scoped>\n",
       "    .dataframe tbody tr th:only-of-type {\n",
       "        vertical-align: middle;\n",
       "    }\n",
       "\n",
       "    .dataframe tbody tr th {\n",
       "        vertical-align: top;\n",
       "    }\n",
       "\n",
       "    .dataframe thead th {\n",
       "        text-align: right;\n",
       "    }\n",
       "</style>\n",
       "<table border=\"1\" class=\"dataframe\">\n",
       "  <thead>\n",
       "    <tr style=\"text-align: right;\">\n",
       "      <th></th>\n",
       "      <th>host_since</th>\n",
       "      <th>accommodates</th>\n",
       "      <th>price</th>\n",
       "    </tr>\n",
       "  </thead>\n",
       "  <tbody>\n",
       "    <tr>\n",
       "      <th>count</th>\n",
       "      <td>64657</td>\n",
       "      <td>64657.000000</td>\n",
       "      <td>64657.000000</td>\n",
       "    </tr>\n",
       "    <tr>\n",
       "      <th>mean</th>\n",
       "      <td>2015-11-01 11:06:05.528867584</td>\n",
       "      <td>3.037877</td>\n",
       "      <td>113.104614</td>\n",
       "    </tr>\n",
       "    <tr>\n",
       "      <th>min</th>\n",
       "      <td>2008-08-30 00:00:00</td>\n",
       "      <td>0.000000</td>\n",
       "      <td>0.000000</td>\n",
       "    </tr>\n",
       "    <tr>\n",
       "      <th>25%</th>\n",
       "      <td>2014-03-09 00:00:00</td>\n",
       "      <td>2.000000</td>\n",
       "      <td>59.000000</td>\n",
       "    </tr>\n",
       "    <tr>\n",
       "      <th>50%</th>\n",
       "      <td>2015-07-07 00:00:00</td>\n",
       "      <td>2.000000</td>\n",
       "      <td>80.000000</td>\n",
       "    </tr>\n",
       "    <tr>\n",
       "      <th>75%</th>\n",
       "      <td>2017-05-29 00:00:00</td>\n",
       "      <td>4.000000</td>\n",
       "      <td>120.000000</td>\n",
       "    </tr>\n",
       "    <tr>\n",
       "      <th>max</th>\n",
       "      <td>2021-02-07 00:00:00</td>\n",
       "      <td>16.000000</td>\n",
       "      <td>12000.000000</td>\n",
       "    </tr>\n",
       "    <tr>\n",
       "      <th>std</th>\n",
       "      <td>NaN</td>\n",
       "      <td>1.588382</td>\n",
       "      <td>214.479626</td>\n",
       "    </tr>\n",
       "  </tbody>\n",
       "</table>\n",
       "</div>"
      ],
      "text/plain": [
       "                          host_since  accommodates         price\n",
       "count                          64657  64657.000000  64657.000000\n",
       "mean   2015-11-01 11:06:05.528867584      3.037877    113.104614\n",
       "min              2008-08-30 00:00:00      0.000000      0.000000\n",
       "25%              2014-03-09 00:00:00      2.000000     59.000000\n",
       "50%              2015-07-07 00:00:00      2.000000     80.000000\n",
       "75%              2017-05-29 00:00:00      4.000000    120.000000\n",
       "max              2021-02-07 00:00:00     16.000000  12000.000000\n",
       "std                              NaN      1.588382    214.479626"
      ]
     },
     "execution_count": 24,
     "metadata": {},
     "output_type": "execute_result"
    }
   ],
   "source": [
    "paris_listings.describe()"
   ]
  },
  {
   "cell_type": "code",
   "execution_count": 25,
   "id": "fa5818c0",
   "metadata": {
    "execution": {
     "iopub.execute_input": "2025-02-10T03:28:17.932286Z",
     "iopub.status.busy": "2025-02-10T03:28:17.932083Z",
     "iopub.status.idle": "2025-02-10T03:28:17.952368Z",
     "shell.execute_reply": "2025-02-10T03:28:17.951744Z"
    },
    "papermill": {
     "duration": 0.032591,
     "end_time": "2025-02-10T03:28:17.953698",
     "exception": false,
     "start_time": "2025-02-10T03:28:17.921107",
     "status": "completed"
    },
    "tags": []
   },
   "outputs": [
    {
     "data": {
      "text/html": [
       "<div>\n",
       "<style scoped>\n",
       "    .dataframe tbody tr th:only-of-type {\n",
       "        vertical-align: middle;\n",
       "    }\n",
       "\n",
       "    .dataframe tbody tr th {\n",
       "        vertical-align: top;\n",
       "    }\n",
       "\n",
       "    .dataframe thead th {\n",
       "        text-align: right;\n",
       "    }\n",
       "</style>\n",
       "<table border=\"1\" class=\"dataframe\">\n",
       "  <thead>\n",
       "    <tr style=\"text-align: right;\">\n",
       "      <th></th>\n",
       "      <th>neighbourhood</th>\n",
       "      <th>city</th>\n",
       "    </tr>\n",
       "  </thead>\n",
       "  <tbody>\n",
       "    <tr>\n",
       "      <th>count</th>\n",
       "      <td>64657</td>\n",
       "      <td>64657</td>\n",
       "    </tr>\n",
       "    <tr>\n",
       "      <th>unique</th>\n",
       "      <td>20</td>\n",
       "      <td>1</td>\n",
       "    </tr>\n",
       "    <tr>\n",
       "      <th>top</th>\n",
       "      <td>Buttes-Montmartre</td>\n",
       "      <td>Paris</td>\n",
       "    </tr>\n",
       "    <tr>\n",
       "      <th>freq</th>\n",
       "      <td>7232</td>\n",
       "      <td>64657</td>\n",
       "    </tr>\n",
       "  </tbody>\n",
       "</table>\n",
       "</div>"
      ],
      "text/plain": [
       "            neighbourhood   city\n",
       "count               64657  64657\n",
       "unique                 20      1\n",
       "top     Buttes-Montmartre  Paris\n",
       "freq                 7232  64657"
      ]
     },
     "execution_count": 25,
     "metadata": {},
     "output_type": "execute_result"
    }
   ],
   "source": [
    "paris_listings.describe(include=\"object\")"
   ]
  },
  {
   "cell_type": "code",
   "execution_count": 26,
   "id": "10034d16",
   "metadata": {
    "execution": {
     "iopub.execute_input": "2025-02-10T03:28:17.975754Z",
     "iopub.status.busy": "2025-02-10T03:28:17.975554Z",
     "iopub.status.idle": "2025-02-10T03:28:17.981454Z",
     "shell.execute_reply": "2025-02-10T03:28:17.980801Z"
    },
    "papermill": {
     "duration": 0.018446,
     "end_time": "2025-02-10T03:28:17.982760",
     "exception": false,
     "start_time": "2025-02-10T03:28:17.964314",
     "status": "completed"
    },
    "tags": []
   },
   "outputs": [
    {
     "data": {
      "text/plain": [
       "host_since       54\n",
       "neighbourhood    54\n",
       "city             54\n",
       "accommodates     54\n",
       "price            54\n",
       "dtype: int64"
      ]
     },
     "execution_count": 26,
     "metadata": {},
     "output_type": "execute_result"
    }
   ],
   "source": [
    "paris_listings[paris_listings[\"accommodates\"]==0].count(axis = 0)"
   ]
  },
  {
   "cell_type": "code",
   "execution_count": 27,
   "id": "1be86c67",
   "metadata": {
    "execution": {
     "iopub.execute_input": "2025-02-10T03:28:18.004780Z",
     "iopub.status.busy": "2025-02-10T03:28:18.004582Z",
     "iopub.status.idle": "2025-02-10T03:28:18.010168Z",
     "shell.execute_reply": "2025-02-10T03:28:18.009556Z"
    },
    "papermill": {
     "duration": 0.017874,
     "end_time": "2025-02-10T03:28:18.011310",
     "exception": false,
     "start_time": "2025-02-10T03:28:17.993436",
     "status": "completed"
    },
    "tags": []
   },
   "outputs": [
    {
     "data": {
      "text/plain": [
       "host_since       62\n",
       "neighbourhood    62\n",
       "city             62\n",
       "accommodates     62\n",
       "price            62\n",
       "dtype: int64"
      ]
     },
     "execution_count": 27,
     "metadata": {},
     "output_type": "execute_result"
    }
   ],
   "source": [
    "paris_listings[paris_listings[\"price\"]==0].count(axis = 0)"
   ]
  },
  {
   "cell_type": "code",
   "execution_count": 28,
   "id": "4e0bc6cb",
   "metadata": {
    "execution": {
     "iopub.execute_input": "2025-02-10T03:28:18.033250Z",
     "iopub.status.busy": "2025-02-10T03:28:18.033056Z",
     "iopub.status.idle": "2025-02-10T03:28:18.041476Z",
     "shell.execute_reply": "2025-02-10T03:28:18.040742Z"
    },
    "papermill": {
     "duration": 0.020871,
     "end_time": "2025-02-10T03:28:18.042813",
     "exception": false,
     "start_time": "2025-02-10T03:28:18.021942",
     "status": "completed"
    },
    "tags": []
   },
   "outputs": [
    {
     "data": {
      "text/html": [
       "<div>\n",
       "<style scoped>\n",
       "    .dataframe tbody tr th:only-of-type {\n",
       "        vertical-align: middle;\n",
       "    }\n",
       "\n",
       "    .dataframe tbody tr th {\n",
       "        vertical-align: top;\n",
       "    }\n",
       "\n",
       "    .dataframe thead th {\n",
       "        text-align: right;\n",
       "    }\n",
       "</style>\n",
       "<table border=\"1\" class=\"dataframe\">\n",
       "  <thead>\n",
       "    <tr style=\"text-align: right;\">\n",
       "      <th></th>\n",
       "      <th>host_since</th>\n",
       "      <th>neighbourhood</th>\n",
       "      <th>city</th>\n",
       "      <th>accommodates</th>\n",
       "      <th>price</th>\n",
       "    </tr>\n",
       "  </thead>\n",
       "  <tbody>\n",
       "    <tr>\n",
       "      <th>207075</th>\n",
       "      <td>2019-07-22</td>\n",
       "      <td>Vaugirard</td>\n",
       "      <td>Paris</td>\n",
       "      <td>2</td>\n",
       "      <td>0</td>\n",
       "    </tr>\n",
       "    <tr>\n",
       "      <th>207076</th>\n",
       "      <td>2019-10-31</td>\n",
       "      <td>Enclos-St-Laurent</td>\n",
       "      <td>Paris</td>\n",
       "      <td>2</td>\n",
       "      <td>0</td>\n",
       "    </tr>\n",
       "    <tr>\n",
       "      <th>208301</th>\n",
       "      <td>2019-05-27</td>\n",
       "      <td>Palais-Bourbon</td>\n",
       "      <td>Paris</td>\n",
       "      <td>2</td>\n",
       "      <td>0</td>\n",
       "    </tr>\n",
       "    <tr>\n",
       "      <th>208302</th>\n",
       "      <td>2019-07-19</td>\n",
       "      <td>Pantheon</td>\n",
       "      <td>Paris</td>\n",
       "      <td>3</td>\n",
       "      <td>0</td>\n",
       "    </tr>\n",
       "    <tr>\n",
       "      <th>208854</th>\n",
       "      <td>2016-09-16</td>\n",
       "      <td>Louvre</td>\n",
       "      <td>Paris</td>\n",
       "      <td>3</td>\n",
       "      <td>0</td>\n",
       "    </tr>\n",
       "    <tr>\n",
       "      <th>208855</th>\n",
       "      <td>2019-11-06</td>\n",
       "      <td>Luxembourg</td>\n",
       "      <td>Paris</td>\n",
       "      <td>3</td>\n",
       "      <td>0</td>\n",
       "    </tr>\n",
       "    <tr>\n",
       "      <th>208856</th>\n",
       "      <td>2019-12-02</td>\n",
       "      <td>Elysee</td>\n",
       "      <td>Paris</td>\n",
       "      <td>3</td>\n",
       "      <td>0</td>\n",
       "    </tr>\n",
       "    <tr>\n",
       "      <th>208857</th>\n",
       "      <td>2019-12-17</td>\n",
       "      <td>Opera</td>\n",
       "      <td>Paris</td>\n",
       "      <td>2</td>\n",
       "      <td>0</td>\n",
       "    </tr>\n",
       "  </tbody>\n",
       "</table>\n",
       "</div>"
      ],
      "text/plain": [
       "       host_since      neighbourhood   city  accommodates  price\n",
       "207075 2019-07-22          Vaugirard  Paris             2      0\n",
       "207076 2019-10-31  Enclos-St-Laurent  Paris             2      0\n",
       "208301 2019-05-27     Palais-Bourbon  Paris             2      0\n",
       "208302 2019-07-19           Pantheon  Paris             3      0\n",
       "208854 2016-09-16             Louvre  Paris             3      0\n",
       "208855 2019-11-06         Luxembourg  Paris             3      0\n",
       "208856 2019-12-02             Elysee  Paris             3      0\n",
       "208857 2019-12-17              Opera  Paris             2      0"
      ]
     },
     "execution_count": 28,
     "metadata": {},
     "output_type": "execute_result"
    }
   ],
   "source": [
    "paris_listings[(paris_listings[\"price\"]==0) & (paris_listings[\"accommodates\"]!=0)]"
   ]
  },
  {
   "cell_type": "code",
   "execution_count": 29,
   "id": "1047ae90",
   "metadata": {
    "execution": {
     "iopub.execute_input": "2025-02-10T03:28:18.065418Z",
     "iopub.status.busy": "2025-02-10T03:28:18.065202Z",
     "iopub.status.idle": "2025-02-10T03:28:18.070377Z",
     "shell.execute_reply": "2025-02-10T03:28:18.069644Z"
    },
    "papermill": {
     "duration": 0.017605,
     "end_time": "2025-02-10T03:28:18.071697",
     "exception": false,
     "start_time": "2025-02-10T03:28:18.054092",
     "status": "completed"
    },
    "tags": []
   },
   "outputs": [],
   "source": [
    "paris_listings = paris_listings[paris_listings[\"price\"]!=0]"
   ]
  },
  {
   "cell_type": "code",
   "execution_count": 30,
   "id": "4e0f1c22",
   "metadata": {
    "execution": {
     "iopub.execute_input": "2025-02-10T03:28:18.093891Z",
     "iopub.status.busy": "2025-02-10T03:28:18.093694Z",
     "iopub.status.idle": "2025-02-10T03:28:18.106256Z",
     "shell.execute_reply": "2025-02-10T03:28:18.105454Z"
    },
    "papermill": {
     "duration": 0.024855,
     "end_time": "2025-02-10T03:28:18.107464",
     "exception": false,
     "start_time": "2025-02-10T03:28:18.082609",
     "status": "completed"
    },
    "tags": []
   },
   "outputs": [
    {
     "name": "stdout",
     "output_type": "stream",
     "text": [
      "<class 'pandas.core.frame.DataFrame'>\n",
      "Index: 64595 entries, 0 to 279711\n",
      "Data columns (total 5 columns):\n",
      " #   Column         Non-Null Count  Dtype         \n",
      "---  ------         --------------  -----         \n",
      " 0   host_since     64595 non-null  datetime64[ns]\n",
      " 1   neighbourhood  64595 non-null  object        \n",
      " 2   city           64595 non-null  object        \n",
      " 3   accommodates   64595 non-null  int64         \n",
      " 4   price          64595 non-null  int64         \n",
      "dtypes: datetime64[ns](1), int64(2), object(2)\n",
      "memory usage: 3.0+ MB\n"
     ]
    }
   ],
   "source": [
    "paris_listings.info()"
   ]
  },
  {
   "cell_type": "code",
   "execution_count": 31,
   "id": "fd19e4e2",
   "metadata": {
    "execution": {
     "iopub.execute_input": "2025-02-10T03:28:18.129918Z",
     "iopub.status.busy": "2025-02-10T03:28:18.129706Z",
     "iopub.status.idle": "2025-02-10T03:28:18.136663Z",
     "shell.execute_reply": "2025-02-10T03:28:18.135965Z"
    },
    "papermill": {
     "duration": 0.019611,
     "end_time": "2025-02-10T03:28:18.137939",
     "exception": false,
     "start_time": "2025-02-10T03:28:18.118328",
     "status": "completed"
    },
    "tags": []
   },
   "outputs": [
    {
     "data": {
      "text/html": [
       "<div>\n",
       "<style scoped>\n",
       "    .dataframe tbody tr th:only-of-type {\n",
       "        vertical-align: middle;\n",
       "    }\n",
       "\n",
       "    .dataframe tbody tr th {\n",
       "        vertical-align: top;\n",
       "    }\n",
       "\n",
       "    .dataframe thead th {\n",
       "        text-align: right;\n",
       "    }\n",
       "</style>\n",
       "<table border=\"1\" class=\"dataframe\">\n",
       "  <thead>\n",
       "    <tr style=\"text-align: right;\">\n",
       "      <th></th>\n",
       "      <th>host_since</th>\n",
       "      <th>neighbourhood</th>\n",
       "      <th>city</th>\n",
       "      <th>accommodates</th>\n",
       "      <th>price</th>\n",
       "    </tr>\n",
       "  </thead>\n",
       "  <tbody>\n",
       "    <tr>\n",
       "      <th>0</th>\n",
       "      <td>2011-12-03</td>\n",
       "      <td>Buttes-Montmartre</td>\n",
       "      <td>Paris</td>\n",
       "      <td>2</td>\n",
       "      <td>53</td>\n",
       "    </tr>\n",
       "    <tr>\n",
       "      <th>1</th>\n",
       "      <td>2013-11-29</td>\n",
       "      <td>Buttes-Montmartre</td>\n",
       "      <td>Paris</td>\n",
       "      <td>2</td>\n",
       "      <td>120</td>\n",
       "    </tr>\n",
       "    <tr>\n",
       "      <th>2</th>\n",
       "      <td>2014-07-31</td>\n",
       "      <td>Elysee</td>\n",
       "      <td>Paris</td>\n",
       "      <td>2</td>\n",
       "      <td>89</td>\n",
       "    </tr>\n",
       "    <tr>\n",
       "      <th>3</th>\n",
       "      <td>2013-12-17</td>\n",
       "      <td>Vaugirard</td>\n",
       "      <td>Paris</td>\n",
       "      <td>2</td>\n",
       "      <td>58</td>\n",
       "    </tr>\n",
       "    <tr>\n",
       "      <th>4</th>\n",
       "      <td>2014-12-14</td>\n",
       "      <td>Passy</td>\n",
       "      <td>Paris</td>\n",
       "      <td>2</td>\n",
       "      <td>60</td>\n",
       "    </tr>\n",
       "  </tbody>\n",
       "</table>\n",
       "</div>"
      ],
      "text/plain": [
       "  host_since      neighbourhood   city  accommodates  price\n",
       "0 2011-12-03  Buttes-Montmartre  Paris             2     53\n",
       "1 2013-11-29  Buttes-Montmartre  Paris             2    120\n",
       "2 2014-07-31             Elysee  Paris             2     89\n",
       "3 2013-12-17          Vaugirard  Paris             2     58\n",
       "4 2014-12-14              Passy  Paris             2     60"
      ]
     },
     "execution_count": 31,
     "metadata": {},
     "output_type": "execute_result"
    }
   ],
   "source": [
    "paris_listings.head()"
   ]
  },
  {
   "cell_type": "markdown",
   "id": "a93e9954",
   "metadata": {
    "papermill": {
     "duration": 0.010842,
     "end_time": "2025-02-10T03:28:18.160031",
     "exception": false,
     "start_time": "2025-02-10T03:28:18.149189",
     "status": "completed"
    },
    "tags": []
   },
   "source": [
    "<div style=\"background-color: #f88379; padding: 25px; border-radius: 10px;\">\n",
    "  <h1 style=\"color: #333;\"><strong>Finding average Price of AirBnB in Paris as per Localities</strong></h1>\n",
    "</div>"
   ]
  },
  {
   "cell_type": "code",
   "execution_count": 32,
   "id": "4b188a48",
   "metadata": {
    "execution": {
     "iopub.execute_input": "2025-02-10T03:28:18.182830Z",
     "iopub.status.busy": "2025-02-10T03:28:18.182612Z",
     "iopub.status.idle": "2025-02-10T03:28:18.193225Z",
     "shell.execute_reply": "2025-02-10T03:28:18.192424Z"
    },
    "papermill": {
     "duration": 0.023367,
     "end_time": "2025-02-10T03:28:18.194564",
     "exception": false,
     "start_time": "2025-02-10T03:28:18.171197",
     "status": "completed"
    },
    "tags": []
   },
   "outputs": [],
   "source": [
    "paris_listings_neighbourhood = paris_listings.groupby(\"neighbourhood\").agg({\"price\":\"mean\"}).sort_values(\"price\",ascending=False).round(2)"
   ]
  },
  {
   "cell_type": "code",
   "execution_count": 33,
   "id": "15524630",
   "metadata": {
    "execution": {
     "iopub.execute_input": "2025-02-10T03:28:18.216906Z",
     "iopub.status.busy": "2025-02-10T03:28:18.216701Z",
     "iopub.status.idle": "2025-02-10T03:28:18.223526Z",
     "shell.execute_reply": "2025-02-10T03:28:18.222876Z"
    },
    "papermill": {
     "duration": 0.019183,
     "end_time": "2025-02-10T03:28:18.224634",
     "exception": false,
     "start_time": "2025-02-10T03:28:18.205451",
     "status": "completed"
    },
    "tags": []
   },
   "outputs": [
    {
     "data": {
      "text/html": [
       "<div>\n",
       "<style scoped>\n",
       "    .dataframe tbody tr th:only-of-type {\n",
       "        vertical-align: middle;\n",
       "    }\n",
       "\n",
       "    .dataframe tbody tr th {\n",
       "        vertical-align: top;\n",
       "    }\n",
       "\n",
       "    .dataframe thead th {\n",
       "        text-align: right;\n",
       "    }\n",
       "</style>\n",
       "<table border=\"1\" class=\"dataframe\">\n",
       "  <thead>\n",
       "    <tr style=\"text-align: right;\">\n",
       "      <th></th>\n",
       "      <th>price</th>\n",
       "    </tr>\n",
       "    <tr>\n",
       "      <th>neighbourhood</th>\n",
       "      <th></th>\n",
       "    </tr>\n",
       "  </thead>\n",
       "  <tbody>\n",
       "    <tr>\n",
       "      <th>Elysee</th>\n",
       "      <td>211.37</td>\n",
       "    </tr>\n",
       "    <tr>\n",
       "      <th>Louvre</th>\n",
       "      <td>175.75</td>\n",
       "    </tr>\n",
       "    <tr>\n",
       "      <th>Passy</th>\n",
       "      <td>161.29</td>\n",
       "    </tr>\n",
       "    <tr>\n",
       "      <th>Palais-Bourbon</th>\n",
       "      <td>157.51</td>\n",
       "    </tr>\n",
       "    <tr>\n",
       "      <th>Luxembourg</th>\n",
       "      <td>155.79</td>\n",
       "    </tr>\n",
       "    <tr>\n",
       "      <th>Bourse</th>\n",
       "      <td>149.63</td>\n",
       "    </tr>\n",
       "    <tr>\n",
       "      <th>Hotel-de-Ville</th>\n",
       "      <td>144.52</td>\n",
       "    </tr>\n",
       "    <tr>\n",
       "      <th>Temple</th>\n",
       "      <td>138.43</td>\n",
       "    </tr>\n",
       "    <tr>\n",
       "      <th>Pantheon</th>\n",
       "      <td>122.98</td>\n",
       "    </tr>\n",
       "    <tr>\n",
       "      <th>Opera</th>\n",
       "      <td>119.20</td>\n",
       "    </tr>\n",
       "    <tr>\n",
       "      <th>Vaugirard</th>\n",
       "      <td>107.09</td>\n",
       "    </tr>\n",
       "    <tr>\n",
       "      <th>Enclos-St-Laurent</th>\n",
       "      <td>103.12</td>\n",
       "    </tr>\n",
       "    <tr>\n",
       "      <th>Batignolles-Monceau</th>\n",
       "      <td>102.69</td>\n",
       "    </tr>\n",
       "    <tr>\n",
       "      <th>Observatoire</th>\n",
       "      <td>102.00</td>\n",
       "    </tr>\n",
       "    <tr>\n",
       "      <th>Gobelins</th>\n",
       "      <td>98.11</td>\n",
       "    </tr>\n",
       "    <tr>\n",
       "      <th>Popincourt</th>\n",
       "      <td>90.55</td>\n",
       "    </tr>\n",
       "    <tr>\n",
       "      <th>Reuilly</th>\n",
       "      <td>89.13</td>\n",
       "    </tr>\n",
       "    <tr>\n",
       "      <th>Buttes-Montmartre</th>\n",
       "      <td>87.25</td>\n",
       "    </tr>\n",
       "    <tr>\n",
       "      <th>Buttes-Chaumont</th>\n",
       "      <td>82.69</td>\n",
       "    </tr>\n",
       "    <tr>\n",
       "      <th>Menilmontant</th>\n",
       "      <td>74.93</td>\n",
       "    </tr>\n",
       "  </tbody>\n",
       "</table>\n",
       "</div>"
      ],
      "text/plain": [
       "                      price\n",
       "neighbourhood              \n",
       "Elysee               211.37\n",
       "Louvre               175.75\n",
       "Passy                161.29\n",
       "Palais-Bourbon       157.51\n",
       "Luxembourg           155.79\n",
       "Bourse               149.63\n",
       "Hotel-de-Ville       144.52\n",
       "Temple               138.43\n",
       "Pantheon             122.98\n",
       "Opera                119.20\n",
       "Vaugirard            107.09\n",
       "Enclos-St-Laurent    103.12\n",
       "Batignolles-Monceau  102.69\n",
       "Observatoire         102.00\n",
       "Gobelins              98.11\n",
       "Popincourt            90.55\n",
       "Reuilly               89.13\n",
       "Buttes-Montmartre     87.25\n",
       "Buttes-Chaumont       82.69\n",
       "Menilmontant          74.93"
      ]
     },
     "execution_count": 33,
     "metadata": {},
     "output_type": "execute_result"
    }
   ],
   "source": [
    "paris_listings_neighbourhood"
   ]
  },
  {
   "cell_type": "code",
   "execution_count": 34,
   "id": "3bcc3c6f",
   "metadata": {
    "execution": {
     "iopub.execute_input": "2025-02-10T03:28:18.247561Z",
     "iopub.status.busy": "2025-02-10T03:28:18.247326Z",
     "iopub.status.idle": "2025-02-10T03:28:18.256268Z",
     "shell.execute_reply": "2025-02-10T03:28:18.255548Z"
    },
    "papermill": {
     "duration": 0.021864,
     "end_time": "2025-02-10T03:28:18.257563",
     "exception": false,
     "start_time": "2025-02-10T03:28:18.235699",
     "status": "completed"
    },
    "tags": []
   },
   "outputs": [],
   "source": [
    "paris_Elysee_accommodates = paris_listings.query(\"neighbourhood=='Elysee'\").groupby(\"accommodates\").agg({\"price\":\"mean\"}).sort_values(\"price\",ascending=False).round(2)"
   ]
  },
  {
   "cell_type": "code",
   "execution_count": 35,
   "id": "7288f8f1",
   "metadata": {
    "execution": {
     "iopub.execute_input": "2025-02-10T03:28:18.280524Z",
     "iopub.status.busy": "2025-02-10T03:28:18.280293Z",
     "iopub.status.idle": "2025-02-10T03:28:18.282995Z",
     "shell.execute_reply": "2025-02-10T03:28:18.282384Z"
    },
    "papermill": {
     "duration": 0.015421,
     "end_time": "2025-02-10T03:28:18.284150",
     "exception": false,
     "start_time": "2025-02-10T03:28:18.268729",
     "status": "completed"
    },
    "tags": []
   },
   "outputs": [],
   "source": [
    "# Inside of Paris,the price of AirBnB is directly impacted by the popularity of the tourist place or\n",
    "# the view of Eiffel tower. We need to further see if the prices are increasing when the regulations are imposed"
   ]
  },
  {
   "cell_type": "code",
   "execution_count": 36,
   "id": "2d4e1918",
   "metadata": {
    "execution": {
     "iopub.execute_input": "2025-02-10T03:28:18.307181Z",
     "iopub.status.busy": "2025-02-10T03:28:18.306990Z",
     "iopub.status.idle": "2025-02-10T03:28:18.313431Z",
     "shell.execute_reply": "2025-02-10T03:28:18.312807Z"
    },
    "papermill": {
     "duration": 0.019176,
     "end_time": "2025-02-10T03:28:18.314613",
     "exception": false,
     "start_time": "2025-02-10T03:28:18.295437",
     "status": "completed"
    },
    "tags": []
   },
   "outputs": [
    {
     "data": {
      "text/html": [
       "<div>\n",
       "<style scoped>\n",
       "    .dataframe tbody tr th:only-of-type {\n",
       "        vertical-align: middle;\n",
       "    }\n",
       "\n",
       "    .dataframe tbody tr th {\n",
       "        vertical-align: top;\n",
       "    }\n",
       "\n",
       "    .dataframe thead th {\n",
       "        text-align: right;\n",
       "    }\n",
       "</style>\n",
       "<table border=\"1\" class=\"dataframe\">\n",
       "  <thead>\n",
       "    <tr style=\"text-align: right;\">\n",
       "      <th></th>\n",
       "      <th>price</th>\n",
       "    </tr>\n",
       "    <tr>\n",
       "      <th>accommodates</th>\n",
       "      <th></th>\n",
       "    </tr>\n",
       "  </thead>\n",
       "  <tbody>\n",
       "    <tr>\n",
       "      <th>14</th>\n",
       "      <td>971.00</td>\n",
       "    </tr>\n",
       "    <tr>\n",
       "      <th>13</th>\n",
       "      <td>842.50</td>\n",
       "    </tr>\n",
       "    <tr>\n",
       "      <th>11</th>\n",
       "      <td>805.00</td>\n",
       "    </tr>\n",
       "    <tr>\n",
       "      <th>16</th>\n",
       "      <td>800.00</td>\n",
       "    </tr>\n",
       "    <tr>\n",
       "      <th>12</th>\n",
       "      <td>529.62</td>\n",
       "    </tr>\n",
       "    <tr>\n",
       "      <th>10</th>\n",
       "      <td>500.86</td>\n",
       "    </tr>\n",
       "    <tr>\n",
       "      <th>9</th>\n",
       "      <td>440.27</td>\n",
       "    </tr>\n",
       "    <tr>\n",
       "      <th>7</th>\n",
       "      <td>411.54</td>\n",
       "    </tr>\n",
       "    <tr>\n",
       "      <th>8</th>\n",
       "      <td>405.52</td>\n",
       "    </tr>\n",
       "    <tr>\n",
       "      <th>6</th>\n",
       "      <td>355.51</td>\n",
       "    </tr>\n",
       "    <tr>\n",
       "      <th>5</th>\n",
       "      <td>328.82</td>\n",
       "    </tr>\n",
       "    <tr>\n",
       "      <th>4</th>\n",
       "      <td>212.10</td>\n",
       "    </tr>\n",
       "    <tr>\n",
       "      <th>2</th>\n",
       "      <td>155.10</td>\n",
       "    </tr>\n",
       "    <tr>\n",
       "      <th>3</th>\n",
       "      <td>153.88</td>\n",
       "    </tr>\n",
       "    <tr>\n",
       "      <th>1</th>\n",
       "      <td>79.52</td>\n",
       "    </tr>\n",
       "  </tbody>\n",
       "</table>\n",
       "</div>"
      ],
      "text/plain": [
       "               price\n",
       "accommodates        \n",
       "14            971.00\n",
       "13            842.50\n",
       "11            805.00\n",
       "16            800.00\n",
       "12            529.62\n",
       "10            500.86\n",
       "9             440.27\n",
       "7             411.54\n",
       "8             405.52\n",
       "6             355.51\n",
       "5             328.82\n",
       "4             212.10\n",
       "2             155.10\n",
       "3             153.88\n",
       "1              79.52"
      ]
     },
     "execution_count": 36,
     "metadata": {},
     "output_type": "execute_result"
    }
   ],
   "source": [
    "paris_Elysee_accommodates"
   ]
  },
  {
   "cell_type": "code",
   "execution_count": 37,
   "id": "7f8d7f42",
   "metadata": {
    "execution": {
     "iopub.execute_input": "2025-02-10T03:28:18.337767Z",
     "iopub.status.busy": "2025-02-10T03:28:18.337573Z",
     "iopub.status.idle": "2025-02-10T03:28:18.339975Z",
     "shell.execute_reply": "2025-02-10T03:28:18.339421Z"
    },
    "papermill": {
     "duration": 0.015171,
     "end_time": "2025-02-10T03:28:18.341120",
     "exception": false,
     "start_time": "2025-02-10T03:28:18.325949",
     "status": "completed"
    },
    "tags": []
   },
   "outputs": [],
   "source": [
    "# The AirBnB with 14 people accommodates is the expensive, even more expensive the 16 accommodates\n",
    "# the same trend is spotted for 11 and 12 accommodates. Every other accommodation looks reasonable."
   ]
  },
  {
   "cell_type": "markdown",
   "id": "64189f75",
   "metadata": {
    "papermill": {
     "duration": 0.011024,
     "end_time": "2025-02-10T03:28:18.363600",
     "exception": false,
     "start_time": "2025-02-10T03:28:18.352576",
     "status": "completed"
    },
    "tags": []
   },
   "source": [
    "### Possible reasons for this trend\n",
    "1. Owners of properties with 16 people might face occupancy issues due to less number of large groups.\n",
    "2. The ones with 14 people might be a sweet spot for a group having two families travelling.\n",
    "3. There is possibility that more than 16 and 12 occupancy properties are away from hotspots in Elysee.\n",
    "4. There might be potential outliers in 11 and 14 occupancy properties which are skewing the trend."
   ]
  },
  {
   "cell_type": "code",
   "execution_count": 38,
   "id": "6b9622ca",
   "metadata": {
    "execution": {
     "iopub.execute_input": "2025-02-10T03:28:18.386547Z",
     "iopub.status.busy": "2025-02-10T03:28:18.386306Z",
     "iopub.status.idle": "2025-02-10T03:28:18.392651Z",
     "shell.execute_reply": "2025-02-10T03:28:18.392037Z"
    },
    "papermill": {
     "duration": 0.019161,
     "end_time": "2025-02-10T03:28:18.393839",
     "exception": false,
     "start_time": "2025-02-10T03:28:18.374678",
     "status": "completed"
    },
    "tags": []
   },
   "outputs": [
    {
     "data": {
      "text/plain": [
       "3854"
      ]
     },
     "execution_count": 38,
     "metadata": {},
     "output_type": "execute_result"
    }
   ],
   "source": [
    "paris_listings[\"host_since\"].nunique()"
   ]
  },
  {
   "cell_type": "markdown",
   "id": "f99ec7b0",
   "metadata": {
    "papermill": {
     "duration": 0.01159,
     "end_time": "2025-02-10T03:28:18.416724",
     "exception": false,
     "start_time": "2025-02-10T03:28:18.405134",
     "status": "completed"
    },
    "tags": []
   },
   "source": [
    "<div style=\"background-color: #f88379; padding: 25px; border-radius: 10px;\">\n",
    "  <h1 style=\"color: #333;\"><strong>Finding popularity of AirBnB over time</strong></h1>\n",
    "</div>"
   ]
  },
  {
   "cell_type": "code",
   "execution_count": 39,
   "id": "96c43a4b",
   "metadata": {
    "execution": {
     "iopub.execute_input": "2025-02-10T03:28:18.448794Z",
     "iopub.status.busy": "2025-02-10T03:28:18.448410Z",
     "iopub.status.idle": "2025-02-10T03:28:18.487568Z",
     "shell.execute_reply": "2025-02-10T03:28:18.486721Z"
    },
    "papermill": {
     "duration": 0.05483,
     "end_time": "2025-02-10T03:28:18.489367",
     "exception": false,
     "start_time": "2025-02-10T03:28:18.434537",
     "status": "completed"
    },
    "tags": []
   },
   "outputs": [],
   "source": [
    "paris_listings_over_time = paris_listings.set_index(\"host_since\").resample(\"Y\").agg({\"neighbourhood\":\"count\",\"price\":\"mean\"})"
   ]
  },
  {
   "cell_type": "code",
   "execution_count": 40,
   "id": "a291113a",
   "metadata": {
    "execution": {
     "iopub.execute_input": "2025-02-10T03:28:18.514773Z",
     "iopub.status.busy": "2025-02-10T03:28:18.514419Z",
     "iopub.status.idle": "2025-02-10T03:28:18.523945Z",
     "shell.execute_reply": "2025-02-10T03:28:18.523121Z"
    },
    "papermill": {
     "duration": 0.023654,
     "end_time": "2025-02-10T03:28:18.525581",
     "exception": false,
     "start_time": "2025-02-10T03:28:18.501927",
     "status": "completed"
    },
    "tags": []
   },
   "outputs": [
    {
     "data": {
      "text/html": [
       "<div>\n",
       "<style scoped>\n",
       "    .dataframe tbody tr th:only-of-type {\n",
       "        vertical-align: middle;\n",
       "    }\n",
       "\n",
       "    .dataframe tbody tr th {\n",
       "        vertical-align: top;\n",
       "    }\n",
       "\n",
       "    .dataframe thead th {\n",
       "        text-align: right;\n",
       "    }\n",
       "</style>\n",
       "<table border=\"1\" class=\"dataframe\">\n",
       "  <thead>\n",
       "    <tr style=\"text-align: right;\">\n",
       "      <th></th>\n",
       "      <th>neighbourhood</th>\n",
       "      <th>price</th>\n",
       "    </tr>\n",
       "    <tr>\n",
       "      <th>host_since</th>\n",
       "      <th></th>\n",
       "      <th></th>\n",
       "    </tr>\n",
       "  </thead>\n",
       "  <tbody>\n",
       "    <tr>\n",
       "      <th>2008-12-31</th>\n",
       "      <td>4</td>\n",
       "      <td>77.750000</td>\n",
       "    </tr>\n",
       "    <tr>\n",
       "      <th>2009-12-31</th>\n",
       "      <td>106</td>\n",
       "      <td>159.641509</td>\n",
       "    </tr>\n",
       "    <tr>\n",
       "      <th>2010-12-31</th>\n",
       "      <td>416</td>\n",
       "      <td>125.031250</td>\n",
       "    </tr>\n",
       "    <tr>\n",
       "      <th>2011-12-31</th>\n",
       "      <td>1339</td>\n",
       "      <td>124.828230</td>\n",
       "    </tr>\n",
       "    <tr>\n",
       "      <th>2012-12-31</th>\n",
       "      <td>4592</td>\n",
       "      <td>111.578615</td>\n",
       "    </tr>\n",
       "    <tr>\n",
       "      <th>2013-12-31</th>\n",
       "      <td>8142</td>\n",
       "      <td>107.096414</td>\n",
       "    </tr>\n",
       "    <tr>\n",
       "      <th>2014-12-31</th>\n",
       "      <td>10922</td>\n",
       "      <td>100.253800</td>\n",
       "    </tr>\n",
       "    <tr>\n",
       "      <th>2015-12-31</th>\n",
       "      <td>12147</td>\n",
       "      <td>103.646250</td>\n",
       "    </tr>\n",
       "    <tr>\n",
       "      <th>2016-12-31</th>\n",
       "      <td>8867</td>\n",
       "      <td>114.211345</td>\n",
       "    </tr>\n",
       "    <tr>\n",
       "      <th>2017-12-31</th>\n",
       "      <td>4585</td>\n",
       "      <td>108.658888</td>\n",
       "    </tr>\n",
       "    <tr>\n",
       "      <th>2018-12-31</th>\n",
       "      <td>4294</td>\n",
       "      <td>138.209362</td>\n",
       "    </tr>\n",
       "    <tr>\n",
       "      <th>2019-12-31</th>\n",
       "      <td>5685</td>\n",
       "      <td>129.962533</td>\n",
       "    </tr>\n",
       "    <tr>\n",
       "      <th>2020-12-31</th>\n",
       "      <td>3363</td>\n",
       "      <td>143.517098</td>\n",
       "    </tr>\n",
       "    <tr>\n",
       "      <th>2021-12-31</th>\n",
       "      <td>133</td>\n",
       "      <td>93.488722</td>\n",
       "    </tr>\n",
       "  </tbody>\n",
       "</table>\n",
       "</div>"
      ],
      "text/plain": [
       "            neighbourhood       price\n",
       "host_since                           \n",
       "2008-12-31              4   77.750000\n",
       "2009-12-31            106  159.641509\n",
       "2010-12-31            416  125.031250\n",
       "2011-12-31           1339  124.828230\n",
       "2012-12-31           4592  111.578615\n",
       "2013-12-31           8142  107.096414\n",
       "2014-12-31          10922  100.253800\n",
       "2015-12-31          12147  103.646250\n",
       "2016-12-31           8867  114.211345\n",
       "2017-12-31           4585  108.658888\n",
       "2018-12-31           4294  138.209362\n",
       "2019-12-31           5685  129.962533\n",
       "2020-12-31           3363  143.517098\n",
       "2021-12-31            133   93.488722"
      ]
     },
     "execution_count": 40,
     "metadata": {},
     "output_type": "execute_result"
    }
   ],
   "source": [
    "paris_listings_over_time"
   ]
  },
  {
   "cell_type": "code",
   "execution_count": 41,
   "id": "e2dc255b",
   "metadata": {
    "execution": {
     "iopub.execute_input": "2025-02-10T03:28:18.556983Z",
     "iopub.status.busy": "2025-02-10T03:28:18.556746Z",
     "iopub.status.idle": "2025-02-10T03:28:19.908447Z",
     "shell.execute_reply": "2025-02-10T03:28:19.907572Z"
    },
    "papermill": {
     "duration": 1.365739,
     "end_time": "2025-02-10T03:28:19.910135",
     "exception": false,
     "start_time": "2025-02-10T03:28:18.544396",
     "status": "completed"
    },
    "tags": []
   },
   "outputs": [],
   "source": [
    "import matplotlib.pyplot as plt\n",
    "import seaborn as sns"
   ]
  },
  {
   "cell_type": "code",
   "execution_count": 42,
   "id": "e67bd4b5",
   "metadata": {
    "execution": {
     "iopub.execute_input": "2025-02-10T03:28:19.935679Z",
     "iopub.status.busy": "2025-02-10T03:28:19.935273Z",
     "iopub.status.idle": "2025-02-10T03:28:19.943339Z",
     "shell.execute_reply": "2025-02-10T03:28:19.942544Z"
    },
    "papermill": {
     "duration": 0.021851,
     "end_time": "2025-02-10T03:28:19.944652",
     "exception": false,
     "start_time": "2025-02-10T03:28:19.922801",
     "status": "completed"
    },
    "tags": []
   },
   "outputs": [
    {
     "data": {
      "text/html": [
       "<div>\n",
       "<style scoped>\n",
       "    .dataframe tbody tr th:only-of-type {\n",
       "        vertical-align: middle;\n",
       "    }\n",
       "\n",
       "    .dataframe tbody tr th {\n",
       "        vertical-align: top;\n",
       "    }\n",
       "\n",
       "    .dataframe thead th {\n",
       "        text-align: right;\n",
       "    }\n",
       "</style>\n",
       "<table border=\"1\" class=\"dataframe\">\n",
       "  <thead>\n",
       "    <tr style=\"text-align: right;\">\n",
       "      <th></th>\n",
       "      <th>price</th>\n",
       "    </tr>\n",
       "    <tr>\n",
       "      <th>neighbourhood</th>\n",
       "      <th></th>\n",
       "    </tr>\n",
       "  </thead>\n",
       "  <tbody>\n",
       "    <tr>\n",
       "      <th>Elysee</th>\n",
       "      <td>211.37</td>\n",
       "    </tr>\n",
       "    <tr>\n",
       "      <th>Louvre</th>\n",
       "      <td>175.75</td>\n",
       "    </tr>\n",
       "    <tr>\n",
       "      <th>Passy</th>\n",
       "      <td>161.29</td>\n",
       "    </tr>\n",
       "    <tr>\n",
       "      <th>Palais-Bourbon</th>\n",
       "      <td>157.51</td>\n",
       "    </tr>\n",
       "    <tr>\n",
       "      <th>Luxembourg</th>\n",
       "      <td>155.79</td>\n",
       "    </tr>\n",
       "    <tr>\n",
       "      <th>Bourse</th>\n",
       "      <td>149.63</td>\n",
       "    </tr>\n",
       "    <tr>\n",
       "      <th>Hotel-de-Ville</th>\n",
       "      <td>144.52</td>\n",
       "    </tr>\n",
       "    <tr>\n",
       "      <th>Temple</th>\n",
       "      <td>138.43</td>\n",
       "    </tr>\n",
       "    <tr>\n",
       "      <th>Pantheon</th>\n",
       "      <td>122.98</td>\n",
       "    </tr>\n",
       "    <tr>\n",
       "      <th>Opera</th>\n",
       "      <td>119.20</td>\n",
       "    </tr>\n",
       "    <tr>\n",
       "      <th>Vaugirard</th>\n",
       "      <td>107.09</td>\n",
       "    </tr>\n",
       "    <tr>\n",
       "      <th>Enclos-St-Laurent</th>\n",
       "      <td>103.12</td>\n",
       "    </tr>\n",
       "    <tr>\n",
       "      <th>Batignolles-Monceau</th>\n",
       "      <td>102.69</td>\n",
       "    </tr>\n",
       "    <tr>\n",
       "      <th>Observatoire</th>\n",
       "      <td>102.00</td>\n",
       "    </tr>\n",
       "    <tr>\n",
       "      <th>Gobelins</th>\n",
       "      <td>98.11</td>\n",
       "    </tr>\n",
       "    <tr>\n",
       "      <th>Popincourt</th>\n",
       "      <td>90.55</td>\n",
       "    </tr>\n",
       "    <tr>\n",
       "      <th>Reuilly</th>\n",
       "      <td>89.13</td>\n",
       "    </tr>\n",
       "    <tr>\n",
       "      <th>Buttes-Montmartre</th>\n",
       "      <td>87.25</td>\n",
       "    </tr>\n",
       "    <tr>\n",
       "      <th>Buttes-Chaumont</th>\n",
       "      <td>82.69</td>\n",
       "    </tr>\n",
       "    <tr>\n",
       "      <th>Menilmontant</th>\n",
       "      <td>74.93</td>\n",
       "    </tr>\n",
       "  </tbody>\n",
       "</table>\n",
       "</div>"
      ],
      "text/plain": [
       "                      price\n",
       "neighbourhood              \n",
       "Elysee               211.37\n",
       "Louvre               175.75\n",
       "Passy                161.29\n",
       "Palais-Bourbon       157.51\n",
       "Luxembourg           155.79\n",
       "Bourse               149.63\n",
       "Hotel-de-Ville       144.52\n",
       "Temple               138.43\n",
       "Pantheon             122.98\n",
       "Opera                119.20\n",
       "Vaugirard            107.09\n",
       "Enclos-St-Laurent    103.12\n",
       "Batignolles-Monceau  102.69\n",
       "Observatoire         102.00\n",
       "Gobelins              98.11\n",
       "Popincourt            90.55\n",
       "Reuilly               89.13\n",
       "Buttes-Montmartre     87.25\n",
       "Buttes-Chaumont       82.69\n",
       "Menilmontant          74.93"
      ]
     },
     "execution_count": 42,
     "metadata": {},
     "output_type": "execute_result"
    }
   ],
   "source": [
    "paris_listings_neighbourhood"
   ]
  },
  {
   "cell_type": "code",
   "execution_count": 43,
   "id": "0a709f6a",
   "metadata": {
    "execution": {
     "iopub.execute_input": "2025-02-10T03:28:19.969052Z",
     "iopub.status.busy": "2025-02-10T03:28:19.968804Z",
     "iopub.status.idle": "2025-02-10T03:28:20.330675Z",
     "shell.execute_reply": "2025-02-10T03:28:20.329833Z"
    },
    "papermill": {
     "duration": 0.375541,
     "end_time": "2025-02-10T03:28:20.332040",
     "exception": false,
     "start_time": "2025-02-10T03:28:19.956499",
     "status": "completed"
    },
    "tags": []
   },
   "outputs": [
    {
     "data": {
      "image/png": "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\n",
      "text/plain": [
       "<Figure size 1200x800 with 1 Axes>"
      ]
     },
     "metadata": {},
     "output_type": "display_data"
    }
   ],
   "source": [
    "plt.figure(figsize = (12,8))\n",
    "sns.barplot(data = paris_listings_neighbourhood,\n",
    "           x = \"price\",\n",
    "           y = paris_listings_neighbourhood.index,\n",
    "           color = \"#E5989B\")\n",
    "plt.title(\"Neighbourhoods in Paris (Premium Localities at the Top!)\")\n",
    "plt.xlabel(\"How Expensive? (Euros)\")\n",
    "plt.ylabel(\"Prominent Places with AirBnBs\")\n",
    "plt.show()"
   ]
  },
  {
   "cell_type": "code",
   "execution_count": 44,
   "id": "9ad7d24c",
   "metadata": {
    "execution": {
     "iopub.execute_input": "2025-02-10T03:28:20.358808Z",
     "iopub.status.busy": "2025-02-10T03:28:20.358556Z",
     "iopub.status.idle": "2025-02-10T03:28:20.361481Z",
     "shell.execute_reply": "2025-02-10T03:28:20.360721Z"
    },
    "papermill": {
     "duration": 0.017569,
     "end_time": "2025-02-10T03:28:20.362856",
     "exception": false,
     "start_time": "2025-02-10T03:28:20.345287",
     "status": "completed"
    },
    "tags": []
   },
   "outputs": [],
   "source": [
    "# Inside of Paris, the price of AirBnBs is directly impacted by the popularity of the tourist place or \n",
    "# the view of Eiffel tower. We need to further see if the prices are increasing when the regulations are imposed."
   ]
  },
  {
   "cell_type": "code",
   "execution_count": 45,
   "id": "c4e95e3f",
   "metadata": {
    "execution": {
     "iopub.execute_input": "2025-02-10T03:28:20.389269Z",
     "iopub.status.busy": "2025-02-10T03:28:20.389049Z",
     "iopub.status.idle": "2025-02-10T03:28:20.396328Z",
     "shell.execute_reply": "2025-02-10T03:28:20.395595Z"
    },
    "papermill": {
     "duration": 0.021791,
     "end_time": "2025-02-10T03:28:20.397542",
     "exception": false,
     "start_time": "2025-02-10T03:28:20.375751",
     "status": "completed"
    },
    "tags": []
   },
   "outputs": [
    {
     "data": {
      "text/html": [
       "<div>\n",
       "<style scoped>\n",
       "    .dataframe tbody tr th:only-of-type {\n",
       "        vertical-align: middle;\n",
       "    }\n",
       "\n",
       "    .dataframe tbody tr th {\n",
       "        vertical-align: top;\n",
       "    }\n",
       "\n",
       "    .dataframe thead th {\n",
       "        text-align: right;\n",
       "    }\n",
       "</style>\n",
       "<table border=\"1\" class=\"dataframe\">\n",
       "  <thead>\n",
       "    <tr style=\"text-align: right;\">\n",
       "      <th></th>\n",
       "      <th>price</th>\n",
       "    </tr>\n",
       "    <tr>\n",
       "      <th>accommodates</th>\n",
       "      <th></th>\n",
       "    </tr>\n",
       "  </thead>\n",
       "  <tbody>\n",
       "    <tr>\n",
       "      <th>14</th>\n",
       "      <td>971.00</td>\n",
       "    </tr>\n",
       "    <tr>\n",
       "      <th>13</th>\n",
       "      <td>842.50</td>\n",
       "    </tr>\n",
       "    <tr>\n",
       "      <th>11</th>\n",
       "      <td>805.00</td>\n",
       "    </tr>\n",
       "    <tr>\n",
       "      <th>16</th>\n",
       "      <td>800.00</td>\n",
       "    </tr>\n",
       "    <tr>\n",
       "      <th>12</th>\n",
       "      <td>529.62</td>\n",
       "    </tr>\n",
       "    <tr>\n",
       "      <th>10</th>\n",
       "      <td>500.86</td>\n",
       "    </tr>\n",
       "    <tr>\n",
       "      <th>9</th>\n",
       "      <td>440.27</td>\n",
       "    </tr>\n",
       "    <tr>\n",
       "      <th>7</th>\n",
       "      <td>411.54</td>\n",
       "    </tr>\n",
       "    <tr>\n",
       "      <th>8</th>\n",
       "      <td>405.52</td>\n",
       "    </tr>\n",
       "    <tr>\n",
       "      <th>6</th>\n",
       "      <td>355.51</td>\n",
       "    </tr>\n",
       "    <tr>\n",
       "      <th>5</th>\n",
       "      <td>328.82</td>\n",
       "    </tr>\n",
       "    <tr>\n",
       "      <th>4</th>\n",
       "      <td>212.10</td>\n",
       "    </tr>\n",
       "    <tr>\n",
       "      <th>2</th>\n",
       "      <td>155.10</td>\n",
       "    </tr>\n",
       "    <tr>\n",
       "      <th>3</th>\n",
       "      <td>153.88</td>\n",
       "    </tr>\n",
       "    <tr>\n",
       "      <th>1</th>\n",
       "      <td>79.52</td>\n",
       "    </tr>\n",
       "  </tbody>\n",
       "</table>\n",
       "</div>"
      ],
      "text/plain": [
       "               price\n",
       "accommodates        \n",
       "14            971.00\n",
       "13            842.50\n",
       "11            805.00\n",
       "16            800.00\n",
       "12            529.62\n",
       "10            500.86\n",
       "9             440.27\n",
       "7             411.54\n",
       "8             405.52\n",
       "6             355.51\n",
       "5             328.82\n",
       "4             212.10\n",
       "2             155.10\n",
       "3             153.88\n",
       "1              79.52"
      ]
     },
     "execution_count": 45,
     "metadata": {},
     "output_type": "execute_result"
    }
   ],
   "source": [
    "paris_Elysee_accommodates"
   ]
  },
  {
   "cell_type": "code",
   "execution_count": 46,
   "id": "e0b3d73c",
   "metadata": {
    "execution": {
     "iopub.execute_input": "2025-02-10T03:28:20.423929Z",
     "iopub.status.busy": "2025-02-10T03:28:20.423728Z",
     "iopub.status.idle": "2025-02-10T03:28:20.649412Z",
     "shell.execute_reply": "2025-02-10T03:28:20.648661Z"
    },
    "papermill": {
     "duration": 0.240392,
     "end_time": "2025-02-10T03:28:20.650854",
     "exception": false,
     "start_time": "2025-02-10T03:28:20.410462",
     "status": "completed"
    },
    "tags": []
   },
   "outputs": [
    {
     "data": {
      "image/png": "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\n",
      "text/plain": [
       "<Figure size 1200x800 with 1 Axes>"
      ]
     },
     "metadata": {},
     "output_type": "display_data"
    }
   ],
   "source": [
    "plt.figure(figsize = (12,8))\n",
    "sns.barplot(data = paris_Elysee_accommodates,\n",
    "           x = \"price\",\n",
    "           y = paris_Elysee_accommodates.index,\n",
    "           color = \"green\",\n",
    "           orient = \"h\",\n",
    "           order = paris_Elysee_accommodates.index)\n",
    "plt.title(\"Average Price of AirBnB in Elysee -- vs -- Number of People that can stay\")\n",
    "plt.xlabel(\"Average Price (Euros)\")\n",
    "plt.ylabel(\"Number of People that can stay\")\n",
    "plt.show()"
   ]
  },
  {
   "cell_type": "code",
   "execution_count": 47,
   "id": "fb4706cc",
   "metadata": {
    "execution": {
     "iopub.execute_input": "2025-02-10T03:28:20.680889Z",
     "iopub.status.busy": "2025-02-10T03:28:20.680653Z",
     "iopub.status.idle": "2025-02-10T03:28:20.683321Z",
     "shell.execute_reply": "2025-02-10T03:28:20.682734Z"
    },
    "papermill": {
     "duration": 0.017921,
     "end_time": "2025-02-10T03:28:20.684564",
     "exception": false,
     "start_time": "2025-02-10T03:28:20.666643",
     "status": "completed"
    },
    "tags": []
   },
   "outputs": [],
   "source": [
    "# The AirBnBs with 14 people accomodation is the costliest, even costlier than 16 accomodates. \n",
    "# the same trend is spotted for 11 and 12 accomodates. Every other accomodation looks reasonable."
   ]
  },
  {
   "cell_type": "code",
   "execution_count": 48,
   "id": "e95d7384",
   "metadata": {
    "execution": {
     "iopub.execute_input": "2025-02-10T03:28:20.712124Z",
     "iopub.status.busy": "2025-02-10T03:28:20.711915Z",
     "iopub.status.idle": "2025-02-10T03:28:20.718986Z",
     "shell.execute_reply": "2025-02-10T03:28:20.718215Z"
    },
    "papermill": {
     "duration": 0.022228,
     "end_time": "2025-02-10T03:28:20.720145",
     "exception": false,
     "start_time": "2025-02-10T03:28:20.697917",
     "status": "completed"
    },
    "tags": []
   },
   "outputs": [
    {
     "data": {
      "text/html": [
       "<div>\n",
       "<style scoped>\n",
       "    .dataframe tbody tr th:only-of-type {\n",
       "        vertical-align: middle;\n",
       "    }\n",
       "\n",
       "    .dataframe tbody tr th {\n",
       "        vertical-align: top;\n",
       "    }\n",
       "\n",
       "    .dataframe thead th {\n",
       "        text-align: right;\n",
       "    }\n",
       "</style>\n",
       "<table border=\"1\" class=\"dataframe\">\n",
       "  <thead>\n",
       "    <tr style=\"text-align: right;\">\n",
       "      <th></th>\n",
       "      <th>neighbourhood</th>\n",
       "      <th>price</th>\n",
       "    </tr>\n",
       "    <tr>\n",
       "      <th>host_since</th>\n",
       "      <th></th>\n",
       "      <th></th>\n",
       "    </tr>\n",
       "  </thead>\n",
       "  <tbody>\n",
       "    <tr>\n",
       "      <th>2008-12-31</th>\n",
       "      <td>4</td>\n",
       "      <td>77.750000</td>\n",
       "    </tr>\n",
       "    <tr>\n",
       "      <th>2009-12-31</th>\n",
       "      <td>106</td>\n",
       "      <td>159.641509</td>\n",
       "    </tr>\n",
       "    <tr>\n",
       "      <th>2010-12-31</th>\n",
       "      <td>416</td>\n",
       "      <td>125.031250</td>\n",
       "    </tr>\n",
       "    <tr>\n",
       "      <th>2011-12-31</th>\n",
       "      <td>1339</td>\n",
       "      <td>124.828230</td>\n",
       "    </tr>\n",
       "    <tr>\n",
       "      <th>2012-12-31</th>\n",
       "      <td>4592</td>\n",
       "      <td>111.578615</td>\n",
       "    </tr>\n",
       "    <tr>\n",
       "      <th>2013-12-31</th>\n",
       "      <td>8142</td>\n",
       "      <td>107.096414</td>\n",
       "    </tr>\n",
       "    <tr>\n",
       "      <th>2014-12-31</th>\n",
       "      <td>10922</td>\n",
       "      <td>100.253800</td>\n",
       "    </tr>\n",
       "    <tr>\n",
       "      <th>2015-12-31</th>\n",
       "      <td>12147</td>\n",
       "      <td>103.646250</td>\n",
       "    </tr>\n",
       "    <tr>\n",
       "      <th>2016-12-31</th>\n",
       "      <td>8867</td>\n",
       "      <td>114.211345</td>\n",
       "    </tr>\n",
       "    <tr>\n",
       "      <th>2017-12-31</th>\n",
       "      <td>4585</td>\n",
       "      <td>108.658888</td>\n",
       "    </tr>\n",
       "    <tr>\n",
       "      <th>2018-12-31</th>\n",
       "      <td>4294</td>\n",
       "      <td>138.209362</td>\n",
       "    </tr>\n",
       "    <tr>\n",
       "      <th>2019-12-31</th>\n",
       "      <td>5685</td>\n",
       "      <td>129.962533</td>\n",
       "    </tr>\n",
       "    <tr>\n",
       "      <th>2020-12-31</th>\n",
       "      <td>3363</td>\n",
       "      <td>143.517098</td>\n",
       "    </tr>\n",
       "    <tr>\n",
       "      <th>2021-12-31</th>\n",
       "      <td>133</td>\n",
       "      <td>93.488722</td>\n",
       "    </tr>\n",
       "  </tbody>\n",
       "</table>\n",
       "</div>"
      ],
      "text/plain": [
       "            neighbourhood       price\n",
       "host_since                           \n",
       "2008-12-31              4   77.750000\n",
       "2009-12-31            106  159.641509\n",
       "2010-12-31            416  125.031250\n",
       "2011-12-31           1339  124.828230\n",
       "2012-12-31           4592  111.578615\n",
       "2013-12-31           8142  107.096414\n",
       "2014-12-31          10922  100.253800\n",
       "2015-12-31          12147  103.646250\n",
       "2016-12-31           8867  114.211345\n",
       "2017-12-31           4585  108.658888\n",
       "2018-12-31           4294  138.209362\n",
       "2019-12-31           5685  129.962533\n",
       "2020-12-31           3363  143.517098\n",
       "2021-12-31            133   93.488722"
      ]
     },
     "execution_count": 48,
     "metadata": {},
     "output_type": "execute_result"
    }
   ],
   "source": [
    "paris_listings_over_time"
   ]
  },
  {
   "cell_type": "code",
   "execution_count": 49,
   "id": "540b96d4",
   "metadata": {
    "execution": {
     "iopub.execute_input": "2025-02-10T03:28:20.785386Z",
     "iopub.status.busy": "2025-02-10T03:28:20.785098Z",
     "iopub.status.idle": "2025-02-10T03:28:21.031195Z",
     "shell.execute_reply": "2025-02-10T03:28:21.030414Z"
    },
    "papermill": {
     "duration": 0.298656,
     "end_time": "2025-02-10T03:28:21.032467",
     "exception": false,
     "start_time": "2025-02-10T03:28:20.733811",
     "status": "completed"
    },
    "tags": []
   },
   "outputs": [
    {
     "data": {
      "image/png": "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\n",
      "text/plain": [
       "<Figure size 1200x800 with 1 Axes>"
      ]
     },
     "metadata": {},
     "output_type": "display_data"
    }
   ],
   "source": [
    "plt.figure(figsize = (12,8))\n",
    "sns.lineplot(data = paris_listings_over_time[\"neighbourhood\"],color = \"pink\")\n",
    "plt.xlabel(\"Years\")\n",
    "plt.ylabel(\"Number of AirBnBs and Localities\")\n",
    "plt.title(\"Popularity of AirBnBs over time\")\n",
    "plt.grid(True)\n",
    "plt.show()"
   ]
  },
  {
   "cell_type": "code",
   "execution_count": 50,
   "id": "936017b0",
   "metadata": {
    "execution": {
     "iopub.execute_input": "2025-02-10T03:28:21.063459Z",
     "iopub.status.busy": "2025-02-10T03:28:21.063210Z",
     "iopub.status.idle": "2025-02-10T03:28:21.289913Z",
     "shell.execute_reply": "2025-02-10T03:28:21.289092Z"
    },
    "papermill": {
     "duration": 0.243576,
     "end_time": "2025-02-10T03:28:21.291160",
     "exception": false,
     "start_time": "2025-02-10T03:28:21.047584",
     "status": "completed"
    },
    "tags": []
   },
   "outputs": [
    {
     "data": {
      "image/png": "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\n",
      "text/plain": [
       "<Figure size 1200x800 with 1 Axes>"
      ]
     },
     "metadata": {},
     "output_type": "display_data"
    }
   ],
   "source": [
    "plt.figure(figsize = (12,8))\n",
    "sns.lineplot(data = paris_listings_over_time[\"price\"],color = \"red\")\n",
    "plt.xlabel(\"Years\")\n",
    "plt.ylabel(\"Average Price\")\n",
    "plt.title(\"Average Price of AirBnBs over time\")\n",
    "plt.grid(True)\n",
    "plt.show()"
   ]
  },
  {
   "cell_type": "markdown",
   "id": "95430cfc",
   "metadata": {
    "papermill": {
     "duration": 0.015234,
     "end_time": "2025-02-10T03:28:21.322440",
     "exception": false,
     "start_time": "2025-02-10T03:28:21.307206",
     "status": "completed"
    },
    "tags": []
   },
   "source": [
    "<div style=\"background-color: #f88379; padding: 25px; border-radius: 10px;\">\n",
    "  <h1 style=\"color: #333;\"><strong>Finding effects of Regulations on AirBnB Business</strong></h1>\n",
    "</div>"
   ]
  },
  {
   "cell_type": "code",
   "execution_count": 51,
   "id": "15f9a5d0",
   "metadata": {
    "execution": {
     "iopub.execute_input": "2025-02-10T03:28:21.353956Z",
     "iopub.status.busy": "2025-02-10T03:28:21.353684Z",
     "iopub.status.idle": "2025-02-10T03:28:21.725758Z",
     "shell.execute_reply": "2025-02-10T03:28:21.724941Z"
    },
    "papermill": {
     "duration": 0.38949,
     "end_time": "2025-02-10T03:28:21.727268",
     "exception": false,
     "start_time": "2025-02-10T03:28:21.337778",
     "status": "completed"
    },
    "tags": []
   },
   "outputs": [
    {
     "data": {
      "image/png": "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\n",
      "text/plain": [
       "<Figure size 640x480 with 2 Axes>"
      ]
     },
     "metadata": {},
     "output_type": "display_data"
    }
   ],
   "source": [
    "fig , ax = plt.subplots()\n",
    "\n",
    "ax.plot(paris_listings_over_time.index,paris_listings_over_time[\"neighbourhood\"], label = \"New Hosts\", c = \"pink\")\n",
    "\n",
    "ax.set_ylabel(\"New Hosts\")\n",
    "\n",
    "ax2 = ax.twinx()\n",
    "\n",
    "ax2.plot(paris_listings_over_time.index,paris_listings_over_time[\"price\"], label = \"Average Price\")\n",
    "\n",
    "ax2.set_ylim(0)\n",
    "\n",
    "ax2.set_ylabel(\"Average Price\")\n",
    "\n",
    "ax.set_title(\"Regulations Lead to Fewer New Hosts and Higher Prices\")\n",
    "\n",
    "plt.show()"
   ]
  },
  {
   "cell_type": "markdown",
   "id": "3143f218",
   "metadata": {
    "papermill": {
     "duration": 0.025661,
     "end_time": "2025-02-10T03:28:21.774918",
     "exception": false,
     "start_time": "2025-02-10T03:28:21.749257",
     "status": "completed"
    },
    "tags": []
   },
   "source": [
    "<div style=\"background-color: #f88379; padding: 25px; border-radius: 10px;\">\n",
    "  <h1 style=\"color: #333;\"><strong>Final Insights</strong></h1>\n",
    "</div>"
   ]
  },
  {
   "cell_type": "markdown",
   "id": "43a7120a",
   "metadata": {
    "papermill": {
     "duration": 0.019885,
     "end_time": "2025-02-10T03:28:21.813230",
     "exception": false,
     "start_time": "2025-02-10T03:28:21.793345",
     "status": "completed"
    },
    "tags": []
   },
   "source": [
    "\n",
    "1. The Number of AirBnBs kept on increasing since the launch and prices kept on increasing too, due to initial traction and early adopters.\n",
    "2. After the startup is known to everyone and becomes a common utility, AirBnBs start increasing in numbers and prices also kept on decreasing.\n",
    "3. After regulation was announced around 2015 there was under confidence in the business, number of AirBnBs started decreasing and prices started increasing.\n",
    "4. Once the regulation is the new normal, during the year 2019 the number of AirBnBs have increased in number and prices kept decreasing due to more supply of them."
   ]
  },
  {
   "cell_type": "markdown",
   "id": "0e031246",
   "metadata": {
    "papermill": {
     "duration": 0.016337,
     "end_time": "2025-02-10T03:28:21.846046",
     "exception": false,
     "start_time": "2025-02-10T03:28:21.829709",
     "status": "completed"
    },
    "tags": []
   },
   "source": [
    "<div style=\"background-color: #f88379; padding: 25px; border-radius: 10px;\">\n",
    "  <h1 style=\"color: #333;\"><strong>Recommendation for AirBnB</strong></h1>\n",
    "</div>"
   ]
  },
  {
   "cell_type": "markdown",
   "id": "cf54c412",
   "metadata": {
    "papermill": {
     "duration": 0.016204,
     "end_time": "2025-02-10T03:28:21.878621",
     "exception": false,
     "start_time": "2025-02-10T03:28:21.862417",
     "status": "completed"
    },
    "tags": []
   },
   "source": [
    "\n",
    "1. Regulations in long term rentals can impact the business adversely, there might be customer and hosts churn due to uncertainty.\n",
    "2. Such regulations might add to AirBnBs losses which might be difficult to recover later.\n",
    "3. If the customer experience is going to get impacted due to this, it would lead to incorrect brand perception.\n",
    "4. It is recommended to watch out for any such regulations at other places and be prepared for it.\n",
    "5. AirBnB can replicate such regulations at other places.\n",
    "6. They can keep strict rules to onboard and release the hosts.\n",
    "7. They can limit the number of AirBnBs in a locality to ensure the public has enough rental options and the government doesn't step in."
   ]
  },
  {
   "cell_type": "code",
   "execution_count": null,
   "id": "f44e0b7c",
   "metadata": {
    "papermill": {
     "duration": 0.016198,
     "end_time": "2025-02-10T03:28:21.911028",
     "exception": false,
     "start_time": "2025-02-10T03:28:21.894830",
     "status": "completed"
    },
    "tags": []
   },
   "outputs": [],
   "source": []
  }
 ],
 "metadata": {
  "kaggle": {
   "accelerator": "gpu",
   "dataSources": [
    {
     "datasetId": 1530930,
     "sourceId": 2526818,
     "sourceType": "datasetVersion"
    }
   ],
   "dockerImageVersionId": 30840,
   "isGpuEnabled": true,
   "isInternetEnabled": true,
   "language": "python",
   "sourceType": "notebook"
  },
  "kernelspec": {
   "display_name": "Python 3",
   "language": "python",
   "name": "python3"
  },
  "language_info": {
   "codemirror_mode": {
    "name": "ipython",
    "version": 3
   },
   "file_extension": ".py",
   "mimetype": "text/x-python",
   "name": "python",
   "nbconvert_exporter": "python",
   "pygments_lexer": "ipython3",
   "version": "3.10.12"
  },
  "papermill": {
   "default_parameters": {},
   "duration": 17.045731,
   "end_time": "2025-02-10T03:28:22.445156",
   "environment_variables": {},
   "exception": null,
   "input_path": "__notebook__.ipynb",
   "output_path": "__notebook__.ipynb",
   "parameters": {},
   "start_time": "2025-02-10T03:28:05.399425",
   "version": "2.6.0"
  }
 },
 "nbformat": 4,
 "nbformat_minor": 5
}
