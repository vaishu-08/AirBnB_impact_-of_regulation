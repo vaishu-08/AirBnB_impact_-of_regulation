{
 "cells": [
  {
   "cell_type": "code",
   "execution_count": 1,
   "id": "c778c484",
   "metadata": {
    "_cell_guid": "b1076dfc-b9ad-4769-8c92-a6c4dae69d19",
    "_uuid": "8f2839f25d086af736a60e9eeb907d3b93b6e0e5",
    "execution": {
     "iopub.execute_input": "2025-05-11T06:50:32.354793Z",
     "iopub.status.busy": "2025-05-11T06:50:32.354254Z",
     "iopub.status.idle": "2025-05-11T06:50:34.008275Z",
     "shell.execute_reply": "2025-05-11T06:50:34.007205Z"
    },
    "papermill": {
     "duration": 1.663366,
     "end_time": "2025-05-11T06:50:34.009586",
     "exception": false,
     "start_time": "2025-05-11T06:50:32.346220",
     "status": "completed"
    },
    "tags": []
   },
   "outputs": [
    {
     "name": "stdout",
     "output_type": "stream",
     "text": [
      "/kaggle/input/airbnb-listings-reviews/Airbnb Data/Listings.csv\n",
      "/kaggle/input/airbnb-listings-reviews/Airbnb Data/Reviews.csv\n",
      "/kaggle/input/airbnb-listings-reviews/Airbnb Data/Reviews_data_dictionary.csv\n",
      "/kaggle/input/airbnb-listings-reviews/Airbnb Data/Listings_data_dictionary.csv\n"
     ]
    }
   ],
   "source": [
    "# This Python 3 environment comes with many helpful analytics libraries installed\n",
    "# It is defined by the kaggle/python Docker image: https://github.com/kaggle/docker-python\n",
    "# For example, here's several helpful packages to load\n",
    "\n",
    "import numpy as np # linear algebra\n",
    "import pandas as pd # data processing, CSV file I/O (e.g. pd.read_csv)\n",
    "\n",
    "# Input data files are available in the read-only \"../input/\" directory\n",
    "# For example, running this (by clicking run or pressing Shift+Enter) will list all files under the input directory\n",
    "\n",
    "import os\n",
    "for dirname, _, filenames in os.walk('/kaggle/input'):\n",
    "    for filename in filenames:\n",
    "        print(os.path.join(dirname, filename))\n",
    "\n",
    "# You can write up to 20GB to the current directory (/kaggle/working/) that gets preserved as output when you create a version using \"Save & Run All\" \n",
    "# You can also write temporary files to /kaggle/temp/, but they won't be saved outside of the current session"
   ]
  },
 {
   "cell_type": "markdown",
   "id": "a2689358",
   "metadata": {
    "papermill": {
     "duration": 0.008762,
     "end_time": "2025-02-10T03:28:08.675952",
     "exception": false,
     "start_time": "2025-02-10T03:28:08.667190",
     "status": "completed"
    },
    "tags": []
   },
   "source": [
    "<div style=\"background-color: #f88379; padding: 25px; border-radius: 10px;font-size:20px;font-weight:10px\">\n",
    "  <h1 style=\"color: #333;\"><strong>AirBnB Listings and reviews</strong></h1>\n",
    "</div>"
   ]
  },
{
   "cell_type": "markdown",
   "id": "7fd3a7e1",
   "metadata": {
    "papermill": {
     "duration": 0.008523,
     "end_time": "2025-02-10T03:28:08.693223",
     "exception": false,
     "start_time": "2025-02-10T03:28:08.684700",
     "status": "completed"
    },
    "tags": []
   },
   "source": [
    "<img src=\"https://jayvas.com/wp-content/uploads/2020/11/airbnb-real-estate-company.jpg\" width=1200>"
   ]
  },
  {
   "cell_type": "markdown",
   "id": "ec12132d",
   "metadata": {
    "papermill": {
     "duration": 0.008909,
     "end_time": "2025-02-10T03:28:08.711180",
     "exception": false,
     "start_time": "2025-02-10T03:28:08.702271",
     "status": "completed"
    },
    "tags": []
   },
   "source": [
    "<div style=\"background-color: #0000; padding: 20px; border-radius: 10px;font-size:25px;font-weight:10px\">\n",
    "  <h1 style=\"color: #333;\"><strong>Exploratory Data Analysis</strong></h1>\n",
    "</div>"
   ]
  },
  {
   "cell_type": "code",
   "execution_count": 2,
   "id": "491cb3fa",
   "metadata": {
    "execution": {
     "iopub.execute_input": "2025-05-11T06:50:34.023428Z",
     "iopub.status.busy": "2025-05-11T06:50:34.023082Z",
     "iopub.status.idle": "2025-05-11T06:50:34.039081Z",
     "shell.execute_reply": "2025-05-11T06:50:34.038373Z"
    },
    "papermill": {
     "duration": 0.023962,
     "end_time": "2025-05-11T06:50:34.040372",
     "exception": false,
     "start_time": "2025-05-11T06:50:34.016410",
     "status": "completed"
    },
    "tags": []
   },
   "outputs": [],
   "source": [
    "reviews_dict = pd.read_csv(r\"/kaggle/input/airbnb-listings-reviews/Airbnb Data/Reviews_data_dictionary.csv\")"
   ]
  },
  {
   "cell_type": "code",
   "execution_count": 3,
   "id": "a5c3e923",
   "metadata": {
    "execution": {
     "iopub.execute_input": "2025-05-11T06:50:34.053508Z",
     "iopub.status.busy": "2025-05-11T06:50:34.053304Z",
     "iopub.status.idle": "2025-05-11T06:50:34.075935Z",
     "shell.execute_reply": "2025-05-11T06:50:34.075372Z"
    },
    "papermill": {
     "duration": 0.030365,
     "end_time": "2025-05-11T06:50:34.076909",
     "exception": false,
     "start_time": "2025-05-11T06:50:34.046544",
     "status": "completed"
    },
    "tags": []
   },
   "outputs": [
    {
     "data": {
      "text/html": [
       "<div>\n",
       "<style scoped>\n",
       "    .dataframe tbody tr th:only-of-type {\n",
       "        vertical-align: middle;\n",
       "    }\n",
       "\n",
       "    .dataframe tbody tr th {\n",
       "        vertical-align: top;\n",
       "    }\n",
       "\n",
       "    .dataframe thead th {\n",
       "        text-align: right;\n",
       "    }\n",
       "</style>\n",
       "<table border=\"1\" class=\"dataframe\">\n",
       "  <thead>\n",
       "    <tr style=\"text-align: right;\">\n",
       "      <th></th>\n",
       "      <th>Field</th>\n",
       "      <th>Description</th>\n",
       "    </tr>\n",
       "  </thead>\n",
       "  <tbody>\n",
       "    <tr>\n",
       "      <th>0</th>\n",
       "      <td>listing_id</td>\n",
       "      <td>Listing ID</td>\n",
       "    </tr>\n",
       "    <tr>\n",
       "      <th>1</th>\n",
       "      <td>review_id</td>\n",
       "      <td>Review ID</td>\n",
       "    </tr>\n",
       "    <tr>\n",
       "      <th>2</th>\n",
       "      <td>date</td>\n",
       "      <td>Review date</td>\n",
       "    </tr>\n",
       "    <tr>\n",
       "      <th>3</th>\n",
       "      <td>reviewer_id</td>\n",
       "      <td>Reviewer ID</td>\n",
       "    </tr>\n",
       "  </tbody>\n",
       "</table>\n",
       "</div>"
      ],
      "text/plain": [
       "         Field  Description\n",
       "0   listing_id   Listing ID\n",
       "1    review_id    Review ID\n",
       "2         date  Review date\n",
       "3  reviewer_id  Reviewer ID"
      ]
     },
     "execution_count": 3,
     "metadata": {},
     "output_type": "execute_result"
    }
   ],
   "source": [
    "reviews_dict"
   ]
  },
  {
   "cell_type": "code",
   "execution_count": 4,
   "id": "16cea110",
   "metadata": {
    "execution": {
     "iopub.execute_input": "2025-05-11T06:50:34.090645Z",
     "iopub.status.busy": "2025-05-11T06:50:34.090058Z",
     "iopub.status.idle": "2025-05-11T06:50:38.432540Z",
     "shell.execute_reply": "2025-05-11T06:50:38.431891Z"
    },
    "papermill": {
     "duration": 4.350639,
     "end_time": "2025-05-11T06:50:38.433939",
     "exception": false,
     "start_time": "2025-05-11T06:50:34.083300",
     "status": "completed"
    },
    "tags": []
   },
   "outputs": [],
   "source": [
    "reviews = pd.read_csv(r\"/kaggle/input/airbnb-listings-reviews/Airbnb Data/Reviews.csv\")"
   ]
  },
  {
   "cell_type": "code",
   "execution_count": 5,
   "id": "6ddc4164",
   "metadata": {
    "execution": {
     "iopub.execute_input": "2025-05-11T06:50:38.449382Z",
     "iopub.status.busy": "2025-05-11T06:50:38.449178Z",
     "iopub.status.idle": "2025-05-11T06:50:38.456595Z",
     "shell.execute_reply": "2025-05-11T06:50:38.456003Z"
    },
    "papermill": {
     "duration": 0.016649,
     "end_time": "2025-05-11T06:50:38.457586",
     "exception": false,
     "start_time": "2025-05-11T06:50:38.440937",
     "status": "completed"
    },
    "tags": []
   },
   "outputs": [
    {
     "data": {
      "text/html": [
       "<div>\n",
       "<style scoped>\n",
       "    .dataframe tbody tr th:only-of-type {\n",
       "        vertical-align: middle;\n",
       "    }\n",
       "\n",
       "    .dataframe tbody tr th {\n",
       "        vertical-align: top;\n",
       "    }\n",
       "\n",
       "    .dataframe thead th {\n",
       "        text-align: right;\n",
       "    }\n",
       "</style>\n",
       "<table border=\"1\" class=\"dataframe\">\n",
       "  <thead>\n",
       "    <tr style=\"text-align: right;\">\n",
       "      <th></th>\n",
       "      <th>listing_id</th>\n",
       "      <th>review_id</th>\n",
       "      <th>date</th>\n",
       "      <th>reviewer_id</th>\n",
       "    </tr>\n",
       "  </thead>\n",
       "  <tbody>\n",
       "    <tr>\n",
       "      <th>0</th>\n",
       "      <td>11798</td>\n",
       "      <td>330265172</td>\n",
       "      <td>2018-09-30</td>\n",
       "      <td>11863072</td>\n",
       "    </tr>\n",
       "    <tr>\n",
       "      <th>1</th>\n",
       "      <td>15383</td>\n",
       "      <td>330103585</td>\n",
       "      <td>2018-09-30</td>\n",
       "      <td>39147453</td>\n",
       "    </tr>\n",
       "    <tr>\n",
       "      <th>2</th>\n",
       "      <td>16455</td>\n",
       "      <td>329985788</td>\n",
       "      <td>2018-09-30</td>\n",
       "      <td>1125378</td>\n",
       "    </tr>\n",
       "    <tr>\n",
       "      <th>3</th>\n",
       "      <td>17919</td>\n",
       "      <td>330016899</td>\n",
       "      <td>2018-09-30</td>\n",
       "      <td>172717984</td>\n",
       "    </tr>\n",
       "    <tr>\n",
       "      <th>4</th>\n",
       "      <td>26827</td>\n",
       "      <td>329995638</td>\n",
       "      <td>2018-09-30</td>\n",
       "      <td>17542859</td>\n",
       "    </tr>\n",
       "  </tbody>\n",
       "</table>\n",
       "</div>"
      ],
      "text/plain": [
       "   listing_id  review_id        date  reviewer_id\n",
       "0       11798  330265172  2018-09-30     11863072\n",
       "1       15383  330103585  2018-09-30     39147453\n",
       "2       16455  329985788  2018-09-30      1125378\n",
       "3       17919  330016899  2018-09-30    172717984\n",
       "4       26827  329995638  2018-09-30     17542859"
      ]
     },
     "execution_count": 5,
     "metadata": {},
     "output_type": "execute_result"
    }
   ],
   "source": [
    "reviews.head()"
   ]
  },
  {
   "cell_type": "code",
   "execution_count": 6,
   "id": "54f3f88b",
   "metadata": {
    "execution": {
     "iopub.execute_input": "2025-05-11T06:50:38.471319Z",
     "iopub.status.busy": "2025-05-11T06:50:38.471078Z",
     "iopub.status.idle": "2025-05-11T06:50:38.477541Z",
     "shell.execute_reply": "2025-05-11T06:50:38.477043Z"
    },
    "papermill": {
     "duration": 0.014528,
     "end_time": "2025-05-11T06:50:38.478548",
     "exception": false,
     "start_time": "2025-05-11T06:50:38.464020",
     "status": "completed"
    },
    "tags": []
   },
   "outputs": [],
   "source": [
    "listing_dict = pd.read_csv(r\"/kaggle/input/airbnb-listings-reviews/Airbnb Data/Listings_data_dictionary.csv\")"
   ]
  },
  {
   "cell_type": "code",
   "execution_count": 7,
   "id": "f5d08a4b",
   "metadata": {
    "execution": {
     "iopub.execute_input": "2025-05-11T06:50:38.492228Z",
     "iopub.status.busy": "2025-05-11T06:50:38.491998Z",
     "iopub.status.idle": "2025-05-11T06:50:38.499295Z",
     "shell.execute_reply": "2025-05-11T06:50:38.498558Z"
    },
    "papermill": {
     "duration": 0.015348,
     "end_time": "2025-05-11T06:50:38.500383",
     "exception": false,
     "start_time": "2025-05-11T06:50:38.485035",
     "status": "completed"
    },
    "tags": []
   },
   "outputs": [
    {
     "data": {
      "text/html": [
       "<div>\n",
       "<style scoped>\n",
       "    .dataframe tbody tr th:only-of-type {\n",
       "        vertical-align: middle;\n",
       "    }\n",
       "\n",
       "    .dataframe tbody tr th {\n",
       "        vertical-align: top;\n",
       "    }\n",
       "\n",
       "    .dataframe thead th {\n",
       "        text-align: right;\n",
       "    }\n",
       "</style>\n",
       "<table border=\"1\" class=\"dataframe\">\n",
       "  <thead>\n",
       "    <tr style=\"text-align: right;\">\n",
       "      <th></th>\n",
       "      <th>Field</th>\n",
       "      <th>Description</th>\n",
       "    </tr>\n",
       "  </thead>\n",
       "  <tbody>\n",
       "    <tr>\n",
       "      <th>0</th>\n",
       "      <td>listing_id</td>\n",
       "      <td>Listing ID</td>\n",
       "    </tr>\n",
       "    <tr>\n",
       "      <th>1</th>\n",
       "      <td>name</td>\n",
       "      <td>Listing Name</td>\n",
       "    </tr>\n",
       "    <tr>\n",
       "      <th>2</th>\n",
       "      <td>host_id</td>\n",
       "      <td>Host ID</td>\n",
       "    </tr>\n",
       "    <tr>\n",
       "      <th>3</th>\n",
       "      <td>host_since</td>\n",
       "      <td>Date the Host joined Airbnb</td>\n",
       "    </tr>\n",
       "    <tr>\n",
       "      <th>4</th>\n",
       "      <td>host_location</td>\n",
       "      <td>Location where the Host is based</td>\n",
       "    </tr>\n",
       "    <tr>\n",
       "      <th>5</th>\n",
       "      <td>host_response_time</td>\n",
       "      <td>Estimate of how long the Host takes to respond</td>\n",
       "    </tr>\n",
       "    <tr>\n",
       "      <th>6</th>\n",
       "      <td>host_response_rate</td>\n",
       "      <td>Percentage of times the Host responds</td>\n",
       "    </tr>\n",
       "    <tr>\n",
       "      <th>7</th>\n",
       "      <td>host_acceptance_rate</td>\n",
       "      <td>Percentage of times the Host accepts a booking...</td>\n",
       "    </tr>\n",
       "    <tr>\n",
       "      <th>8</th>\n",
       "      <td>host_is_superhost</td>\n",
       "      <td>Binary field to determine if the Host is a Sup...</td>\n",
       "    </tr>\n",
       "    <tr>\n",
       "      <th>9</th>\n",
       "      <td>host_total_listings_count</td>\n",
       "      <td>Total listings the Host has in Airbnb</td>\n",
       "    </tr>\n",
       "    <tr>\n",
       "      <th>10</th>\n",
       "      <td>host_has_profile_pic</td>\n",
       "      <td>Binary field to determine if the Host has a pr...</td>\n",
       "    </tr>\n",
       "    <tr>\n",
       "      <th>11</th>\n",
       "      <td>host_identity_verified</td>\n",
       "      <td>Binary field to determine if the Host has a ve...</td>\n",
       "    </tr>\n",
       "    <tr>\n",
       "      <th>12</th>\n",
       "      <td>neighbourhood</td>\n",
       "      <td>Neighborhood the Listing is in</td>\n",
       "    </tr>\n",
       "    <tr>\n",
       "      <th>13</th>\n",
       "      <td>district</td>\n",
       "      <td>District the Listing is in</td>\n",
       "    </tr>\n",
       "    <tr>\n",
       "      <th>14</th>\n",
       "      <td>city</td>\n",
       "      <td>City the Listing is in</td>\n",
       "    </tr>\n",
       "    <tr>\n",
       "      <th>15</th>\n",
       "      <td>latitude</td>\n",
       "      <td>Listing's latitude</td>\n",
       "    </tr>\n",
       "    <tr>\n",
       "      <th>16</th>\n",
       "      <td>longitude</td>\n",
       "      <td>Listing's longitude</td>\n",
       "    </tr>\n",
       "    <tr>\n",
       "      <th>17</th>\n",
       "      <td>property_type</td>\n",
       "      <td>Type of property for the Listing</td>\n",
       "    </tr>\n",
       "    <tr>\n",
       "      <th>18</th>\n",
       "      <td>room_type</td>\n",
       "      <td>Type of room type in Airbnb for the Listing</td>\n",
       "    </tr>\n",
       "    <tr>\n",
       "      <th>19</th>\n",
       "      <td>accommodates</td>\n",
       "      <td>Guests the Listing accomodates</td>\n",
       "    </tr>\n",
       "    <tr>\n",
       "      <th>20</th>\n",
       "      <td>bedrooms</td>\n",
       "      <td>Bedrooms in the Listing</td>\n",
       "    </tr>\n",
       "    <tr>\n",
       "      <th>21</th>\n",
       "      <td>amenities</td>\n",
       "      <td>Amenities the Listing includes</td>\n",
       "    </tr>\n",
       "    <tr>\n",
       "      <th>22</th>\n",
       "      <td>price</td>\n",
       "      <td>Listing price (in each country's currency)</td>\n",
       "    </tr>\n",
       "    <tr>\n",
       "      <th>23</th>\n",
       "      <td>minimum_nights</td>\n",
       "      <td>Minimum nights per booking</td>\n",
       "    </tr>\n",
       "    <tr>\n",
       "      <th>24</th>\n",
       "      <td>maximum_nights</td>\n",
       "      <td>Maximum nights per booking</td>\n",
       "    </tr>\n",
       "    <tr>\n",
       "      <th>25</th>\n",
       "      <td>review_scores_rating</td>\n",
       "      <td>Listing's overall rating (out of 100)</td>\n",
       "    </tr>\n",
       "    <tr>\n",
       "      <th>26</th>\n",
       "      <td>review_scores_accuracy</td>\n",
       "      <td>Listing's accuracy score based on what's promo...</td>\n",
       "    </tr>\n",
       "    <tr>\n",
       "      <th>27</th>\n",
       "      <td>review_scores_cleanliness</td>\n",
       "      <td>Listing's cleanliness score (out of 10)</td>\n",
       "    </tr>\n",
       "    <tr>\n",
       "      <th>28</th>\n",
       "      <td>review_scores_checkin</td>\n",
       "      <td>Listing's check-in experience score (out of 10)</td>\n",
       "    </tr>\n",
       "    <tr>\n",
       "      <th>29</th>\n",
       "      <td>review_scores_communication</td>\n",
       "      <td>Listing's communication with the Host score (o...</td>\n",
       "    </tr>\n",
       "    <tr>\n",
       "      <th>30</th>\n",
       "      <td>review_scores_location</td>\n",
       "      <td>Listing's location score within the city (out ...</td>\n",
       "    </tr>\n",
       "    <tr>\n",
       "      <th>31</th>\n",
       "      <td>review_scores_value</td>\n",
       "      <td>Listing's value score relative to its price (o...</td>\n",
       "    </tr>\n",
       "    <tr>\n",
       "      <th>32</th>\n",
       "      <td>instant_bookable</td>\n",
       "      <td>Binary field to determine if the Listing can b...</td>\n",
       "    </tr>\n",
       "  </tbody>\n",
       "</table>\n",
       "</div>"
      ],
      "text/plain": [
       "                          Field  \\\n",
       "0                    listing_id   \n",
       "1                          name   \n",
       "2                       host_id   \n",
       "3                    host_since   \n",
       "4                 host_location   \n",
       "5            host_response_time   \n",
       "6            host_response_rate   \n",
       "7          host_acceptance_rate   \n",
       "8             host_is_superhost   \n",
       "9     host_total_listings_count   \n",
       "10         host_has_profile_pic   \n",
       "11       host_identity_verified   \n",
       "12                neighbourhood   \n",
       "13                     district   \n",
       "14                         city   \n",
       "15                     latitude   \n",
       "16                    longitude   \n",
       "17                property_type   \n",
       "18                    room_type   \n",
       "19                 accommodates   \n",
       "20                     bedrooms   \n",
       "21                    amenities   \n",
       "22                        price   \n",
       "23               minimum_nights   \n",
       "24               maximum_nights   \n",
       "25         review_scores_rating   \n",
       "26       review_scores_accuracy   \n",
       "27    review_scores_cleanliness   \n",
       "28        review_scores_checkin   \n",
       "29  review_scores_communication   \n",
       "30       review_scores_location   \n",
       "31          review_scores_value   \n",
       "32             instant_bookable   \n",
       "\n",
       "                                          Description  \n",
       "0                                          Listing ID  \n",
       "1                                        Listing Name  \n",
       "2                                             Host ID  \n",
       "3                         Date the Host joined Airbnb  \n",
       "4                    Location where the Host is based  \n",
       "5      Estimate of how long the Host takes to respond  \n",
       "6               Percentage of times the Host responds  \n",
       "7   Percentage of times the Host accepts a booking...  \n",
       "8   Binary field to determine if the Host is a Sup...  \n",
       "9               Total listings the Host has in Airbnb  \n",
       "10  Binary field to determine if the Host has a pr...  \n",
       "11  Binary field to determine if the Host has a ve...  \n",
       "12                     Neighborhood the Listing is in  \n",
       "13                         District the Listing is in  \n",
       "14                             City the Listing is in  \n",
       "15                                 Listing's latitude  \n",
       "16                                Listing's longitude  \n",
       "17                   Type of property for the Listing  \n",
       "18        Type of room type in Airbnb for the Listing  \n",
       "19                     Guests the Listing accomodates  \n",
       "20                            Bedrooms in the Listing  \n",
       "21                     Amenities the Listing includes  \n",
       "22         Listing price (in each country's currency)  \n",
       "23                         Minimum nights per booking  \n",
       "24                         Maximum nights per booking  \n",
       "25              Listing's overall rating (out of 100)  \n",
       "26  Listing's accuracy score based on what's promo...  \n",
       "27            Listing's cleanliness score (out of 10)  \n",
       "28    Listing's check-in experience score (out of 10)  \n",
       "29  Listing's communication with the Host score (o...  \n",
       "30  Listing's location score within the city (out ...  \n",
       "31  Listing's value score relative to its price (o...  \n",
       "32  Binary field to determine if the Listing can b...  "
      ]
     },
     "execution_count": 7,
     "metadata": {},
     "output_type": "execute_result"
    }
   ],
   "source": [
    "listing_dict"
   ]
  },
 {
   "cell_type": "markdown",
   "id": "3d6bd9e1",
   "metadata": {
    "papermill": {
     "duration": 0.009322,
     "end_time": "2025-02-10T03:28:12.706577",
     "exception": false,
     "start_time": "2025-02-10T03:28:12.697255",
     "status": "completed"
    },
    "tags": []
   },
   "source": [
    "<div style=\"background-color: #f88379; padding: 25px; border-radius: 10px;\">\n",
    "  <h1 style=\"color: #333;\"><strong>Loading and Checking the dataset</strong></h1>\n",
    "</div>"
   ]
  },
  {
   "cell_type": "code",
   "execution_count": 8,
   "id": "71fa1c52",
   "metadata": {
    "execution": {
     "iopub.execute_input": "2025-05-11T06:50:38.514771Z",
     "iopub.status.busy": "2025-05-11T06:50:38.514319Z",
     "iopub.status.idle": "2025-05-11T06:50:43.349266Z",
     "shell.execute_reply": "2025-05-11T06:50:43.348652Z"
    },
    "papermill": {
     "duration": 4.843456,
     "end_time": "2025-05-11T06:50:43.350568",
     "exception": false,
     "start_time": "2025-05-11T06:50:38.507112",
     "status": "completed"
    },
    "tags": []
   },
   "outputs": [],
   "source": [
    "listing = pd.read_csv(r\"/kaggle/input/airbnb-listings-reviews/Airbnb Data/Listings.csv\",\n",
    "                     encoding = \"ISO-8859-1\",low_memory=False)"
   ]
  },
  {
   "cell_type": "code",
   "execution_count": 9,
   "id": "151c81ae",
   "metadata": {
    "execution": {
     "iopub.execute_input": "2025-05-11T06:50:43.365749Z",
     "iopub.status.busy": "2025-05-11T06:50:43.365529Z",
     "iopub.status.idle": "2025-05-11T06:50:43.368619Z",
     "shell.execute_reply": "2025-05-11T06:50:43.368156Z"
    },
    "papermill": {
     "duration": 0.01146,
     "end_time": "2025-05-11T06:50:43.369584",
     "exception": false,
     "start_time": "2025-05-11T06:50:43.358124",
     "status": "completed"
    },
    "tags": []
   },
   "outputs": [],
   "source": [
    "import warnings\n",
    "warnings.filterwarnings(\"ignore\")"
   ]
  },
  {
   "cell_type": "code",
   "execution_count": 10,
   "id": "9e7c8362",
   "metadata": {
    "execution": {
     "iopub.execute_input": "2025-05-11T06:50:43.383656Z",
     "iopub.status.busy": "2025-05-11T06:50:43.383443Z",
     "iopub.status.idle": "2025-05-11T06:50:43.408484Z",
     "shell.execute_reply": "2025-05-11T06:50:43.407861Z"
    },
    "papermill": {
     "duration": 0.033255,
     "end_time": "2025-05-11T06:50:43.409554",
     "exception": false,
     "start_time": "2025-05-11T06:50:43.376299",
     "status": "completed"
    },
    "tags": []
   },
   "outputs": [
    {
     "data": {
      "text/html": [
       "<div>\n",
       "<style scoped>\n",
       "    .dataframe tbody tr th:only-of-type {\n",
       "        vertical-align: middle;\n",
       "    }\n",
       "\n",
       "    .dataframe tbody tr th {\n",
       "        vertical-align: top;\n",
       "    }\n",
       "\n",
       "    .dataframe thead th {\n",
       "        text-align: right;\n",
       "    }\n",
       "</style>\n",
       "<table border=\"1\" class=\"dataframe\">\n",
       "  <thead>\n",
       "    <tr style=\"text-align: right;\">\n",
       "      <th></th>\n",
       "      <th>listing_id</th>\n",
       "      <th>name</th>\n",
       "      <th>host_id</th>\n",
       "      <th>host_since</th>\n",
       "      <th>host_location</th>\n",
       "      <th>host_response_time</th>\n",
       "      <th>host_response_rate</th>\n",
       "      <th>host_acceptance_rate</th>\n",
       "      <th>host_is_superhost</th>\n",
       "      <th>host_total_listings_count</th>\n",
       "      <th>...</th>\n",
       "      <th>minimum_nights</th>\n",
       "      <th>maximum_nights</th>\n",
       "      <th>review_scores_rating</th>\n",
       "      <th>review_scores_accuracy</th>\n",
       "      <th>review_scores_cleanliness</th>\n",
       "      <th>review_scores_checkin</th>\n",
       "      <th>review_scores_communication</th>\n",
       "      <th>review_scores_location</th>\n",
       "      <th>review_scores_value</th>\n",
       "      <th>instant_bookable</th>\n",
       "    </tr>\n",
       "  </thead>\n",
       "  <tbody>\n",
       "    <tr>\n",
       "      <th>0</th>\n",
       "      <td>281420</td>\n",
       "      <td>Beautiful Flat in le Village Montmartre, Paris</td>\n",
       "      <td>1466919</td>\n",
       "      <td>2011-12-03</td>\n",
       "      <td>Paris, Ile-de-France, France</td>\n",
       "      <td>NaN</td>\n",
       "      <td>NaN</td>\n",
       "      <td>NaN</td>\n",
       "      <td>f</td>\n",
       "      <td>1.0</td>\n",
       "      <td>...</td>\n",
       "      <td>2</td>\n",
       "      <td>1125</td>\n",
       "      <td>100.0</td>\n",
       "      <td>10.0</td>\n",
       "      <td>10.0</td>\n",
       "      <td>10.0</td>\n",
       "      <td>10.0</td>\n",
       "      <td>10.0</td>\n",
       "      <td>10.0</td>\n",
       "      <td>f</td>\n",
       "    </tr>\n",
       "    <tr>\n",
       "      <th>1</th>\n",
       "      <td>3705183</td>\n",
       "      <td>39 mÃÂ² Paris (Sacre CÃ",
       "âur)</td>\n",
       "      <td>10328771</td>\n",
       "      <td>2013-11-29</td>\n",
       "      <td>Paris, Ile-de-France, France</td>\n",
       "      <td>NaN</td>\n",
       "      <td>NaN</td>\n",
       "      <td>NaN</td>\n",
       "      <td>f</td>\n",
       "      <td>1.0</td>\n",
       "      <td>...</td>\n",
       "      <td>2</td>\n",
       "      <td>1125</td>\n",
       "      <td>100.0</td>\n",
       "      <td>10.0</td>\n",
       "      <td>10.0</td>\n",
       "      <td>10.0</td>\n",
       "      <td>10.0</td>\n",
       "      <td>10.0</td>\n",
       "      <td>10.0</td>\n",
       "      <td>f</td>\n",
       "    </tr>\n",
       "    <tr>\n",
       "      <th>2</th>\n",
       "      <td>4082273</td>\n",
       "      <td>Lovely apartment with Terrace, 60m2</td>\n",
       "      <td>19252768</td>\n",
       "      <td>2014-07-31</td>\n",
       "      <td>Paris, Ile-de-France, France</td>\n",
       "      <td>NaN</td>\n",
       "      <td>NaN</td>\n",
       "      <td>NaN</td>\n",
       "      <td>f</td>\n",
       "      <td>1.0</td>\n",
       "      <td>...</td>\n",
       "      <td>2</td>\n",
       "      <td>1125</td>\n",
       "      <td>100.0</td>\n",
       "      <td>10.0</td>\n",
       "      <td>10.0</td>\n",
       "      <td>10.0</td>\n",
       "      <td>10.0</td>\n",
       "      <td>10.0</td>\n",
       "      <td>10.0</td>\n",
       "      <td>f</td>\n",
       "    </tr>\n",
       "    <tr>\n",
       "      <th>3</th>\n",
       "      <td>4797344</td>\n",
       "      <td>Cosy studio (close to Eiffel tower)</td>\n",
       "      <td>10668311</td>\n",
       "      <td>2013-12-17</td>\n",
       "      <td>Paris, Ile-de-France, France</td>\n",
       "      <td>NaN</td>\n",
       "      <td>NaN</td>\n",
       "      <td>NaN</td>\n",
       "      <td>f</td>\n",
       "      <td>1.0</td>\n",
       "      <td>...</td>\n",
       "      <td>2</td>\n",
       "      <td>1125</td>\n",
       "      <td>100.0</td>\n",
       "      <td>10.0</td>\n",
       "      <td>10.0</td>\n",
       "      <td>10.0</td>\n",
       "      <td>10.0</td>\n",
       "      <td>10.0</td>\n",
       "      <td>10.0</td>\n",
       "      <td>f</td>\n",
       "    </tr>\n",
       "    <tr>\n",
       "      <th>4</th>\n",
       "      <td>4823489</td>\n",
       "      <td>Close to Eiffel Tower - Beautiful flat : 2 rooms</td>\n",
       "      <td>24837558</td>\n",
       "      <td>2014-12-14</td>\n",
       "      <td>Paris, Ile-de-France, France</td>\n",
       "      <td>NaN</td>\n",
       "      <td>NaN</td>\n",
       "      <td>NaN</td>\n",
       "      <td>f</td>\n",
       "      <td>1.0</td>\n",
       "      <td>...</td>\n",
       "      <td>2</td>\n",
       "      <td>1125</td>\n",
       "      <td>100.0</td>\n",
       "      <td>10.0</td>\n",
       "      <td>10.0</td>\n",
       "      <td>10.0</td>\n",
       "      <td>10.0</td>\n",
       "      <td>10.0</td>\n",
       "      <td>10.0</td>\n",
       "      <td>f</td>\n",
       "    </tr>\n",
       "  </tbody>\n",
       "</table>\n",
       "<p>5 rows × 33 columns</p>\n",
       "</div>"
      ],
      "text/plain": [
       "   listing_id                                              name   host_id  \\\n",
       "0      281420    Beautiful Flat in le Village Montmartre, Paris   1466919   \n",
       "1     3705183                   39 mÃÂ² Paris (Sacre CÃ\n",
       "âur)  10328771   \n",
       "2     4082273               Lovely apartment with Terrace, 60m2  19252768   \n",
       "3     4797344               Cosy studio (close to Eiffel tower)  10668311   \n",
       "4     4823489  Close to Eiffel Tower - Beautiful flat : 2 rooms  24837558   \n",
       "\n",
       "   host_since                 host_location host_response_time  \\\n",
       "0  2011-12-03  Paris, Ile-de-France, France                NaN   \n",
       "1  2013-11-29  Paris, Ile-de-France, France                NaN   \n",
       "2  2014-07-31  Paris, Ile-de-France, France                NaN   \n",
       "3  2013-12-17  Paris, Ile-de-France, France                NaN   \n",
       "4  2014-12-14  Paris, Ile-de-France, France                NaN   \n",
       "\n",
       "   host_response_rate  host_acceptance_rate host_is_superhost  \\\n",
       "0                 NaN                   NaN                 f   \n",
       "1                 NaN                   NaN                 f   \n",
       "2                 NaN                   NaN                 f   \n",
       "3                 NaN                   NaN                 f   \n",
       "4                 NaN                   NaN                 f   \n",
       "\n",
       "   host_total_listings_count  ... minimum_nights maximum_nights  \\\n",
       "0                        1.0  ...              2           1125   \n",
       "1                        1.0  ...              2           1125   \n",
       "2                        1.0  ...              2           1125   \n",
       "3                        1.0  ...              2           1125   \n",
       "4                        1.0  ...              2           1125   \n",
       "\n",
       "  review_scores_rating review_scores_accuracy review_scores_cleanliness  \\\n",
       "0                100.0                   10.0                      10.0   \n",
       "1                100.0                   10.0                      10.0   \n",
       "2                100.0                   10.0                      10.0   \n",
       "3                100.0                   10.0                      10.0   \n",
       "4                100.0                   10.0                      10.0   \n",
       "\n",
       "   review_scores_checkin  review_scores_communication review_scores_location  \\\n",
       "0                   10.0                         10.0                   10.0   \n",
       "1                   10.0                         10.0                   10.0   \n",
       "2                   10.0                         10.0                   10.0   \n",
       "3                   10.0                         10.0                   10.0   \n",
       "4                   10.0                         10.0                   10.0   \n",
       "\n",
       "  review_scores_value  instant_bookable  \n",
       "0                10.0                 f  \n",
       "1                10.0                 f  \n",
       "2                10.0                 f  \n",
       "3                10.0                 f  \n",
       "4                10.0                 f  \n",
       "\n",
       "[5 rows x 33 columns]"
      ]
     },
     "execution_count": 10,
     "metadata": {},
     "output_type": "execute_result"
    }
   ],
   "source": [
    "listing.head()"
   ]
  },
  {
   "cell_type": "code",
   "execution_count": 11,
   "id": "d368a7da",
   "metadata": {
    "execution": {
     "iopub.execute_input": "2025-05-11T06:50:43.424564Z",
     "iopub.status.busy": "2025-05-11T06:50:43.424349Z",
     "iopub.status.idle": "2025-05-11T06:50:43.633787Z",
     "shell.execute_reply": "2025-05-11T06:50:43.632917Z"
    },
    "papermill": {
     "duration": 0.21818,
     "end_time": "2025-05-11T06:50:43.635126",
     "exception": false,
     "start_time": "2025-05-11T06:50:43.416946",
     "status": "completed"
    },
    "tags": []
   },
   "outputs": [
    {
     "name": "stdout",
     "output_type": "stream",
     "text": [
      "<class 'pandas.core.frame.DataFrame'>\n",
      "RangeIndex: 279712 entries, 0 to 279711\n",
      "Data columns (total 33 columns):\n",
      " #   Column                       Non-Null Count   Dtype  \n",
      "---  ------                       --------------   -----  \n",
      " 0   listing_id                   279712 non-null  int64  \n",
      " 1   name                         279537 non-null  object \n",
      " 2   host_id                      279712 non-null  int64  \n",
      " 3   host_since                   279547 non-null  object \n",
      " 4   host_location                278872 non-null  object \n",
      " 5   host_response_time           150930 non-null  object \n",
      " 6   host_response_rate           150930 non-null  float64\n",
      " 7   host_acceptance_rate         166625 non-null  float64\n",
      " 8   host_is_superhost            279547 non-null  object \n",
      " 9   host_total_listings_count    279547 non-null  float64\n",
      " 10  host_has_profile_pic         279547 non-null  object \n",
      " 11  host_identity_verified       279547 non-null  object \n",
      " 12  neighbourhood                279712 non-null  object \n",
      " 13  district                     37012 non-null   object \n",
      " 14  city                         279712 non-null  object \n",
      " 15  latitude                     279712 non-null  float64\n",
      " 16  longitude                    279712 non-null  float64\n",
      " 17  property_type                279712 non-null  object \n",
      " 18  room_type                    279712 non-null  object \n",
      " 19  accommodates                 279712 non-null  int64  \n",
      " 20  bedrooms                     250277 non-null  float64\n",
      " 21  amenities                    279712 non-null  object \n",
      " 22  price                        279712 non-null  int64  \n",
      " 23  minimum_nights               279712 non-null  int64  \n",
      " 24  maximum_nights               279712 non-null  int64  \n",
      " 25  review_scores_rating         188307 non-null  float64\n",
      " 26  review_scores_accuracy       187999 non-null  float64\n",
      " 27  review_scores_cleanliness    188047 non-null  float64\n",
      " 28  review_scores_checkin        187941 non-null  float64\n",
      " 29  review_scores_communication  188025 non-null  float64\n",
      " 30  review_scores_location       187937 non-null  float64\n",
      " 31  review_scores_value          187927 non-null  float64\n",
      " 32  instant_bookable             279712 non-null  object \n",
      "dtypes: float64(13), int64(6), object(14)\n",
      "memory usage: 70.4+ MB\n"
     ]
    }
   ],
   "source": [
    "listing.info()"
   ]
  },
  {
   "cell_type": "code",
   "execution_count": 12,
   "id": "0c635180",
   "metadata": {
    "execution": {
     "iopub.execute_input": "2025-05-11T06:50:43.651900Z",
     "iopub.status.busy": "2025-05-11T06:50:43.651325Z",
     "iopub.status.idle": "2025-05-11T06:50:43.697722Z",
     "shell.execute_reply": "2025-05-11T06:50:43.697039Z"
    },
    "papermill": {
     "duration": 0.055651,
     "end_time": "2025-05-11T06:50:43.698773",
     "exception": false,
     "start_time": "2025-05-11T06:50:43.643122",
     "status": "completed"
    },
    "tags": []
   },
   "outputs": [],
   "source": [
    "listing[\"host_since\"] = pd.to_datetime(listing[\"host_since\"])"
   ]
  },
  {
   "cell_type": "code",
   "execution_count": 13,
   "id": "dad3c67a",
   "metadata": {
    "execution": {
     "iopub.execute_input": "2025-05-11T06:50:43.713404Z",
     "iopub.status.busy": "2025-05-11T06:50:43.713192Z",
     "iopub.status.idle": "2025-05-11T06:50:43.902093Z",
     "shell.execute_reply": "2025-05-11T06:50:43.901207Z"
    },
    "papermill": {
     "duration": 0.197606,
     "end_time": "2025-05-11T06:50:43.903340",
     "exception": false,
     "start_time": "2025-05-11T06:50:43.705734",
     "status": "completed"
    },
    "tags": []
   },
   "outputs": [
    {
     "name": "stdout",
     "output_type": "stream",
     "text": [
      "<class 'pandas.core.frame.DataFrame'>\n",
      "RangeIndex: 279712 entries, 0 to 279711\n",
      "Data columns (total 33 columns):\n",
      " #   Column                       Non-Null Count   Dtype         \n",
      "---  ------                       --------------   -----         \n",
      " 0   listing_id                   279712 non-null  int64         \n",
      " 1   name                         279537 non-null  object        \n",
      " 2   host_id                      279712 non-null  int64         \n",
      " 3   host_since                   279547 non-null  datetime64[ns]\n",
      " 4   host_location                278872 non-null  object        \n",
      " 5   host_response_time           150930 non-null  object        \n",
      " 6   host_response_rate           150930 non-null  float64       \n",
      " 7   host_acceptance_rate         166625 non-null  float64       \n",
      " 8   host_is_superhost            279547 non-null  object        \n",
      " 9   host_total_listings_count    279547 non-null  float64       \n",
      " 10  host_has_profile_pic         279547 non-null  object        \n",
      " 11  host_identity_verified       279547 non-null  object        \n",
      " 12  neighbourhood                279712 non-null  object        \n",
      " 13  district                     37012 non-null   object        \n",
      " 14  city                         279712 non-null  object        \n",
      " 15  latitude                     279712 non-null  float64       \n",
      " 16  longitude                    279712 non-null  float64       \n",
      " 17  property_type                279712 non-null  object        \n",
      " 18  room_type                    279712 non-null  object        \n",
      " 19  accommodates                 279712 non-null  int64         \n",
      " 20  bedrooms                     250277 non-null  float64       \n",
      " 21  amenities                    279712 non-null  object        \n",
      " 22  price                        279712 non-null  int64         \n",
      " 23  minimum_nights               279712 non-null  int64         \n",
      " 24  maximum_nights               279712 non-null  int64         \n",
      " 25  review_scores_rating         188307 non-null  float64       \n",
      " 26  review_scores_accuracy       187999 non-null  float64       \n",
      " 27  review_scores_cleanliness    188047 non-null  float64       \n",
      " 28  review_scores_checkin        187941 non-null  float64       \n",
      " 29  review_scores_communication  188025 non-null  float64       \n",
      " 30  review_scores_location       187937 non-null  float64       \n",
      " 31  review_scores_value          187927 non-null  float64       \n",
      " 32  instant_bookable             279712 non-null  object        \n",
      "dtypes: datetime64[ns](1), float64(13), int64(6), object(13)\n",
      "memory usage: 70.4+ MB\n"
     ]
    }
   ],
   "source": [
    "listing.info()"
   ]
  },
  {
   "cell_type": "code",
   "execution_count": 14,
   "id": "d2ab66c8",
   "metadata": {
    "execution": {
     "iopub.execute_input": "2025-05-11T06:50:43.918418Z",
     "iopub.status.busy": "2025-05-11T06:50:43.918222Z",
     "iopub.status.idle": "2025-05-11T06:50:43.937492Z",
     "shell.execute_reply": "2025-05-11T06:50:43.936947Z"
    },
    "papermill": {
     "duration": 0.028026,
     "end_time": "2025-05-11T06:50:43.938533",
     "exception": false,
     "start_time": "2025-05-11T06:50:43.910507",
     "status": "completed"
    },
    "tags": []
   },
   "outputs": [
    {
     "data": {
      "text/plain": [
       "city\n",
       "Paris             64690\n",
       "New York          37012\n",
       "Sydney            33630\n",
       "Rome              27647\n",
       "Rio de Janeiro    26615\n",
       "Istanbul          24519\n",
       "Mexico City       20065\n",
       "Bangkok           19361\n",
       "Cape Town         19086\n",
       "Hong Kong          7087\n",
       "Name: count, dtype: int64"
      ]
     },
     "execution_count": 14,
     "metadata": {},
     "output_type": "execute_result"
    }
   ],
   "source": [
    "listing[\"city\"].value_counts()"
   ]
  },
 {
   "cell_type": "markdown",
   "id": "73e0cca2",
   "metadata": {
    "papermill": {
     "duration": 0.009686,
     "end_time": "2025-02-10T03:28:17.477281",
     "exception": false,
     "start_time": "2025-02-10T03:28:17.467595",
     "status": "completed"
    },
    "tags": []
   },
   "source": [
    "<div style=\"background-color: #f88379; padding: 25px; border-radius: 10px;\">\n",
    "  <h1 style=\"color: #333;\"><strong>Columns and Rows Filtering</strong></h1>\n",
    "</div>"
   ]
  },
  {
   "cell_type": "code",
   "execution_count": 15,
   "id": "fca15c3b",
   "metadata": {
    "execution": {
     "iopub.execute_input": "2025-05-11T06:50:43.954074Z",
     "iopub.status.busy": "2025-05-11T06:50:43.953889Z",
     "iopub.status.idle": "2025-05-11T06:50:43.988183Z",
     "shell.execute_reply": "2025-05-11T06:50:43.987643Z"
    },
    "papermill": {
     "duration": 0.043584,
     "end_time": "2025-05-11T06:50:43.989264",
     "exception": false,
     "start_time": "2025-05-11T06:50:43.945680",
     "status": "completed"
    },
    "tags": []
   },
   "outputs": [],
   "source": [
    "paris_listings = listing.query(\"city == 'Paris'\").loc[:,[\"host_since\",\"neighbourhood\",\"city\",\"accommodates\",\"price\"]]"
   ]
  },
  {
   "cell_type": "code",
   "execution_count": 16,
   "id": "5f1d2352",
   "metadata": {
    "execution": {
     "iopub.execute_input": "2025-05-11T06:50:44.004720Z",
     "iopub.status.busy": "2025-05-11T06:50:44.004519Z",
     "iopub.status.idle": "2025-05-11T06:50:44.017944Z",
     "shell.execute_reply": "2025-05-11T06:50:44.017028Z"
    },
    "papermill": {
     "duration": 0.022316,
     "end_time": "2025-05-11T06:50:44.019087",
     "exception": false,
     "start_time": "2025-05-11T06:50:43.996771",
     "status": "completed"
    },
    "tags": []
   },
   "outputs": [
    {
     "name": "stdout",
     "output_type": "stream",
     "text": [
      "<class 'pandas.core.frame.DataFrame'>\n",
      "Index: 64690 entries, 0 to 279711\n",
      "Data columns (total 5 columns):\n",
      " #   Column         Non-Null Count  Dtype         \n",
      "---  ------         --------------  -----         \n",
      " 0   host_since     64657 non-null  datetime64[ns]\n",
      " 1   neighbourhood  64690 non-null  object        \n",
      " 2   city           64690 non-null  object        \n",
      " 3   accommodates   64690 non-null  int64         \n",
      " 4   price          64690 non-null  int64         \n",
      "dtypes: datetime64[ns](1), int64(2), object(2)\n",
      "memory usage: 3.0+ MB\n"
     ]
    }
   ],
   "source": [
    "paris_listings.info()"
   ]
  },
  {
   "cell_type": "code",
   "execution_count": 17,
   "id": "437797ad",
   "metadata": {
    "execution": {
     "iopub.execute_input": "2025-05-11T06:50:44.034784Z",
     "iopub.status.busy": "2025-05-11T06:50:44.034564Z",
     "iopub.status.idle": "2025-05-11T06:50:44.041955Z",
     "shell.execute_reply": "2025-05-11T06:50:44.041322Z"
    },
    "papermill": {
     "duration": 0.01633,
     "end_time": "2025-05-11T06:50:44.043156",
     "exception": false,
     "start_time": "2025-05-11T06:50:44.026826",
     "status": "completed"
    },
    "tags": []
   },
   "outputs": [
    {
     "data": {
      "text/html": [
       "<div>\n",
       "<style scoped>\n",
       "    .dataframe tbody tr th:only-of-type {\n",
       "        vertical-align: middle;\n",
       "    }\n",
       "\n",
       "    .dataframe tbody tr th {\n",
       "        vertical-align: top;\n",
       "    }\n",
       "\n",
       "    .dataframe thead th {\n",
       "        text-align: right;\n",
       "    }\n",
       "</style>\n",
       "<table border=\"1\" class=\"dataframe\">\n",
       "  <thead>\n",
       "    <tr style=\"text-align: right;\">\n",
       "      <th></th>\n",
       "      <th>host_since</th>\n",
       "      <th>neighbourhood</th>\n",
       "      <th>city</th>\n",
       "      <th>accommodates</th>\n",
       "      <th>price</th>\n",
       "    </tr>\n",
       "  </thead>\n",
       "  <tbody>\n",
       "    <tr>\n",
       "      <th>0</th>\n",
       "      <td>2011-12-03</td>\n",
       "      <td>Buttes-Montmartre</td>\n",
       "      <td>Paris</td>\n",
       "      <td>2</td>\n",
       "      <td>53</td>\n",
       "    </tr>\n",
       "    <tr>\n",
       "      <th>1</th>\n",
       "      <td>2013-11-29</td>\n",
       "      <td>Buttes-Montmartre</td>\n",
       "      <td>Paris</td>\n",
       "      <td>2</td>\n",
       "      <td>120</td>\n",
       "    </tr>\n",
       "    <tr>\n",
       "      <th>2</th>\n",
       "      <td>2014-07-31</td>\n",
       "      <td>Elysee</td>\n",
       "      <td>Paris</td>\n",
       "      <td>2</td>\n",
       "      <td>89</td>\n",
       "    </tr>\n",
       "    <tr>\n",
       "      <th>3</th>\n",
       "      <td>2013-12-17</td>\n",
       "      <td>Vaugirard</td>\n",
       "      <td>Paris</td>\n",
       "      <td>2</td>\n",
       "      <td>58</td>\n",
       "    </tr>\n",
       "    <tr>\n",
       "      <th>4</th>\n",
       "      <td>2014-12-14</td>\n",
       "      <td>Passy</td>\n",
       "      <td>Paris</td>\n",
       "      <td>2</td>\n",
       "      <td>60</td>\n",
       "    </tr>\n",
       "  </tbody>\n",
       "</table>\n",
       "</div>"
      ],
      "text/plain": [
       "  host_since      neighbourhood   city  accommodates  price\n",
       "0 2011-12-03  Buttes-Montmartre  Paris             2     53\n",
       "1 2013-11-29  Buttes-Montmartre  Paris             2    120\n",
       "2 2014-07-31             Elysee  Paris             2     89\n",
       "3 2013-12-17          Vaugirard  Paris             2     58\n",
       "4 2014-12-14              Passy  Paris             2     60"
      ]
     },
     "execution_count": 17,
     "metadata": {},
     "output_type": "execute_result"
    }
   ],
   "source": [
    "paris_listings.head()"
   ]
  },
{
   "cell_type": "markdown",
   "id": "91f9308f",
   "metadata": {
    "papermill": {
     "duration": 0.010196,
     "end_time": "2025-02-10T03:28:17.548940",
     "exception": false,
     "start_time": "2025-02-10T03:28:17.538744",
     "status": "completed"
    },
    "tags": []
   },
   "source": [
    "<div style=\"background-color: #f88379; padding: 25px; border-radius: 10px;\">\n",
    "  <h1 style=\"color: #333;\"><strong>Paris City Data Analysis</strong></h1>\n",
    "</div>"
   ]
  },
  {
   "cell_type": "code",
   "execution_count": 18,
   "id": "55179788",
   "metadata": {
    "execution": {
     "iopub.execute_input": "2025-05-11T06:50:44.102313Z",
     "iopub.status.busy": "2025-05-11T06:50:44.101567Z",
     "iopub.status.idle": "2025-05-11T06:50:44.113639Z",
     "shell.execute_reply": "2025-05-11T06:50:44.113064Z"
    },
    "papermill": {
     "duration": 0.021321,
     "end_time": "2025-05-11T06:50:44.114739",
     "exception": false,
     "start_time": "2025-05-11T06:50:44.093418",
     "status": "completed"
    },
    "tags": []
   },
   "outputs": [
    {
     "data": {
      "text/plain": [
       "host_since       33\n",
       "neighbourhood     0\n",
       "city              0\n",
       "accommodates      0\n",
       "price             0\n",
       "dtype: int64"
      ]
     },
     "execution_count": 18,
     "metadata": {},
     "output_type": "execute_result"
    }
   ],
   "source": [
    "paris_listings.isna().sum()"
   ]
  },
  {
   "cell_type": "raw",
   "id": "453f549c",
   "metadata": {
    "papermill": {
     "duration": 0.007244,
     "end_time": "2025-05-11T06:50:44.129528",
     "exception": false,
     "start_time": "2025-05-11T06:50:44.122284",
     "status": "completed"
    },
    "tags": []
   },
   "source": [
    "paris_listings.dropna()"
   ]
  },
  {
   "cell_type": "code",
   "execution_count": 19,
   "id": "04f2fcac",
   "metadata": {
    "execution": {
     "iopub.execute_input": "2025-05-11T06:50:44.145426Z",
     "iopub.status.busy": "2025-05-11T06:50:44.145209Z",
     "iopub.status.idle": "2025-05-11T06:50:44.156483Z",
     "shell.execute_reply": "2025-05-11T06:50:44.155980Z"
    },
    "papermill": {
     "duration": 0.020582,
     "end_time": "2025-05-11T06:50:44.157532",
     "exception": false,
     "start_time": "2025-05-11T06:50:44.136950",
     "status": "completed"
    },
    "tags": []
   },
   "outputs": [],
   "source": [
    "paris_listings.dropna(how = \"any\",inplace = True)"
   ]
  },
  {
   "cell_type": "raw",
   "id": "4f73b0d5",
   "metadata": {
    "papermill": {
     "duration": 0.00735,
     "end_time": "2025-05-11T06:50:44.172222",
     "exception": false,
     "start_time": "2025-05-11T06:50:44.164872",
     "status": "completed"
    },
    "tags": []
   },
   "source": [
    "paris_listings.info()"
   ]
  },
{
   "cell_type": "markdown",
   "id": "1d591ed9",
   "metadata": {
    "papermill": {
     "duration": 0.009831,
     "end_time": "2025-02-10T03:28:17.765332",
     "exception": false,
     "start_time": "2025-02-10T03:28:17.755501",
     "status": "completed"
    },
    "tags": []
   },
   "source": [
    "<div style=\"background-color: #f88379; padding: 25px; border-radius: 10px;\">\n",
    "  <h1 style=\"color: #333;\"><strong>Checking if there are missing values in the dataset</strong></h1>\n",
    "</div>"
   ]
  },
  {
   "cell_type": "code",
   "execution_count": 20,
   "id": "0f1c8168",
   "metadata": {
    "execution": {
     "iopub.execute_input": "2025-05-11T06:50:44.187621Z",
     "iopub.status.busy": "2025-05-11T06:50:44.187450Z",
     "iopub.status.idle": "2025-05-11T06:50:44.201195Z",
     "shell.execute_reply": "2025-05-11T06:50:44.200386Z"
    },
    "papermill": {
     "duration": 0.022837,
     "end_time": "2025-05-11T06:50:44.202332",
     "exception": false,
     "start_time": "2025-05-11T06:50:44.179495",
     "status": "completed"
    },
    "tags": []
   },
   "outputs": [
    {
     "name": "stdout",
     "output_type": "stream",
     "text": [
      "<class 'pandas.core.frame.DataFrame'>\n",
      "Index: 64657 entries, 0 to 279711\n",
      "Data columns (total 5 columns):\n",
      " #   Column         Non-Null Count  Dtype         \n",
      "---  ------         --------------  -----         \n",
      " 0   host_since     64657 non-null  datetime64[ns]\n",
      " 1   neighbourhood  64657 non-null  object        \n",
      " 2   city           64657 non-null  object        \n",
      " 3   accommodates   64657 non-null  int64         \n",
      " 4   price          64657 non-null  int64         \n",
      "dtypes: datetime64[ns](1), int64(2), object(2)\n",
      "memory usage: 3.0+ MB\n"
     ]
    }
   ],
   "source": [
    "paris_listings.info()"
   ]
  },
  {
   "cell_type": "code",
   "execution_count": 21,
   "id": "92f39149",
   "metadata": {
    "execution": {
     "iopub.execute_input": "2025-05-11T06:50:44.217979Z",
     "iopub.status.busy": "2025-05-11T06:50:44.217781Z",
     "iopub.status.idle": "2025-05-11T06:50:44.240012Z",
     "shell.execute_reply": "2025-05-11T06:50:44.239290Z"
    },
    "papermill": {
     "duration": 0.031348,
     "end_time": "2025-05-11T06:50:44.241102",
     "exception": false,
     "start_time": "2025-05-11T06:50:44.209754",
     "status": "completed"
    },
    "tags": []
   },
   "outputs": [
    {
     "data": {
      "text/html": [
       "<div>\n",
       "<style scoped>\n",
       "    .dataframe tbody tr th:only-of-type {\n",
       "        vertical-align: middle;\n",
       "    }\n",
       "\n",
       "    .dataframe tbody tr th {\n",
       "        vertical-align: top;\n",
       "    }\n",
       "\n",
       "    .dataframe thead th {\n",
       "        text-align: right;\n",
       "    }\n",
       "</style>\n",
       "<table border=\"1\" class=\"dataframe\">\n",
       "  <thead>\n",
       "    <tr style=\"text-align: right;\">\n",
       "      <th></th>\n",
       "      <th>host_since</th>\n",
       "      <th>accommodates</th>\n",
       "      <th>price</th>\n",
       "    </tr>\n",
       "  </thead>\n",
       "  <tbody>\n",
       "    <tr>\n",
       "      <th>count</th>\n",
       "      <td>64657</td>\n",
       "      <td>64657.000000</td>\n",
       "      <td>64657.000000</td>\n",
       "    </tr>\n",
       "    <tr>\n",
       "      <th>mean</th>\n",
       "      <td>2015-11-01 11:06:05.528867584</td>\n",
       "      <td>3.037877</td>\n",
       "      <td>113.104614</td>\n",
       "    </tr>\n",
       "    <tr>\n",
       "      <th>min</th>\n",
       "      <td>2008-08-30 00:00:00</td>\n",
       "      <td>0.000000</td>\n",
       "      <td>0.000000</td>\n",
       "    </tr>\n",
       "    <tr>\n",
       "      <th>25%</th>\n",
       "      <td>2014-03-09 00:00:00</td>\n",
       "      <td>2.000000</td>\n",
       "      <td>59.000000</td>\n",
       "    </tr>\n",
       "    <tr>\n",
       "      <th>50%</th>\n",
       "      <td>2015-07-07 00:00:00</td>\n",
       "      <td>2.000000</td>\n",
       "      <td>80.000000</td>\n",
       "    </tr>\n",
       "    <tr>\n",
       "      <th>75%</th>\n",
       "      <td>2017-05-29 00:00:00</td>\n",
       "      <td>4.000000</td>\n",
       "      <td>120.000000</td>\n",
       "    </tr>\n",
       "    <tr>\n",
       "      <th>max</th>\n",
       "      <td>2021-02-07 00:00:00</td>\n",
       "      <td>16.000000</td>\n",
       "      <td>12000.000000</td>\n",
       "    </tr>\n",
       "    <tr>\n",
       "      <th>std</th>\n",
       "      <td>NaN</td>\n",
       "      <td>1.588382</td>\n",
       "      <td>214.479626</td>\n",
       "    </tr>\n",
       "  </tbody>\n",
       "</table>\n",
       "</div>"
      ],
      "text/plain": [
       "                          host_since  accommodates         price\n",
       "count                          64657  64657.000000  64657.000000\n",
       "mean   2015-11-01 11:06:05.528867584      3.037877    113.104614\n",
       "min              2008-08-30 00:00:00      0.000000      0.000000\n",
       "25%              2014-03-09 00:00:00      2.000000     59.000000\n",
       "50%              2015-07-07 00:00:00      2.000000     80.000000\n",
       "75%              2017-05-29 00:00:00      4.000000    120.000000\n",
       "max              2021-02-07 00:00:00     16.000000  12000.000000\n",
       "std                              NaN      1.588382    214.479626"
      ]
     },
     "execution_count": 21,
     "metadata": {},
     "output_type": "execute_result"
    }
   ],
   "source": [
    "paris_listings.describe()"
   ]
  },
  {
   "cell_type": "code",
   "execution_count": 22,
   "id": "1372aea4",
   "metadata": {
    "execution": {
     "iopub.execute_input": "2025-05-11T06:50:44.257811Z",
     "iopub.status.busy": "2025-05-11T06:50:44.257616Z",
     "iopub.status.idle": "2025-05-11T06:50:44.278716Z",
     "shell.execute_reply": "2025-05-11T06:50:44.278074Z"
    },
    "papermill": {
     "duration": 0.030475,
     "end_time": "2025-05-11T06:50:44.279772",
     "exception": false,
     "start_time": "2025-05-11T06:50:44.249297",
     "status": "completed"
    },
    "tags": []
   },
   "outputs": [
    {
     "data": {
      "text/html": [
       "<div>\n",
       "<style scoped>\n",
       "    .dataframe tbody tr th:only-of-type {\n",
       "        vertical-align: middle;\n",
       "    }\n",
       "\n",
       "    .dataframe tbody tr th {\n",
       "        vertical-align: top;\n",
       "    }\n",
       "\n",
       "    .dataframe thead th {\n",
       "        text-align: right;\n",
       "    }\n",
       "</style>\n",
       "<table border=\"1\" class=\"dataframe\">\n",
       "  <thead>\n",
       "    <tr style=\"text-align: right;\">\n",
       "      <th></th>\n",
       "      <th>neighbourhood</th>\n",
       "      <th>city</th>\n",
       "    </tr>\n",
       "  </thead>\n",
       "  <tbody>\n",
       "    <tr>\n",
       "      <th>count</th>\n",
       "      <td>64657</td>\n",
       "      <td>64657</td>\n",
       "    </tr>\n",
       "    <tr>\n",
       "      <th>unique</th>\n",
       "      <td>20</td>\n",
       "      <td>1</td>\n",
       "    </tr>\n",
       "    <tr>\n",
       "      <th>top</th>\n",
       "      <td>Buttes-Montmartre</td>\n",
       "      <td>Paris</td>\n",
       "    </tr>\n",
       "    <tr>\n",
       "      <th>freq</th>\n",
       "      <td>7232</td>\n",
       "      <td>64657</td>\n",
       "    </tr>\n",
       "  </tbody>\n",
       "</table>\n",
       "</div>"
      ],
      "text/plain": [
       "            neighbourhood   city\n",
       "count               64657  64657\n",
       "unique                 20      1\n",
       "top     Buttes-Montmartre  Paris\n",
       "freq                 7232  64657"
      ]
     },
     "execution_count": 22,
     "metadata": {},
     "output_type": "execute_result"
    }
   ],
   "source": [
    "paris_listings.describe(include =\"object\")"
   ]
  },
  {
   "cell_type": "code",
   "execution_count": 23,
   "id": "096709b5",
   "metadata": {
    "execution": {
     "iopub.execute_input": "2025-05-11T06:50:44.296831Z",
     "iopub.status.busy": "2025-05-11T06:50:44.296373Z",
     "iopub.status.idle": "2025-05-11T06:50:44.303443Z",
     "shell.execute_reply": "2025-05-11T06:50:44.302657Z"
    },
    "papermill": {
     "duration": 0.017102,
     "end_time": "2025-05-11T06:50:44.304702",
     "exception": false,
     "start_time": "2025-05-11T06:50:44.287600",
     "status": "completed"
    },
    "tags": []
   },
   "outputs": [
    {
     "data": {
      "text/plain": [
       "host_since       54\n",
       "neighbourhood    54\n",
       "city             54\n",
       "accommodates     54\n",
       "price            54\n",
       "dtype: int64"
      ]
     },
     "execution_count": 23,
     "metadata": {},
     "output_type": "execute_result"
    }
   ],
   "source": [
    "paris_listings[paris_listings[\"accommodates\"] == 0].count(axis=0)"
   ]
  },
  {
   "cell_type": "code",
   "execution_count": 24,
   "id": "e15f1bf3",
   "metadata": {
    "execution": {
     "iopub.execute_input": "2025-05-11T06:50:44.321663Z",
     "iopub.status.busy": "2025-05-11T06:50:44.321474Z",
     "iopub.status.idle": "2025-05-11T06:50:44.328209Z",
     "shell.execute_reply": "2025-05-11T06:50:44.327345Z"
    },
    "papermill": {
     "duration": 0.016231,
     "end_time": "2025-05-11T06:50:44.329357",
     "exception": false,
     "start_time": "2025-05-11T06:50:44.313126",
     "status": "completed"
    },
    "tags": []
   },
   "outputs": [
    {
     "data": {
      "text/plain": [
       "host_since       62\n",
       "neighbourhood    62\n",
       "city             62\n",
       "accommodates     62\n",
       "price            62\n",
       "dtype: int64"
      ]
     },
     "execution_count": 24,
     "metadata": {},
     "output_type": "execute_result"
    }
   ],
   "source": [
    "paris_listings[paris_listings[\"price\"] == 0].count(axis=0)"
   ]
  },
  {
   "cell_type": "code",
   "execution_count": 25,
   "id": "b636f7f8",
   "metadata": {
    "execution": {
     "iopub.execute_input": "2025-05-11T06:50:44.345978Z",
     "iopub.status.busy": "2025-05-11T06:50:44.345780Z",
     "iopub.status.idle": "2025-05-11T06:50:44.354914Z",
     "shell.execute_reply": "2025-05-11T06:50:44.354355Z"
    },
    "papermill": {
     "duration": 0.01858,
     "end_time": "2025-05-11T06:50:44.355889",
     "exception": false,
     "start_time": "2025-05-11T06:50:44.337309",
     "status": "completed"
    },
    "tags": []
   },
   "outputs": [
    {
     "data": {
      "text/html": [
       "<div>\n",
       "<style scoped>\n",
       "    .dataframe tbody tr th:only-of-type {\n",
       "        vertical-align: middle;\n",
       "    }\n",
       "\n",
       "    .dataframe tbody tr th {\n",
       "        vertical-align: top;\n",
       "    }\n",
       "\n",
       "    .dataframe thead th {\n",
       "        text-align: right;\n",
       "    }\n",
       "</style>\n",
       "<table border=\"1\" class=\"dataframe\">\n",
       "  <thead>\n",
       "    <tr style=\"text-align: right;\">\n",
       "      <th></th>\n",
       "      <th>host_since</th>\n",
       "      <th>neighbourhood</th>\n",
       "      <th>city</th>\n",
       "      <th>accommodates</th>\n",
       "      <th>price</th>\n",
       "    </tr>\n",
       "  </thead>\n",
       "  <tbody>\n",
       "    <tr>\n",
       "      <th>207075</th>\n",
       "      <td>2019-07-22</td>\n",
       "      <td>Vaugirard</td>\n",
       "      <td>Paris</td>\n",
       "      <td>2</td>\n",
       "      <td>0</td>\n",
       "    </tr>\n",
       "    <tr>\n",
       "      <th>207076</th>\n",
       "      <td>2019-10-31</td>\n",
       "      <td>Enclos-St-Laurent</td>\n",
       "      <td>Paris</td>\n",
       "      <td>2</td>\n",
       "      <td>0</td>\n",
       "    </tr>\n",
       "    <tr>\n",
       "      <th>208301</th>\n",
       "      <td>2019-05-27</td>\n",
       "      <td>Palais-Bourbon</td>\n",
       "      <td>Paris</td>\n",
       "      <td>2</td>\n",
       "      <td>0</td>\n",
       "    </tr>\n",
       "    <tr>\n",
       "      <th>208302</th>\n",
       "      <td>2019-07-19</td>\n",
       "      <td>Pantheon</td>\n",
       "      <td>Paris</td>\n",
       "      <td>3</td>\n",
       "      <td>0</td>\n",
       "    </tr>\n",
       "    <tr>\n",
       "      <th>208854</th>\n",
       "      <td>2016-09-16</td>\n",
       "      <td>Louvre</td>\n",
       "      <td>Paris</td>\n",
       "      <td>3</td>\n",
       "      <td>0</td>\n",
       "    </tr>\n",
       "    <tr>\n",
       "      <th>208855</th>\n",
       "      <td>2019-11-06</td>\n",
       "      <td>Luxembourg</td>\n",
       "      <td>Paris</td>\n",
       "      <td>3</td>\n",
       "      <td>0</td>\n",
       "    </tr>\n",
       "    <tr>\n",
       "      <th>208856</th>\n",
       "      <td>2019-12-02</td>\n",
       "      <td>Elysee</td>\n",
       "      <td>Paris</td>\n",
       "      <td>3</td>\n",
       "      <td>0</td>\n",
       "    </tr>\n",
       "    <tr>\n",
       "      <th>208857</th>\n",
       "      <td>2019-12-17</td>\n",
       "      <td>Opera</td>\n",
       "      <td>Paris</td>\n",
       "      <td>2</td>\n",
       "      <td>0</td>\n",
       "    </tr>\n",
       "  </tbody>\n",
       "</table>\n",
       "</div>"
      ],
      "text/plain": [
       "       host_since      neighbourhood   city  accommodates  price\n",
       "207075 2019-07-22          Vaugirard  Paris             2      0\n",
       "207076 2019-10-31  Enclos-St-Laurent  Paris             2      0\n",
       "208301 2019-05-27     Palais-Bourbon  Paris             2      0\n",
       "208302 2019-07-19           Pantheon  Paris             3      0\n",
       "208854 2016-09-16             Louvre  Paris             3      0\n",
       "208855 2019-11-06         Luxembourg  Paris             3      0\n",
       "208856 2019-12-02             Elysee  Paris             3      0\n",
       "208857 2019-12-17              Opera  Paris             2      0"
      ]
     },
     "execution_count": 25,
     "metadata": {},
     "output_type": "execute_result"
    }
   ],
   "source": [
    "paris_listings[(paris_listings[\"accommodates\"] != 0) & (paris_listings[\"price\"] == 0)]"
   ]
  },
  {
   "cell_type": "code",
   "execution_count": 26,
   "id": "dc2d47c6",
   "metadata": {
    "execution": {
     "iopub.execute_input": "2025-05-11T06:50:44.372680Z",
     "iopub.status.busy": "2025-05-11T06:50:44.372480Z",
     "iopub.status.idle": "2025-05-11T06:50:44.377889Z",
     "shell.execute_reply": "2025-05-11T06:50:44.377398Z"
    },
    "papermill": {
     "duration": 0.014837,
     "end_time": "2025-05-11T06:50:44.378857",
     "exception": false,
     "start_time": "2025-05-11T06:50:44.364020",
     "status": "completed"
    },
    "tags": []
   },
   "outputs": [],
   "source": [
    "paris_listings = paris_listings[paris_listings[\"price\"] != 0]"
   ]
  },
  {
   "cell_type": "code",
   "execution_count": 27,
   "id": "714fa6ae",
   "metadata": {
    "execution": {
     "iopub.execute_input": "2025-05-11T06:50:44.395874Z",
     "iopub.status.busy": "2025-05-11T06:50:44.395675Z",
     "iopub.status.idle": "2025-05-11T06:50:44.409468Z",
     "shell.execute_reply": "2025-05-11T06:50:44.408748Z"
    },
    "papermill": {
     "duration": 0.023578,
     "end_time": "2025-05-11T06:50:44.410589",
     "exception": false,
     "start_time": "2025-05-11T06:50:44.387011",
     "status": "completed"
    },
    "tags": []
   },
   "outputs": [
    {
     "name": "stdout",
     "output_type": "stream",
     "text": [
      "<class 'pandas.core.frame.DataFrame'>\n",
      "Index: 64595 entries, 0 to 279711\n",
      "Data columns (total 5 columns):\n",
      " #   Column         Non-Null Count  Dtype         \n",
      "---  ------         --------------  -----         \n",
      " 0   host_since     64595 non-null  datetime64[ns]\n",
      " 1   neighbourhood  64595 non-null  object        \n",
      " 2   city           64595 non-null  object        \n",
      " 3   accommodates   64595 non-null  int64         \n",
      " 4   price          64595 non-null  int64         \n",
      "dtypes: datetime64[ns](1), int64(2), object(2)\n",
      "memory usage: 3.0+ MB\n"
     ]
    }
   ],
   "source": [
    "paris_listings.info()"
   ]
  },
  {
   "cell_type": "code",
   "execution_count": 28,
   "id": "d45d6e83",
   "metadata": {
    "execution": {
     "iopub.execute_input": "2025-05-11T06:50:44.428647Z",
     "iopub.status.busy": "2025-05-11T06:50:44.428460Z",
     "iopub.status.idle": "2025-05-11T06:50:44.435749Z",
     "shell.execute_reply": "2025-05-11T06:50:44.435032Z"
    },
    "papermill": {
     "duration": 0.017335,
     "end_time": "2025-05-11T06:50:44.436737",
     "exception": false,
     "start_time": "2025-05-11T06:50:44.419402",
     "status": "completed"
    },
    "tags": []
   },
   "outputs": [
    {
     "data": {
      "text/html": [
       "<div>\n",
       "<style scoped>\n",
       "    .dataframe tbody tr th:only-of-type {\n",
       "        vertical-align: middle;\n",
       "    }\n",
       "\n",
       "    .dataframe tbody tr th {\n",
       "        vertical-align: top;\n",
       "    }\n",
       "\n",
       "    .dataframe thead th {\n",
       "        text-align: right;\n",
       "    }\n",
       "</style>\n",
       "<table border=\"1\" class=\"dataframe\">\n",
       "  <thead>\n",
       "    <tr style=\"text-align: right;\">\n",
       "      <th></th>\n",
       "      <th>host_since</th>\n",
       "      <th>neighbourhood</th>\n",
       "      <th>city</th>\n",
       "      <th>accommodates</th>\n",
       "      <th>price</th>\n",
       "    </tr>\n",
       "  </thead>\n",
       "  <tbody>\n",
       "    <tr>\n",
       "      <th>0</th>\n",
       "      <td>2011-12-03</td>\n",
       "      <td>Buttes-Montmartre</td>\n",
       "      <td>Paris</td>\n",
       "      <td>2</td>\n",
       "      <td>53</td>\n",
       "    </tr>\n",
       "    <tr>\n",
       "      <th>1</th>\n",
       "      <td>2013-11-29</td>\n",
       "      <td>Buttes-Montmartre</td>\n",
       "      <td>Paris</td>\n",
       "      <td>2</td>\n",
       "      <td>120</td>\n",
       "    </tr>\n",
       "    <tr>\n",
       "      <th>2</th>\n",
       "      <td>2014-07-31</td>\n",
       "      <td>Elysee</td>\n",
       "      <td>Paris</td>\n",
       "      <td>2</td>\n",
       "      <td>89</td>\n",
       "    </tr>\n",
       "    <tr>\n",
       "      <th>3</th>\n",
       "      <td>2013-12-17</td>\n",
       "      <td>Vaugirard</td>\n",
       "      <td>Paris</td>\n",
       "      <td>2</td>\n",
       "      <td>58</td>\n",
       "    </tr>\n",
       "    <tr>\n",
       "      <th>4</th>\n",
       "      <td>2014-12-14</td>\n",
       "      <td>Passy</td>\n",
       "      <td>Paris</td>\n",
       "      <td>2</td>\n",
       "      <td>60</td>\n",
       "    </tr>\n",
       "  </tbody>\n",
       "</table>\n",
       "</div>"
      ],
      "text/plain": [
       "  host_since      neighbourhood   city  accommodates  price\n",
       "0 2011-12-03  Buttes-Montmartre  Paris             2     53\n",
       "1 2013-11-29  Buttes-Montmartre  Paris             2    120\n",
       "2 2014-07-31             Elysee  Paris             2     89\n",
       "3 2013-12-17          Vaugirard  Paris             2     58\n",
       "4 2014-12-14              Passy  Paris             2     60"
      ]
     },
     "execution_count": 28,
     "metadata": {},
     "output_type": "execute_result"
    }
   ],
   "source": [
    "paris_listings.head()"
   ]
  },
 {
   "cell_type": "markdown",
   "id": "a93e9954",
   "metadata": {
    "papermill": {
     "duration": 0.010842,
     "end_time": "2025-02-10T03:28:18.160031",
     "exception": false,
     "start_time": "2025-02-10T03:28:18.149189",
     "status": "completed"
    },
    "tags": []
   },
   "source": [
    "<div style=\"background-color: #f88379; padding: 25px; border-radius: 10px;\">\n",
    "  <h1 style=\"color: #333;\"><strong>Finding average Price of AirBnB in Paris as per Localities</strong></h1>\n",
    "</div>"
   ]
  },
  {
   "cell_type": "code",
   "execution_count": 29,
   "id": "5f683057",
   "metadata": {
    "execution": {
     "iopub.execute_input": "2025-05-11T06:50:44.453373Z",
     "iopub.status.busy": "2025-05-11T06:50:44.453161Z",
     "iopub.status.idle": "2025-05-11T06:50:44.463882Z",
     "shell.execute_reply": "2025-05-11T06:50:44.463214Z"
    },
    "papermill": {
     "duration": 0.020331,
     "end_time": "2025-05-11T06:50:44.465083",
     "exception": false,
     "start_time": "2025-05-11T06:50:44.444752",
     "status": "completed"
    },
    "tags": []
   },
   "outputs": [],
   "source": [
    "paris_listings_neighbourhood = paris_listings.groupby(\"neighbourhood\").agg({\"price\":\"mean\"}).sort_values(\"price\",ascending = False)"
   ]
  },
  {
   "cell_type": "code",
   "execution_count": 30,
   "id": "c4522c1c",
   "metadata": {
    "execution": {
     "iopub.execute_input": "2025-05-11T06:50:44.482078Z",
     "iopub.status.busy": "2025-05-11T06:50:44.481719Z",
     "iopub.status.idle": "2025-05-11T06:50:44.487788Z",
     "shell.execute_reply": "2025-05-11T06:50:44.487134Z"
    },
    "papermill": {
     "duration": 0.015733,
     "end_time": "2025-05-11T06:50:44.488869",
     "exception": false,
     "start_time": "2025-05-11T06:50:44.473136",
     "status": "completed"
    },
    "tags": []
   },
   "outputs": [
    {
     "data": {
      "text/html": [
       "<div>\n",
       "<style scoped>\n",
       "    .dataframe tbody tr th:only-of-type {\n",
       "        vertical-align: middle;\n",
       "    }\n",
       "\n",
       "    .dataframe tbody tr th {\n",
       "        vertical-align: top;\n",
       "    }\n",
       "\n",
       "    .dataframe thead th {\n",
       "        text-align: right;\n",
       "    }\n",
       "</style>\n",
       "<table border=\"1\" class=\"dataframe\">\n",
       "  <thead>\n",
       "    <tr style=\"text-align: right;\">\n",
       "      <th></th>\n",
       "      <th>price</th>\n",
       "    </tr>\n",
       "    <tr>\n",
       "      <th>neighbourhood</th>\n",
       "      <th></th>\n",
       "    </tr>\n",
       "  </thead>\n",
       "  <tbody>\n",
       "    <tr>\n",
       "      <th>Elysee</th>\n",
       "      <td>211.373651</td>\n",
       "    </tr>\n",
       "    <tr>\n",
       "      <th>Louvre</th>\n",
       "      <td>175.754448</td>\n",
       "    </tr>\n",
       "    <tr>\n",
       "      <th>Passy</th>\n",
       "      <td>161.290875</td>\n",
       "    </tr>\n",
       "    <tr>\n",
       "      <th>Palais-Bourbon</th>\n",
       "      <td>157.514464</td>\n",
       "    </tr>\n",
       "    <tr>\n",
       "      <th>Luxembourg</th>\n",
       "      <td>155.794589</td>\n",
       "    </tr>\n",
       "    <tr>\n",
       "      <th>Bourse</th>\n",
       "      <td>149.633577</td>\n",
       "    </tr>\n",
       "    <tr>\n",
       "      <th>Hotel-de-Ville</th>\n",
       "      <td>144.515228</td>\n",
       "    </tr>\n",
       "    <tr>\n",
       "      <th>Temple</th>\n",
       "      <td>138.429300</td>\n",
       "    </tr>\n",
       "    <tr>\n",
       "      <th>Pantheon</th>\n",
       "      <td>122.983599</td>\n",
       "    </tr>\n",
       "    <tr>\n",
       "      <th>Opera</th>\n",
       "      <td>119.201841</td>\n",
       "    </tr>\n",
       "    <tr>\n",
       "      <th>Vaugirard</th>\n",
       "      <td>107.086207</td>\n",
       "    </tr>\n",
       "    <tr>\n",
       "      <th>Enclos-St-Laurent</th>\n",
       "      <td>103.122590</td>\n",
       "    </tr>\n",
       "    <tr>\n",
       "      <th>Batignolles-Monceau</th>\n",
       "      <td>102.686778</td>\n",
       "    </tr>\n",
       "    <tr>\n",
       "      <th>Observatoire</th>\n",
       "      <td>101.996775</td>\n",
       "    </tr>\n",
       "    <tr>\n",
       "      <th>Gobelins</th>\n",
       "      <td>98.110184</td>\n",
       "    </tr>\n",
       "    <tr>\n",
       "      <th>Popincourt</th>\n",
       "      <td>90.548168</td>\n",
       "    </tr>\n",
       "    <tr>\n",
       "      <th>Reuilly</th>\n",
       "      <td>89.125566</td>\n",
       "    </tr>\n",
       "    <tr>\n",
       "      <th>Buttes-Montmartre</th>\n",
       "      <td>87.246196</td>\n",
       "    </tr>\n",
       "    <tr>\n",
       "      <th>Buttes-Chaumont</th>\n",
       "      <td>82.690182</td>\n",
       "    </tr>\n",
       "    <tr>\n",
       "      <th>Menilmontant</th>\n",
       "      <td>74.931521</td>\n",
       "    </tr>\n",
       "  </tbody>\n",
       "</table>\n",
       "</div>"
      ],
      "text/plain": [
       "                          price\n",
       "neighbourhood                  \n",
       "Elysee               211.373651\n",
       "Louvre               175.754448\n",
       "Passy                161.290875\n",
       "Palais-Bourbon       157.514464\n",
       "Luxembourg           155.794589\n",
       "Bourse               149.633577\n",
       "Hotel-de-Ville       144.515228\n",
       "Temple               138.429300\n",
       "Pantheon             122.983599\n",
       "Opera                119.201841\n",
       "Vaugirard            107.086207\n",
       "Enclos-St-Laurent    103.122590\n",
       "Batignolles-Monceau  102.686778\n",
       "Observatoire         101.996775\n",
       "Gobelins              98.110184\n",
       "Popincourt            90.548168\n",
       "Reuilly               89.125566\n",
       "Buttes-Montmartre     87.246196\n",
       "Buttes-Chaumont       82.690182\n",
       "Menilmontant          74.931521"
      ]
     },
     "execution_count": 30,
     "metadata": {},
     "output_type": "execute_result"
    }
   ],
   "source": [
    "paris_listings_neighbourhood"
   ]
  },
  {
   "cell_type": "code",
   "execution_count": 31,
   "id": "14d07c64",
   "metadata": {
    "execution": {
     "iopub.execute_input": "2025-05-11T06:50:44.506469Z",
     "iopub.status.busy": "2025-05-11T06:50:44.506281Z",
     "iopub.status.idle": "2025-05-11T06:50:44.511840Z",
     "shell.execute_reply": "2025-05-11T06:50:44.511370Z"
    },
    "papermill": {
     "duration": 0.015807,
     "end_time": "2025-05-11T06:50:44.512877",
     "exception": false,
     "start_time": "2025-05-11T06:50:44.497070",
     "status": "completed"
    },
    "tags": []
   },
   "outputs": [],
   "source": [
    "paris_listings_accommodates = paris_listings.groupby(\"accommodates\").agg({\"price\":\"mean\"}).sort_values(\"price\",ascending = False)"
   ]
  },
  {
   "cell_type": "code",
   "execution_count": 32,
   "id": "0612d6ba",
   "metadata": {
    "execution": {
     "iopub.execute_input": "2025-05-11T06:50:44.530752Z",
     "iopub.status.busy": "2025-05-11T06:50:44.530173Z",
     "iopub.status.idle": "2025-05-11T06:50:44.536253Z",
     "shell.execute_reply": "2025-05-11T06:50:44.535611Z"
    },
    "papermill": {
     "duration": 0.016321,
     "end_time": "2025-05-11T06:50:44.537495",
     "exception": false,
     "start_time": "2025-05-11T06:50:44.521174",
     "status": "completed"
    },
    "tags": []
   },
   "outputs": [
    {
     "data": {
      "text/html": [
       "<div>\n",
       "<style scoped>\n",
       "    .dataframe tbody tr th:only-of-type {\n",
       "        vertical-align: middle;\n",
       "    }\n",
       "\n",
       "    .dataframe tbody tr th {\n",
       "        vertical-align: top;\n",
       "    }\n",
       "\n",
       "    .dataframe thead th {\n",
       "        text-align: right;\n",
       "    }\n",
       "</style>\n",
       "<table border=\"1\" class=\"dataframe\">\n",
       "  <thead>\n",
       "    <tr style=\"text-align: right;\">\n",
       "      <th></th>\n",
       "      <th>price</th>\n",
       "    </tr>\n",
       "    <tr>\n",
       "      <th>accommodates</th>\n",
       "      <th></th>\n",
       "    </tr>\n",
       "  </thead>\n",
       "  <tbody>\n",
       "    <tr>\n",
       "      <th>15</th>\n",
       "      <td>928.416667</td>\n",
       "    </tr>\n",
       "    <tr>\n",
       "      <th>12</th>\n",
       "      <td>821.434211</td>\n",
       "    </tr>\n",
       "    <tr>\n",
       "      <th>13</th>\n",
       "      <td>704.578947</td>\n",
       "    </tr>\n",
       "    <tr>\n",
       "      <th>14</th>\n",
       "      <td>699.230769</td>\n",
       "    </tr>\n",
       "    <tr>\n",
       "      <th>11</th>\n",
       "      <td>680.911765</td>\n",
       "    </tr>\n",
       "    <tr>\n",
       "      <th>16</th>\n",
       "      <td>677.060606</td>\n",
       "    </tr>\n",
       "    <tr>\n",
       "      <th>10</th>\n",
       "      <td>585.756219</td>\n",
       "    </tr>\n",
       "    <tr>\n",
       "      <th>9</th>\n",
       "      <td>381.900000</td>\n",
       "    </tr>\n",
       "    <tr>\n",
       "      <th>8</th>\n",
       "      <td>325.022440</td>\n",
       "    </tr>\n",
       "    <tr>\n",
       "      <th>7</th>\n",
       "      <td>261.065957</td>\n",
       "    </tr>\n",
       "    <tr>\n",
       "      <th>6</th>\n",
       "      <td>217.193198</td>\n",
       "    </tr>\n",
       "    <tr>\n",
       "      <th>5</th>\n",
       "      <td>165.191455</td>\n",
       "    </tr>\n",
       "    <tr>\n",
       "      <th>4</th>\n",
       "      <td>125.997595</td>\n",
       "    </tr>\n",
       "    <tr>\n",
       "      <th>3</th>\n",
       "      <td>98.295913</td>\n",
       "    </tr>\n",
       "    <tr>\n",
       "      <th>2</th>\n",
       "      <td>84.093921</td>\n",
       "    </tr>\n",
       "    <tr>\n",
       "      <th>1</th>\n",
       "      <td>64.847055</td>\n",
       "    </tr>\n",
       "  </tbody>\n",
       "</table>\n",
       "</div>"
      ],
      "text/plain": [
       "                   price\n",
       "accommodates            \n",
       "15            928.416667\n",
       "12            821.434211\n",
       "13            704.578947\n",
       "14            699.230769\n",
       "11            680.911765\n",
       "16            677.060606\n",
       "10            585.756219\n",
       "9             381.900000\n",
       "8             325.022440\n",
       "7             261.065957\n",
       "6             217.193198\n",
       "5             165.191455\n",
       "4             125.997595\n",
       "3              98.295913\n",
       "2              84.093921\n",
       "1              64.847055"
      ]
     },
     "execution_count": 32,
     "metadata": {},
     "output_type": "execute_result"
    }
   ],
   "source": [
    "paris_listings_accommodates"
   ]
  },
  {
   "cell_type": "code",
   "execution_count": 33,
   "id": "b9fac2e3",
   "metadata": {
    "execution": {
     "iopub.execute_input": "2025-05-11T06:50:44.554466Z",
     "iopub.status.busy": "2025-05-11T06:50:44.554271Z",
     "iopub.status.idle": "2025-05-11T06:50:44.563050Z",
     "shell.execute_reply": "2025-05-11T06:50:44.562331Z"
    },
    "papermill": {
     "duration": 0.018514,
     "end_time": "2025-05-11T06:50:44.564229",
     "exception": false,
     "start_time": "2025-05-11T06:50:44.545715",
     "status": "completed"
    },
    "tags": []
   },
   "outputs": [],
   "source": [
    "elysee_listings_accommodates = paris_listings.query(\"neighbourhood == 'Elysee'\").groupby(\"accommodates\").agg({\"price\":\"mean\"}).sort_values(\"price\",ascending = False)"
   ]
  },
  {
   "cell_type": "code",
   "execution_count": 34,
   "id": "0412a877",
   "metadata": {
    "execution": {
     "iopub.execute_input": "2025-05-11T06:50:44.581204Z",
     "iopub.status.busy": "2025-05-11T06:50:44.580979Z",
     "iopub.status.idle": "2025-05-11T06:50:44.587230Z",
     "shell.execute_reply": "2025-05-11T06:50:44.586524Z"
    },
    "papermill": {
     "duration": 0.015965,
     "end_time": "2025-05-11T06:50:44.588345",
     "exception": false,
     "start_time": "2025-05-11T06:50:44.572380",
     "status": "completed"
    },
    "tags": []
   },
   "outputs": [
    {
     "data": {
      "text/html": [
       "<div>\n",
       "<style scoped>\n",
       "    .dataframe tbody tr th:only-of-type {\n",
       "        vertical-align: middle;\n",
       "    }\n",
       "\n",
       "    .dataframe tbody tr th {\n",
       "        vertical-align: top;\n",
       "    }\n",
       "\n",
       "    .dataframe thead th {\n",
       "        text-align: right;\n",
       "    }\n",
       "</style>\n",
       "<table border=\"1\" class=\"dataframe\">\n",
       "  <thead>\n",
       "    <tr style=\"text-align: right;\">\n",
       "      <th></th>\n",
       "      <th>price</th>\n",
       "    </tr>\n",
       "    <tr>\n",
       "      <th>accommodates</th>\n",
       "      <th></th>\n",
       "    </tr>\n",
       "  </thead>\n",
       "  <tbody>\n",
       "    <tr>\n",
       "      <th>14</th>\n",
       "      <td>971.000000</td>\n",
       "    </tr>\n",
       "    <tr>\n",
       "      <th>13</th>\n",
       "      <td>842.500000</td>\n",
       "    </tr>\n",
       "    <tr>\n",
       "      <th>11</th>\n",
       "      <td>805.000000</td>\n",
       "    </tr>\n",
       "    <tr>\n",
       "      <th>16</th>\n",
       "      <td>800.000000</td>\n",
       "    </tr>\n",
       "    <tr>\n",
       "      <th>12</th>\n",
       "      <td>529.625000</td>\n",
       "    </tr>\n",
       "    <tr>\n",
       "      <th>10</th>\n",
       "      <td>500.857143</td>\n",
       "    </tr>\n",
       "    <tr>\n",
       "      <th>9</th>\n",
       "      <td>440.272727</td>\n",
       "    </tr>\n",
       "    <tr>\n",
       "      <th>7</th>\n",
       "      <td>411.538462</td>\n",
       "    </tr>\n",
       "    <tr>\n",
       "      <th>8</th>\n",
       "      <td>405.518519</td>\n",
       "    </tr>\n",
       "    <tr>\n",
       "      <th>6</th>\n",
       "      <td>355.508571</td>\n",
       "    </tr>\n",
       "    <tr>\n",
       "      <th>5</th>\n",
       "      <td>328.817073</td>\n",
       "    </tr>\n",
       "    <tr>\n",
       "      <th>4</th>\n",
       "      <td>212.096070</td>\n",
       "    </tr>\n",
       "    <tr>\n",
       "      <th>2</th>\n",
       "      <td>155.103352</td>\n",
       "    </tr>\n",
       "    <tr>\n",
       "      <th>3</th>\n",
       "      <td>153.882759</td>\n",
       "    </tr>\n",
       "    <tr>\n",
       "      <th>1</th>\n",
       "      <td>79.522222</td>\n",
       "    </tr>\n",
       "  </tbody>\n",
       "</table>\n",
       "</div>"
      ],
      "text/plain": [
       "                   price\n",
       "accommodates            \n",
       "14            971.000000\n",
       "13            842.500000\n",
       "11            805.000000\n",
       "16            800.000000\n",
       "12            529.625000\n",
       "10            500.857143\n",
       "9             440.272727\n",
       "7             411.538462\n",
       "8             405.518519\n",
       "6             355.508571\n",
       "5             328.817073\n",
       "4             212.096070\n",
       "2             155.103352\n",
       "3             153.882759\n",
       "1              79.522222"
      ]
     },
     "execution_count": 34,
     "metadata": {},
     "output_type": "execute_result"
    }
   ],
   "source": [
    "elysee_listings_accommodates"
   ]
  },
  {
   "cell_type": "code",
   "execution_count": 35,
   "id": "cdefa3a9",
   "metadata": {
    "execution": {
     "iopub.execute_input": "2025-05-11T06:50:44.605700Z",
     "iopub.status.busy": "2025-05-11T06:50:44.605497Z",
     "iopub.status.idle": "2025-05-11T06:50:44.608411Z",
     "shell.execute_reply": "2025-05-11T06:50:44.607746Z"
    },
    "papermill": {
     "duration": 0.012635,
     "end_time": "2025-05-11T06:50:44.609394",
     "exception": false,
     "start_time": "2025-05-11T06:50:44.596759",
     "status": "completed"
    },
    "tags": []
   },
   "outputs": [],
   "source": [
    "# Inside of paris the price of AirBnB is directly impacted by the popularity of the tourist place or \n",
    "# the view of Eiffel tower. we need to further see if the prices are increasing when the regulations are imposed"
   ]
  },
  {
   "cell_type": "code",
   "execution_count": 36,
   "id": "4293d837",
   "metadata": {
    "execution": {
     "iopub.execute_input": "2025-05-11T06:50:44.627288Z",
     "iopub.status.busy": "2025-05-11T06:50:44.626887Z",
     "iopub.status.idle": "2025-05-11T06:50:44.629763Z",
     "shell.execute_reply": "2025-05-11T06:50:44.629071Z"
    },
    "papermill": {
     "duration": 0.012918,
     "end_time": "2025-05-11T06:50:44.630918",
     "exception": false,
     "start_time": "2025-05-11T06:50:44.618000",
     "status": "completed"
    },
    "tags": []
   },
   "outputs": [],
   "source": [
    "# The AirBnB with 14 people accommodates is the expensive, even more expensive the 16 accommodates\n",
    "# the same trend is spotted for 11 and 12 accommodates. Every other accommodation looks reasonable."
   ]
  },
  {
   "cell_type": "markdown",
   "id": "fd2fa355",
   "metadata": {
    "papermill": {
     "duration": 0.008251,
     "end_time": "2025-05-11T06:50:44.647897",
     "exception": false,
     "start_time": "2025-05-11T06:50:44.639646",
     "status": "completed"
    },
    "tags": []
   },
   "source": [
    "# Possible reasons for this trend \n",
    "1. Owners of properties with 16 people might face occupancy issues due to less number of large groups.\n",
    "2. The ones with 14 people might be a sweet spot for a group having two families travelling.\n",
    "3. There is possibility that more than 16 and 12 occupancy properties are away from hotspots in Elysee.\n",
    "4. There might be potential outliers in 11 and 14 occupancy properties which are skewing the trend."
   ]
  },
  {
   "cell_type": "code",
   "execution_count": 37,
   "id": "699432e0",
   "metadata": {
    "execution": {
     "iopub.execute_input": "2025-05-11T06:50:44.665418Z",
     "iopub.status.busy": "2025-05-11T06:50:44.665203Z",
     "iopub.status.idle": "2025-05-11T06:50:44.671715Z",
     "shell.execute_reply": "2025-05-11T06:50:44.671045Z"
    },
    "papermill": {
     "duration": 0.016528,
     "end_time": "2025-05-11T06:50:44.672742",
     "exception": false,
     "start_time": "2025-05-11T06:50:44.656214",
     "status": "completed"
    },
    "tags": []
   },
   "outputs": [
    {
     "data": {
      "text/plain": [
       "3854"
      ]
     },
     "execution_count": 37,
     "metadata": {},
     "output_type": "execute_result"
    }
   ],
   "source": [
    "paris_listings[\"host_since\"].nunique()"
   ]
  },
{
   "cell_type": "markdown",
   "id": "f99ec7b0",
   "metadata": {
    "papermill": {
     "duration": 0.01159,
     "end_time": "2025-02-10T03:28:18.416724",
     "exception": false,
     "start_time": "2025-02-10T03:28:18.405134",
     "status": "completed"
    },
    "tags": []
   },
   "source": [
    "<div style=\"background-color: #f88379; padding: 25px; border-radius: 10px;\">\n",
    "  <h1 style=\"color: #333;\"><strong>Finding popularity of AirBnB over time</strong></h1>\n",
    "</div>"
   ]
  },
  {
   "cell_type": "code",
   "execution_count": 38,
   "id": "e2c1b260",
   "metadata": {
    "execution": {
     "iopub.execute_input": "2025-05-11T06:50:44.690531Z",
     "iopub.status.busy": "2025-05-11T06:50:44.690343Z",
     "iopub.status.idle": "2025-05-11T06:50:44.724553Z",
     "shell.execute_reply": "2025-05-11T06:50:44.723760Z"
    },
    "papermill": {
     "duration": 0.044644,
     "end_time": "2025-05-11T06:50:44.725809",
     "exception": false,
     "start_time": "2025-05-11T06:50:44.681165",
     "status": "completed"
    },
    "tags": []
   },
   "outputs": [],
   "source": [
    "paris_listing_over_time = paris_listings.set_index(\"host_since\").resample(\"Y\").agg({\"neighbourhood\":\"count\",\"price\":\"mean\"})"
   ]
  },
  {
   "cell_type": "code",
   "execution_count": 39,
   "id": "ace12b6a",
   "metadata": {
    "execution": {
     "iopub.execute_input": "2025-05-11T06:50:44.743843Z",
     "iopub.status.busy": "2025-05-11T06:50:44.743670Z",
     "iopub.status.idle": "2025-05-11T06:50:44.750283Z",
     "shell.execute_reply": "2025-05-11T06:50:44.749593Z"
    },
    "papermill": {
     "duration": 0.016909,
     "end_time": "2025-05-11T06:50:44.751352",
     "exception": false,
     "start_time": "2025-05-11T06:50:44.734443",
     "status": "completed"
    },
    "tags": []
   },
   "outputs": [
    {
     "data": {
      "text/html": [
       "<div>\n",
       "<style scoped>\n",
       "    .dataframe tbody tr th:only-of-type {\n",
       "        vertical-align: middle;\n",
       "    }\n",
       "\n",
       "    .dataframe tbody tr th {\n",
       "        vertical-align: top;\n",
       "    }\n",
       "\n",
       "    .dataframe thead th {\n",
       "        text-align: right;\n",
       "    }\n",
       "</style>\n",
       "<table border=\"1\" class=\"dataframe\">\n",
       "  <thead>\n",
       "    <tr style=\"text-align: right;\">\n",
       "      <th></th>\n",
       "      <th>neighbourhood</th>\n",
       "      <th>price</th>\n",
       "    </tr>\n",
       "    <tr>\n",
       "      <th>host_since</th>\n",
       "      <th></th>\n",
       "      <th></th>\n",
       "    </tr>\n",
       "  </thead>\n",
       "  <tbody>\n",
       "    <tr>\n",
       "      <th>2008-12-31</th>\n",
       "      <td>4</td>\n",
       "      <td>77.750000</td>\n",
       "    </tr>\n",
       "    <tr>\n",
       "      <th>2009-12-31</th>\n",
       "      <td>106</td>\n",
       "      <td>159.641509</td>\n",
       "    </tr>\n",
       "    <tr>\n",
       "      <th>2010-12-31</th>\n",
       "      <td>416</td>\n",
       "      <td>125.031250</td>\n",
       "    </tr>\n",
       "    <tr>\n",
       "      <th>2011-12-31</th>\n",
       "      <td>1339</td>\n",
       "      <td>124.828230</td>\n",
       "    </tr>\n",
       "    <tr>\n",
       "      <th>2012-12-31</th>\n",
       "      <td>4592</td>\n",
       "      <td>111.578615</td>\n",
       "    </tr>\n",
       "    <tr>\n",
       "      <th>2013-12-31</th>\n",
       "      <td>8142</td>\n",
       "      <td>107.096414</td>\n",
       "    </tr>\n",
       "    <tr>\n",
       "      <th>2014-12-31</th>\n",
       "      <td>10922</td>\n",
       "      <td>100.253800</td>\n",
       "    </tr>\n",
       "    <tr>\n",
       "      <th>2015-12-31</th>\n",
       "      <td>12147</td>\n",
       "      <td>103.646250</td>\n",
       "    </tr>\n",
       "    <tr>\n",
       "      <th>2016-12-31</th>\n",
       "      <td>8867</td>\n",
       "      <td>114.211345</td>\n",
       "    </tr>\n",
       "    <tr>\n",
       "      <th>2017-12-31</th>\n",
       "      <td>4585</td>\n",
       "      <td>108.658888</td>\n",
       "    </tr>\n",
       "    <tr>\n",
       "      <th>2018-12-31</th>\n",
       "      <td>4294</td>\n",
       "      <td>138.209362</td>\n",
       "    </tr>\n",
       "    <tr>\n",
       "      <th>2019-12-31</th>\n",
       "      <td>5685</td>\n",
       "      <td>129.962533</td>\n",
       "    </tr>\n",
       "    <tr>\n",
       "      <th>2020-12-31</th>\n",
       "      <td>3363</td>\n",
       "      <td>143.517098</td>\n",
       "    </tr>\n",
       "    <tr>\n",
       "      <th>2021-12-31</th>\n",
       "      <td>133</td>\n",
       "      <td>93.488722</td>\n",
       "    </tr>\n",
       "  </tbody>\n",
       "</table>\n",
       "</div>"
      ],
      "text/plain": [
       "            neighbourhood       price\n",
       "host_since                           \n",
       "2008-12-31              4   77.750000\n",
       "2009-12-31            106  159.641509\n",
       "2010-12-31            416  125.031250\n",
       "2011-12-31           1339  124.828230\n",
       "2012-12-31           4592  111.578615\n",
       "2013-12-31           8142  107.096414\n",
       "2014-12-31          10922  100.253800\n",
       "2015-12-31          12147  103.646250\n",
       "2016-12-31           8867  114.211345\n",
       "2017-12-31           4585  108.658888\n",
       "2018-12-31           4294  138.209362\n",
       "2019-12-31           5685  129.962533\n",
       "2020-12-31           3363  143.517098\n",
       "2021-12-31            133   93.488722"
      ]
     },
     "execution_count": 39,
     "metadata": {},
     "output_type": "execute_result"
    }
   ],
   "source": [
    "paris_listing_over_time"
   ]
  },
  {
   "cell_type": "code",
   "execution_count": 40,
   "id": "ff5a082d",
   "metadata": {
    "execution": {
     "iopub.execute_input": "2025-05-11T06:50:44.770468Z",
     "iopub.status.busy": "2025-05-11T06:50:44.770273Z",
     "iopub.status.idle": "2025-05-11T06:50:46.316386Z",
     "shell.execute_reply": "2025-05-11T06:50:46.315824Z"
    },
    "papermill": {
     "duration": 1.556719,
     "end_time": "2025-05-11T06:50:46.317727",
     "exception": false,
     "start_time": "2025-05-11T06:50:44.761008",
     "status": "completed"
    },
    "tags": []
   },
   "outputs": [],
   "source": [
    "import matplotlib.pyplot as plt\n",
    "import seaborn as sns"
   ]
  },
  {
   "cell_type": "code",
   "execution_count": 41,
   "id": "e3d4de01",
   "metadata": {
    "execution": {
     "iopub.execute_input": "2025-05-11T06:50:46.336941Z",
     "iopub.status.busy": "2025-05-11T06:50:46.336660Z",
     "iopub.status.idle": "2025-05-11T06:50:46.343727Z",
     "shell.execute_reply": "2025-05-11T06:50:46.343143Z"
    },
    "papermill": {
     "duration": 0.017747,
     "end_time": "2025-05-11T06:50:46.344801",
     "exception": false,
     "start_time": "2025-05-11T06:50:46.327054",
     "status": "completed"
    },
    "tags": []
   },
   "outputs": [
    {
     "data": {
      "text/html": [
       "<div>\n",
       "<style scoped>\n",
       "    .dataframe tbody tr th:only-of-type {\n",
       "        vertical-align: middle;\n",
       "    }\n",
       "\n",
       "    .dataframe tbody tr th {\n",
       "        vertical-align: top;\n",
       "    }\n",
       "\n",
       "    .dataframe thead th {\n",
       "        text-align: right;\n",
       "    }\n",
       "</style>\n",
       "<table border=\"1\" class=\"dataframe\">\n",
       "  <thead>\n",
       "    <tr style=\"text-align: right;\">\n",
       "      <th></th>\n",
       "      <th>price</th>\n",
       "    </tr>\n",
       "    <tr>\n",
       "      <th>neighbourhood</th>\n",
       "      <th></th>\n",
       "    </tr>\n",
       "  </thead>\n",
       "  <tbody>\n",
       "    <tr>\n",
       "      <th>Elysee</th>\n",
       "      <td>211.373651</td>\n",
       "    </tr>\n",
       "    <tr>\n",
       "      <th>Louvre</th>\n",
       "      <td>175.754448</td>\n",
       "    </tr>\n",
       "    <tr>\n",
       "      <th>Passy</th>\n",
       "      <td>161.290875</td>\n",
       "    </tr>\n",
       "    <tr>\n",
       "      <th>Palais-Bourbon</th>\n",
       "      <td>157.514464</td>\n",
       "    </tr>\n",
       "    <tr>\n",
       "      <th>Luxembourg</th>\n",
       "      <td>155.794589</td>\n",
       "    </tr>\n",
       "    <tr>\n",
       "      <th>Bourse</th>\n",
       "      <td>149.633577</td>\n",
       "    </tr>\n",
       "    <tr>\n",
       "      <th>Hotel-de-Ville</th>\n",
       "      <td>144.515228</td>\n",
       "    </tr>\n",
       "    <tr>\n",
       "      <th>Temple</th>\n",
       "      <td>138.429300</td>\n",
       "    </tr>\n",
       "    <tr>\n",
       "      <th>Pantheon</th>\n",
       "      <td>122.983599</td>\n",
       "    </tr>\n",
       "    <tr>\n",
       "      <th>Opera</th>\n",
       "      <td>119.201841</td>\n",
       "    </tr>\n",
       "    <tr>\n",
       "      <th>Vaugirard</th>\n",
       "      <td>107.086207</td>\n",
       "    </tr>\n",
       "    <tr>\n",
       "      <th>Enclos-St-Laurent</th>\n",
       "      <td>103.122590</td>\n",
       "    </tr>\n",
       "    <tr>\n",
       "      <th>Batignolles-Monceau</th>\n",
       "      <td>102.686778</td>\n",
       "    </tr>\n",
       "    <tr>\n",
       "      <th>Observatoire</th>\n",
       "      <td>101.996775</td>\n",
       "    </tr>\n",
       "    <tr>\n",
       "      <th>Gobelins</th>\n",
       "      <td>98.110184</td>\n",
       "    </tr>\n",
       "    <tr>\n",
       "      <th>Popincourt</th>\n",
       "      <td>90.548168</td>\n",
       "    </tr>\n",
       "    <tr>\n",
       "      <th>Reuilly</th>\n",
       "      <td>89.125566</td>\n",
       "    </tr>\n",
       "    <tr>\n",
       "      <th>Buttes-Montmartre</th>\n",
       "      <td>87.246196</td>\n",
       "    </tr>\n",
       "    <tr>\n",
       "      <th>Buttes-Chaumont</th>\n",
       "      <td>82.690182</td>\n",
       "    </tr>\n",
       "    <tr>\n",
       "      <th>Menilmontant</th>\n",
       "      <td>74.931521</td>\n",
       "    </tr>\n",
       "  </tbody>\n",
       "</table>\n",
       "</div>"
      ],
      "text/plain": [
       "                          price\n",
       "neighbourhood                  \n",
       "Elysee               211.373651\n",
       "Louvre               175.754448\n",
       "Passy                161.290875\n",
       "Palais-Bourbon       157.514464\n",
       "Luxembourg           155.794589\n",
       "Bourse               149.633577\n",
       "Hotel-de-Ville       144.515228\n",
       "Temple               138.429300\n",
       "Pantheon             122.983599\n",
       "Opera                119.201841\n",
       "Vaugirard            107.086207\n",
       "Enclos-St-Laurent    103.122590\n",
       "Batignolles-Monceau  102.686778\n",
       "Observatoire         101.996775\n",
       "Gobelins              98.110184\n",
       "Popincourt            90.548168\n",
       "Reuilly               89.125566\n",
       "Buttes-Montmartre     87.246196\n",
       "Buttes-Chaumont       82.690182\n",
       "Menilmontant          74.931521"
      ]
     },
     "execution_count": 41,
     "metadata": {},
     "output_type": "execute_result"
    }
   ],
   "source": [
    "paris_listings_neighbourhood"
   ]
  },
  {
   "cell_type": "code",
   "execution_count": 42,
   "id": "e8956b01",
   "metadata": {
    "execution": {
     "iopub.execute_input": "2025-05-11T06:50:46.362905Z",
     "iopub.status.busy": "2025-05-11T06:50:46.362712Z",
     "iopub.status.idle": "2025-05-11T06:50:46.726377Z",
     "shell.execute_reply": "2025-05-11T06:50:46.725627Z"
    },
    "papermill": {
     "duration": 0.37427,
     "end_time": "2025-05-11T06:50:46.727847",
     "exception": false,
     "start_time": "2025-05-11T06:50:46.353577",
     "status": "completed"
    },
    "tags": []
   },
   "outputs": [
    {
     "data": {
      "image/png": "[encoded data removed]",
      "text/plain": [
       "<Figure size 1200x800 with 1 Axes>"
      ]
     },
     "metadata": {},
     "output_type": "display_data"
    }
   ],
   "source": [
    "plt.figure(figsize = (12,8))\n",
    "sns.barplot(data = paris_listings_neighbourhood,\n",
    "           x = \"price\",\n",
    "           y = paris_listings_neighbourhood.index,\n",
    "           color = \"#FF5A5F\")\n",
    "plt.title(\"neighbourhoods in Paris (Premium Localities at the Top!)\")\n",
    "plt.xlabel(\"How Expensive?(Euros)\")\n",
    "plt.ylabel(\"Prominent places with AirBnBs\")\n",
    "plt.show()"
   ]
  },
  {
   "cell_type": "code",
   "execution_count": 43,
   "id": "5dce398f",
   "metadata": {
    "execution": {
     "iopub.execute_input": "2025-05-11T06:50:46.748787Z",
     "iopub.status.busy": "2025-05-11T06:50:46.748195Z",
     "iopub.status.idle": "2025-05-11T06:50:46.962746Z",
     "shell.execute_reply": "2025-05-11T06:50:46.962013Z"
    },
    "papermill": {
     "duration": 0.225801,
     "end_time": "2025-05-11T06:50:46.963916",
     "exception": false,
     "start_time": "2025-05-11T06:50:46.738115",
     "status": "completed"
    },
    "tags": []
   },
   "outputs": [
    {
     "data": {
      "image/png": "[encoded data removed]",
      "text/plain": [
       "<Figure size 1200x800 with 1 Axes>"
      ]
     },
     "metadata": {},
     "output_type": "display_data"
    }
   ],
   "source": [
    "plt.figure(figsize = (12,8))\n",
    "sns.barplot(data = elysee_listings_accommodates,\n",
    "           x = \"price\",\n",
    "           y = elysee_listings_accommodates.index,\n",
    "           color = \"#fc642d\",\n",
    "           orient = \"h\",\n",
    "           order = elysee_listings_accommodates.index )\n",
    "plt.title(\"Average Price of AirBnB in Elysee -- vs -- Number of people that can stay \")\n",
    "plt.xlabel(\"Average Price(Euros)\")\n",
    "plt.ylabel(\"Number of people that can stay \")\n",
    "plt.show()"
   ]
  },
  {
   "cell_type": "code",
   "execution_count": 44,
   "id": "dfce5f88",
   "metadata": {
    "execution": {
     "iopub.execute_input": "2025-05-11T06:50:46.985365Z",
     "iopub.status.busy": "2025-05-11T06:50:46.985129Z",
     "iopub.status.idle": "2025-05-11T06:50:47.206669Z",
     "shell.execute_reply": "2025-05-11T06:50:47.205944Z"
    },
    "papermill": {
     "duration": 0.233575,
     "end_time": "2025-05-11T06:50:47.207853",
     "exception": false,
     "start_time": "2025-05-11T06:50:46.974278",
     "status": "completed"
    },
    "tags": []
   },
   "outputs": [
    {
     "data": {
      "image/png": "[encoded data removed]",
      "text/plain": [
       "<Figure size 1200x800 with 1 Axes>"
      ]
     },
     "metadata": {},
     "output_type": "display_data"
    }
   ],
   "source": [
    "plt.figure(figsize = (12,8))\n",
    "sns.lineplot(data = paris_listing_over_time[\"neighbourhood\"],\n",
    "           color = \"#fc642d\")\n",
    "plt.title(\"Popularity of AirBnBs over time \")\n",
    "plt.xlabel(\"Year\")\n",
    "plt.ylabel(\"Number of AirBnBs activated \")\n",
    "plt.grid()\n",
    "plt.show()"
   ]
  },
  {
   "cell_type": "code",
   "execution_count": 45,
   "id": "f497a8c5",
   "metadata": {
    "execution": {
     "iopub.execute_input": "2025-05-11T06:50:47.231161Z",
     "iopub.status.busy": "2025-05-11T06:50:47.230763Z",
     "iopub.status.idle": "2025-05-11T06:50:47.437880Z",
     "shell.execute_reply": "2025-05-11T06:50:47.437233Z"
    },
    "papermill": {
     "duration": 0.219471,
     "end_time": "2025-05-11T06:50:47.439059",
     "exception": false,
     "start_time": "2025-05-11T06:50:47.219588",
     "status": "completed"
    },
    "tags": []
   },
   "outputs": [
    {
     "data": {
      "image/png": "[encoded data removed]",
      "text/plain": [
       "<Figure size 1200x800 with 1 Axes>"
      ]
     },
     "metadata": {},
     "output_type": "display_data"
    }
   ],
   "source": [
    "plt.figure(figsize = (12,8))\n",
    "sns.lineplot(data = paris_listing_over_time[\"price\"],\n",
    "           color = \"green\")\n",
    "plt.title(\"Average Price of AirBnBs over time \")\n",
    "plt.xlabel(\"Year\")\n",
    "plt.ylabel(\"Average Price \")\n",
    "plt.grid()\n",
    "plt.show()"
   ]
  },
 {
   "cell_type": "markdown",
   "id": "95430cfc",
   "metadata": {
    "papermill": {
     "duration": 0.015234,
     "end_time": "2025-02-10T03:28:21.322440",
     "exception": false,
     "start_time": "2025-02-10T03:28:21.307206",
     "status": "completed"
    },
    "tags": []
   },
   "source": [
    "<div style=\"background-color: #f88379; padding: 25px; border-radius: 10px;\">\n",
    "  <h1 style=\"color: #333;\"><strong>Finding effects of Regulations on AirBnB Business</strong></h1>\n",
    "</div>"
   ]
  },
  {
   "cell_type": "code",
   "execution_count": 46,
   "id": "00dcd10f",
   "metadata": {
    "execution": {
     "iopub.execute_input": "2025-05-11T06:50:47.464256Z",
     "iopub.status.busy": "2025-05-11T06:50:47.464026Z",
     "iopub.status.idle": "2025-05-11T06:50:47.713052Z",
     "shell.execute_reply": "2025-05-11T06:50:47.712392Z"
    },
    "papermill": {
     "duration": 0.262698,
     "end_time": "2025-05-11T06:50:47.714261",
     "exception": false,
     "start_time": "2025-05-11T06:50:47.451563",
     "status": "completed"
    },
    "tags": []
   },
   "outputs": [
    {
     "data": {
      "image/png": "[encoded data removed]",
      "text/plain": [
       "<Figure size 640x480 with 2 Axes>"
      ]
     },
     "metadata": {},
     "output_type": "display_data"
    }
   ],
   "source": [
    "fig, ax = plt.subplots()\n",
    "ax.plot(paris_listing_over_time.index,paris_listing_over_time[\"neighbourhood\"],label = \"New Hosts\", c = \"pink\")\n",
    "ax.set_ylabel(\"New Hosts\")\n",
    "ax2 = ax.twinx()\n",
    "ax2.plot(paris_listing_over_time.index,paris_listing_over_time[\"price\"],label = \"Average Price\")\n",
    "ax2.set_ylim(0)\n",
    "ax2.set_ylabel(\"Average Price\")\n",
    "ax.set_title(\"Regulations Lead to Fewer New Hosts and Higher Prices\")\n",
    "plt.show()"
   ]
  },
 {
   "cell_type": "markdown",
   "id": "3143f218",
   "metadata": {
    "papermill": {
     "duration": 0.025661,
     "end_time": "2025-02-10T03:28:21.774918",
     "exception": false,
     "start_time": "2025-02-10T03:28:21.749257",
     "status": "completed"
    },
    "tags": []
   },
   "source": [
    "<div style=\"background-color: #f88379; padding: 25px; border-radius: 10px;\">\n",
    "  <h1 style=\"color: #333;\"><strong>Final Insights</strong></h1>\n",
    "</div>"
   ]
  },
  {
   "cell_type": "markdown",
   "id": "07feb291",
   "metadata": {
    "papermill": {
     "duration": 0.012598,
     "end_time": "2025-05-11T06:50:47.739924",
     "exception": false,
     "start_time": "2025-05-11T06:50:47.727326",
     "status": "completed"
    },
    "tags": []
   },
   "source": [
    "# final result \n",
    "\n",
    "1. The Number of AirBnBs kept on increasing since the launch and prices kept on increasing too, due to initial traction and early adopters.\n",
    "2. After the startup is known to everyone and becomes a common utility, AirBnBs start increasing in numbers and prices also kept on decreasing.\n",
    "3. After regulation was announced around 2015 there was under confidence in the business, number of AirBnBs started decreasing and prices started increasing.\n",
    "4. Once the regulation is the new normal, during the year 2019 the number of AirBnBs have increased in number and prices kept decreasing due to more supply of them.\n"
   ]
  },
  {
   "cell_type": "code",
   "execution_count": null,
   "id": "4d39829e",
   "metadata": {
    "papermill": {
     "duration": 0.012238,
     "end_time": "2025-05-11T06:50:47.764641",
     "exception": false,
     "start_time": "2025-05-11T06:50:47.752403",
     "status": "completed"
    },
    "tags": []
   },
   "outputs": [],
   "source": []
  },
{
   "cell_type": "markdown",
   "id": "0e031246",
   "metadata": {
    "papermill": {
     "duration": 0.016337,
     "end_time": "2025-02-10T03:28:21.846046",
     "exception": false,
     "start_time": "2025-02-10T03:28:21.829709",
     "status": "completed"
    },
    "tags": []
   },
   "source": [
    "<div style=\"background-color: #f88379; padding: 25px; border-radius: 10px;\">\n",
    "  <h1 style=\"color: #333;\"><strong>Recommendation for AirBnB</strong></h1>\n",
    "</div>"
   ]
  },
  {
   "cell_type": "markdown",
   "id": "7972f424",
   "metadata": {
    "papermill": {
     "duration": 0.012182,
     "end_time": "2025-05-11T06:50:47.789335",
     "exception": false,
     "start_time": "2025-05-11T06:50:47.777153",
     "status": "completed"
    },
    "tags": []
   },
   "source": [
    "#  Recommendation for AirBnB \n",
    "Regulations in long term rentals can impact the business adversely, there might be customer and hosts churn due to uncertainty.\n",
    "Such regulations might add to AirBnBs losses which might be difficult to recover later.\n",
    "If the customer experience is going to get impacted due to this, it would lead to incorrect brand perception.\n",
    "It is recommended to watch out for any such regulations at other places and be prepared for it.\n",
    "AirBnB can replicate such regulations at other places.\n",
    "They can keep strict rules to onboard and release the hosts.\n",
    "They can limit the number of AirBnBs in a locality to ensure the public has enough rental options and the government doesn't step in."
   ]
  },
  {
   "cell_type": "code",
   "execution_count": null,
   "id": "1873755e",
   "metadata": {
    "papermill": {
     "duration": 0.012505,
     "end_time": "2025-05-11T06:50:47.814210",
     "exception": false,
     "start_time": "2025-05-11T06:50:47.801705",
     "status": "completed"
    },
    "tags": []
   },
   "outputs": [],
   "source": []
  },
  {
   "cell_type": "code",
   "execution_count": null,
   "id": "c1dc93e2",
   "metadata": {
    "papermill": {
     "duration": 0.012886,
     "end_time": "2025-05-11T06:50:47.839668",
     "exception": false,
     "start_time": "2025-05-11T06:50:47.826782",
     "status": "completed"
    },
    "tags": []
   },
   "outputs": [],
   "source": []
  },
  {
   "cell_type": "code",
   "execution_count": null,
   "id": "ef587c89",
   "metadata": {
    "papermill": {
     "duration": 0.012719,
     "end_time": "2025-05-11T06:50:47.866000",
     "exception": false,
     "start_time": "2025-05-11T06:50:47.853281",
     "status": "completed"
    },
    "tags": []
   },
   "outputs": [],
   "source": []
  }
 ],
 "metadata": {
  "kaggle": {
   "accelerator": "nvidiaTeslaT4",
   "dataSources": [
    {
     "datasetId": 1530930,
     "sourceId": 2526818,
     "sourceType": "datasetVersion"
    }
   ],
   "dockerImageVersionId": 31011,
   "isGpuEnabled": true,
   "isInternetEnabled": true,
   "language": "python",
   "sourceType": "notebook"
  },
  "kernelspec": {
   "display_name": "Python 3",
   "language": "python",
   "name": "python3"
  },
  "language_info": {
   "codemirror_mode": {
    "name": "ipython",
    "version": 3
   },
   "file_extension": ".py",
   "mimetype": "text/x-python",
   "name": "python",
   "nbconvert_exporter": "python",
   "pygments_lexer": "ipython3",
   "version": "3.11.11"
  },
  "papermill": {
   "default_parameters": {},
   "duration": 20.487315,
   "end_time": "2025-05-11T06:50:48.396007",
   "environment_variables": {},
   "exception": null,
   "input_path": "__notebook__.ipynb",
   "output_path": "__notebook__.ipynb",
   "parameters": {},
   "start_time": "2025-05-11T06:50:27.908692",
   "version": "2.6.0"
  }
 },
 "nbformat": 4,
 "nbformat_minor": 5
}
